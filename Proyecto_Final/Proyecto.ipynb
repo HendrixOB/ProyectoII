{
 "cells": [
  {
   "cell_type": "code",
   "execution_count": 1,
   "id": "974788e1",
   "metadata": {},
   "outputs": [],
   "source": [
    "import csv\n",
    "import sys\n",
    "import os\n",
    "import random, shutil\n",
    "import zipfile\n",
    "import time\n",
    "from copy import deepcopy\n",
    "import torch\n",
    "import torchaudio\n",
    "import torch.nn as nn\n",
    "import torch.optim as optim\n",
    "import torch.nn.functional as F\n",
    "import torchvision\n",
    "import torchvision.transforms as tt\n",
    "from torch.utils.data import Dataset\n",
    "from torch.utils.data.dataloader import DataLoader\n",
    "from tqdm.notebook import tqdm \n",
    "import numpy as np\n",
    "import pandas as pd\n",
    "import seaborn as sns\n",
    "import matplotlib.pyplot as plt\n",
    "import librosa\n",
    "import librosa.display\n",
    "import IPython.display as ipd\n",
    "from sklearn.model_selection import train_test_split"
   ]
  },
  {
   "cell_type": "code",
   "execution_count": 2,
   "id": "8bd58308",
   "metadata": {},
   "outputs": [],
   "source": [
    "import opendatasets as od\n",
    "\n",
    "def download(link):\n",
    "    direccion = link.split(\"/\")[-1]\n",
    "    if os.path.isdir(direccion):\n",
    "        print(\"Already Exists !\")\n",
    "    return od.download(link)"
   ]
  },
  {
   "cell_type": "code",
   "execution_count": 3,
   "id": "3b5cc165",
   "metadata": {},
   "outputs": [
    {
     "name": "stdout",
     "output_type": "stream",
     "text": [
      "Using device: cuda\n",
      "\n"
     ]
    }
   ],
   "source": [
    "device = torch.device('cuda' if torch.cuda.is_available() else 'cpu')\n",
    "print('Using device:', device)\n",
    "print()"
   ]
  },
  {
   "cell_type": "code",
   "execution_count": 4,
   "id": "86a135d8",
   "metadata": {},
   "outputs": [
    {
     "name": "stdout",
     "output_type": "stream",
     "text": [
      "Already Exists !\n",
      "Skipping, found downloaded files in \".\\ravdess-emotional-speech-audio\" (use force=True to force download)\n"
     ]
    }
   ],
   "source": [
    "dataset_ravdess = 'https://www.kaggle.com/uwrfkaggler/ravdess-emotional-speech-audio'\n",
    "download(dataset_ravdess)"
   ]
  },
  {
   "cell_type": "code",
   "execution_count": 5,
   "id": "3e895f9f",
   "metadata": {},
   "outputs": [
    {
     "name": "stdout",
     "output_type": "stream",
     "text": [
      "Already Exists !\n",
      "Skipping, found downloaded files in \".\\cremad\" (use force=True to force download)\n"
     ]
    }
   ],
   "source": [
    "dataset_crema = 'https://www.kaggle.com/ejlok1/cremad'\n",
    "download(dataset_crema)"
   ]
  },
  {
   "cell_type": "code",
   "execution_count": 6,
   "id": "b9160cb5",
   "metadata": {},
   "outputs": [
    {
     "name": "stdout",
     "output_type": "stream",
     "text": [
      "Already Exists !\n",
      "Skipping, found downloaded files in \".\\surrey-audiovisual-expressed-emotion-savee\" (use force=True to force download)\n"
     ]
    }
   ],
   "source": [
    "dataset_surrey = 'https://www.kaggle.com/ejlok1/surrey-audiovisual-expressed-emotion-savee'\n",
    "download(dataset_surrey)"
   ]
  },
  {
   "cell_type": "code",
   "execution_count": 7,
   "id": "10986373",
   "metadata": {},
   "outputs": [
    {
     "name": "stdout",
     "output_type": "stream",
     "text": [
      "Already Exists !\n",
      "Skipping, found downloaded files in \".\\toronto-emotional-speech-set-tess\" (use force=True to force download)\n"
     ]
    }
   ],
   "source": [
    "dataset_toronto = 'https://www.kaggle.com/ejlok1/toronto-emotional-speech-set-tess'\n",
    "download(dataset_toronto)"
   ]
  },
  {
   "cell_type": "markdown",
   "id": "45be6e99",
   "metadata": {},
   "source": [
    "# Cargamos las localizaciones de nuestros datos"
   ]
  },
  {
   "cell_type": "code",
   "execution_count": 8,
   "id": "c1f46ac2",
   "metadata": {},
   "outputs": [],
   "source": [
    "ravdess = 'ravdess-emotional-speech-audio/'\n",
    "crema = 'cremad/AudioWAV/'\n",
    "surrey = 'surrey-audiovisual-expressed-emotion-savee/ALL/'\n",
    "tess = 'toronto-emotional-speech-set-tess/TESS Toronto emotional speech set data/'"
   ]
  },
  {
   "cell_type": "code",
   "execution_count": 9,
   "id": "8ad43b8b",
   "metadata": {},
   "outputs": [],
   "source": [
    "ravdess_dir = [dir for dir in os.listdir(ravdess) if dir.startswith('Actor_')]\n",
    "crema_dir = os.listdir(crema)\n",
    "surrey_dir = os.listdir(surrey)\n",
    "tess_dir = [dir for dir in os.listdir(tess) if (dir.startswith('OAF_') or dir.startswith('YAF_'))]"
   ]
  },
  {
   "cell_type": "code",
   "execution_count": 10,
   "id": "4beef548",
   "metadata": {},
   "outputs": [],
   "source": [
    "def Ravdess():\n",
    "    emociones = []\n",
    "    ruta_archivo = []\n",
    "\n",
    "    for dir in ravdess_dir:\n",
    "        #os nos deja ir entre direcctorios\n",
    "        actor = os.listdir(ravdess + dir)\n",
    "        for file in actor:\n",
    "            #Usamos .split para separar el nombre del audio en una lista\n",
    "            delimitacion = file.split('.')[0] #En la primera lista solo queremos el primer elemento, ya que\n",
    "            #el segundo elemento siempre es wav\n",
    "            #El primer elemento de la lista se obtinene como 03-01-08-02-02-01-09\n",
    "            #Donde:\n",
    "            #03 es el modalidad puede tomar 3 valores (01 = full-AV, 02 = video-only, 03 = audio-only).\n",
    "            #01 es canal vocal con dos valores (01 = discurso, 02 = cancion).\n",
    "            #En este caso siempre sera discurso\n",
    "            #08 es la emocion \n",
    "            #(01 = neutral, 02 = calm, 03 = happy, 04 = sad, 05 = angry, 06 = fearful, 07 = disgust, 08 = surprised).\n",
    "            #02 es la intensidad de la emocion (01 = normal, 02 = strong)\n",
    "            #Cabe aclarar que para neutral no hay intensidad\n",
    "            #02 representa la frase que solo hay dos (01 = \"Kids are talking by the door\", 02 = \"Dogs are sitting by the door\").\n",
    "            #01 es la repetición (01 = 1st repetition, 02 = 2nd repetition).\n",
    "            #09 en el numero de actor tenemos 24 actores, es decir, 24 voces\n",
    "            delimitacion = delimitacion.split('-') #Hacemos una lista con los elementos del primer elemento de la lista anterior\n",
    "            #los elementos seran los numeros antes mencionados que daria ['03', '01', '08', '02', '02', '01', '09']\n",
    "            emociones.append(int(delimitacion[2])) #usando la emocion (en entero) agregandola a una lista de vacia\n",
    "            ruta_archivo.append(ravdess + dir + '/' + file) #agrgamos el nombre del audio y de la base que viene en una lista vacia\n",
    "        \n",
    "    emocion_data = pd.DataFrame(emociones, columns=['Emociones']) #definimos un dataframe con las emociones\n",
    "    ruta_data = pd.DataFrame(ruta_archivo, columns=['Ruta']) #definimos un dataframe con las rutas\n",
    "    Ravdess_df = pd.concat([emocion_data, ruta_data], axis=1) #juntamos ambos datframes en uno solo\n",
    "    Ravdess_df.Emociones.replace({1:'neutral', 2:'calm', 3:'happy', 4:'sad', 5:'angry', 6:'fear', 7:'disgust', 8:'surprise'}, inplace=True)\n",
    "    return Ravdess_df"
   ]
  },
  {
   "cell_type": "code",
   "execution_count": 11,
   "id": "435285a0",
   "metadata": {},
   "outputs": [],
   "source": [
    "def Crema():\n",
    "    emociones = []\n",
    "    ruta_archivo = []\n",
    "    for file in crema_dir:\n",
    "        #En DREMA-D (Crowd Sourced Emotional Multimodal Actors Dataset)\n",
    "        #Tenemos algo mas intuitivo los archivos seran 1001_IEO_ANG_LO.wav \n",
    "        #Desconocemos que representa 1001 e IEO, pero suponemos que es la persona y su etnia\n",
    "        #Esta base tiene mas etnias y nos marca despues del tercer guion bajo la emocion\n",
    "        # Anger (ANG) Disgust (DIS) Fear (FEA) Happy/Joy (HAP) Neutral (NEU) Sad (SAD)\n",
    "        #LO es el nivel de emocion (LO = low, MD = medium, HI = high, XX = Unspecified)\n",
    "        ruta_archivo.append(crema + file) #guardamos la ruta en una lista vacia y de donde viene\n",
    "        delimitacion = file.split('_') #Hacemos una lsiat con el nombre del archivo\n",
    "        #Solo toamremos en cuenta la emocion por lo cual las clasificamos y guardamos en una lista vacia\n",
    "        if delimitacion[2] == 'SAD':\n",
    "            emociones.append('sad')\n",
    "        elif delimitacion[2] == 'ANG':\n",
    "            emociones.append('angry')\n",
    "        elif delimitacion[2] == 'DIS':\n",
    "            emociones.append('disgust')\n",
    "        elif delimitacion[2] == 'FEA':\n",
    "            emociones.append('fear')\n",
    "        elif delimitacion[2] == 'HAP':\n",
    "            emociones.append('happy')\n",
    "        elif delimitacion[2] == 'NEU':\n",
    "            emociones.append('neutral')\n",
    "        else:\n",
    "            emociones.append('Unknown')\n",
    "        \n",
    "    emocion_data = pd.DataFrame(emociones, columns=['Emociones']) #definimos un dataframe con las emociones\n",
    "    ruta_data = pd.DataFrame(ruta_archivo, columns=['Ruta']) #definimos un dataframe con las rutas\n",
    "    Crema_df = pd.concat([emocion_data, ruta_data], axis=1) #juntamos ambos datframes en uno solo\n",
    "    return Crema_df    "
   ]
  },
  {
   "cell_type": "code",
   "execution_count": 12,
   "id": "28efc496",
   "metadata": {},
   "outputs": [],
   "source": [
    "def Surrey():\n",
    "    emociones = []\n",
    "    ruta_archivo = []\n",
    "    for file in surrey_dir:\n",
    "        ruta_archivo.append(surrey + file)\n",
    "        delimitacion = file.split('_')[1] #hacemos una lista y nos quedamos con el segundo elemento\n",
    "        #Ya que dividimos por los guin bajos el primer elemento de la lista\n",
    "        #representa uno de los 4 hablantes nativos de la base\n",
    "        #en el segundo elemento se representa por stringnumber.wav\n",
    "        #el string es la emocion (a=angry, d = disgust, f = fear, h = happy, n = neutral, sa = sad, su = surprise)\n",
    "        #el number solo es le numero de grabacion de la persona\n",
    "        #Nos enfocamos como siempre en la emocion\n",
    "        emocion = delimitacion[:1] #el segundo elemento nos da el string\n",
    "        if emocion == 'a':\n",
    "            emociones.append('angry')\n",
    "        elif emocion == 'd':\n",
    "            emociones.append('disgust')\n",
    "        elif emocion == 'f':\n",
    "            emociones.append('fear')\n",
    "        elif emocion == 'h':\n",
    "            emociones.append('happy')\n",
    "        elif emocion == 'n':\n",
    "            emociones.append('neutral')\n",
    "        elif emocion == 'sa':\n",
    "            emociones.append('sad')\n",
    "        else:\n",
    "            emociones.append('surprise')\n",
    "        \n",
    "    emocion_data = pd.DataFrame(emociones, columns=['Emociones']) #definimos un dataframe con las emociones\n",
    "    ruta_data = pd.DataFrame(ruta_archivo, columns=['Ruta']) #definimos un dataframe con las rutas\n",
    "    Surrey_df = pd.concat([emocion_data, ruta_data], axis=1) #juntamos ambos datframes en uno solo\n",
    "    return Surrey_df    "
   ]
  },
  {
   "cell_type": "code",
   "execution_count": 13,
   "id": "8c204f8a",
   "metadata": {},
   "outputs": [],
   "source": [
    "def Tess():\n",
    "    emociones = []\n",
    "    ruta_archivo = []\n",
    "    for dir in tess_dir:\n",
    "        #Para esta base tenemos OAF_emotion y YAF_emotion\n",
    "        #Donde OAF es un hablante de la tercera edad y YAF es un hablante joven\n",
    "        #emotion es la emocion donde ya tenemos organizadas como las conocemos \n",
    "        #neutral, calm, happy, sad, angry, fear, disgust\n",
    "        #con excepcion de surprice que esta como ps\n",
    "        hablante = os.listdir(tess + dir)\n",
    "        for file in hablante:\n",
    "            delimitacion = file.split('.')[0]\n",
    "            delimitacion = delimitacion.split('_')[2]\n",
    "            if delimitacion == 'ps':\n",
    "                emociones.append('surprise')\n",
    "            else:\n",
    "                emociones.append(delimitacion)\n",
    "            ruta_archivo.append(tess + dir + '/' + file)\n",
    "    \n",
    "    emocion_data = pd.DataFrame(emociones, columns=['Emociones']) #definimos un dataframe con las emociones\n",
    "    ruta_data = pd.DataFrame(ruta_archivo, columns=['Ruta']) #definimos un dataframe con las rutas\n",
    "    Tess_df = pd.concat([emocion_data, ruta_data], axis=1) #juntamos ambos datframes en uno solo\n",
    "    return Tess_df"
   ]
  },
  {
   "cell_type": "code",
   "execution_count": 14,
   "id": "f574e646",
   "metadata": {},
   "outputs": [],
   "source": [
    "#Para finalizar juntamos todos los datasframes\n",
    "datos = pd.concat([Ravdess(), Crema(), Surrey(), Tess()], axis = 0)"
   ]
  },
  {
   "cell_type": "code",
   "execution_count": 15,
   "id": "c783c597",
   "metadata": {},
   "outputs": [
    {
     "data": {
      "text/html": [
       "<div>\n",
       "<style scoped>\n",
       "    .dataframe tbody tr th:only-of-type {\n",
       "        vertical-align: middle;\n",
       "    }\n",
       "\n",
       "    .dataframe tbody tr th {\n",
       "        vertical-align: top;\n",
       "    }\n",
       "\n",
       "    .dataframe thead th {\n",
       "        text-align: right;\n",
       "    }\n",
       "</style>\n",
       "<table border=\"1\" class=\"dataframe\">\n",
       "  <thead>\n",
       "    <tr style=\"text-align: right;\">\n",
       "      <th></th>\n",
       "      <th>Emociones</th>\n",
       "      <th>Ruta</th>\n",
       "    </tr>\n",
       "  </thead>\n",
       "  <tbody>\n",
       "    <tr>\n",
       "      <th>0</th>\n",
       "      <td>neutral</td>\n",
       "      <td>ravdess-emotional-speech-audio/Actor_01/03-01-...</td>\n",
       "    </tr>\n",
       "    <tr>\n",
       "      <th>1</th>\n",
       "      <td>neutral</td>\n",
       "      <td>ravdess-emotional-speech-audio/Actor_01/03-01-...</td>\n",
       "    </tr>\n",
       "    <tr>\n",
       "      <th>2</th>\n",
       "      <td>neutral</td>\n",
       "      <td>ravdess-emotional-speech-audio/Actor_01/03-01-...</td>\n",
       "    </tr>\n",
       "    <tr>\n",
       "      <th>3</th>\n",
       "      <td>neutral</td>\n",
       "      <td>ravdess-emotional-speech-audio/Actor_01/03-01-...</td>\n",
       "    </tr>\n",
       "    <tr>\n",
       "      <th>4</th>\n",
       "      <td>calm</td>\n",
       "      <td>ravdess-emotional-speech-audio/Actor_01/03-01-...</td>\n",
       "    </tr>\n",
       "  </tbody>\n",
       "</table>\n",
       "</div>"
      ],
      "text/plain": [
       "  Emociones                                               Ruta\n",
       "0   neutral  ravdess-emotional-speech-audio/Actor_01/03-01-...\n",
       "1   neutral  ravdess-emotional-speech-audio/Actor_01/03-01-...\n",
       "2   neutral  ravdess-emotional-speech-audio/Actor_01/03-01-...\n",
       "3   neutral  ravdess-emotional-speech-audio/Actor_01/03-01-...\n",
       "4      calm  ravdess-emotional-speech-audio/Actor_01/03-01-..."
      ]
     },
     "execution_count": 15,
     "metadata": {},
     "output_type": "execute_result"
    }
   ],
   "source": [
    "data = datos\n",
    "data.to_csv(\"data_path.csv\",index=False)\n",
    "data.head()"
   ]
  },
  {
   "cell_type": "markdown",
   "id": "d26c73a8",
   "metadata": {},
   "source": [
    "# Vemos como estan nuestros datos"
   ]
  },
  {
   "cell_type": "code",
   "execution_count": 16,
   "id": "2167edab",
   "metadata": {},
   "outputs": [
    {
     "name": "stderr",
     "output_type": "stream",
     "text": [
      "C:\\Users\\noble\\anaconda3\\lib\\site-packages\\seaborn\\_decorators.py:36: FutureWarning: Pass the following variable as a keyword arg: x. From version 0.12, the only valid positional argument will be `data`, and passing other arguments without an explicit keyword will result in an error or misinterpretation.\n",
      "  warnings.warn(\n"
     ]
    },
    {
     "data": {
      "text/plain": [
       "<seaborn.axisgrid.FacetGrid at 0x1c9cbdea280>"
      ]
     },
     "execution_count": 16,
     "metadata": {},
     "output_type": "execute_result"
    },
    {
     "data": {
      "image/png": "[encoded data removed]",
      "text/plain": [
       "<Figure size 1080x360 with 1 Axes>"
      ]
     },
     "metadata": {
      "needs_background": "light"
     },
     "output_type": "display_data"
    }
   ],
   "source": [
    "sns.catplot('Emociones',data=datos,kind=\"count\", aspect=3)"
   ]
  },
  {
   "cell_type": "markdown",
   "id": "052b9f61",
   "metadata": {},
   "source": [
    "**Hacemos un array con las rutas**\n",
    "\n",
    "Así podremos escoger un elemento aleatorio y lo podremos escuchar."
   ]
  },
  {
   "cell_type": "code",
   "execution_count": 17,
   "id": "bfe47e05",
   "metadata": {},
   "outputs": [
    {
     "data": {
      "text/plain": [
       "'cremad/AudioWAV/1026_TSI_NEU_XX.wav'"
      ]
     },
     "execution_count": 17,
     "metadata": {},
     "output_type": "execute_result"
    }
   ],
   "source": [
    "audios = np.array(datos.Ruta)\n",
    "sample_path = random.choice(audios)\n",
    "sample_path"
   ]
  },
  {
   "cell_type": "code",
   "execution_count": 18,
   "id": "e071e453",
   "metadata": {},
   "outputs": [
    {
     "data": {
      "text/html": [
       "\n",
       "                <audio  controls=\"controls\" >\n",
       "                    <source src=\"data:audio/wav;base64,UklGRs5NAQBXQVZFZm10IBAAAAABAAEAgD4AAAB9AAACABAAZGF0YapNAQCQAIIAiwBkAFIALwAVAAgA1v/U/8b/u/+K/5b/Yv9j/1//X/9i/2//Z/+F/13/f/+g/6j/y//M/97/AAArAEoAYQB+AKIArgDcAPcAGgEeAVwBUAF2AWkBrQG3AZgBzwHFAc8B8gHYAeUB8gHgAeIBqwG2AYMBawFZAU4BEwHsANYAswCgAGoAUQAcABcA7v/c/9T/xP+1/7T/q/+G/4L/ev+I/33/f/97/3j/nv+Z/53/vP/z/yYALQBNAF4AgACUAMoAygD3AA4BCQExAUsBYgFVAYQBjwF6AY0BkwHBAb0B1gHIAeEB3gHpAeEB5QHmAdUB0QHfAc4B4QHGAcEBwgGrAZMBpwF8AWoBTQFZAUMBOQE3ARYBHAEXAfcA+QDyAOAA0gDZAPIA2QC+ANEAvgClAIYAiQB2AD8AQAA7ACMA/P/3/9z/1//P/8H/r/+b/7L/qf++/53/n/+a/8H/tv/G/9X/7f/y//r/GAD0/wMADADx//j/CwDz////8P8IACMAGQASAD0AHwArADcAQQBZAHoAegC0AKYAsQCyANUA0ADeAM8A2gDtAOIAvADJANAAvwDDAL4AoQCVAHgAewCCAHMAYABaAEQAUgAwADQAJAAjABYADgD5/wEADQD9/9v/3v/G/8L/r/+z/7L/v/+V/5D/o/+o/7b/rv+h/8v/vv/r////HwAeADUAYABvAIIAugC0AOAA5QAGAQgBDQEcAR8BLQEzAT8BSQFlAVUBQwFHAVYBSAE4AScBHgECAQIB1wDbAKoAkQBxAEQAGgAMANb/oP98/4D/TP87/x3/Ff8B//z+2v7c/t/+xf60/tn+qf6t/tP+1/7h/uz+Av8G/wb/Bv8P//r+J/8Y/xL/M/8x/x3/Pf81/0b/Jv9T/1T/af9n/3D/ev+U/5z/o/+4/7j/tP+y/6b/oP+t/67/l/+m/5X/Zf90/0j/Pv9Z/zP/Pf8+/xn/Cf/5/vb+1f75/sb+5v7p/r7+5v7H/tj+w/6v/rf+p/6g/pf+qP6y/rf+s/6w/rb+y/7e/tL+4v7k/v3+Ef8b/yX/Kv9Y/2v/bv9//5T/e/+L/4r/ov+L/7b/ov/B/8T/uP+1/7//4v/z/+L/AgAFABYA+P8OAAoA///8/yIAGAD//xUAEAAoAC8AAgD7//3///8LAPn/+/8EAAkAEAD9//X/DAAMAAsAEAAdABwAHwA0ADEACgAvABQAFgASACsACgAiADIAJQAqABwAOABOAE4ARABBADcAPABBADcATgA2AC8AKwAfAAUA9P/I/5z/gP9y/0L/Lf8C//j+rP6Q/nL+Qf4y/h3+B/4B/vf90v3m/f39E/4T/k3+TP50/n7+kP62/sD+6v7f/gz/KP9e/3P/jf+O/5z/pf+1/8D/uf/f//X/5//h//P/5f/8////EQDr//r/5f/u/+n/4P/n//f/6v/c/83/0P/L/8H/pv++/8j/pP+d/6n/oP+M/5D/jv+J/4T/d/94/1X/dP9c/2P/cf98/3n/Zv93/5H/ev+H/5b/k/+q/6b/rv+o/6P/vP/N/+7/DwAKACoALgBEAGcAdACSAKgAxgDPANgA1gDVAOUA7AD1APsA6QDTAMYAzwC9AJMAmAB8AJcAgwBxAIsAawBSAFsAYABJAEQAJwA+ACUANAAQABEABwATAPf/9v/U/9L/wP+9/7T/qv+V/73/wf/L/7r/uP+h/7P/y//a/9L/3v/V/9v/yf/c/9v/1//X/8v/ov+w/5b/nP+G/53/k/+W/3z/lv9s/4//g/9d/0b/Pf8u/xT/Kv8k/07/Rv9K/1z/hv+v/73/y//m/wsAFgAfADYARgA/AGIAXACRAHYAgwCgAKgAsgCmAKYAvAC5ANEAzwDDALIAwgDHAOgA3gDOAN0A5QDbAOAA3QDNAOQAvQDeALsAlACVAJwAoQCPAKUAewB/AHAAlAB5AHsAggCDAI8AogCsALUAugDGANEA3wD2APEAEQERARoBHQEeARMBHQEaARABDgERASYBFQH+APgA8wDzAOAA7wDlAOoAtwDZAOoA0wDzAOgA0wDXANgAtgDDALUArADNAK0AqgC1AI8AjwCMAFsASwAyACkAEgAkABQA9P8KAO7//P/4/wIAKgAzAD8AXgBwAIoAogCpANoACAEiAT4BVwFqAWoBkgG6AdEB8gH+ARICHwIyAj4CTwJXAj0CTgI6AiQC/wH/Ad4BvAGWAXoBaQE/AQYB9gCxAIkAXQA7ABAA+//k/9//x/+Z/3P/Yf9d/1D/K/9A/yn/Ef/+/vn+Bf/d/vX+/P4G//z+NP8d/wv/J/9S/2z/iP+a/7v/xP/i/9f///8HAAMAIQBaAE0AWgBhAEoAbQBoAHoAjACUAIoAnAB4AGwAZwBwAGoAbQBKAE4AVQBYAFgAWwBdAEIANwA7AEUAOAAyADEAGQAZAEAAOABIAFIAVAA6AEUAFAAgACYADQD2/+3/2f/t/+n/2P/L/8//2P/R/9//1v/a/8L/tf+z/73/rv+x/5r/pP+s/8f/n//E/9v/4v/4/wUADQAzAC8AMwBIAGYAfwCEANYAwADdAPsA7wANARkBMwEnAUsBRAFGAUIBSwFVAUgBOgEvAQsBMAE/ATUBFgETAQsB/ADCALUAnACbAEUAZgA6ACEA//8LAAcA7f/L/8//2f/X/7v/s/+y/5T/kf+L/3b/ff9o/4n/bv+H/2z/Wf9f/2H/T/9p/2H/Zv+H/5H/gP+g/6D/tv+5/+n/6f/k/+P/JQASAEoAOwBoAF4AkABwAHAAeQCIAG4AigBzAIkAegBvAHAAdwBwAGkAgABjAFUARgBaADIAKgAUAAgA9//J/6j/n/+O/2r/Nv8I/8T+r/5u/l7+Lf73/fz94P3K/ZD9i/13/XX9VP1E/Tn9Z/1o/ZD9of3W/eP9AP44/nD+eP6v/rb+/f7//jT/NP9//8T/7P8cAEUAewCOAI4ArwDhANEA7ADnAPIA0ADfAMoA0ADYANwArwCGAIkAewBpAFIANgAnAAgA2v/I/8j/tP+k/6z/jP+C/2n/Z/9A/z3/Qv86/zT/O/89/0j/Nv9L/17/ef95/2z/e/91/2j/dv+B/3z/eP9r/57/mP+d/5T/h/+3/7H/wP/e/+P/4f/u/9r/8/8QACAAEQAGAPz/HAANADMAGwAMAAAA7f/e//X/4f8CAM///v/p/8n/n/+p/3//gv96/2H/av9T/0f/QP80/0L/JP8S/wr/Df8L/wT/5f7r/gX/FP8L/xn/Mv9d/1z/Wf9i/3L/ZP+J/3T/kP+a/57/of+g/7b/qf+X/6L/lv+c/5H/nP+U/4r/nf+R/4X/cf9u/2v/WP9f/2P/h/9r/3L/d/+J/2n/dP9m/2z/aP9y/0X/Qv9J/yf/Pf8q/zb/Qf88/0L/Mv9i/0H/UP9M/zD/UP9L/zf/Nf9E/yz/Qv8//zv/Jv8n/wj/I/8M/wv/G/8v/yz/LP85/zn/Pv87/0//Wv9F/3H/UP9e/3b/ff9//4z/kf+M/5f/p/+n/5//rv+K/5//nf+G/5X/g/+b/5T/iP+b/2n/iP+I/4H/f/+H/4r/iP9y/4T/av9j/1D/e/9j/0//XP95/2z/kP+G/5L/lP+p/7j/1P/i/+f/8//8/xQADwAVABEA//8JAPX/3P/M/8f/s//B/5b/iP+R/5D/gf+x/6D/mf+Z/5r/iv+V/6P/mv+y/5n/j/+Y/6L/oP+k/7D/pP+4/7D/vv+1/8b/vf+4/6L/qf/C/7f/rf/J/9j/+//7/9H//f/v/wEA+P/o/+L/zP/c/8X/uf/K/7j/uf+0/7X/mf+5/7T/q//B/6j/xf+9/8//1P/Q/+n/s//g/9r/w//X/8z/7P/a/77/1v/X/+z/3f/F/+D/6P/+/9v/2v/e/8z/0f/t/wQA/f8PACUAIgA3AGUAXgB2AJYAhgC/AKsAtQDDALcAzQDEAOoA5ADmANQA3QDlANUA5wDqAMoAxADDAM8AvQDAAKMAkgCXAIUAdgBjAFkASAA/ACQAHwAUAAgACwASAC4AEAAMAAQA7P8lABwADAApADcASwA1ADkAQABAAFUASwBFADAAPgA+AFQAQgA8ADcAHgBBAD0AQgBFADMAOwBCADwARgAjADEANgAxAC4ASABJAFMAZABTAGMAZgBPAF8AYwBVAF4AbAB8AIIAagB2AGYAZwBiAG4AZQBoAF4AiQBdAGIAYgBpAE4AOQA5ACUARQBDAG8AYgBhAHgAhwB/AKgAmACQAKUAvACyANIA0gDeANEA+ADdAPsA/gAUAR4BFwEdATIBOgEmATkBFAH8APIA/gDPAMQAwQCUAI0AUgA/ACcADADv/+X/xf+0/4H/af85/x7/Ev/9/tr+2v7f/r3+oP6S/pz+dP6H/ob+g/6P/pr+qf7Q/uD+Iv8y/3P/cf+n/7n/1//6/wkANQBWAFYAeACcAIYAwQDhAA0BDAEoAWABjwGfAcsBxgHQAd0B1wHRAb8B2AHcAdcBtwGyAbQBrAGHAYEBTQFZATwBLwESARoB5QDPALgArQCyAHUAdQBrAEIAOQA6ACQALgAUADQAGgAdAPn/DADw/xIA4f8GANT/+//v/wMA+v8TACUAMABYAIIAdgCMAJcAygC7ANkAywD0APEA+wALAfsABgHzABAB8QDUANkAxgC8ALEArACdAGwAdgB3AGMAYQBYAEIASwA/ACwAEwAZABQAIAAhABMAFAD7/w0AIADh//z/+P8JAOv/+P+y/4j/ff+S/4D/bP9//17/Xf9F/zz/Cf/n/u3+Ev8G/yv/J/86/0v/TP8n/yX/JP88/0z/SP9o/4b/hv+K/3X/i/+1/+P/5/8NABgAZwBHAGcAfACUALwA3QDfAOYACQEdARsBLQEvATABTgFQAV0BbgFqAXkBagFDAUIBSAFJAWwBTwFWAWMBWwFuAU0BPQF1AVwBJQEdAeUA1wCQAI0AdQBMAEkAMwAbAPz/8f/n/7//sP+1/4T/k/+C/3z/aP97/23/Zv9q/2H/iv+e/6X/of/C/+X/4P/b/+7/IgAWAEcARQBmAHcAggCZAIkAtADbANcA7ADhAAABFgEZAfMABgH/AAQB4ADZAMsAvgCHAGUAXAA7AB4AJwADANj/x/+b/5j/hP9C/zj/Av8Q/wD/6f72/sD+wv6//qj+k/6z/qr+rv6r/qH+s/6p/qr+0P7G/ur+9P4m/xf/Ov9K/0D/gv9w/5X/tv/A//H/7f8EAAwARgBJAGEAaQCjAJoAtAC6ALQAwwDsALcA3gDEANoA2wDXAMMAsQCTAIsAfgBtAEkAPQAoABAAAgDr/6//rv+N/1//L/8D/+3+0P6v/rT+nv6G/nj+fv59/mT+av5P/lL+Tv5e/k/+Vf5w/mT+jP6K/pz+v/7F/uP+zv7p/vj+8P4G/xP/Hf8y/1T/Sv9d/17/hP+L/37/n/+j/7D/v/++/8T/5P/W/wkAEwALAAEABgAeABYAJAArABYAPwAoACkAKgA5AEcALwBCACYAIwD5/yIACQD4/x8AJQAJAPn/4v/y/9X/sv+r/53/k/9u/2X/Rv9H/z7/Lf8T/yb/Dv8H/wz/Df8v/zX/Wv9y/1//cv+C/4j/i/+p/6T/tf/H/8z/z/+9/9b/5P/+/wgA8//b/9j/2f/Z/+T/0f/a/9X/wv+8/8j/u//E/7P/oP+T/3//nP+f/3j/a/9d/0//Xv9b/1X/Y/9c/5L/a/+S/4z/m/+q/9T/vv/R//7/KQA7AGgAZgCCAKgArgCjAMcAvADDALwAvQC7ANoAxQDGAMEAugC1AKkAmACRAIUAagB+AFEAYAA8ADQAOQAZACoACwD///b/2f/R/83/q/+G/2v/dP9Y/0D/Kv8j//3+0/7f/rr+uP6s/pT+lv50/nP+Zf5u/kr+Vv5R/kH+HP4u/g/+/v0v/i7+NP5O/kP+Yv6B/pP+vP70/i//U/+B/6X/vP/5/xkAMgBZAI0AvACyAPMA5ADnAPEA5AD/ACwBMQFIAV4BOQFDAUABMwERAREB5wDjAMIAvAC+AI8AiQCOAIEAgABlAEAARAAjABcALQANAOH/z//b/8//w/+8/6H/nf+E/3n/kv+K/6j/lf+Z/6v/t/+7/7T/xf/O/8L/3f/f//z/BgAWABQALgBDAGwAcwCKAKQAvgC3AM0A3ADZAOMAEAEGAegADgEKARwBGgEiAQMB3ADpAMYAnAB0AH8ASQBnAB4AMgAMAAkAAADr//D////o/+r/6//k/9v/2f+1/8X/tP/G/8r/yf+j/63/wv+i/5P/pf+w/6v/1P+9/83/2v/s//T/GQAUAD8ASQB0AIUAuQD2APgADgEkAUgBdgGWAawBmAGqAc4ByQHsAesBAAIYAjECPQI1AjQCOwI6AksCVQI+Aj0COQIdAioCIgIdAgwCDgLSAdYBrAGMAYUBQQEpARYB/QDbANAAwACTAJQAagB6AFcAcwBYAFsAYAB9AJYAoQChAM8A1gDnAAgBIgEUASYBJgErAQoBHAEEAfoA0QDiALAA0QCgAKsArQCMAIMAfwCFAGMATwB1AFsAcgBqAEUAIQAiABMA/f8EANn/1P+q/7P/f/9s/0P/Ov80/zH/Kf8n/yn/K/8J//j+Bv8j/yb/Cf/9/u3+Ev/3/g7/Af8U/wX/JP8o//f+Ov8v/2D/Rv9h/3j/v//G/7v/pv/i//j/EwACAPb/AgAOABQADAD6//z/+v/1/9n/4f/f//P/3f/9//v/CgA9AB0AIAAsADoAfgBgAHgAjgCUAJoAjQByAI8AlgCBAIsAmwDPANMA0gCxAJgAygDCANEApgCzAKAAfgCKAHMAWwBjAD8AQwABABEAIQAGANr/s/+Y/6P/df+R/2j/Xv9W/1j/S/9O/3L/a/9u/5z/l/+e/7n/tf/C/8T/5v/9/woACQAPABwADQAKAOT/KAAWAAkAIQAXAA4AAgAmABcAFAAIAAIA3/8EAAEA5v/s/87/z//R/7f/wP+y/8z/jP96/47/df+I/3L/cf9o/3n/U/9I/0//ZP+C/47/ff9k/6n/lP+P/3X/mP97/6//0//S/8b/y/+2/6D/qv+4/9z/5P/7//P/4v8ZAPf/CQABAC0ANgA0ABgA7f/Y/9r/y/+3/7X/rP+k/2v/Sf8t/xL/Nf8G/w//BP8X/xf/+v72/gH/7v4G/wX/Ff8D//f+EP8D/yv/TP8z/zD/Of8c/y7/Df8A/xX/Kf9R/1z/Q/8w/zP/Lf9Y/1z/cv90/7D/lv9y/33/fP+S/5T/nv+W/6n/uv+G/3n/eP9r/1v/eP+A/4D/m/9x/3b/Wv9V/z3/Nv8o/zj/VP83/y7/5P7P/s7+t/6g/oX+rP6z/qv+l/5u/o3+m/6k/rP+mv6u/qv+mv6a/nz+6f4A/x//FP9N/1T/dP93/47/2v81AE8ASABTAHwAiwCfAIMAkgCzAN4A/wDnAMEA/QAfARgB9gD7AEoBSgFEASoBGgETASUBEwHQALgAxwCVAFoAMQAJAPz/uv+V/4f/df9S/yb/0f7Z/rb+r/6Q/pL+mf6R/mn+cv5a/lv+a/5k/mT+Xf6m/rf+rv6d/oP+i/6y/tX+3f74/gj/Mf8n/yH/Zf+0/9P/7f/z/zgAVgBxAFkAdQC4APgA+wDoAPEABAEmAfcAygDnABIBUgENAd4A2QDfAN0ArACwAJ0AtwDjAM4AjABlAGYAiwBaAGIAhgCJAIUAQwAnAOX/BwDi/73/kv+w/7z/fv93/2v/e/+Q/33/pv+j/8T/6f+8/6H/p/+6/+X/6f/q//v/EAAUAPn/6f/M/xEA//8rABAAIgDu/+3/3f/e/8//8f/2/9z/3f/l/9n/1f/w/9v/BwDq/+r/8f+5/+n/1/+0/5//nP+K/4T/fP96/2f/Sf9h/1r/Zf93/5n/rf+m/5v/zf+6/7//zv8RAEcAYgBcAFcAPwBQAFgAWQBxAHgAowCvAFcAbQBuAJEAWQBMAHsAmQCFAHMAawB3AHkAlwCYAIMAnQC5ALkAlwCYAHAAngCuAJ0AngDUAO4A9wDtAOQA8gD/ABsBEwEyAR4BGQESARcBCQEUAUwBJQHiANgA1wDGALQAtwCkAMYAcgBEAFcAPQBYAE8ANAA3AFMARAA0AAgAAQAdAC8AMgA4AC0AGAD9/w4AIgAcADkAHgAFAAsAKwA8ABcACQD+/9r/1v/G/9f/6P/u/+7/1/+1/7f/8P8eACUAJQBDAFsAagBxAFsAhQCnAMkA6AD5AAMB8QDeAOcAyQD/ACgBHQHiABQB8QDAAK8AjgCLAIQAawCEAIgAcABkAD8AQAASAD4APwBuADsAKwAfACwAIgASABIAJwCEAIIAbABJAD0ARABPAEIAcQBhAH0AegB3AHUAlgCVAHQAhQB/ALQAwwDIAKcAwgDGAKQAywDJAPoA9ADkAMYAowDIALYAuQC5AJ0AoABzACQALQAJABUACgDa/8j/xf+0/7P/cf94/43/qf+T/37/of+U/2f/aP+L/73/3//4/9X/6//1/wgA5P/S//D/CgAAABUAKwAdAAYABwD9/xwAKABpAFQASQBdADQAAAC3/8r//v8eANv/r/+1/7P/ev9W/0j/YP9M/zL/CP8Q//L+zf6+/rP+3P7P/hv/Af/K/sz+6P7m/gn/8f4b/zb/Yv89/1P/Vf+c/8n/yv/p//b/WgBaAG8ATACNAJ4A1ADDAOAAOgFyAV0BJgENAWwBdAGIAXkBlwHGAbUBnQGFAaYBmQGsAUEBGAE0AUoBJgHmAPIA9gDiALoAnQCxAOIA/wDLAKUAiwC5AKkAngB/AKAAkQC2AKIAlgCfAJ8AmwB4AFwAWwBvAHsARQBQAIYAYwAdAOz/3f8uADMAQgA5ABgAWgAyABgA5/8tAFYANwANABgADQAtABAA4//R/+z/7v/1/9//BQD7/yAA1f+V/7H/1v/j//f/2f/v/w0A4f/G/7r/yf+u/7z/n/+a/53/rP+K/5P/Yv9w/3f/ev+M/4T/dP9A/zL/Rf9J/0X/I/9f/1n/c/9B/xn/V/9e/0v/Qf+A/3D/kP9b/0//M/9H/0X/Wf9i/0v/Nf9B/1X/af9M/zn/a/97/5f/q/+n/6D/5/8HAAEAOwBPAHMAbAB2AJ0AmAC/AN8AFAEkAS8BSQEaAQoBHQElAVEBZAFwAY4BewFxAYcBWAGFAVcBNgEhASkBEgECAcUAugCQAFUAcABxADYA8P+u/8T/gP8g/w//Cv8B/7r+qv68/qr+ov5a/mr+p/6G/nb+gf6h/rP+p/6V/rz+2P7R/tr+lf7O/gT/Mf9i/2v/Zv+B/4X/h/+i/67/9v8ZACsALQB0ALIAqgCKAI8AsgDGAMgArQDTAOkA1ADCAGwAUwBTAH8AWgBbAEQABQDh/97/4/+0/5z/rP+b/2j//v4p//j+7/60/sH+zf7e/sL+oP6F/rX+s/6C/tn+/P4Q/xf/MP95/4L/rf/h/+P/JgBHAE4AYACPAK8AxgDZAP4AJwEYAUkBggFfAYgBpAG1AcoB7QHFAdQB8gEQAtcBvQGNAaABgQFoAT8BKwERAeoAqQCgAGsAPgAaAOH/pv+L/1L/Ff/w/uz+ov53/kD+PP4b/gj+Af70/fv94P26/ZP9gP1+/X/9af05/Rr9Qf0x/U79k/3E/ar9tP3u/c/9zf30/SH+Yf6J/rj+4/73/gD/U/9W/3j/t//W//z/JQAeACwAMQBvAIIARgBgAIQAYAA0AEQAhgCLAFkAUwBRAH4AkQBeABEADQAmACwAHwDO/3H/k/+c/2//Xv9I/13/af8J/8b+qP7L/rf+qf7E/t/+zf6L/mz+v/4G//T+v/7V/t7+Ev8p/wf/IP86/0r/SP8L/xX/TP+7/53/S/8//2b/xP/a/8////9NAIoAnwCaAIkA0gAhAfQA+wAFAQoBOQEWAdQA+QAqAUMBPQECASoBBQHyALMAsAC+AN8AzwCpAJEAhACrAEoABwD5/yYAQgAuAAAA+P/g/97/of+Y/5r/x//X/5X/Zf8O/+3+6P7C/sT+zP7y/uD+hv6U/uT+7/7j/tz+3/7+/ij/aP9H/zH/Q/+J/5n/g/+a/9f/NAAlABcA7f9KAGgAbQBeAG0AlQCRAJEAuwBdAHUAiwCgAJIAqADuABoB1wCcAIYAnwDBAJgAjACdALQAowB+AEkAcgCDAGUAcgAcAP7/FwAoAAYA9P8GAOr/6v/Z/7b/7v8qABcA9P+6/wAAJAAGALz/z/8EAC0AEQAHACoAVwCRAIAAWABkALUAxwDPAL8A9wAIAcwA0AC/AMkACQEJAfgAIAE4ASYB3QC7AM4A3QDOAM8A8wC1AKQAqQCYADwAQACBAIAAWgBrAGIAKwAkACgACgDZ/9D/vP+g/8//sP+D/5D/gf+A/03/b/+w/5f/YP9o/4z/sP+p/8X/zP/B/+n/8f/m//P/QQB3AJcAlgCbAMAAuwDOAAcBGQE+AS4BCwExAW8BfgFxAYgBlwGEAU4BRQEnARUBMgECAfAAiwC2AI0AcgAQAMb/sP+4/6P/bf9p/4f/Xf9M/y3/Ov9p/1v/Jv9T/4b/of/K/8P/tv/U/xcAMQB2AKAA7wAcAR4BPwF6AYYBrwHuAVgCtgLbAuQC1wLrAuYC9gITAz8DTANfA28DPQM2AyMDBAMcAw0DJgPhArwCjQJCAv0BygGtAXEBLwHfALAAVAApAOn/mP+I/y3/E//0/v3+rP5o/kL+JP72/ev9z/29/bv9ef1g/UX9lf2L/Vz9fP2o/eT97f1G/kX+WP5r/o/+3f4K/0v/bv+l/7//5f8MADEAfwB/ALYA1ADUAOgA8wA1AUEBRQFlAVEBVAFRAUkBPwFnAZABVAEvARUB+wANAQIB5gDLAK0AwACxAF8AZwBUAGgALAAvACwAJgDl/7z/pv+q/4v/hf9O/yv/+P7Y/rv+k/6g/mr+UP5Q/lT+N/4Z/iD+/f31/fb9A/4D/g3+IP4x/jz+Wv5Q/nn+hP6K/pX+qv4Y/zn/Ev8j/1X/Yv+K/77/5v8yADAASABjAJ4A3ADFANkA1gAhAUgBTQE7AWoBhwGFAXEBTAFcAWkBdQE4ATEBGwEjAfgA6wDsAN0A8wDeAJAAlACHAGAARADf/6z/s/+u/57/Zf9r/0n/Mv8O/wb/5/7a/tD+0P7k/ur+1v7O/oj+ev5C/jr+nP68/sf+B//+/tj+2P4D/y3/VP9b/2r/e/+L/87/5P/m//T/QAA/AE8AhQCXAKkAogBoAFEAZgCCAGoAVgBUAIAAcAAWAOf/BQAlADQAIwDt/wsA+v/8/8D/0f/T/8z/m/+G/4j/Mf8H/9b+xP6g/rT+p/6Q/nv+QP5P/lH+NP4N/hX+H/5D/g7+M/5D/nD+b/6I/rT+3v74/t3+Hf8G/xD/Df9P/2P/fv+B/77/z//S/xkATABfAFQARgBpAGsAmAC3AMQA2AD6ABsBKgFoAYcBVAFWATsBOAHaALcAxwDGANIAogBiAGgAcABVAB0A8P/4/9n/zf+m/6n/q/+E/4L/Vf9N/1L/Sv8m/x3/TP9K/3T/a/9M/zT/V/91/4H/Rf9N/1X/dv9l/2T/jv+l/7n/wf/B//H/OgBRAIsAgQCeAJEAzwDAAJwAkwCIAJwAhAB7AJQAbAA/ADsANAA2AD4ATgBOADgADAAdABoA+f8DAOT/3v/A/5j/dP9f/2T/Jv8i/wb/+f7w/uj+5/7r/rP+n/6v/sX+/f4j/+b+/P4a/wT/Jf8G/yv/RP87/0v/Uf95/5H/lf+P/43/rv+9/8f/2f/O/8X/mv+e/4b/kv+J/6z/pf+k/7z/2P/U/9b/0P/e/yYAIAA9ADIAUwBJADwAVgBtAFoAdQCGAKIAcwA1ABcAOgAPAAcAFQAXAP///v/A/7n/xP/Q/9b/s//S//X/5//4/7D/uP/i/9v/tP+t/9H/3P/X/9n/4P/z//7/FABTADkAXgBxAKEAlQCZAIkA2gAoATABGQEzAWQBiQFkAYEBzQHIAYcBhQFIAXEBOQFGAUEBTQFdATABAQEKAQMBGAH7ANQAxgC6AKoAuwCiAJAAnABbADUAQgBcAEgADADi/5z/iP+L/5L/kf+Y/6j/jf97/4D/nf+l/8//tf+k/6L/pv+c/67/5P/R/+D/8f8PAAQA1/+y/7L/rP+s/7b/uP/P/+L/0/+W/5r/jP93/1f/HP81/3L/Yf9P/1X/bP9G/yr/F/8i/2H/f/92/1r/V/9w/2v/kv+R/6P/vf/z/+T/5P8CAC4AWQBVAG8AaACMAIoAhwCFANwA6gDmAOwA0gDWAO4AvADSAOUABAHbANwA1gDNANoAzwDTAK4A5gDiAAABDgEKAQEB/gAWAQkBAgEIAQMBJgENAdEAyQClAMoAswCNAJAAcABcABsA8//f/+L/s/+X/4D/fP9l/0X/Rv8H//D+7/7t/gv//f69/sH+sv62/sL+3f4V/zT/S/89/3b/iP+D/3P/tP/T//b/AAAJABgAOwBqAIMAqgDTAAcBKQFRAUQBdgGZAc8BxAErAjMCTAJmAl8CNwIkAj4CQgI2AioCFgL6AfwB2gG9AbcBrwGOAVEBKQEhAfEAfABdADwACwDm/9P/uf++/5L/Rf8F/+r+x/7O/r7+u/6f/rH+r/6l/rv+sf60/s3+FP8d/wr/JP89/yD/Cv8Z/zX/U/9h/2D/Lv9L/1P/Qv9u/5r/yv/r/8b/vf/N/7v/+v8VADEAJQAtABcAGwAnAE0APgBVAHcAawBmAHAAdwB+AFwAVgBeAGUASwDx/9v/1P+9/6P/b/9V//T++/6//rL+nf6T/mD+RP4U/vP95f3F/cn9sf3G/c793f3t/RP+LP5K/mj+iv7L/vj+Mf95/6D/0v8JAGAAcACGAJQArQDYANkA8AD/ABQBPQEwAQ4BKQE7AVMBTQEaASIBRQFoATYBHQEvAQwB1gC5AHkAcwBQACcACQD3/9H/wP+O/3f/Zf9e/y3/Af/A/rz+m/6C/jv+Rv44/jv+Kv4h/in+Pf4L/k/+Uf6K/qz+wv7b/uf+JP+B/7f/4f8EAEgAeACRALcA8gAeAWcBgQGnAegB+wEcAh8CTQJSAlsCSgJCAkMCQQJZAkkCHALiAbQBlQFwAVkBCgHYAKwAegAlAAEA5v/g/9T/q/9y/3b/Sf8z/x7/DP/h/t/+8/7q/sH+sv7C/pn+ev5x/qH+fv6Z/rb+mf62/r3+sv6c/qL+vv6Z/tv+2/7h/sr+1f7j/u/+Ff9a/4H/bf+g/7f/2//L/wMAPQCNAKUAtwDdAOEA7wDrACEBNAFBAYQBkAF5AXQBhQGYAXEBhAGqAZcBpwGiAU0BTgE4ASQBHwEtAf8A5gDBALwAfABpADgABgD//+//9f/F/47/df9n/0n/Lf88/xP/Gf/r/vr+5/7d/gb/8v4h//3+Bf8c/y7/Of9B/07/Xf+C/5P/rf+8/8T/1v/K/9D/2P/o/9X/xf+0/8T/v//O/+P/3f8GAOv/+P8GAPv/8P/8//f/JgAjAB0AIgD+//b/8/8SAOD/6v/b/+X/7P/p/wAAEwAUAA4ACgANABsAMAAdACkAFwDv//f/6//y/+//1f+r/6b/hv91/27/Tf9b/0H/W/87/y3/Nv9O/z//Sv9O/37/lv+r/7n/3P8EABUAVgB+AJ4AmACfALoAyADuAOcA8AASARwBUgFtAYIBdwGiAZkBrQGjAagBrwGvAbwBsAGpAZ8BnQGJAWcBXQFBASQB7ADKAJMAlABGAEoALwBBAAYA8v/H/5z/c/9p/1T/Q/9F/1v/UP8+/x//Kv8a/xH/IP9F/1L/Zf9G/0z/Vv+C/6z/x//r/wkABQAbABUABwAKAEEATABRAGgAkgCIAG8AcwBOAFsAMQAfAA0ADQAjABcA2f/0/9n/yv+4/67/n/9t/0z/GP/x/vT+8v62/qH+fP5G/jT+Uv4L/kD+Lf5L/lT+hf5a/lj+Zf66/rP+1P7q/in/IP8s/2r/a/+p/8L/7f8TADwAWABbAEoAXAChAK4AtADOAPEA8wDkANwAywDcAAMB+wDqAOEA+wD+AAAB5wDpAO4A4gDVAJ0ArwCtAJ4AaQBkAGMAbgBQAB0AEAAmAAYA7P/C/6z/t/+6/4f/kP+B/5n/d/9K/2v/jP+P/3v/cP+W/3n/jf97/2P/bP+J/43/s/+Z/6r/l/+r/67/tP/X/+n/1f/G/7v/s//i/9f/sv/H/8f/t/+5/8j/oP95/2r/df9U/0v/Sv8e/wT/6f7q/vr+6v7M/sn+zP7J/pr+of6a/qv+uP6s/sX+rv7V/tn+tf71/gX/Rf9O/4D/SP9r/5j/vf/h/9r/TwBdAHQAiwC6AOgA9gAWARcBPQFsAXMBggFlAV4BaQFHAVYBEAEFAfYA7gC/AKYAvADDAKYAlAB2AHoAXQBTAAcAFwAMAPr/6P/t/9X/z//b/9//uv+x/3n/dP9I/2H/T/9S/0j/Wf9k/0f/XP9U/1P/Tf9S/z7/YP9O/3T/dP9//5n/vf/t/9//+//3/wMANQAgACkAJwBCADgAOwBMAA4AFAAYAAUA9//x/wIABADf/7b/of+a/3r/hP9t/13/b/9i/z7/Rv9B/w3/Lf8o/yb/Jf8s/0f/Mv80/1P/Rf+B/53/nf+d/4P/f/+b/6X/qf/D/8r/2v/I/9n/5P/J/9b/7P/i/8v/2//h/9P/zv/e/+P/+P8RABcAIwA0ADgAOABIADcAXQBUAFEAWwBoAGIATABIAE8AgQB1AH0AfwCGAI0AmACbAIgApADAAM4A2ADSAOEAywDhAOwA6ADrANUA2wDcAPEA5QDcAOEAAgENAfUA7wD3APsA7QDOALAAswDHAMEAvQCaAI8AbwB5AFgAKgBDAEAAFwA4APz/JAAUACQAJwAuACgAJAAVACgAEAAUAAYAHQAUAGAAbgBnAIoAjACpAL4AxwC4ALAAuQDPANAA9QD6ABQBOAEoAScBMwEjAQ8B6ADoAOgAxADRALkAhABDAEIAIgAPAAkADQAFAOD/vv+i/5z/if+Y/6H/jv+X/53/gP+G/3//i/+t/7H/kP/K/8L/BADY/+X/AQAUABUAHgBMAGYAfAC0ALoAzgDIAN4A/AAWAToBYgGGAYYBggF0AaABmgGAAXABfwFqAVgBUQFCARkB8wC/AKUAhABUADcAOAAJAAMA8P/0/9X/uv+0/57/lP99/0f/Nf8//zX/Hv8F/9H+4P7L/tD+0P7C/sz+0f7b/uL+3/4R/x7/Kv8w/27/h/+O/5L/uP/x/+f/HQAnAFMAewCeAJAApQC/ANgA+AD6AAkBIgELASkBJQEFAewA/QDRANwAwwC/AMcApwB7AFYANwAlAPb/6P/Y/9r/xv+9/6v/oP+F/3H/af9d/13/W/9F/07/ZP9P/0j/d/99/3r/gP92/2j/YP+Y/2//hv+A/57/wf+3/6n/gf+G/4j/lP+E/2z/iv+h/4b/kv+s/63/nf8DAP3/AAA6AGAAbgBvAK4AyQDiAOAACAHyADoBFAEWARQBEwETAfYA4gDlAMsArQDGALsApQB/AIcAcQB0AGIAfABcAFMAVwBQAC0AJQA+AEsASgAvADgASgAoACEAAQD4/woA8f/b/+z/3v/L/9H/tv+N/3//lP+S/3H/Vf9F/zv/M/8r/xj/D/8A/wD//P77/uT+5/4M//n+/P4H/yH/P/9q/5f/hv+Y/6f/wP/g/9f/1f/+//j/9//l/wEA/f/j//v/4v/f/+H/v//B/7//mv+V/5X/cP9y/2z/Yv86/0D/N/8F/wn/Cv/a/un+2P7O/r7+n/62/rD+u/6j/rH+0f6r/sv+4f7a/uf+6v70/ur+7P7y/hj/HP8w/xz/GP8z/zX/Tv9i/6T/pP/H/9T/8P8KAC0AVgBiAHAAlwDaAO8A6wD2AAgBDgEbARkBJwELARIBIQHqAMAAugDDAKMAkABcADcALQAKAAkA9f+4/6T/hv94/13/JP8Y/xj/GP8I/+v+7f7e/vv+6P7z/tz++v4E/wL/D//7/hj/GP8y/zP/M/9S/1L/Xv9c/4b/i/+n/8n/3v/C/w0AAwAVACAAQABUAHQAlAB+AKsAugDKAMQA1wD5AOsA9gDeAOcA9gD0ABIBEwEDAQUBAgHyANcA1wDhANMAugC1ALgAkgCGAIcAbwB6AEYAPwAlACgA//8AAPH/DQAzADAAMwA0AEUAQQBJAEUAWgA8AGAAYABVAEwARgA2ADMAKQBIAC4ALAAtACQAEgARAP//FwAHACMAKgA7ABkAOQBHAFQAUwBQAF8AcQB2AI8AlACDAGYAYQBGAEsAHwAZACwAMgAkADwAKgBWAFgAVABrAGkAaQBkAIQAnACzAKcAswDHANcA1wDYANMAzwDlAOAA3QD3AN8A5ADeAOQAzACzAKUAjAB3AF8ATAAtABEA/f8BAAMA5P/f/7f/sf+g/43/dP96/2//n/+D/47/jv+c/37/ov+j/6v/zf/3//v/HAAzAFQALQBSAD4AWwBtAH8AggCiAJYAjQCBAJMAjgCIAIEAhwCDAIgAcgBaAF4AXABcADkAMwA8ADYAMQAQAP7/AgAIAN//7P+3/8v/0P/b/97/7P/t/+X/5P/5/wcABAAiABEALwAtAEcAKwA4AC8AVABVAFUATABvAFYARgApAFEAMAAzAD4AYQCBAGMAbQBfAEsAegB4AIQAgQCHAJYAdgCNAG0AXwBuAH0AnQCRAKEArAC0AM8AyADLANoA5QDiAPMA7ADxAPQA7QDvAAUB6ADfAOQACwHqAPQA3gDFAPUAvgDdAMYA0gDIAMoAsQCfAKIAgwByAGYAVwBYAEMAHwA2ABUAAgAaAB8A/P8ZAC8AGwA+AEoAYQBUAGAAdgB1AI4AbwCoAIcAiACSAGAAQwA9ADsAIgAKAPr/9f/m/+H/yv/K/83/sf95/3z/bv9N/xn/I//5/s7+2/7U/tj++f7P/vT+1P7m/uD+7P7j/hz/Nf8x/0P/U/9t/1b/Xf9f/3n/jf+J/6L/ov+8/6j/sv+o/7f/mf/C/8L/2P/K/9T/xf+0/8X/t/+3/7n/zf/R//H/9//z/+r/AAD//wIAHwAnAEYATgBCAFoAPgBwAH0AhQCZAKsAwwCsAKcAzAC/AMsA5wAGAQgBCAEdATwBOAEbAUEBPwE0ASUBRwFNAS0BMgEWARgBIAH3AOwA0QCzAKIAfABXAFkAPwAnAP3/yv/C/5n/d/96/2r/iP9Y/zz/Q/8K/xz/HP8c/xn/Vf89/0D/L/8X/yz/Nv8W/0P/Qf9O/0b/Rf9U/0b/bf9j/3H/gf+Q/3//pv+0/6j/vf/P/7z/zf/i/xoABQAZABUA7v8VAA4A///j/+v/7P/J/8f/1v/g/+T/5//s/9T/+P/U/+r/5v/W/+//0f/X/9H/0v+k/6r/of+L/3n/XP8+/yv/Dv/8/vL+4v68/sH+qv6n/qT+qP7O/tn+v/7Q/t/+7f4U/zP/Nf9W/3v/jP+M/73/4f/p/wQAAQA/AC8APABHAEgAWgB8AIEAiwC4ANwA7gDKANoA0QDOAPMAxQCsAKYAoAB3AHcAZQBPADkADADq/+z/sP9j/0//XP9P/yz/Ef8c//P+6P7u/tL+yf6//qn+uf6g/rj+zP7n/tH+5f7m/ub+yP73/hz/J/86/0L/TP9P/3X/jf+W/6b/pf+7/87/1P///wcAFwA2AEEAVQBLAFUAOQAWACYAGAAVAP7/BwDS/+3/s/+x/4z/d/9i/1//Qv85/y7/Ov9Y/yT/I/8R/wv/Cf8g/zb/Fv8k///+Ef8B/xL/Bf8N/x7/Kv9c/2v/hP+G/4z/n/91/43/nv+y/7//zP/W/+T/5P/w//j/MwBFAFAAVwBbAGEAiACDAH8AgQB4AJIAjAB3AH8AeABZADQAKwAmAPr/HQAjACgAGAAvAAEA+/8RAA4AGAALAAcAAAAoABAACQAJAP7/8v/T/+j/4P+w/63/rv+i/5L/if98/4v/jP+K/2z/dv9i/3X/dP9w/3b/d/+V/6H/lP+a/5r/gf+K/6D/qf+y/6X/tP+p/6X/sv/M/7b/z//d/9T/0//f//b/GQD2/xkAHgAfABUACgA8AD4ALABLAFEAVwBaAE4AZwB0AIYAiACJAI8AkACgAIYAmgCSAJ4AbwClAI8AfAB9AGYARQBFACYABAAOACYAEwD2/w0A+v8cAOL/3//d/7r/uv+x/7j/t/+X/3//XP82/yT/Jv8j/wT/2v7e/uv+x/7j/uH+9v76/u7+Cv8F/wv/Kf8u/y7/O/9b/2L/a/+I/4v/f/+M/6D/rf/V/83/8f/H/+H/8/8CAP//7/8dAP7/+P/3//7/CQD+//T/EwD9//P/+P8hACMA9f8GAAgA+P/i//b/1f/E/8T/vP+n/5H/iv9a/2T/bP90/2j/Yv9p/3b/af9h/2v/Xf+K/4T/gP9//5b/rP/O/9j/AgAhABcAIQBDAFUAZgCDAJoAlwCnAKMAkgCmAJcAhQCOAIIAbgCBADcANQAoAPv/6//O/7j/qv96/zb/O/8m/xb/DP8V//T+/v7x/t/+zf7J/rf+zv7f/tb+8v4G/wP/Gv86/x//Uf9p/3H/mP+o/9L/6//U/ysARQB8AHsAjwCmAM8ArAD1ANAA5wD4APAA9ADvAAcB+QAFARUB7QD4APUAtgDNANIAngC6ALQAywCUAIsAZwBqAFwAcABNAFkAOABLADUANAApADIAJQANAAoACAD2/w8AFwAUABEAIgArADwAQwBYAEoAYQBlAHIAVgBnAGQATABAAFwAOgBbAD4AFAAnABIAHQAkAB0A/v/2/+P/7f/4/xAAAwAEAOH/7f/c/8v/zP/X/+b/1v/p//L/6v/5/+X/8v/V/+n/+//7/+r/EQAXADgAWwA6AEgAdQBSAGcAkACCAI4AhwB5AI4AhgCFAHIAdQBsAIQAWwBUAEoAMgAoAC8ADAAqABsACgAiACUAJwA0AEwAPgA2AEEARQBeAHkAdgCKAG8AiwCLAK0AkgCvAM8AzwDDAOQA5ADzAN4AygDjAM4A3wDUANMA0gDMANEA0ADeAMYA5gCxAMsAvgDEAMEAswCxALkAogDCAK4ApQCAAHAAUgBJAD4APwA2ABMA9f/t/8f/1v+m/77/p/+H/3v/dP9i/1L/Tf9v/0b/R/9h/1D/av9c/2n/gf+R/6r/v/+8/7f/5v/P//D//P8HAAYA/v8MACAACwArAC0AOAA0ADoAQABEACIATgBeAGQATQBKAFAAVwAwADwAJwAvAB0ANgAYABwAIgAVABkAJAAtAEcAOQA+ADMAOAA/AGkAVAB3AGoAowCyALUAwQDLANcAvgC1AL0AuQDAANMA+QD+ANQAygDGAOIA3ADeAAYBDAEXARQBHwEiASwBNQE/ASUBPgE7ATIBHgEgAeEAwwC9AJoAkQBpAG0AZABNADwACgAMANT/0f+t/7f/jv+m/2P/V/9S/y//Jf88/zn/Nv8y//z+4P7l/rf+sP7A/sT+u/7B/pf+nf5//n/+ff5X/mP+X/5O/lH+V/5Y/lv+af59/pX+yP7V/tD+zf7V/vT+8f7e/un+8v4A/w7/Of9U/3r/af9u/5D/nP+//9b//P8uADkAbAB/AI0AngCVAI0AhwCXAIkAcgCZAFoAOQAsABYA/P/X/9n/rP/G/6H/n/+Y/3X/hv9u/3//Wv92/3T/a/9y/3z/if9g/1f/UP9b/1//O/9C/1L/ef9m/5H/fP+8/9b/4P/M//7/JAAUAB8ANQBdAHAAhACPALsA1QDUAM8AwACxAL4AggCVALIApwCzAI8AoQClAKkAbgBuAIgAVQBZAFMARwBQAE0AMQAoABkAGwAVACAA+v8SABAA8f/m/+P/0//O/7P/nP9k/3D/Qf89/zj/I/8S//b+5/7//tj+3v7s/uH+2v7d/ur++f48/zT/a/+D/5X/iP+u/6T/rv/a//P/NAAyAE0AOABBACYAHQArACcAWQB7AIAAkgCaAGcAegBeAEcAPwBBAFUARwAyADEAKwD9/+//1v+3/5f/ef9U/1b/JP8W//b+6v7d/qn+uP66/r7+qf6w/q/+wf7Q/vP+8/74/vX+/f4F/w7/Hf8K/w7/MP9D/03/W/9R/2f/if+Q/5H/u/+p/8T/1f/t//T/9f8cAB4ANwAlAE4AdQB0AI4ApgCaAIgAhQB7AJoAmgCmAKoArwDRAKQAkgCMAIAAWQBjAFIADgD8/8f/tf+j/4r/b/9E/zn/F/8B/yf/E//5/vX+0v7h/rb+y/6y/sr+yP7Q/tD+2f7+/gb/Iv9E/3L/oP/C/9X/7P8IACsAbABwAL8AwADoAAsBIgE2AUQBTAGNAZ0BowGWAZABhwGlAbsBrAGUAa8BugG1AZ0BmAFvAV0BVQFAASMBKgEfAR4B7wDqALoAnACRAIsAeABrAEgAQAAXABcA0f+j/5H/cf9C/zn/Qf8z/zn/N/80/yb/JP8U/x//L/88/2z/ef+f/7D/x//P/woAIAA/AH0AiwCmALgA1QDwAA4BGQEnAVUBXwGJAY4BvAHGAeUBAAL5ASQCJAImAjMCRQIQAg8C5AHMAYsBhQFwAUoBOAEXAQ0B6wDaAJwAggB0AHwAbQBrADgAJwAFAAcA9v/p/+3/1P/P/7r/of98/33/aP9D/zL/If8p/xT/Dv/t/rr+lP6+/qf+p/6u/uf+8/74/uf+5v7m/vb+6/4o/0T/cv9V/3n/lv+o/7H/4f8XABUAKgBhAG0AqwCuANAA4gDvAP0AAQHyACUBJgExARYBFAEbAewA7wDTAKgAnABvADkADwD8/7//p/+T/3//Nv8h///+8v7S/tv+y/7E/sn+uf6q/rX+tv66/sz+9P4e///+P/9Q/2D/cP+i/9T/+P82AGgAewCqANsAGQEoAVQBdwGFAbAB4QHtAQACAAIXAjICSwJrAmACagJqAlwCPQISAhkC7gHgAcEBhwExAS8B5ACRAIIAWAAiAAkA1f+2/3//Sv8j/yD/Bf/O/rr+xf65/pb+iv6Y/pr+nP6O/pX+l/6V/q/+o/7B/sD+vP7N/g//Kv9V/3j/o/+2//X/DQAgAGwAXgCCALkA5QD6ABgBHQEzAUUBSAFgAXUBhgGWAawBngHIAeQB6AHAAcUBwAGzAacBewFqAWMBJgEkAegAzAClAHMATQAiAA8A/f/W/6j/t/+n/5n/ff+J/4H/jP+M/4P/ef+T/7T/mP+v/8D/zf/T/9T/yP/a/8n/1P/U/wIABAAXABMADgAzADoAZgB0AIgAogCbAKEAuwC+ALIArgDJANYA0gDYAN8AwADoAMYAzQDWAMkApwCMAIcAcwBPAEYAQAA9AFQATgAhADAAGgD8/wAA/f8LAPb/5f/f/8P/4P/c/9j/0v/c/+T/1P/X/7f/vv+5/6r/uf+k/6v/mv+F/5L/g/+O/4H/jP+G/7H/3P/W/+D/4v/Y//v/DwAgADQAQQBtAHMAiACwALwAwADDAPMA5wACAREBNgFVAXMBdgF4AYgBaQGNAY0BigF8AYUBXQFfATEBJAHeANgAtAC/AG4AWQBDAA4A+P/1/8D/pv+O/2D/S/9h/wr/+f7X/rP+mP6Z/oX+k/6N/pL+kf53/mP+Wf5O/kv+Lf5R/kz+Uv5Q/m7+eP6K/oL+1v77/gb/F/9H/13/ZP+E/73/yv/j//3/BgAjACwARgBKAHYAiACWAJIAqACZALoAqwDHAOQAzgDBAL8AtACOAJgArwChAG8AZgBcACcAGwBJAFUALQAiABkA/f/j/+f/7f8VAPv/KAAUAAoA4v/j/9T/3//f//P/yf/k/8//4//T//j/8v8IAPT/EAAiAPv/DgAOAOH/5f/k/9//3f/J/+L/1/+k/7T/nv+i/5//qP++/+D/4v/k/+z//P/5/xcAHwAJACYAEwAkAAwAFgAaAAkABgDk//j/7f/Z/7v/uP/P/7v/qP+V/4P/a/9Y/0n/Qv83/y3/Ff8X/wT/I/8Y/zT/L/80/zb/S/9k/1n/h/+a/6//zf/n//L/FwAaABsAJQA8ADsAZABoAGUAhQB0AJYAbABWAHQAhwCKAHUAcgBdADEAEwDu//3/5P/N/67/gv91/x//MP8C/+H+5f7I/sr+p/6k/q/+xf6w/of+of5+/pD+hf6L/sD+w/7X/vj+DP9N/z//bP+G/6j/vP/C/9j/EAAiAC4APQAzADAALgA6AEkAUgBmAGUAVQBnAF8AQwBMAF0AOQA/AC4AFQAuABMABQD8//7/w//H/9b/2//d/+T/4f/N/9b/3//l/+P/7//z////3P/p/9z/5f/c//P/0f/Z/6//r/+H/3j/Xf9X/1b/Mv8a/yD/Bf/5/s7+yP7T/r3+uP7K/sf+y/7U/uD+3v7i/tn+EP8e/z7/Vf93/5D/3P/h/+b/+/8BADcAXABgAGcAiAB2AJsAkQCsAKwArACHAHoAhQBiAEIAZgA1AP7/HwDX/9j/xf/D/63/zv/j/9b/zv/g/9L/zP/u/9f/yv+1/5v/qf+e/3n/c/9n/1f/Pf85/yH/Jf8K//n+C//j/uP+2f6e/rf+jv57/or+gv57/pT+ff6N/pL+x/6o/uT+Af8N/zj/VP+J/5r/l/+8/87/yf/b/87/8/8QAAUABwAaAB0APABGAEsAaABmAHEAewCGAIAAjgClAKgAfwBuAGsASQBMACUAAQD8//D/9v/o/8P/1P+u/9P/o/+e/5P/XP9h/1L/Ov8u/9/+6f7i/tn+6v7h/t7+7/7o/vX+BP8c/zD/Wf9g/3X/qv/B/8D/3P/b/xoAJABMAEYAWQBgAHQAowDLANEA0gDaAO0A/gDcAO4A9gDfAPEA5ADbAPQAxgDrANsAzwCiAJgAdgBbAEwAQAA8AA4A9v/y/9P/2v+3/7f/sv9+/2v/XP9P/2r/af9W/2H/ZP9+/4P/cP97/5X/kf+E/6f/u/+7//n/CQAZAEYAZgBuAL0AxwC6AOUA9AACAR8BMAFgAWkBgAGYAaEBtQGhAc8B1wGvAZYBhAFwAUcBRAEeARIB/QDlANwAwgCvAJEAjABpAEAANAARAPH/4v/a/8T/lP+a/3n/Yv85/0z/PP8w/xX/6v73/u7+4P7b/tH+1P7s/gT//f4U/0P/SP9P/2P/d/+R/5X/mP+w/8z/6/8DAD8AfQCeALkA3wD+AAIBFAEgATsBRQFEAVYBXwFnAV8BOgE9ATABEQEIAegAvgC5AKsAfgCIAIYAWABXAG4AQgBIADcANwASAAMA8f8HAOD/6v/r/9f/1v/N/8n/yf/A/8D/sf/C/6X/of+U/4n/lf+H/4b/Yv9a/0z/VP9K/zf/Pv89/yH/O/9D/1f/Zv95/3L/jv+5/7X/1v/9//n/SgBxAIMArgDKAO8A4wDqACEBSAFFAWwBfAGCAYwBrwHFAboBwQGtAbkBmgGYAYUBaQFqAU0BEwECAckAqwCYAGcAJAAcAPj/7P/b/6v/vv+0/6j/of+8/8T/pv+y/6L/zP+z/6r/tv+7/9T/1f/h/+D/2P/y/w4AEQA5AGMAUgB0AHIAlwCcAL0A3QDYAOMA3gALARIBHwEPAeoACgEjASMBUAFdAYABogGZAZ4BuwG8Ab8BxQHYAcYBugG1AbABpQGPAWgBTwFIASEBFAHjAMwArgCMAE0ALgAvABIAAQD6/+7/zP/Z/9P/wP+//57/sf+s/6P/uf+W/5z/k/+G/4L/jf+Q/4H/jv+I/3f/W/91/3//jP95/4z/m/+X/5D/sv/F/8n/vv/Z/9//AwAeACcAKgA7ADQAMwBEAFAAWQAyAEYAOwBfAFIAVQBWAE0ANQArAAsAHwDw/+H/2f+8/5r/bP9m/0b/Q/8q/zn/JP8T/yD/G/8f/zz/Pv9C/zX/SP9u/4//lP/H/97/DgAlAFQAZgCIAKYAxADrAOcABwH5AA0BKwEoAUwBQQFaAVEBTwFeAT8BOwFCARwBIAEXAScB/wDhANUAuwCTAHcASgA+AAEAx//L/6r/hP+A/1v/Pf8z/x//CP8C/9b+tP6i/p/+mv53/pj+hv6R/nT+ff5q/pD+iP5//on+e/52/nj+jP51/nD+aP5//nL+W/5m/lf+Tv4x/kT+P/5c/mf+iP6A/oX+qP61/tX+1/7t/vz+8P4Q/wf/If8o/zX/Rf9k/0z/Yv+F/4T/nP+5/87/yP/Z/+X/7/8XACAADQAxAEQANABUAGIAfAByAI4AlACZAJgAnACDAGsAagBUADcANwARAOv/4f+9/6//g/9u/z//Jv8V/wr/4v7g/sv+0/6n/pr+mf6G/pT+df57/of+aP50/nL+cf5c/mX+SP5N/lj+T/5V/nD+bf5s/pP+tf6v/uD+1P72/gb/Lf9j/3f/fv+f/7D/7P/c/+b/+P/k//n/AwAfACEALgA+ABUABgAMAO7/6f8DAOf/7f8NAB8AIgD+//D/KwAdAC0AJQAfAAYAAADx/9j/9P/Y/+r/3f/S/6j/v//D/4X/lf92/2P/bP9q/3X/Zv93/3T/Yf94/27/Uf+L/37/b/91/3n/dP9Q/2P/SP9O/2T/Q/9S/2D/Rf9A/1H/Lf82/x3/Jv82/2D/Qv9L/03/Wf9J/17/U/81/0n/NP9G/0b/Ov9K/07/N/9i/2X/l/+t/6L/xf/O/+n/9P8ZACcAPwA8AHUAeAB3AJEAsgDFAM4A9QAEAQsBCgH0AAEBHgELARgBGwEsAQ0BGgEhAQgBFgEeAQsBAwEAAQMB7QD8AOIA3wDiAOYA2AC2AKkAtQCKAHIAcgBGAC4AGQArAA4ABQAkAPz/9//z//3/8v8VAPP/5P/y/xYAJwAwADwAXwBMAFwAhQB/AI8AlwC0ALUA4QDmAOEA/gDaAOIA4gC0AMAAugCuAKwAXwBfAGcANwAIAPv/BwDg/8P/vv+J/4f/kf90/27/a/9y/1X/XP8//y3/A/8q/yL/9v4H/0z/Pv9e/1X/T/81/1j/Wf9S/5b/pv/L/+P/9/8KAC0AQQBfAGwAhQC6AMoA4gD+AB8BKwFpAXYBsgG6AdQB4AHkAfIB+wEAAuwBCAICAv4B5wHnAdYBqQGdAY4BVAFiAUwBOQEXAfoA9wDmAN8AzAC7AK8ArgB3AF4AYABDABwA9P/n/73/wP+Y/4H/av9K/zD/Ov8i/wn/+/4E//P+3v7Y/sb+y/6x/p3+rP69/tf+qP7M/s/+6v78/gj/Gv84/zT/S/9z/5H/sv+4/93/CgARAGQAlgCbALcA1gDfAOwAEgEVASUBKQE7AUYBLgFuAVgBWQGBAV4BgwGvAZ4BtwGoAYMBdAF4AU0BYQExAT0BFAEFASwBEgEpAQ8BCAHyAPwA9gDqAOgA5QDLANgA0QDWALIAngCeAIYAdAB3AIYAdgBwAGoAagBtAFoAXgCLAGYAbQBmAJMApwCsAMoA3AD4ABQBBAEJAQoB/QDoANwA7AD8ANwA6ADmANQA8QDyAPEA+QAEAfQA+gAHASIBFAETATcBLQEVASUBHgEbAQwB+QAHAQMB7AD2APIA/gDUAMkA3ADMAKYAnwCIAHkAYQBDADIAJQAJANf/yv+j/4b/Sf82/+3+5P69/qj+mP55/mL+R/5H/gr+CP76/Sv+If4d/i7+Mf47/nX+Wf5u/oj+mf6N/pz+ov6i/rv+s/64/qz+mP7C/r3+4v7n/tz+2f7u/gb/Av8A/yr/Qv9Q/2j/ZP+I/7L/xP/V/wgAAAA2ABsAMgAKAAoA4P8GAAQA8f/k/7f/t/+7/77/mv+5/8X/rv+b/7L/vv+y/7X/v/+w/8D/xP/j/97/+f8IAA8AJwAlAFAAUQBhAGoAbABzAJcAmQCYAKwAsQCrALYAzADYAMUAwwDKALsApACmAHMAfwBVAEwAPQAoAAcADwDW/8f/p/97/2r/T/8r/xz/F//E/s3+yP6b/pT+v/6X/q3+oP7B/rf+z/7P/t7+7P4M/wv/EP9A/zX/WP9Z/1z/e/+R/3T/gP9t/4H/iP9q/4j/nf+q/6z/vP/Q/wkA5f8XACQAGQA6AFMAUwBxAF0AeQCAAG0AdAB5AHIAfACAAIIAfgBmAF8AfABxAH8AXwB+AHYAawBkAEkASwBRABwAGgAjAP7/3f/w/+b/yP+x/7P/lv+c/5T/hP+g/5z/qf+t/8H/2//p/+D/9f/e/9D/rf+d/4//h/90/2j/R/84/x3/E/8R/yb/F/8h/yX/HP8S/xX/G/8n/03/Uv98/3j/fv+S/4X/j/+d/5L/kf+l/6v/gv+e/5//qP/T/+D/2//s//n/CQA4ADcAMABDAEMAJAA1AC8AQQA3ADQAMAAeAB0AJgAeAP///P/9//D/2v/V//D//P/d/+v/BgADAPf/5v/l/93/2P/P/8j/wP+5/+//9f/5/w0ACwAVACUAHAA9AFIASAA6AFQAYwBrAGEAhABwAG8AbACAAHsAsACvAKcAlQCyAKUApQCkAJkAigCoAHoAdgBqAGgAdAA6ABcADAD6/wUA//8KAOT/5f/L/7j/rP93/1v/WP9Q/0j/Ov8//yT/Lf8m/zf/Uf9G/2L/av9g/23/kv+e/4f/m/+k/8H/x//c//T/9/8HADoAUABoAI4AnACsAMUA4gDsADcBKgEwAUEBLwFLAWgBVAFfAWQBZQFRAUIBRwFQASoBEAESAQEB+gDrAN8AxwC9AKkAmACHAHYAgACHAHkAYgBBADoAJAAuABAA9//u/+n/1v/C/7L/s/+j/7n/uf+//7//m//l/9X/6//o//j/+////wEAHgAhADAAOgBbAFEAVAB3AKQAxgDHAO0A9ADsAP8A4gDRAMsAxgDBAKUAgACOAHAATAA/ADEAHgASAMv/x//K/8L/sv+n/6H/kv9r/3n/Rf9Q/zD/Sv80/yv/KP9B/xH/Mf8T/zX/Kv9R/z3/Xf96/1//fv97/1n/jf+Y/6D/yf/f/+b/GQA1AFMAcwBsAHUAoACLAJoAjwCYAJ4AoQCcAJYArgCaAKIAjAB0AHwAVwBRAEkAOABEADMAFAAxABMAGgAYABMADQD//wwAAwATAPz/BQDy/+//4//k/9n/7v/b/+7/0P/1/+D/5P/j/+H/zv/l//L/BQAeACUARABIAE8ATQBQAF0ASgBDAH4AWQBqAFYAZQB4AI4AiACaAHIAlACOAIoAogC/AKAAtgCsALsAsgDLAOgA4QD0AO4AzQC/ALMAuwDJALEAkgCeAKcAjwCNAIUAkgB6AIcAagBMAFQALAAhACYAFAAhADEACwASAAoA4v/y/+D/5f/d/+n/y//W/+j/7f8pAA4ABAA/AEgAQQBAAE0AWQBJAGQAYQBXAGQAWgBdAF8AVwBHADcAPgA/AB4AKwAfAAAAAQDq/9P/vv+3/6P/mv+A/2H/V/9M/3L/Zv9i/2P/dP9Z/3j/af+D/4v/n/+P/57/i/+M/4z/r/+f/7z/mf+d/7H/r/+f/6v/pP+s/6b/tP+0/6r/sf+g/8H/0v/D/7r/xf/c/7j/t//N/9X/w//L/8b/z//Z/83/xv/r/93/2P/c//r/5v/S/9v/y//C/7v/rP+r/6H/gv99/5z/dv+R/3z/l/+L/3L/eP9v/17/ev9V/2b/bv9G/1b/Z/9j/13/W/9n/1D/J/8y/yf/Hf8w/yT/Mf9W/1H/UP9p/1n/Zf9n/5H/gv+a/7H/yf/Q/+3/7f8GAPr/FgA6AEgAYwBpAHcAnACyAIwAnQC9AMQA1ADGANoA1ADYAM4A2ACxAMwApgDFAKsArgCSAJYAhwBsAEoAOwA3AAYAEgAcAPH/zv+4/6//tf97/0b/Tv9O/13/Lf9Q/zL/MP8e/yX/MP9K/07/Qf9t/13/Zv9o/1//jP+I/5b/kf+s/6b/w/+8/8T/wP/a/9r/9//D/8//zf/n/8D/0P+o/5n/of96/4j/jv98/3b/ZP9k/1H/V/9W/0f/c/9e/2H/Wf9T/2f/Z/9G/13/Zv9R/2n/g/+D/5j/kP92/7f/c/99/6b/if+p/6n/q/+1/6X/vv+0/7f/vP+z/7H/qv+Y/6j/n/+v/67/ov+V/3r/ff+B/4r/Wf98/2P/VP91/1T/dv9V/z3/af9L/2H/cv9r/3//fP+I/5X/jf+j/6v/xP/R/+P/AwAdABsAUwBWAG4AYQBoAGQAWwBdAE4AXQBYAFoAaAA1AFIALQA4ABsAFwD+/9P/tP+T/4P/gv9o/0P/Pf8Q//X++f4M/xb/A/8G/wj/9P4T/yv/Ov9g/3j/kf/A//P/+P8jACQAYwBgAIYAnQCfAKIAjgCNAKcAowC1ALIAuQDNAL0AzgDIAPAA3ADUAMgAkQCkAMUAwADDAL8AxgDIALUAmQCZAH8AcQBiADEAKAAZAA4A///8//H/8v/Z/9b/zP/F/7r/mf+Z/5r/l/+V/5n/oP+Y/4L/jf+D/7r/d//D/6X/tP/S/67/wf+5/7X/qf+h/6v/j/+c/5D/f/+L/4r/lf+H/43/i/+7/8P/tf/U/8v/1P/j/wgAJAA/AFoAiACdAMoAxwDgAOQAGAEPASABLQFIATABJgE1AVABRQE/AS0BNAFOATYBJQEyASIBCwHkAOkAygDBAL8ArwCjAJYAbQBqAGkAPAAqABEABAAKAPT/9//W/8//yf+r/4r/d/9+/1z/Uf9F/2b/ZP9o/3j/YP9L/37/Tf9n/33/i/93/4r/hv+X/5f/yf+l/7b/vv+4/7T/r//M/5//sv+I/3P/WP8u/1//Mv9T/0T/Jv9U/1//WP95/3T/cP+k/7L/1f/f/9//AwD0/+v/FQAiABcAMAAvACoAOQBHADUAPgA4AEkASgBFAEcAVABTAE8AaABgAIEAfAB9AIEAjgB2AHEAXABrAD0ATgBuAGkAawCYAIwAnACiAK0AnQC0AKMA7AC9AO0AyADUAOEA0QDVANEArgChAJcAgABkAF4ALwA/AC8AHwAKABsA+P/p//b/5f/i/9L/zv/E/7X/sv+f/7z/xv+//7j/0f+x/+H/7f/g/wUACgD4/wkAHwAoADUALQBAAEAAVgBZAE8AZQCFAGIAegClAHUAjQCmAKsApwDDAJUA0QDGALsArAC7ALgAkQCSAG0ASgBVAEIAKgATAPD/4f+4/5f/fP+G/17/WP9C/zP/J/8M/xP/D/8c/yT/D////iX/C/8t/0H/Qf9t/3z/i/+9/9n/AAALACEALwBeAHcAiACLAJsAvADGAL4A5ADLAOUA1gDdANwAywDRALgAjQCoAH0AhwB0AHoAegBnAEgARQBCAC4ANgAYAB0AJAD9/+T/9f/3//X/6//7/8T/+//4/8H/0//Q/73/sf/F/6f/tf+W/6D/vv/B/8n/zP/V/9X/1//X/9P/wf+6/83/vf+7/7//u/+5/7D/qP+i/63/nP+b/6T/oP+U/5X/m/+d/6D/l/+q/6n/iv+y/5X/d/92/1n/T/93/1n/ZP9P/2T/fv+A/3P/mf+f/6b/uf/R/83/3f/n/wQAFgASABYAGQAUADMASABLAEQAVABmAGgAdgCJAIMAjQCVAIMAmgCWAKEAnACGAJAAhABtAHgAhgBWAD4ARABNACAAOAASAAsABADq//z/7P/e/7j/tf+c/63/oP+a/4L/ev9N/3P/Vv9b/1L/TP8//0f/MP81/0n/SP81/1L/RP9J/13/Y/9t/1T/cP9t/3L/jP+A/5v/qP+v/63/p/+5/6v/yv/c/+H/5v/p//X/FAANAC4ALgAxADgARABKACMAMABIAGAARQA8AGMAaABFAHoAXgB8AH0AfwCHAK0ApQCrALsAkgDXAKoAuwC7ALcArwDFALkAqQCzAL4AoQDVAMYA1gC/ANMA3gC/AKsAnwCaAJAAjgB+AGEAYABQACsAEgAPAN7/xf+q/63/k/9L/1r/Sv9L/yf/JP8P/wz/A/8I/xH/8v4I/wP/Cv8O/yX/L/8v/0z/e/94/5v/n/+2/6b/tv+0/93/4P/k/9f/8v8zABsAJAAxAEYAMQAuAC8AQgA7ACYAOQAYAPr/AwD9/woA7v8BAOL/7f/w/8r/0P+9/77/i/+z/5v/p/+L/3X/ov+O/23/b/9I/2X/Qv9D/yT/Sv86/zb/JP9A/yb/N/8z/1D/Wv9g/23/aP9k/5n/jf+p/6b/yf/C/9L/+v8gABQABAAaAC4ALQBUAFQATABYAGQAXwBKAEIASwBVADMANgAoABwAOQAeACgAIAAWAPH/8v86AAgACwAXAB4AIABEAFEAVwBjAH8AlACDAKIAlgC9ALYAxgC7AN4AzwDIAAIBCQEWARQBCgEPARYBDwERAQEBEwEgAf8AEgEVARIBCAEKAfYAEQH5AAMBCgEYASsBKwExARwBKwE9ATMBRgE1ATEBBAEJAekAvgDQAI4AXACAAEQACQDl/+T/u/9x/3z/Yv9M/1T/Xv9B/zn/Mv83/zv/NP8w/0j/O/9P/0f/XP96/5P/nP+u/7D/wP/Z/9v/AgD7/wEAIABHADIAPgBgAGMAegBhAIoAaQCVAIsAhQCuAKYArgCsAMcAyADiANkA2wDGAMIA1QCyAKwAqQCpAKwAqQCUAJ4AigCCAIMAUQBKAEkAQwA/ABcABwD2/+P/3f/U/9r/y//h/8v/2//N/+f/CgD8/xcAEQAtAC8AHwAZADYAKQA2ADsAQwAqAEQAPQAbAA0ADAAZAOr/0v/Q/7T/rP+b/5D/gv9y/3z/b/9U/1L/Wf9p/0//UP9T/2z/cP+f/7L/pP/e/+T/7/8gADEAOQAlAFkAWwBmAGIAWwBkAEIANQAwACsAIQAjABQAHgDx/+3/HgAZAAkAIwDn/9P/2f/R/9j/4f/b/8v/7f/l/+z/BgAMABkAGQAqADgARgA8AEkAPwBfAG4AUgBtAHkAfABcAEQALgAvACsAIQAdAPH/3P/g/9X/xP+e/6D/jv9o/37/dP9o/23/iP+X/5//m/+j/8f/3//w/wQAFwABAAkAGAA5ABUADgBIADYAUwBVADgAMwBHAE0AXgBCADoAUgBeAEwAOgA6AFkAPAAuACoAEgAsABEAFwAqACYALAArAB8A//8RAPz/CAAYAAQADgD4/wsAEQADAAEABQAiAPT/EAD5//T/9//a/+L/zP/b/97/6P/o/+b///8GAN//8P8FAO3/AADU/9n/7//l/+n/4P/b/9b/u//U/9L/0v/c/7//qv+U/5v/t/+a/6j/pP+5/6n/i/+W/5T/l/+z/6b/vf+Y/8b/0//d/+3/3f/t/wkA6f8iAB8ACwAVABUACQAPAAYAEwAJAPv/+P////f/6v/9/97/4v/R/77/yv/C/77/zP+4/8f/uf+P/5z/e/+H/3P/Zv9m/2H/dv9f/2n/Yv9D/zX/Wf9T/0b/Pf9Q/y3/Lf8f/z3/B/8g/xv/Bf8a/wP/A/8z/yn/N/8//zf/Rv9D/0b/X/9n/3n/ev+n/4b/mv+m/5r/gv+B/47/rf+F/3b/fP+e/3v/dv+f/4P/fv90/3D/if+I/27/gf9z/4n/kf+G/4T/uP/L/9r/vv/K/8z/6/+3/9H/5//O/7H/uP+6/77/s//D/7D/qv+5/4//m/+g/4j/g/9//3H/ef9v/2X/Xf9f/2b/Y/9Z/0n/PP9Z/07/Xf9t/2n/cf+D/4P/iv9t/3b/fv91/27/X/9j/1v/b/9d/3X/av91/3X/bf93/5X/iv99/6X/mf+W/3v/ov+D/4H/cP+B/3v/Xf88/zr/Hv8N/wD/AP/4/uX+xv7d/uD+vf7Q/t7+7v7f/uH+zf6w/tz+yv7b/uP+4v7g/gH/8/4H/w3/E/8p/x//NP9m/3v/fv+3/8X/uf/I/9D/1/8OAPn/FQAdACwAPAApADkAKwBfACcAKQAYACoALQAcACUAKwAAABUAAgASAAYACAAcACMAOQAXACsABQAEAP3/2//9/9z/4P/j/+n/yf/B/8T/vP+f/8j/qP+l/7n/r/+Z/4L/p/+u/6z/nv+m/53/pv+y/8b/vf/L/8L/1f/i//P/8v8lABwAOwApAEMATwBgAH4AqgCbAJ8AygC9ANMAzQDhAOwA8wDcAOIA9QDjABcBEAH9AAkB1ADeAOUA2ADbAOQA1wDTAMMAswCMAI8AXABPACwAIwAKABIABAAcABQALQAwAFkATgBLACcAPgBLADQAXABTAGUARwBKAEwASQBOAFUASgAkADAANgAtAE4ARwBGAHcAdwCGAJ4AtADhAO8A7QAzAVMBQwFiAXgBfgGpAaIByAHYAfwB9wH3ASACBAL6ARQC+AHsAfEB8AHeAdMBtAGsAbcBqwF0AXkBOwFHATABGQH0AOkAxgC/ALsAtwCCAIAAZABsAEsAMQBKAFsAAQAKAAUA2P/X/6b/sv+L/2r/Uf9L/yT/Fv/q/vj+xf7B/uH+zP6//rX+p/68/rb+lv6d/pj+mP6t/s/+x/7Y/un+7/4J/xf/LP9b/2z/jv+6//f/CAAmAHUAtAC1AL8ADAEwAUIBSgGMAZQBjgG2AaIBogGqAZwBogGjAYABlQF5AXQBTgFeARkBGwEWARgB7ADRALMAjgCGAFEAUQAjABwA/v/S/6L/nf+V/2D/b/9l/1r/Uf9k/0D/bv90/3n/gP+A/6L/qf+i/77/sP/O/8D/3//3/+r/9f8dAOr/EgAgAA4AGgAyADEAMAAkAEMARABkAHkAfQB5AHcAuADQANMA1ADKAL4AtgDCALMApAC7AKwAoACbAIEAbgBtAFEAMgAuAEYAGAACAP3/7//T/wEA5v/c/9D/wP/c/+n/2P/F/wsABgAPABYAFQAnADgAUwBIAFwAbAB2AGsAawB5AG8AewB/AIsAbgCHAJsAoACDALQAtwDMANMA2ADWAOUA2QDoALwA1QCiAMwAvgC2AMIArQC3ALgAswCpALIApwCWAIsAXQB6ADEAMgAzABcAFQDz/9//0/+U/37/e/9W/0//G/8L//L+Af/N/rb+yf6w/rn+mf6f/pX+jv6U/of+af53/pb+ov69/sz+9v4L/yH/M/9//3z/d/+j/7//4f/X/xMABQAUABAAEAAcAPT/9P/O/6r/rv+U/5P/Y/9D/07/V/9A/zD/L/9U/1P/WP9n/4v/df+E/6T/wv/D/+T/2v/k/8z/CwAGABgA+P/k/xkAEgA0ABMAJQATABgATgBEABwAFwAMAB4ABgD3//r/yf/B/7v/x/+7/73/pP+e/6n/qP/E/47/pP+a/5j/s//F/8f/wP/+//L/CgD8//z/6v/b/9T/vP/T/8//zP/c/9P/x//i/8b/2//f/87/6//T//L/6f8PAPP/FQAIACIA/f8xADgAXwAJAD4AJQAPACAADAASAO///v/1/93/7f+7/77/zf+x/7T/rf+b/5v/mv+I/3f/kv92/4r/zf/W/97/9P8eABQAMgA6AFMAXwB/AHAAYwByAHgAfQCAAJcAhQB1AIEAXgBwAFEAQQAlACsAHgARAN7/5P/b/+f/yf+//9T/sf+x/97/rP/d/9v/4//r/9z/4//d/8//yv/Z/8b/yv+1/7f/mP+7/5T/kv+y/7n/vP+r/8D/5//v/+//BAAJAAgAJwBEAEAAWwCVAIcAlgCNAKgAyAC6ALMAwwC/AMUA/ADsAAQBAQH7AB4BBgEHAQYBOQETASgBEwEgAQwBBQH1AAcB5QDuAOEAsgCtAJ4AqgBuAFkAQgBMABIABgD4/9b/0v/C/9L/t/+y/5z/kf+l/6f/fv+Y/3n/h/+R/5//pv+a/6T/jP+m/63/tP/M/5z/pf+Q/3L/Sv9a/1n/P/82/0D/Pv81/1b/UP9g/1H/bP9U/13/Xf9m/0X/Zv9x/03/Yf9l/0X/Vv9f/1X/c/9u/2r/f/9d/23/Xf9d/2P/Zf9x/4b/gf+J/2j/gv9w/4j/lP+D/5v/sP+a/67/uP/W/7L/xf/Z/8//3v/a/+z/2f+6/8P/uP+1/9r/sv+n/77/2f/U/9T/6P/x/+3/5v/+/wYAHAAgABYAEwADAA8AIQAwAEgAPQBNAFUAXwBYAGoAUQBoAHIAlAB7AIQAbwCGAIIAZABSAFUAVwBPAEQALgAqACAAAQD///f/BwD0//P/+f/7//v/BAD4//j/AQAKABAAEQAuADcAPgBBAGUAcwCnAJ8AxgC9ANYA+gAMAQYBGwEyAUEBPgFfAVUBYwF7AYoBlQGnAacBxQG+AcYBtwHQAbgBswGwAbEBnQGHAYcBiQF/AU0BUQEdAeIA1ADPAJ4AgwBlADgAQAATAPf/5P+0/6D/kv9r/0X/DP/4/rr+rP6i/o7+df5l/lz+Yv5f/mD+TP48/lP+df5//o3+lP6e/qH+o/6o/u/+3/7+/v7+Fv8M/0n/YP94/5H/wf/Q/+v/GAAoAD0AUQBrAIAAjgC/AMEA2wDzABIB+AD2AP0AAAH9APMAHgErAfwABgHuAN4AzQDbALIAmQCsAJgAiwCSAGUAUwBEABQAIADz/wIArf+Q/6n/jf9L/2H/Vf8//yz/Cf8Z/w3/A/8A//H+Iv8V/yT/Hf8j/yz/Tf9q/1//e/+A/5z/r//F/+n/2f/j//L/EAAHACwAIAA6ACsAWwA8ADwANQBSAD0AHgA6ABwAJwAxACkAFAAdAA8AEgAeAAUA8P/d//H/DADs/+X/5f8LABQAPQBEAE0AVAByAIcAfgBmAIoAjQCRAHwAjwCkAKUA0QDRALwA2gC+AM8AqwDPALQAywCuAJ4AogCgAJYAnACTAHsAWgB5AG4AcwBMAHAAZAB0AHQAdQBbAGYAQQBXAD8ASgA/AEsAOgBBAFAAUwBnAGYAbgBjAGIAZABfAFEATABLADMAKgAuACAAGAALAAUA/v/e/9b/pP+7/6P/bf9m/1f/QP81/yX/If8V/wz/Av8D/wj/Av8O/yT/Mv82/2v/df+s/7f/xv/h/+7/5P8RABQAIgD+/yIANgAvAEkAVgBkAGoAgwB0AKMAhQCQAHkAvgCpALEArgCyAKYAsQDGAK8AqQCrAJsAagCpAHoAZgBVAE8AQAAIAAUA7//U/7T/rP9+/23/bf9w/1n/V/9I/z7/PP8x/1H/PP9Z/1D/Qf9c/1v/UP9t/4T/h/+O/7j/zv/y/wUABAARACQAUgBVAFIAbgB+ALgAyADOAOwA9gDzAPkALQE3ATkBRQFrAW4BcwGOAbcB2QG8AdgBvwHJAb4BvAHDAcQBrQHFAXoBcQFOAS4BEgHwAMsAqwCcAI4AaQA/ADUALwAXAAkA8v/k/8v/yf+l/5r/gv9n/1v/SP8h/xH/K/9D/zL/I/8F/xn/Lv81/z7/Wv9x/3b/jf+y/87/2v8CAPz//f/4/wYACgAIAOv/9v/Z/8f/0P/L/9L/sv+x/5T/k/+H/3T/gP9j/0//R/86/1v/O/9D/zX/Pf88/zT/Of8j/zn/Kv8r/yz/Sv9T/2P/av99/4L/of+2/+f/4v8WABIABAAhADAAJQAcAAUABwD+/xsAAwAXAAgAAQD8/wAA5v/U/9T/zP/N/6//uv+9/6j/vP/U/7n/w//M/8X/yf+8/8P/1v/F/8P/zv+u/7f/rv+R/4D/VP9W/yD/Ff8J//b+vv64/rj+mv5k/mH+QP47/h7+F/4N/vj90v21/ar9pf2C/XH9a/11/XP9jP1h/W79bv15/ZP9o/2Z/aL9zv37/Qv+JP50/on+qP7P/hj/N/9S/5n/v//l/xcALwBjAIIApQC5AO0A4gDyAPgAFAEDAQUBDQH+APQA7wDsANwAxQDKAK8AqQB+AH0AUwBJAAYA6f+z/4P/Uv9D/xD/3v6z/o3+j/5H/kb+OP5V/lr+cv57/pz+ov7T/g7/Bf8m/z7/Zv9f/5H/uP/Y/+7/FQA3ADQAPgBrAHAAiACzAKUAxgDaAPUA9wAOAQUBGwEmASkBEgEVARsBBgEDAf4A6wDiANYAwwC6ALcAvQCjAKQAkwCAAJIAaQBmAEsAWgBMACcALgAiAAwA4//t/9//2f+8/6T/qf+d/63/l/+S/6H/h/+m/5L/kv+n/67/tP+0/7v/1P/p////GQAOACMALgAwAD0AVABhAGgAcABiAGwAhwCgAJ0AogCHAJMAogCtAKkAuAC7ALAAsQChAJ8AmAB4AHMAcABSAEkANgA2ACcAJAAYAPH////n/+D/4f/Z/9f/6P/O/9//3f/x/+//zf/c/9f/x//A/+7/+P/9/xoAJgAyAD4AKQAKACoAOgAuAC0ANQA3ADYARwBBAEUAYQBZAFoAcACDAJMAjgCnAJEAjACNAH4AggB4AIYAoQB7AJYAmgCfAKAAjACKAJMAegCKAHwAZgBXAE0AXABQAEwATwBmAFQAWQBKAEMASgA3ADsANAAjACgAJwAJACgAGgAnAD0ASABiAFIASgBLAGIAVgBeAEwAVABRAGYAVQBUAF4AaAB8AHIAiQCQAJUAewCDAKMAsQCuAKEAugC8AMYA0ADSANsA7AAEAfQA9wDpAPsAEAH+AAYB5QAdAR0BHgEWAQsBMwEgAQkBHwETAfkA8QD1ANsA0gCmAKEAjABdAFcAMgA1AAYA/v/p/+v/sv+s/8T/uv+j/77/r//D/87/pP+V/7L/rf+b/4//k/+L/4f/kP+j/7r/x//X/w8ALgBLAJgAvgDAAOcAFAEkAVwBewGNAbUB5AHlAe0B+gE6AioCPwJQAmECXQJeAlgCXgJGAjICNwIPAvsBpgGtAYkBXQEkAdQArgB8AFEAGADW/5//VP86/w7/4P7C/of+d/46/gb+2v3Q/cb9kv2F/X79af1Y/Wn9VP12/ZD9jf2a/a/92f3i/RX+Nv5V/m/+k/6t/rL+z/4O/wz/UP9p/1b/lP/D/9f/9P8LAC0AQABmAIMAmwCzAMUA2wDoAAUB4wD4APwAFQHoAPQACQEkAQwBBAHyAOAA4ADPAMEA2ADMAN4A1wDBALoAngCeAJoAkAB9AIwAZwBMADQAQAAXAAMA+f/r/9//wv/M/6n/sv+c/5v/kf+W/5L/i/94/4T/g/94/4H/u/+2/67/1P/d/8H/5f/r/9f/s/+1/53/uv+o/3T/kP+T/5X/jP+Q/4v/pP+n/77/o/+k/5//sv+V/4L/bv+m/3b/cP9u/3P/hv9x/2H/dP94/2L/W/9b/2H/bv+H/3T/iv+E/3L/mv+q/63/tf++/+f/9//V/+//8v8EABEAJQAxAFcAYwB1AHgAlQCoAJYArgDAAJcAtQCqAHsAdgB2AEEARgA2AAgABADu/9D/v/+j/5T/gf+G/3z/dP9q/1f/af9o/1z/Zv9z/1n/U/9T/1v/eP+C/2j/b/95/4H/gv+V/7L/sv+U/5v/of/L/43/qP+p/5D/nv+j/5n/fv+L/4f/gf+I/4j/jP+V/33/qv+n/77/qv+3/7j/zP/x//z/NwAmADIAPgBMAGoAfwCLAI8AqAC9ALUAxQDPAMkApgCtAKMAjABjAJMAbwBHAGwAQgBIAPz/4//m/+3/zv++/57/eP9a/0f/If/t/sf+w/6O/mz+Vv44/gr+Gv4w/gH+Ef4V/gX+IP4F/hP+N/4X/hX+Qf5c/mj+cv59/oj+sf7I/uL+4/4E/xn/Iv9P/2//ZP+U/6r/4v/i/+P/AAAKACsAKQBKAFMASgB5AG8AcgByAIQAmgCbAJ4AlACPAJEAeAB0AIEAjgBuAG4AZABoAGkAdwBbAG4AaQBjAH8AcgB3AFsAbAA/ADcALwAWABgA6v/n/+L/xv+//4f/l/+A/5D/nf+f/43/m/+q/7H/2//Y/wsAAwAoAGMAewCXAJQAzADWAO4A9wD0APkAEwEHAQcB+AD9ANcA3QDeAMsApQCTAHsAdwBoAFQAHgDy/wEA1f++/8j/kv+I/1n/fv9s/0r/Of8K/w3/8P7M/tP+xf6f/oz+oP6t/rT+v/7D/s7+FP8b/y//aP9//4n/vf/p//X/JgA9AE4AUQCGAKUAsgDMAM4A1wDvAO4A+gAQASEBBQEhAUQBOAEwAU8BUAFtAW0BXwFUATwBKwFEAQoBEgHoAPoAwADCAK8ArgCHAG4AZABpAFAARwAbAC0AMAAsAB4AHAAJABwA/f/y/+L/2f+//9f/xv+w/8X/xP+3/9P/yP/D/9r/6P/n/9z/2P/n/+z/EAALAA8ABAAoADEAMgAuADcALQBLADUALgA8AEEASgBaAEcAdgB6AJkAqQCdAMQAvgDTAOwA+gD9APQA8QAFAeUA+QAbAQkB/gDPAPgA4wDGALUA0AC0AJgAtgC5AIoAcABhAGMARgA0ACsAIAD8/wUA1f+9/7j/lf+H/5r/ff94/1H/bv9T/zX/Jv8e/yL/BP8r/xj/Gf8I//D+Mv8n/0z/L/9l/2b/dv+E/8v/xv/S/9X/AgAFAPT/BgAmAEIAQgBsAG0AeACJAJMAsQDOANUA8AD3AAIBBAEhAREBGgESARoBEAElAQcBFAEMAecA6gC/ANgAyACxALMArgB4AHEAbQBUAFMAXgA/ACoAKQAoABIAGAAPAPn/1//c/93/x//P/9P/zP+v/8X/u/+y/7X/ov+l/6T/sP+g/5T/wv+q/6v/ov+c/73/nP/F/5b/mP+v/6X/pP+q/5H/jP91/2v/Wv83/x3/Gf8Y/xr/G/8W//T+Kf/5/g7/G/8o/zT/Jv88/xz/Kv9J/1f/Zv+B/5b/mP++/9b/3/8SACkATQBYAGcAfAB6AKYAwADEAO0A/gAFAQkBHQE2AR0BOgE3ARoBOAEyAVUBLgFUAXsBWAFjAXsBcQF+AVkBUwFtAVIBTAE2AUQBNAEwARMB+QD3AN0AvACkAJEAeQBOAFcAPwBJAB4ABQD3//L/6//C/8f/qf+e/4X/fP+C/4j/ZP9u/1j/TP9I/zj/Yf9H/z7/Vf9N/1n/XP8e/0P/cP+O/5T/pv/t/x4ANQBjAJUA0gDeABoBFwElAUEBKwFpAXABfAFsAVcBTwEzATYBRgEdASEBBAEKAcIAuwCaAJIAeABQAEYAGwDu/6f/mf+C/3f/Qf89/yH/G/8P/+v+4f7t/vn++P4Q/+L++/7d/v3+9/7i/hf/Af8L/xP/Rv8w/1v/YP91/5X/uP/Y/+f/+v8QAEQASwBXAGIAkAC7AMoA2QDRANkAygDpAN4A8gDeAOAAswCyALgAjAB3AGwAbQBNAEkAGgAUABQA+P8QAOD/AQDY/5v/sv+e/4P/kf9m/3v/ZP85/xf/MP8c/xn/9P4f/wL///78/gX/Av/9/ub+3P71/ub+6v7j/vX+Dv/t/gz/IP8F/yH/SP9Y/zn/lP+d/5T/qP+i/8f/uP/T/9X/w//H/8v/7v/T/+//+P/q/+L/8P8VAAEADgAfABAAGgAUABQAFAAhABgAFgAjABAAHwAXAAMADQAjABcAEAD7/8r/uv+4/5j/hv96/3P/ZP9Y/z7/Pv8k/yD/+P4r/wH/7P7J/sD+vv64/qj+tf7E/rL+1/7M/vH++/7//h//Vf9N/1v/fv97/7H/r//Z/8T/2f/w/wUAFQAPABMAGgAqAAYAHQAjAAoAJgAZADoANABJADgAOABeAF0AMAA0ADEAKQALADcANAAKABEACADl/93/vv+//3H/bv9d/07/Pf8c/xf/A/8H/wf/Jv8m/zD/ev9b/3j/d/+M/6P/y/+0/9b/2/8MABoAIwBMAGIAfwDBANQA4wD4AAoBCAE+AVgBcAGNAcMBxAHGAccB3QHlAdEB1QHoAcwBrAGaAXgBigFfATYBPwE3AQ4B2QD0AMEAqQCOAFMAPQAPAML/vf+K/2//TP8P/wX/z/7G/sP+w/6i/tj+xf60/sf+yP7Q/uv+A/8M/xr/Jv9Q/zL/T/89/0//eP99/5X/tf/D/+P/7P8TACkAPwBFAHEAdACpAJ0AoACmAL8AwwCzALoAvAC4ANIAwACwAJIAlgBvAGkAWAAtAC8A7f+u/6X/if9c/0j/J//9/vT+wf6r/or+Xv5K/lf+QP4f/vv9+f3b/c39tP2m/bL9sf2h/aT9u/2X/bn99v3b/fn9F/4k/hf+SP6N/of+vv79/g//Ov9X/5b/of8BABUARgBsAJQAjADBALsA0ADtABABBwEJASgBDwEqASEBMgE0ASkBIwEeASYBIQHvAAMB0AChAIYAfQBrADoA+//i/8X/jf9u/1L/N/8W//7+Bv8R//H+DP/u/gD/H/8e/yj/Qv9S/0j/Y/9d/1j/gf+M/3j/lv+O/6X/wP/I/93/5f8PACsAKgBVAF0AjwCWAKgAwwDYAAUBLQExAVEBYQFiAVwBhQFeAZkBsQG+AbwBsgHdAdcBxQGyAaoBsAGsAYABiAGLAVoBFwE0ASEB4QDYAL0AqgB0AGgAVQAzACwAFgDz/9X/vv+p/47/ff9+/3v/cP9n/1H/LP8n/yP/H/8M/xX/Cv8V/zP/Kf81/13/e/9y/5j/pv/Z/+//FwAaAEMAbACEAIgAmACyANMA5QAgARsBaAFVAVQBfwF4AXYBowGqAYoBnAGAAYkBeQF3AVcBYgERAf4AzACbAIoANgAfAPH/uP+O/2r/OP8J/9v+wv6K/mz+QP4z/uP91/2//aj9rf2+/Zb9p/3A/b79yv3o/fz9Gv4v/lj+df6O/r7+5f4J/yX/Zf99/5z/v//o/xEAQABXAG4AkQCmALsA0wD6AAoBCwFHAVMBWwGJAWkBSwFnAVMBSAFLAT0BKQEGAfsA5ADUAMkAwwCdAHoAfgBjAFYAMgAYAAYA2f/P/7L/iP90/2P/YP9B/yv/Ff8W/wP/3/7Z/u7+C/8B/xz/Dv9I/2L/dv+O/7//xf/i//H/8/87ACkAaQBdAIwAjgCIALAAygDFAOUA5AALARcB/wAdARwBIgEaARwBOQEqAUEBMQFOATMBHwE6AR8BDQECAdoA7ADBAK0AqwBvAGAAQgAsAB8AIAAMAP//9v/T/9T/xf/X/6z/p/+w/6P/lP+z/6//0f/F/9j/3v/Q/8P/5v/m/97/5/8CAPb///8IAPv/5v/o/9L/3v/P/8n/2v/K/6H/uf+x/57/hf9q/37/Zv9f/2v/hf+B/4b/f/+K/5//qP+q/6L/wP+4/7H/qf+v/67/uf/D/9j/4//s/+//9v8fABIAFgAvAB8AHgAUACkAQwAwAEgASQBDAFgAWgBgAGEARwA4AF0AUwA8AD8AOwAqAB8A9v8WAAkAFAAgABQAQABAAEoAYgBbAHsAjQB0AJsAeAB3AI4AgwCOAJQAjQCyAMcAxwC/AN0A8wDGANsA7gDcAO0A3QDQAM8A0ADOAKsArgB0AGgASABTABoAIgDu/+X/u/+f/5T/e/9V/1r/NP8f//X+5f6+/sH+nf6I/nP+UP5B/jD+Pf4j/jr+N/4//nv+Y/5z/pj+f/6x/tr+vf7h/vz+6f4G/xP/Mv87/0b/a/+s/8b/yf/Q//7/2P8LABMAJAA8AFkAVQBlAF4AewB8AK4AmgCrAJ8ArACRALgAoAC3AIgAmgCpAHsAiABsAGoAeABjAD4AWQAwAC8AHgAlACIAJAANAAUACAD2//P/+f/u//r/z//J/7n/nf+e/5//l/+A/13/V/9L/1z/Xf9j/3j/av9s/23/iv+W/6f/vf+s/+v/2f/w/w0A3P/w//f/z//o//T/1f/r/8n/yP/A/4//jf+A/6L/e/+F/3b/XP9q/07/M/9D//P+9P7s/sP+kf6U/l7+Qv4w/h/+Dv77/e/98f33/Qz++f3w/Qr+F/4n/gv+K/46/mL+Sf6o/rX+z/73/i3/ZP97/67/q/8SAC8APQBSAI8AuADJAN0A+wAPAREBHAE0AUgBQAFKATYBLAH8AOwA7wCwAIsAgwBdADEAEAAQAPH/8P/3/+D/1v/s/9T/5P/q/7r/3P/J/7v/5v/g/+//4//3//7/GQAeACoALQBBADIAYABbAFcAaQBkAG4AXAB5AFoAbABSAGEAPQAkABYAJADb/+L/pP/P/53/nv97/6T/b/94/5//cf+Q/5f/mf/Q/8L/6f8RAAcAFwAAADgAMwBMAFcAXwBwAI4AlABxAKIAoQCoAKwA2wDuAAAB/AD/APwACAEWAfoA6gABAeAA4gDYAOIAqAC4AKUAkwB+AF4AUQBIACgAFgAUAAAA7v/Y/7//z//d/9j/yv/Y/9P/8/8YABEAHQAtAFMAXQBXAJAAqgDXAPUACgE1ASsBOQFEAU4BWAFWAXEBbQFuAV8BbQFcAWcBWAFHATMBEQEzAQ8BAAHyAOAA0QDDAMEAqAB8AHUAbABIADYAGgD1/9X/vP/G/7b/sf+5/5X/mP+U/5H/l/93/2z/af92/3H/Y/9j/2n/UP9I/zr/bP9p/2j/kP+S/5T/w//R/+z/+/8JAAYA/v8cACoATwBaAH4AcwCIAIkAogCrAKsA3gDoABgBCQESATkBRwFcAWkBTwFfAUkBPwErAR4BEQEPAQYB6ADRAM4AlwCKAHEAcwAvAAYA5P/I/4r/Yv89/zr/+v7V/rb+of51/nD+WP5P/in+Kf4c/hX+P/4Z/kH+cf5w/pH+tP4A/wn/P/93/4L/nf/q/wMADQAtAGUAcwCFALkA1gDXAPsA9QAfARoBUAFHAVgBXwFQAUEBTwFPAS0BPgEsATsBEgH1AOgAzADDALMAvwCuAI8AnQBtAHEAfQBtAGcAWABiADkAHAA+AEkALAAyAEoATgA0AFoAYwBsAH0AjACDAIwAmgCEAGsAdACDAHsAlwBjAGkAmQCMAJIAhwCMAIMAdgCMAHkAbQBdAGgAhQBlAFcAdwBXAFMASQAsAFgALgAlADQAMgAqAFIAHQA0ADkAQwA1AEQAPwBtAGQAewB7AIUAfwCAAKQAnACfAK4AyQCkAJEAhQBoAFQAawA/AB4AGQDT/8z/rv/A/5f/bf9y/2n/W/9n/yH/F/8P/xT/Ef8S/xb/J/8k/z7/Xf93/5L/vP/b/+7/8v/z/xkAEQArAFIAYAB3AHUAmACbAKkAiACZAK8AqwCZAJoAtgCGAH0AcgB8AHMAgABxAGIAPwApACgADwAAAOL/6//H/9D/uf+s/5X/jP+J/2H/af9d/2b/W/8x/zj/Tv83/zX/Pv8+/1r/R/9C/0r/Wf9J/z7/V/9J/07/Zf9M/3L/lf91/4X/jP+g/5P/nf/a/83/2//3/wAAIgD7/xUACgAGAPj/5v/q/9n/uP++/7H/vv+e/4f/hv+L/6T/af9s/23/Tf9i/1D/Lf8j/w//A//2/uX+zP7D/rD+nv6R/oP+if6J/pH+p/6//rz+t/7M/tf+y/7//gj/Cf8v/2D/Zv9H/3P/df+P/5r/sv/a/+j/7/8iACMAQgBqAJkArACqAL4AvgC/AMQA2QDtAAAB9AD7APgA1ADHAMYAowCSAHgAZwBFABMACgD1/9n/tv+d/5b/m/9N/2j/Qv8g//v+4f7I/tH+1/7g/uD+wv7x/gL/DP8//1D/U/+K/4//uf/H/+X/AwAMAEUAggCOALkAwADkAP4AFgFFAVABUAFPAWABfAGBAYABTwFNAUQBKwEBAQkB0QCtAKkAkQB0ADQA7//w//T/0v+3/3D/gf9e/yb/Gf/p/sj+v/62/qH+fv5Y/lv+Q/4z/g/+Fv4a/hf+JP4X/ib+Hf41/kj+Rf49/k3+ef6c/pf+zf7b/u/+Ff9B/1v/df+G/8L/5f8LAB4AUgCJAMEAxQDtAAEBJgFHATgBXAFgAWYBgwFSATgBNwEkAT8BDAEIAeQAyADWALsAnACpAG4AeABPADgAHAAKAPP/xP+v/2f/Vf89/yv/+f78/sH+pP6Q/oT+bf5V/kH+O/5S/jX+Nf47/j3+Pv5L/kz+av50/n3+oP69/un+9P40/0X/ZP+j/8r/5v8LAA8AUgB2AIQAvgDUAOoAIwEzAVIBMwFdAagBfgGaAb8BzAHQAeMB5AHjAdkBxAHRAckBrgF5AYYBdgFGAQcB9ADqALsApQBwAEoAGQD9//H/yv/E/5H/hf9b/1D/L/8Y/wr/BP/4/hX/Gv8w/y3/F/8p/zr/W/+A/4n/kP+V/8L/sf/H/9b/3f/+/wEANABBAEMASwB1AH8AigCGAKkAwQCcAKQAwADUAM8AyACpANAA5wDkANEA2QDsAMQAuQCSALkAegCVAJYAjAB7AGcANABGADgAMQBBABQADQD7//D/+//q/+7/0P/Y/9P/tP+j/7H/qv+N/4r/hv98/3r/jP+G/37/i/97/5L/qf+3//n/7v/4/xEAJwBaAFUAewCLALAAuQDTAMcAAwEZATUBWgFXAT0BSQFIAWMBVgFlAVUBZgFuAVkBewFYAS4BMgE1AU4BUgFlAV0BJwEaARcBCAHdAPkA5ADHAKQAXQBNADcAIgAPAO7/1//q/9v/zv/D/8f/if+Y/6f/ff95/1j/dP9W/0r/af9W/1v/bP+Z/3z/x/+5/9T/6P/3/wwAPgAsACcAWgCWAKEA4QDZAO4A5AD/APQAHAH8APgA8gD9AMsAyACfAKAAnACWAGYAVwBGACUAJAABAAAA2v8CAAgA9v/0/6v/oP+Y/4r/hf+T/4j/ev+D/1L/VP9q/zv/cP9//2P/VP+L/+7/TQBvAFYAaQBLAFoARQBEAEMANwBKADgAQwD6/+f/uP97/5P/kv+q/+v/DwAjACgAPAB5AKwA2wD3AB4BMAE5AWIBVgFrAVgBBQHTAOwA8QDlAMwArQBwAEEA7P/l/xAA7//G/63/hP+r/9b/yP+g/6L/qP++/8r/0P/Y/8D/sf93/0n/S/8l/xv/DP8P//H+5v7E/sv+3/7n/vn+//4a/zz/qP/4//b/AABJAHUAkQDHAOoAJAEnAUIBHAECAeoAAQGdAMkAuwCmAKgAbwB1AFMAPwAvAEsAOwBKAC4AEQAeAAIAFQACABYAJQA+ABAACwDb/8z/lf9k/zX/P//y/u3+4P70/q7+vf6C/p3+hf6o/r7+gP6r/nX+kv7M/sD+sf6O/t3+qP7I/p/+p/5w/n/+QP4e/vv9A/7y/f796v3m/cD9rv24/f79QP51/l3+kv5p/qL+8v5B/5r/wP/G/zMAbgC6AGABMwF4Aa4B8gFiAs0CMwOfA9YDuAOaA44DwwOWA4wDGAOwAnsCPwIOApIB7wCLAOv/Uf/I/qf+Wv7h/Zj9Wf2f/K/8OvxC/Kf82PxD/XH92/3c/SX+AP5K/kj+hv4M/zL/Tv+h/9D/uv/d/5L/kf+m/2n/TQAHADcAbwCOAEUACgBgAGgA+wAAAWgBNAEmAQYBvgBfAHwAHwDe/3P/GP8M/xT/W/7P/T39Bf3p/M78Ff0Z/Zf9hv2h/Wv9F/04/T/9H/33/Oj8zPxr/T/9kvyQ/GT8V/yG/eP9HP4R/9r/ZwG3AkcE5wSDBb8FQgYrB94HewhjCUcJ4QgcCBYHvAZHBSIDPgIQAC3/TP5o/Sv8nvvC+ST5lPgw+Or4FPkg+Vv5J/rM+jH8Df0a/n/+Pf8KAMsAIgEVAlwCcQJGApgCQAKRAjAClAHvAI8ABQDr/7D/dP9+/3H/L/9C/3P/eP+O/1n/KP+S/zIA4wDJAXgBMwHGAML/j//v/2j/C//Z/pL9qf36/Qn+uf13/Yf8cvwm/X79ov78/ln/Sf+q/yQAGgHrAVQCUQKoAZ0BmQE2ARkBlwAi/2D+2v3L/Of88ftP+/L55/hD+Hz4+vgx+TL5g/kr+kD7Qfyc/Bv9mf1X/oz+K/8xAOYACwEOAYL/s/6f/iL+zv6n/xIAcAALAXYCTgQ8Bs4H/AdACBMJIAqQDPcNHw7uDgUOawyvCzkKHQn3BtgEewHH/oL9JP3q+qr4XvZx9XP0wvNH9K/0FfZc9vf2mvht+rn8uP6D/5L/wAEPAwgEQgRZBBcEmwN8AmIBGQF+ABcA5P2D/OL7Kvyu/Cj8Qvxa/Kn9OP7a//AAJAPfAyUEQwSnBBYGoQbuBrwGsgXTBOEDQwN5Ar0BUQCd/5f9gv2A/oP/MwAnANv/SACtAQgDrQRgBTEG7AZsB1kISQl3CicKrAk9CLYH7QaFBiYFQgPcAC7/cv3O+oH5yffP9hv1uPMu80rz2PNh89XzyvPw9Ff3q/lZ+wf9HP+w/54ArAEoA74D8QM+A0MCZQH4/3b/V/0I+5b5nff69iT4nPhE+j/7yvqM/fMAHgVYCDsKyQuwDqkRXROSFHAVihQDFHwSBBA3DroLkAigBLX/KPwu+qT3W/Ra8orwRu9m7nTu7+828Q7z9vPc9J73GfuI/eX+EwDPAC4CcQI3A1ADLwOHAkMBgQAl/23+c/0h/Ar7pvpF+w78f/3H/gQAwgBbAv4DHwX+B04Jmgk8CoYKtguQC08LLwrlCGcHSAZ4BNkCKQGI/+79APwb+zv8yvw5/rv+yP5QAE0C7AQtB5QH8gerCNwJiAriC94LOgvWCmwIVQb+A5UCff/o+7T4OPYV9Wvzr/Fd8FfvKO5B7pLuTu/x8Q/04vVa9+v5EP2N/z4BVQJdA0YFPQZ5BvAGtwXWBOICrv/b/KX6z/eJ9AzxJ++K7vfsFu7a7oDwKfVn90X7ZwHnCCsPlRLHFWUZtR2RHyQiRyLlIZEhaR8oHGAXOxPoDqEHcP/S+Av2xfP57lvsMeoS6WDqSOrA6zLuifEA9AP2X/lW/rUDiAVaB3EHjQltCuoKkAnZB+EG8QSKAoP/Uv7Z+/T5XPZ59NLzQPPN9Hj0h/V591X6EP39/isCVAW3B80I5wk4CxINxQ3RDRANLwx5CywJ3gYnBFkCu//k/Bj6rPmc+Wr6IfvC+jn7D/1o/7gAqAOzBcUHPQrMCk0NLQ6oDtoOlg08DNUKCwoYB4ADIgBM/dL5e/bW8qrxqe/o7crtQe2K7Wjvt/FG87713/iu+4n+4QANA3oEPwVIBuMG+AbxBkUGBQUZAgv//Pyy+TH3PvTc8fzv/O1v7Zvt/+y57nvwnfII9gT7VAIMBysNmBGtFEoW4hnnG0gdph3XHIYb6hnRF1AU9Q+ECVoEX/yj9qfxce+67BXpVOgT6KLorumd64ftLfAL8yj2wPlz/MEA6ALMBHAFyAVPBroFQQUoA0UBOv9H/s/7/fmU94D2ZfRV8rbydfPO9EX3Evr0+/f/YwMdB1gJKwyvDuUQTxNcFBEVehWdFHsT2RB7DcAJggenA0QAIv76+1j5s/Zz9rT1PvaB9pX3WPlv/Ir/NAPhBSwIZQsaDREOgRARErsSfxKJES4PAA5DCnUHZQLk/Uj5XvZz8qju4ewn63Po6OYT557n++kh7BDu5fCG9CD4tvpa/Lz+rQDIAegC1gTgBuQHYgdwBuQEHAO3AjMAfv1f+1v6Ivj39Zb0hvM+8+XxYfFG8fHyT/RN+Yr+fgJMByULPQwIDvoP4RBKEgASrxKcEzwTnxM7EVAPcgktBg0AHfwD+vz47Pap9ODz9vNx9e30EvWm9e70n/Xs9hr4wfno+6j7cPxy+z38EvxJ/Bn74fpz+1X7uvuU/Fz9DP3C/QH96v3u/+cAiwPiBIQGEgg2CsYLjQzKDPoNlQ1mDe0MMgyiC9UJPQhtBR8DLQHb/g39+vrn+Ov3N/c29rf24/cH+aH67ftO/twAMQRoB4sKjQupDiIQmRGsEhAT1xJSEeEPZA37CuAIAgY+AQT9Zvgg9p3yhe8T7cDqMelZ6LbodunD6oLsue5U8YTzvPY7+a77ufz//Uz/uQDoAU4EYAVzBlsGpAVVBWQDPAKq/+P9i/t4+nv4T/jQ9mD1DPMu8oTyEvJk8q3y6fK59bj4vf6TBOoICws5DX8Ozw+4EDYSoBGgETUS5REZEngRKBDwCnYHCANcAbf/4P76/bH8Ffzt+kz8Ofw5+1T6OvoA+Wj43vj1+DX5tvgf+ab40vqJ+5n8H/2Z/Fv8yv2C/wgAvwBkAT8CbgNpBLIFfwb+BmUGkgX5BTgHoAcQCD0IuQhOCfYIiwhYB5kGqwQjA3QC3gFfAZABSgD//8b/df55/L/7/vpc+4T8ZP0n/k3/rwCjAsUD1gWAB74JDApoCmQKpQoECi8JUgeJBVoEmwLuAGf/F/4u+7f4OPbQ9T30XfPz8TLxofG+8QX0DPYG9+b3E/lv+oH6xfor+238w/yM/dP+mQI1A0oECAT5AyADbAKlAqwA5AC///j+rv2f+2f7vfr0+JT4JfjA+WD6Q/p1+4n7bP2j/mb/6gHNA9AErwXoBcQFKAfHBgcGTAZQBsQGKgdRBzkHhgdsB9AHiAh7CKIICAk3CWIJ3QmZCEgHtwauBCUDFwD3/e/81vul+XP55fn2+RP6Q/nz+Df5qvlq+Qv6B/xA/nIAsQFrA1UFlAa9BvQGYAiLCAcJ+Qi7CToJuwgECAEHZgatBQEEFwJ0/8v+x/3t/Ij7vfrj+vb58Pkz+pD6mPoM+9/76/xc/r//OgEkAmoD/wTgBekGLwgICeYIIAgtB2wGhgSXA10CuQDX/4n+mv4h/df8Vfz4+kr5GPnD+Qr6P/qI+hX6dfpd+c35IPn++DT3GvcD9474mvis+kj7AfxY/W39Bf8B//v9AwC5/9oANQEhAfUAxwBp/jL9Yft6+xX88fkN+1H6+/tY/Qr9o/3v/cP+e/8QANAB2wOHAikEGwU3BVMF6wUqBzUHoQXdB6gHhQZBB5kFAgUtBd0D3wTPAkUBgACJ/+n9K/uS+iv5KPf+9f/2EfZi97b5Kvmj+t76w/4T/xcAswErA/gEpga4B5sJUApECrcKUQmqCgcLrAoTCy8ISAnuBpUGCwZ6BCECYwG5/xH+Wf4A/fL6q/j397j4Rvgb+Gz4IPni+ev6HvuO/MT9cP6e/wwADAJsAxAEswMmBHgEzwSfA+YDzgILAjIB3v9i/1AAN/8e/4H/mv/u/n//DAGEAD4AzABjAdwA/wGIAAMBfQC//hX9PvzZ+/L4Rvk697T2bfW/9hH27/PR9cD13PVw8/T16PfF9sP2VvmK/LD6vfuX+8v/5f1w/cf/8wFKACwCUwNyBEUG8gRjBNwDpAMWBTsE3QDgAJgBWQIIACL+kADk/yUBEv5h/yD/swEMAi7+OQPmAqcD8AAFA5AEngKuAXMAtgC4AfQAPQDRAJP+cQTt/x4A8wCMAXIBvP20AU0B2P9VAMQBbgLd/jQB0//sAfb+sgH9AccC9P/bA8QElAOuAb0EPQa3/94CQgQuBLQAEQLkA7oBxQFd/lUBBQHbAQb+t/7ZAFL/6f8P/JABEP+k/Z389f/a/rD9KP0A/Gz/A/qU/Lv5KfoGANz6VPoi+zX+dgCB/L//HgCqAecCaQJUAzgFKgVEAk4ERAZ+AjwCPQKqAVf+3v1H+8z50P0k+bfzN/YK+G3zSvM99BbzSPXE8oj1+fKI9nX5xvXO+fD6Gv36/uv+QgDgAssHsgRBCOQJSQo0CjUJtwlPCB4I/gStA8IAtgJG/WX6iPys+UL4pvTC9wH3HfWv9G33MPs79yj5r/4+AXX+xf/aAroBuQQuCKsDfQOOBKcJ1AdiBCcGIwUGB4oBLgBlA00B1P9M/3D/2/5r/QH9TP/4+yL64wDm+lv/1P8XAEsBfADJBNQBSgHMBhwFsAZQAjMDxAm4A28CuwPlAhUGMAEiAaYBEf8EAosCDwCCAhYE0AHGAT8DUwJXApoBkQQuAkH/6AATBNP+cv5//AEAr/2K+Hj8Ov2B/QP4Of3t/PD7hvzjAMj8Pvy4BMQCuvwABCkEZANQAMsDtgaw/1cCIATeAXgCBP5fAfEBwf4m/tP7H/9C/Cn/HfrV/oD7IAF4/On5PP6JAZn/vv61/uMCiAN9/80AfwOQBRUDrgO9Bp4CVAhcB7MDY/9nBZABiP5gAOIByv8g/Hf+xf1K+sf/xvse+wL9z/3c//n7+vkEA8gBJ/0a/SwAWQIg/br9WwIoABn+oP1aAQj7GP+0/jT9C/0i/JP9ZP+Y/gn8df30AHr90/wcALD+Y/6dAOP+7P5aAIsFSACE/V4DFwRAAjf/DQC8BNH/zP64AisBe/71/88Dwv3o/1sCowKqAL0BHwNQA30CKAWZBBQDDAWSBOIFlwOlBe4E5wOvA/ICTQFiARUBZQCA/Vn72/s2/nb7UfmX+Q382fg/+2j7HPw8+yn6nvwD/kn95vzAAkv8rv4BAI//QQGl/v/9EQFI/0H/uwHW/VYA+f2XBJz85/voBAD/LQF1APUARQLQAM4BXQEdAzwBgAGJAfQDaf9zAVEBFAIMAaT/2v6C/wcBAwIA/sD9if+bAOD9df4EAo0AMf8RAOoAcgOF/08GVADsBMEGXgXXBOEDEAYsA0UFsf0cBPQDrQDcAPEAngAm/8UByfxP/xT/l/2U/yD/VgG+/EsDXP95ARsDLP5/AuAB9gGo/03+rwL0AJr+M/8O/88AY/00/xv83/7V/lD7E/4x+SwCYPxF/577fP4YApz9qQC9Af4BgADBA60ChQTKBtsDDAU7A+sIZARZA8oDzAJNBSMDugAoAnwCuwCrAIz91wGs/L7+m/w3/bsAmPw/+nz/jv3A++P8/v+5+8T7Iv5l/IX8Mv72/hD8k/uiAFP8hP4KAOz6IAAgALP8LQIJALIAwf5iAkgD/f6vBJ7/IQVIAxv+igP+AO4DVgDG/vEABQL8AB/9uP5IAPH96v0h/V//oPxo/MX+4fmd/Zn9EP/b/EX+PQEp/tn/7P/UAAAB8//t/6IE7//pAKAGPv/WAvL/TQTt/0j/zgFw/0UAiwC7/+kAD/47/zQDzP5wAKkA1AGbAYIAeQSSAg0DkwM2BYcAwgfJASkETQRyA6IDOQBVAX4GWgC9/or/b/23/pn5/gCq+RH9nPkf+eD9PPym/JP5c/sgAEn8W/5Z/kEAhP9bAroAbAEeBBcDFwUEAacFSgWSA74DBwMqAxMD9gLhAmj/1/62AIz/kP1U/iv/qvny/T/8kv2f+sr9y/tA+Z38V/yV/an7y/tkACD8SAA7/7gApf/b//j/XgQYAIsBiwZ5AdQCRAS/ALIIav/QAykEjgJWAyb/FgK+/hgBzgHe/JX+Xv6w/1X+0f1q/nD9cwDN/nIAFvy3/2IBGfvQAjj9j/74AIr+xQJq/owE5f2EAJkDs/y1AkMAQv5I++wAbf7h/SL+Nv0o+hn+dP3h+RT8Y/vz+vT5i/xk/Bf7eP+0/Qz++/2TAm3/aQGbAZsBYQIeA/ICoQPFA5cC2wITAVgFc//2AscEQ/+j/w0AcgDG/wD+iv7Z/eX6zP7/+zj+yPvW+JsF6PaM/IYAv/xp/zD79gLI/kb/AgHKAq0A4P0BBE4CQgHfAhcEbgCZAm7/1AWK/0j/egD1AsH9T//dAfj8Z/1n/+/+O/2E/ub7FgBs/AICL/zy/40Alf4sAdUAOgGuAEQBEwPP/qkF7/7bAu4Ei/+9BAEBZwVgAMcCLAJOAZEBvQEBANAEsf4wAK4Ea/xo/3MCHf5RAXP+JQTG/Qf/6gF3AO7/l/zPASL+RwGU/2v/nAGH/83+RABEAgX/dvv6ADH+Kv4z/3T8wP2D/F3/YPtd+yb+l/w2/Hb9l/7s/K/90P4z/AADZf4o/r0AmwS//QoCpwH+AmAAxAEGA1r/oQjdAib/BAUJAXYDk/8oA3ECn/+KAg7/QQMlAIL/AgGm/k0Alv+9/TQApP0fAXz8vPxIAk79p/1LART+GQM7/f8AzgG7/XIDx/zCAqL/RAGZAXb+PAJWAEUBHAE5/PMEG/9O/xz/DQPs/Vb+egOzATD7WgIgADEA2v9p/kACvwEi/sYDUv77AIQBcwHRAQH9dwMSAbsAhQDO/xwFeP1K/t8GNvwLAeQBEgCQ/mEB5f+AAHT/Kf4M/tb/lwA7/OwAEv2C/z8Aa/1lAAf/cf+OAA38tgFFAmH+hwHx/zQCYv75Aq79vQRK/sn+6gOx/54Adv/JAHD+hP+v+579FP5C/DL/e/qR/Ov89/6s+Iv7+/9X+cj9JP+7+u/+VgEc/ZIBjv4gA0UC/f25BGEDIQMt/pYIkwKHACUFqQLMABoCIQTAAVgEqvzpBLb/zP5sAQoByQCM/a0Bw/8aAA38fwTY/RYBRv/AAR8C3/9+A2EBnwI6ATgDQwQqAQwFEwDYB4QClQBQB0sAAwRtBOMASwEBBPUBCQEPApYCOgCyBPb+hgHnAl7/4QKzAX//mwYnAJ0ASAKKBPoCwgC4BOMAHwSpAEoBYQTO+6MEIQPM+lAGVP3UADb/Av4HAoj6owEs/N3+Sv2H/TkBSP0h/h/+EgBH/bn9YP8U/ZUALv0W//D8Vf0V+zwClPqS/voDmvz5/eYA4gHq/CoCC/7Z+6wCVf9P/hcD4vs8AGYBnvw7ADv9ZQDP+dEALP1i//X/ffoGA7z7BQBzAM7+qwGy/g4AcAM3AHUB2wJ0BLgA0gBkBdT/gARGAdr/Swa+AFQChAZoAJkBegAOBoL8dACLAMb/ffvD/U0BzfzP+lL/u/tj/wr9hv1r/C/6IgNO/Dj+jgMT/bUBigDC/vkBfQEGAakAc/8PAxUCHwNxAhn/KQXf+6D/0wKF/yn/+Py7AYz8EAMe/QQBj/7y/9//i/9+AJoCVv0FAu7+VAO7A8X9VQSq/7wClQEB/pUENAAp/nICZQBp/SACJAA3AIX8DgNe/ooAwf7d/5IA6gDW/qT+lwHlAd3/IQOv/cb/rAG4AfABUvnhBSX/iP2mAiL9IwPm/AkBv/3u/Qn/xQG2++/+rv8QALH86wCH/fQAPv6l/r77FATe+/b8GAZj/Uf7SQWmANv+D/9YAJT9gALe+/gEvAH7/owBvwEf/3MBQQFfBN//rQA4AScD4QEBAGwDPgDyAY0AswDsAqr+Vv8lAI0AVP80AHAApvz+Aeb8nQDf/LEB5f3Z/NsCLfpq//cAk/6b+mv+ZQO1/CT9JgCkAMr+kf56AQcA9vqMB075P/q8AxkAFv2++90CsPvfAkv9kgKF/uX8wgG+/B8B6v/1/DgDc/8p/wj8yAOO/tH+BgKSAFn8pv8B/+P9Jf+E/dH9OgDR+j7+F//iAM75KP5wAeP7Nf9n/9H+JP23AZ4EzflY/m4G2P1aAnABiwaY+7QFOwNS/aAC8/4KBFz/OfwDAm4Au/sHAQv/ePt2AMT71P43/ob7uQAg//P7H/sjAbQARPuQAhv8BAEj/pr/lADf/0H+VwL7An36aQYGAZb+IwTX/jX8MwVZ/7f/ufx9AzQBT/7wAnD/FQKEAHv80wTe/iACawARA2X/RwIcAWsETf70ALUB8AJl/XUFEwA5AE7/0gFMBO37zP+MBT7+Xv/F/CsFKQDxAkf+TgCX/RMBFAN++fAB+v98/uX8pP0QAnUAfP2o/Hj/owGo/mb6hwBFAi/91fomA1QCf/wYAED+uP+f/rD/yQBp/wj+0gAZ/oL8PgGC/lMA+fdxAsf9QP5o/Vj7+AFA+Xn8sP7t/gb9D/uZAyv6fwGLARkANv9qAkP8nwQmAEEDj/7OAuQASADCA/wCDQA9As3+sAAa/qgEtftQ/TkAoQGH/Pv7oQR4/PL+jP4bAx76lACcA6n92fzaAUgFX/9//fEBEwPb/hUAdQBcAyYAtP17AlcAaQFh/fn/sf5R/KX+rAEI/zz8Uf9eAIb88/3kAdb/Bv3yAAgAtQE6ANMCJAIVA/f/g/5cCIMBpgHaAIcB/QIyABsBpwPX/e0Dh/9X/XkBXwC9AVn+1/ugAT79UAGy/7z8bALH//L9Sf4XAxD/EP2C//b/4f+C/TADqf+q+90ALgFo/rT+4v6x/yT9DQKZ/2z9YgG4/5sAwv6C/ssBtQGj/jIBuv/oApEBj/+IAIkA0QBIAFsAPgCS/psAbP69/aQBzf4dAHMApP2p/goFygFs/LwBlAL8A0H+cAKwAzMCdAIH/tACtASFAn0CNP5yBsIDsgEkAh4CXAHtAp4DXP5qApAEcAJzAcj+BAOhBL7+4AJFAaADnf7wAsIBtgFkAVj/yQBxAMz+JP4uAcr8yP5D/e3+pv0v/JD+Qf4t+0P/mf8B/j799/+wAhwAfAAMAL0GoQQy/3UCwQSvBB0DsANaAfQCZgXpA9YBev8MAwsDEwAiAlcBOwJmAFj/of82Aq3/g/5d/wD/FP9O/mz/+v6s/c/8lvwf/Y/+RP0y/DX79vwv/Sr6qPsd/uX6evnQ+ff7Rvun+9D68/nh+FH8sv1o/xUCVwHIAU4EeAVhBEMGowYzBVMGfAkJCnUKlQpoCAQJlwXKB/oGBQQABEICDAK7AsoBaQDDAVr/If7t/V/9Kv4r/C39yvzY+0v+Xv3P/Rv+R/2E/T/9tf3S/Vj/Gv9a/u39Cf7cALYA3/yp/7L+6v51/lAAfgG2ApICEwFDA+ICCgO3AvEBGQLOA0YDgQIUAlkDiwO4AED/AQCQAI78Bfzk/S//kf7z/S37Lf5m//X+Z/5m/qv/aQA0AG3/QQF8BCIDwQL2AZAFmwXJA/oCyAIkAl0CYwG+AEIB9QCZ/7P+mf1t/Z/8zvlO+tL4lfk2+SP4w/aY9+H1lfIN85X2IvyH/uj/CAKuA9oH4QkyCJ0K5AiNCuUMsg+8EdcShBOhEfAMjAx2C8QFQQQ9Amb/wvx8/Dj+0vyz+/r64Pd5+BL4EfUD9u33AvjT+G38wv4v/3sAhwBEAI7/dP8hAJUAIv8zAasBwACoASoB/v80/7X8T/vU+qD5rPx1/Uv+Jf6W/+8AwAD//+D/3P/pAYwAYgCLAusCRANZA/ABoQJp/1/+Dvtz+8D8m/2S+gb76f2l/gcADf6M/hb+0/7k/sT/Zv/fAOwCAwLrAowFlQa5BjsFVQO7AQECkgGAACb/Kv+1/v/8/fs4/B772/n7+F73hfbp9kX4nfbP9If0kvTj9Gf5g/x+AA4DBgaXB04JFgnZCVwK3QlHCRAJEwphDIgMUgsKC/sIlQVwApIBav02+p/4l/fJ+aT5nfrd+Rj7aPv/+kj6ffmt+Cz6VPmz+f380v8+AnMC+wGeAbcAw/7c/dH9nP1z/WD8dv6MALn/zgBxACH+0vx+/Gn8lvuL+2r9pf0k/5EAFQI2AykC1gE5AFX/gv9n/7n/rf/rAIYCQgIIAc7/2P3Y/E/7Lvpe+nr7MP17/2UCMQMnBF0F1gQHBGUC0gKTA34DKAXJBZ0IRwlgCSIHIQZCBV0CvP8M/rz8kvzX+8D7ifui+8/8SfuD+jn62/kY+YD5VvmH91/3k/Z49kn1TvYt+aP7IP6KAa4EMQYMB8EHIgYYBdEFDQibCaEKBQvMDKMOnw2JC0sJ2wUIAs4Auf3y/ED+Of8u/2//9P72/Qb90frL9z32pPQG9Tb1V/Yd+HP5o/l9+bz5l/pY+5r7FfxI/Df+7f6oADkDngSvBbgFvgTgA5ACpQH+/nz+KP5n/wEANgGhAXUBnQADAFb/Q/5I/Rb9EP2//VL/V/8PAKX/OP1B/Cz7Avsv+tL66PtB/VwAYAJIBTwGVwW4BPkDDgOdAhECugLEA9UEpgd4CIwI4we3B6IEbwI/ASn/B/1i/Mf7QPz/+7H80vtK+x37GfoU+cX4zvgh+ED3afcm+Dr4yfcL9iD1AfQh9fb4Zv2/AaQEBAhpCngLEAv8CkoLUQxtDqIP0BFLE/oSIBK7DqgJ+QUrBAEBJv6K+4v5cPg690L3QPcB95D2W/Wv9KrzWPNm8gPzKPUi+Rz9IgCOAzAFuwXXBTYFagUJB/AHJAiPCQEL5gyNDLoKtQaOAg0Aq/u79yb2G/aD9bH2yfhj+n78Lf1m/Dj7hPrD+kH7rfw7/xsD1ARXBTkGCwYpBFYB7f9q/3j/0P/5AXgEGwbOBcoFKgUIA9//Lf9P/XX9uP38/jkBgQIqA7gDoAMGArv/Ev5V+4X5/fhx+SX71Ptq/OX8nP17/X39x/xS+6L6Gfoi+j36UPoo+uv6JPtN+kv5cPi099336fod/jMBVQbmC08PTRASEWAPFw7nDC4MBg6BEF4SnhREFRoTvxAZC9wFCQGE/p78pvpg+rH5H/lY+fX43/ei9k/0efL+8O/wh/GO81T30/oeAPsFkArLC1YM/QohCpgJzwinCTkLlguECroIagUjAtH7ZfVF8PrtBO1H7aDv4PG39I33lvnW+tP8sP4m/ywA+AKhBdEHGwoBDGQNNw1LDGELQAkvBpQD6AHmAL4AzgEbAqwB8f/N/eL7wfjp9br0e/Tz9LP2Rfo1/Kr+9AD+Ae8C5gKAAvIBqgFXAZ8BzAGEAm8D3ANaAxwCywBV/iD89Pk5+cv4vPiP+dv5efnq+PT2ffVi893yHfTI9Uf6Uf94BCkIGQ1eD0kPyQ75DP0KtQlrCg8NARDJE3cV6RX6E24PbggHBLL+g/ox+OX3rPi6+UT5uvh695X1ivN18p/xCvIF9G718Pga/T0BBQTAB+4KPw3SDQoNNwv0CDUHeAXQBKkDTwOiARb/DPuP99XyC++w7HHtOu8y8434tfzr/nsA9ABZAcgBqQK+BOYGlwiKCjoM5w3nDXQMJwrSB3wF4QGM/vD7Y/qt+GP4BPgJ+CD41/cf9ir17PMu9Nb1YPdC+7UAaAUACnMM7A4wDzoNGgxiCuIHsAUuBWgDGwIvAUYAHf4x/KL5v/dv9DHySvEy8ffwCfIY83zzYfSI9Pj0qvR+9Dv1yPeP+rz+ygMUCZIMOA47D44PmA5YDcQLaQyvDSUPrxHZE2YTZBJPD1EKngRsAe38Bfre+Ez54/qi+mD7YPtH+kv4Wfbv9fL1uPYC+E/5/Pt6/gMBmwLMBPoFzAbEBmoGqQR3ApMAff///lz/Bf9X/rr8bvoi91X1KvOI8mz0WPYh+rv+XgKmA7EDEAJFABD/Rf46/wMBhgLeBDgGkwa/BasDcQAl/YT7f/m8+IP4A/mk+Zz6HfvJ+z389/zn/CP9CP4M/zcBrARaB/QLHA8xESASshHmDhULnQhfBAYBDv/K/nz+if53/rL90PuC+Zv2SfQJ8pfx5vHX8pr02vYC+FX4BviJ9jn1H/RS9Gj2Yvpg/2QCKQdpCtkLegubCSoIGwYGBsoHuAr3DRIQAhIMElkP0wxkCMsDYQAn/8/+mP+2AH8B5gGyAOH+G/wG+gf3KPWl9C302vTe9gP5hPqU/F3+i//I/xsAUgBwAL8A8QAUAm0DTQTrBPgE0QNKAqz/fPxE+oj5nvnW+tn8oP6dAJcBcQGSABL++/uD+tD5nvqN/Kf+jwCCAb8B8P9n/bn79vgE94b21/Zo+M/5rvv5/Ib9dP1x/W79c/1z/qEADgJRBegILwzaDTkP7w8GD2MNpQrRB6AEngL8/1L+mP2a/Xr9OP2L/MP7rfpR+K32wvVq9Y71vfZa+JD5rvpu+lb5+ffp9XDzlPLu8n/1HPmf/TwBJgWpBykIbwdfBlcFCAXiBeQIzgwbEDYSzhMME6UQxQybCvEH/gVcBXQFsgXJBAUDJgFL/sX6gPfm9eXzifNr8zTz+fNN9QD35/fQ+Tz8Kv4t/+X/4AAoAmECKQO9BPsFtQahBuoFNwQLAfj+B/xt+nr6gPtn/a7/2gFOAn4BR/8G/Xv7/PmI+fL6ifz4/hcBQAI7AnMBQv+A/C/78/nm+ET5QvpL+6/82v0x/jj/rv/YAK8B/wLDBKIGIAgoCfIKVwzvDAYNxwyGC0EJTwe8BNABOf89/qb9Uv2Y/Rj+Pf4L/pn9y/zG+wv7WfuA+0/8Dv5d//D/RQAXADX/of7o/Qz96Pyn/Ej8Pv37/mcA9AFABPcEEQbVBWcFNgTBApoCmAIZBCAGEAhuCtILAQ2mDH0L8AnaB6UGHgRxAk4BPABC/gn9c/yP+3v6vfma+a35Fvku+Zf5PPq++5b9kADfA5MFvQefCMoIhwjGBtgE4QIqAtEAcv+A/kv+ev3T+3b6HPqk+a74aPiq+MX4BPmJ+Vf6XfvS/NT+nf/2AY8DxQMgBO8DWAP1AX4AHQBS/5L+jP5x/jr+7/1V/TT9ov3o/Rr+y/61/xcBqAFlAtYCbQPNA4UD1wPTA60DHwPuAQ8BHACg/+T+yv7Q/wUAgQDXALsAaQCL/6z+Fv54/ib/UQCgAXQCmQIDAtAAQv8y/rD8kPtG+y77lPs4/E39DP6o/qv/yP+jAP0AqwD/AN8AnwFQAu0DeAWeB/UJCQuQC9kK0gkNCB4G+QNkAqABZgHSADIBcwE+AfwAbAAtAMr/dv9p/7z/VACDADkByAF7AugC5QLXArcCCwIuAfz/ov7j/Tv8vfrI+Ur51/iB+An5efmV+iP7zPuM/Cj95f1G/sP+lP/4AOIB8AK3A+kEqAW1BZAFVwV0BIsC8wDU/tP8Zfv7+rT62ftK/e79Of9BAGEATABZADkAfwDwABMCWwPgAz0EQwTgAxgDzgE8ASgA6v+6/5f/y/99AFgBiAHvAVECPgIjAqABFQE5ATcB0AGkArgDaARJBRAFYgTrA50CZAHB/+H+H/5s/Zr8MfzJ+xH7WvoU+qD5Afnk+Pj4Xflu+v/7Fv6F/9gBugMHBYEFvwV+BcIEEgRIAyIDBAMiAzgDHQMcA+ECGAJCAeoAowB2AOX/UwB3APMAugBQAJUAbgDY/3r/Pv+j/6f/Uf+9/o7+3P3p/N77Uftb+/76Q/ui+3X89PzP/BH9Bv1V/aP95f1B/hf/u/8VAEIAfACiAIcAWgBSAFYA6f8J/0H+gv34/HP8Yfzl/Mn93f4MAGABOQJsAlQCcQI8AhMCAAJBAkoCiQKsAqcCcwJKAqcBFgHFANwAxAAeAaYBLgJnAo4C/ALgAr8CuQLoAu8CSAOPA+UDCgQsBGoEHwSWAxgDFgImAd3/6P5u/Wr8XPt7+q75Lvmx+Kv4wfgV+dr4YPkH+vD6Tfw6/Zf+SADhAQ8DAwRuBJUEPwRJA5cCrQFCAXsABgDF/5D/WP9A/2r+Y/0P/S38jfv/+iL7jfsZ/MP8GP05/qX+gP9K/+7/sP+1/8v/cP8CAJ3/HQDj/zEANAAEAPn/2v+G/yz/wP6m/v/9nf1k/dD8NPzd+1f7b/td+7L7Xvsh/B/83fwf/ff84v1z/gX/xv+uAMoBBwLPAhkDngOtA/YDLgQ2A5QCyAEMACb/eP7+/fH99fzC/a39Ov44/hn+Tf4j/t3+Cv8pAFkB2wJ5BDsFXwa5B+QHzweTB/IG5wZDBoAGkAbdBcIFwQSrA6sB8gA2/+r9UvyJ+6L6c/qZ+Y35Yfm6+Yb6QPvv/KT9sf6r/6QAKgI8ApYD7QPlBKUFygX6BTEF4gM0AvgAv//U/RT9Xfwf/CX8GfyU+xv7LvqY+dX4Jfkr+UX63/of/MX8Iv60/sv/cwCwANQA9wByABMBrgCNAOwArQCvAOz/5f9YAJL/fv+M/qn9vf3F/Ir8dPxP/AL99vwG/cn9JP5N/jr+X/6Q/vX+Bv8KACYALwGjAo4CMwPnAjICAgK7AcMAQgCq/i//9f1v/aH9Gf1m/cT8T/37/PX8bP1h/TD+8/7X//4AbAG5AvkCLATbBCIFfwXJBPkE3ASDBHkEDQQlBG4DPwOTAusBOgHk/8n+lP03/QH9rvuh/Jv8T/3N/Vr9cf7f/U3+av/E/z0BUQL3A1kEDwaiBhsH/AbbBhQHqgbcBpMFKQVEBDwDuQJ/AB4A3/7U/V39EPzD++z6MPo0+p351vm0+X/6OPtx+9375/xf/ef9XP6M/hz/Z//r/lf/3v5t/5j+q/7u/sD+4f6f/mb+oP45/tn96f2F/Q3+Af4m/Xz+rf3l/WT/RP4MAMf/TgAzAbMARQFWAdUAIgFNAc4BiwJeAskCTQIlArQB7gCq/2z/Pf6M/o3+Sf4p/53+yf/q/+T/HwDJ/+T/OADiAOMAUAKHAtYDOwQHBJwEHQRZBOgD8AOmA9UCOQM3AyADPQN/AsMCiQJgAWEBFAD8/yf/jv4z/wj/Uf9T/5b//v+v/5P/r//i/9f/4gAoAYYCJQPeA/IE4QM4BAYEdAI5A/gBswFoAkABfgKYAUABkAE+ASwBRACc//X/CP9y/nn+d/+o/tT/6//+/1UAHQDH/43/m/54/lz+Xf7z/Qf+Gv4X/rP94v1J/Sn99/xu/J78m/zR/M791v23/qL+5f59/+/+b/8X/9v/NABmANIAzQBzARgBewEHAd8ARAFeAKwA0AClAA8B8AByAKoA1f+k/9f/4f65/3b/B//a/1v/UACdANAA2gDNAO0AiwDyAKEAZQBPAe8A/QGvARcCOAK2AX8CFgJGAq0BsgGAArMBQQIlAm8CeQJwAXQCAgLXAcwBDAGGAMMAeQBkAIsAtQD7ALQAvgAuAQQAYwAmAK4ApQA9AXUBcwHDAa4BVgE1ARAB1wApADIAQgBMAHMA3/+BAI4AFwCh/xX/P/9Y/jD+CP6J/cz9nv3E/cv9zf0g/Rj9NfzH+yT7kfqQ+n76o/oc+936L/sq+6n6xfo5+1n7hftF++L8q/0z/g7/bf8yAIsAogDyAPQA4wAdAeEAiAH9AT8C1QEwAroB+AGBASMBQAF8AKMA0ACwAMQABgC/AKwAgwD3AJAAUABeAIMAJAAbAOIAoADGAAYBrgBXAZ8AbgC+/yoAxv9O/xb/qP+n//7/bf82ALD/kv+M/5L/cv/Y/+v/XQB8AAEBEgFeAUIBGQHBAMQAHgD+/xoApf8AACEAJQDn/4j/mf8B/1H//P4a/2//n//w/zAAkQBSAN0AugDXAMoA8wD+AL4ARAHsAaMBDQINAjgChgJ3AikCXgJWAscCtgK+AmEDoQOnAnwCPwKWAd0AlABAAPH//f9l/4b/nv5r/h3+Hf00/QP9Fv2r/Lb87PwS/Wb9V/1N/kr97/0N/tn9Rf7r/ST+ZP6+/tb+0f4O/y//dv7b/kv+f/51/jH+9v1L/kr+W/6u/mv+bf7I/uX+s/7Q/jn/OP9i/5n/Mf/S/zgAnf8hADUAvQAdATUATgAvAAgAAwBq/6H/cv9y/0T/K/84/8T+7f7l/gb/R/+e/5v/YwCqAE0ARQFLATgBOwE9AfYBHQJaAksCogLlAi8DmwJ5AksDuQIMAzcC0gGAATgB3gC6AFkAgABmABb/ff6l/nX+af5S/kr+2v7K/n7//v5u/+v/gwDXANUArQGzAasBSQKrAe4B1QEQApgBuwDEAFkA0gB2AKD/Q/+l/oj+Xv6B/bv9vf1g/aj9T/2q/Vb+Yv6J/hv+rv6v/uT+0f4y/8n/nv9dAPD/CgCwAHcAfgDq/6j/rv/M/7//OP+D/2H/m/9l/wz/OP8G/6b/N/8z/8T/ogCoAL8AmADPAAUCFAIjAR0CBgJ4AsgCGAJLAsYBHQJsAXUANgCdAEsAFv9+/hL+8/1q/mH9tf3M/aj9bf7X/ZL9F/6T/t3+jv+4/0EA3wAaAmQCygLRAhEDvAO6A70DmAN6A0QDJQOTAp4CCAJZAcUALAD//0X/Ff4c/hb+8P3D/Vn97/2U/Yf9Kf7V/Rz/d/+8/xgAwgBTAbsB3gFjAVgCrwJbAvEBegGxAWEB1wCxAfAA1gCJAOL/8f+b/1j/vP6Z/u/+Mf9E/73/BADT/xEAEQAsAPL/5//G/wMAiQCU/2YABwAsAFkAzf/0/9f/vP8z/xX/Rv9l/2L/+P4a/zz/Of+1/3f/kv/E/1gAxABGAb0BrAEFAhYC5wHpAt8CFgNnApwC4QKOAqICdwLGAf8ABQF5APD/+v74/uf+pP59/TT9hv2r/PL8X/1j/Yv9Ff2A/dL9df+Y/w3/OP8pAO0BvAB4Ae4AWgGNAXwBqQG5AcwCSQHqAHEAwQAWAd0ALQBP/xQAWP9G/47+Ff5k/2v/Nf9e/yX/+f/8/xv/QwAaAB0AkACjAI4AAgGQATUBsQBjAIcAl/9fAGD/Xf+7ACIAfQA4/8X/KgCKAIoA/P/Z/1YApwCzAE0BpQF/AUoBSwGBAY0BNAHr/8L/uv+N/3j/7P7n/T/+BP6W/e/8+fsv/P37w/vf+5v7PvxK/Pb7avxK/aj9If4I/qv+E/+2/9cAIwGvAB4BOAIMA8ICXwI5AtsC/wE2AssBCwLYAXIBUgFiAeoBxAHFAbQAIgGfAR0BQQG6AeYBFALpAaoBwwGFAQ0CxwELAugBOwKnAqgBeQGcAXsBVgHJAHgA/f+mAOn/sP9i/+/+ev+7/tj+m/6I/rL+wf7Z/or+if7d/s3+tP59//b/kv8z/+L/ZAAfAM7/0v9FAMYAoQADAL//c//X/7z/gv9n/1z/nP8N/6r/ZP/p/y8ACgCdALIA8ACXAbgBfgHKAVAC2gEGAuUB4wHYAUgBtwCAAM7/4v8a/+3+a/5C/lP+df2I/Mb8Q/0C/Wn9aP17/dv9v/1p/jT+T/9g/5X/EwBbAFMBXgH5APAAzgEAAqkBHwLqAa8B2QFMAR0BGAHeABUBpQCVACoAbQABANsA9wBwAKQADAEhAc4AUgE8AawBnwH8AH4BEAFPAT4BBQGZAKQAuf9h/w3/q/7y/mP9D/4J/n/9Ov0Q/cD8QPzB/N78sfwP/dD8Lv2+/Vn91f1Q/tH+KP9W/y3/e/8EAF0APADaAEABoQBuAYAB8QD4AIAA/AB2ABYA3QB7APr/BgA1AEYAWgA6AJ8AGQEfAXoB6QGAAY0CngKYAusCBQP1A3UDNgMGAzcDsQKyAe0BiwE3AdUAQgBfAIz/b//V/k7/p/5I/qT+OP6+/Q/+bP7a/oT+e/4P/qv+9f4a//X+1f6Q/+H/CwCq/0IAKgCY/6r/BwBeALX/wP8gABsAHQAJACf/E/9g/87/MwDd/+j/FgBTAC8APAB8AEAAGQHuAGoA4wB6AW0B1QC0ANEAaQDs//b/1gAWAPj/vP+F/13/If8q/3T/B/+B/qD+vv6r/ln+sv77/jr/8f7//mz/6/60/3X/0P9rAFwAcQBEAJEAzgDMAEoA9f8IABAAXP8//wr/v/65/pn+Av9m/iX+G/4w/rb+6f5//3r/DwBiAKUAZABGAfYBdgL2AfYBmgKHAg4CEQJKAk8CNgJdAUkBLgEBAWcA2f89AAoADwCd/1n/G/8K/4D/Pf8W/zn/hv9U/w//+f4p/0z/Ef9l/z3/D/+r/1L/uv57/lP+NP5+/SH9RP1R/J/85vyQ/X7+Nv/7//L/f/8pABwBTwFnAcICTgTABIME5ATDBFwE8wPQA6kDlANbA/ICZAIlAtcB6QBpAF8AHQFzAM//mv+6/5//uf6e/rf+Ef8X/8T+vv7t/tb+OP4E/jT+Dv4I/un9N/7g/jH/1P5r/oL+k/6g/vf+Z//m/5f/sP+6/9P/BACg/7D/Cf8A//b+z/6j/ur+qf5k/lj+/f3D/U/93/zP/Nv8yP1G/jn+p/53/2kARwACAJIAXgFXAcgAuQC+AHAA3v9A/+b+xP5L/u/8xvsS++P6ifqJ+uf7Gv02/mb+2P76/mf/YwBfAQYDzQPFBSkHUwemB7sHVAfSBmsG7wUWBusFVAXRBLcDhwJWATIA0v9N/x7/uf5h/uv9JP2z/Hf8dvyr/JL85vw1/Y39Nv46/p7+p/6a/uD+FwBxAFgA+/+r/0//8f7O/oH/+f8wAGoAIwFWAQcBIgHDABcBagGSAQ0CigIMA1wD1QL7AWMBtwCh/wb/XP6//YD9MP3n/GD85fsc/BH8/fsF/bD9FP5C/qT+O/+v/wMAlAAQAZ0B8QHpAVQCNwISAhsBdwDs/xoAMwAsAPn/nP/k/q793PyR/GD8iPxu/Iz86PwL/cH8//vR+j/6k/pr+lX7w/5FAZcCvwJkA8ADNgTbBJ4FKQdnCGYJrgoeC/QKVwp9CK8GOgYgBkMFwQQSBA0DMgHl/2X/av54/bf8pfzv/EX8dfwi/MT7YvsN/JL8Jf2s/Uv+vP2d/XP+4f70/nr+rv4u/4n/t/+c/+X/Uf+X/jz+Tv73/kT/P/+S/4QABwFqAZoB2QE2Ar4BuQFrAnEDwQMfA9wC7wIcAmMB0QAAACD/7f60/p7+y/0z/W78PvzI/A399/1Z/nP+Yf4t/qT+3P6M/uD+Tf9VAMMA7ADhABcAqf8O/+7+PP9W/+j+hf5+/Sf9OP0B/d78Xvxt/CD8Tvyl/FH8E/3P/gwAsQBgAtkCBANTA7YD9QTeBWoGJAdGCHUIGAiPB5cGFgWSBEAE7AN6BGoEOwPbAckAdAAg/xL+Zf7F/vn+lv64/rP+Bv74/H38HPzw/Jr9yf2h/Zj9L/01/IL7hPsO/IL8Nv21/eX+w/61/uf+XP9DAGMBIAK9A/wETQT7AwQETQPqAVwBhwEmAU4A5v///jn+A/2b+0r78frO+oj6mfqZ+hf7s/vb+/D7u/xI/VT9Sv6T/+7/PAB1AZwB8gEoAnQC6gHJAUcCZAIbAtIBtAGGASoBfAB8AIcArf8A/8/+Kf9T/zz/C/+7/jX+if6x/sH+zv6q/0P/Lv4U/lT/+f8CAMEA7gFWAiIC4wF3AhoCJgLKAlYDmAPsAwwFkQRrA6cDzANeAysDTwPOA/kCdAKBAmECAAIQAswB3gHgAdwB3gDS/7/+nf3l/MX8YPx3/BP78/lV+b/4iffR9qL2fPbT9of33fgM+v/6mful/Br+RP8hACICLwM+BDwFXgbzBhcHTQaABScFHwWZA/MCjwJuAab/5v6L/in+8fxn/Bf8G/wp/Ib8nfxx/Jb8E/2y/TP+Fv+f/2kAMQDdAJsB0wFNAZEBIwK7ApMCUAO3A9sCvgHYACkBCwFKAK3/bf8C/6795v2d/Wv9rvxB/dX8cfxk/UX9xvuP+8T7Hfz++2/82fw9/QD+P/6B/gj/zP48/1UAgACKAXQC/ALJAsAD0wQnBcoFswaSBpcGowbQBVkFwASEA/sCMQLDAUgBTwCo/v390/yJ+9/6uvpX+m35EPkn+UL5Qvml+In4Tfmq+eb5k/qT+678N/3Q/U7/lwBFARYC0wL0AjwDtQMTBF4EdQQUBO4DsgPFAvEBtwEtAVUA7v/o/8j/Yv8b/yr/vf4s/9/+v/4z//3+9/49//3+Df86/4b/BwABAI0AaQArAEoADwB/ALEAMAHgAFYBhgHtAbMB4wACAZAAbgDF/3n/l/5Z/jf+7P0w/Xj9Rv0f/cL7Mvz4/F380/ts+4z7Wfvz+oT7g/sf+z77hvtV+9P71/zt/Pv90/7F/ycBUgIBBJMEIgV3Bi4I3ghNCfsJNgoBCsIJqAkQCZYIewcGBxoGPwV2BCQDlAJJAU0AMQBg/3P+Mv4X/Rv8qfvQ+lL7Bvsm+1P7vvtx/AT9rv1t/or+Rv9lAKIAlgHMAcQBhgETAesAVgCj/0f+5P0Q/VP8dPuu+yP7r/mr+p/6Hvsc+2b8kPyX/P7+fv8k/7T/3ACyAHkBbAK2AqADdQNgAwMEmQPWAu8D3wMnAzoDRgRmA6IBOgLbAVEAQ/99AK7+o/6L/jj9l/yQ/UT9//pm+wr9Sv1k/Pn8HP/9/l39tgBuAH8AegC0ADoBcAE6AaEA5gFJAB4AcAAv/2P/gQCh/2f/CAAUAXIBugDQACMCQQH3Ab8BDwJbAyoCYgESAhQDaQEtAXIBxQEKAoUBzAAwARoBrgAuAOr/PwCJAE4Ad/+G//D/CABK/+7/kQBcANIAcgGJAYgCwwIKAyMEoQO+A48EHwRPBDkCVAJUAg0BEwC+/bH9Uf2A/Kr7Uvtx+xL7VPuZ+jL8efyv/F/8/v2H/nr/EwA+/zsAXAKcAK8CGAIPA3oCwQLXASsDOwIXAQgC0QEmAd3/swAP/5v/dP/n/hH8Nf7J/2v99vz2/QEA0/6S/PwA///J/4r/zgLXAmkCgwIZBfwDCwOHBasGXAJiBBYH3AJeAwMFAAaaA7YBGAOJBfX+agNTAzkBvADOApgAOgBsAGwA4v+O/2r9fAFE/WP9FAGl/ZT9Rf9b/3z/w/3v/xMBlv7Y/k4Byv7Y/7n/Bf7i/h8BwgC+/fb/I/8vAPH/P/16AUT/NQEvABgAHAFDAIMAA/8a/8AA3QAT/439w/+e/SH97v6R/Jb90/6a/Zn9oP6A/5IAx/w3AJsAzP1oAn8Aof9WACMB1ADx/+//pv/TAB0ACv25ALT70v4l/qf8D/2y/eX9UfyX+0n+uvzR++v+jv7e/OT9IgBT/w7+/wEAAZsAqwJOAhUE2wIvBRoFvAJlBQIEcAX3A0UEpgRyAlsFCwPvA5gCoQMlA/T/6wMmBBwB6ABkA8UBtQI+AGYDTAHkAp//mQIDAPEBUwHw/oIBvv53AowBu/28AGkAGgCq/hMAEwAu/pf+1QGw/Zn/7QBlAV7/dP8zAwj/rwJRAYYApAGtABMAxQAkAXP8jP9kAEP8fP28/Xv9oPrN+0n8EvwK+oH7Ifkf/A37wPt6+/b7GP5X/BIA0P4cAZj/JgGG/1ECkwIKABoCrgD6AZkAFABoASH+VAFp/uv9xf3o/6T9pvzV/GX7FP9r+0z8uPs5/Pj9B/uB/Y/8xvwP/bz9Ov4y/rcATP96ApIBQgECAyUDVgN5A4sEGgMIBBoDbwV3Ap4DEQOGAxkD+wLWAU4Chf8oAsL/QwLX/tcBsQKy/TAC//+vAAoAAgDKALUAFgCDARcBUwAmAWYB+/2TAZMAtADj/3r/cwEN/1kAAP+LAnT9QQFmAGb/vv/rADQBdf7UAiL+XQTFAdz/HwPuAPACwP86AuoBCwFXAOUBi/8P/mwA3v5G/SD+WP5z/D/+CPzD/W36av68/df6+/06+xH/z/hV/jr8Nv6l/Hb8xf8+/er9Xv9G/nn+4/0X/6r/Lf2n/YQBvf0m/wUAgv4T/7X+Rf9z/DH/t/xy/XP82v51/Vb9/vzn/kv+efwjAPn+SwG9/vUBSgDAAc0DvAE0A5gBNQSOAsID2QGqAlQCbQKUAs//mARV/xEDeQEW/vQDVP5rAnP+OwF2AN//XQGG/1ACw/8fAYgA7QG8AlQA4gIiAxMDpQL8Aa4F/QKUAd8GjQHcBBoEtAN/AyABNwWrALkCRgC6AjsA7f8KAWn+yP5x/o///f2s/wr+tf5t/+H+Cf4X/p3/OP4I/4v+4f6xACX+9gGZ/M0DnP2rAQz/5P6dAs//KwCnAPgAuv/HAIH9UADH/if/df7d/ZD+s/vJ//76iP4u+uH+OfyV+rv9uPst/KP63/6B/KD88vxR/sr/aPw8AF//m/4s/hICyf8OAbwCnf8lA1QAigIcAX4BxwF0ASoDpf8kAcoBkAAP/67/1P/l/gL8TgK+/In9lv5p/kr+oPsbAdv6pAKY+3UAa/9M/xH/YgAc/qkCwv81Ac4B6P8YBMIAWAAKBNoB1AF0AgcEDgFbAHsFAwFABLwBmQK/A/IBOQMFA44AkARLAQcC/wC5AVsAMwEPAub+dwHp/lQAEQARAD//vv8x/4L+Zf9GAAn/bQHo/t8BYgDa/3kBTgEDA1AAlQJPAowDyQCfAWsD8wLsADsBQQMfAMgCJ//oAFP/BgDB/p79if2h/pr82P3z+6P8LPyv/Iz8R/xq/Fb95fyW/9X9EP2AAI/+c/9mAFYArP97Atr/CQLy/+0AIAEKAKoCif5FBDj+JAK9/hwBuAAI/8n+qP8h/6cAf/w0APr9U/9a/pv/YwCE/D0CG/zrAaT9NwGF/x39WQKqAVz/1AIIAJ4CXwEb/4YFWgCSAswEBQIVA/8AIAXY/gUF5f9yBcH+FgTxAfH+xwLlADgAv/94Aa7+JQLd/d4BdPygAmf+tP2dAfX8qP/x/ur+nv7j/9cA4P7k/jUBhf7P/5ECQ/3TAP8AbgCNAI//MwLK/zcCyv7oAk7+KAN2/x8A5wCB//QBNf6B/p3/oACi/Kv/+vxgABv7GgAy/nT8GQB8+0MBZftm/ZoAhf5p/0QA2v8k/xD/qwADAAT/FAJDAbj/sgAu/+X/4/8/AUD/L/94AEsB3f5a/QcC//z8BCP9cAEZ/wQAY/7Q/CQC2P1VADz//gDS/bACwf4cAPD+bwCCAcP9RADEAMX9rf8cAmb9LwD5AF3/af96AXP+SwMW/TcCLAGD/qwCjv/+/1sEYvzyAIYB4f97Ab8A9QHx/pkClP4wAOAAxAD4AIb/9QHHAKH+6AFJ/+wAzwCB/zgBnf4NARYAUQDP/40A1/4EAUX/nwD3/agBe/7JAI0A/v7qARj80P5U/w8Acv5Z/1kBS/wJAvr9PgHo/lYAZ/9qAOcA+v9JARz/fQKb/4YAHQJ5ARoAyAKlAC8DzP9GAfYAOgIyAN8BwQGnAWz/4wDdAVT+0QD9Ap38AgMn/77/fwEy/68Cjf+l/sUA5v8eAPQBZf54AbMBFP4VAYoAff8kAQ8AFwAaALr9HAA6/vcANv5j++8B3/2o/wkAgf7rAO39m/76AY/+lwAHAK/9sAGlAUf/egHR/qT/UwKW/XkBVf/I/8YAVv9E/v4Bjv7e/4IAvf2sAgX/bQBvAOz9hwLW/lz/ggJQAWr9lwGrAj3/OgJV/3oAAQKL/08CPf8OAd0AUwGg/Sr/1QBdAMT+yf9p/X8Al/w9AOT9zPwh/38CJPj7ANf+jPtS/0j8awF4/I4ABf43/9f9iADp/uP/DP+kAG/+CAAS/xwClv0D/kwCXvs0AUv92P6mAJz8h/9U+27/7QAe/G38iv8D/938eACS/c7/AQC5/On/mP6UAaP90/3pArT88gAMAfb/3v44ANH9uwLm/TMCqv2E/o8Cif3UAMH+igDtANz/If+OAYP//gD3AOH9AQEu/6AAZv/Z/s/+XwDU/O7+NgA+/Z4AAftgAPT8B/6x/xn89f+h+9n/4f1A/iX/7P3lAMH98/9O/3cAZAC+AJ8BWwBvAzX/PQPOATcC7gMjATEEWwESAfQBogOiAsj/SwN8AGYBnwLm/WcCV//K/jgDzfy7Aar/KgABAFf9r/9rAHv+YP7E/r7/mP2//vL9fP5Y/gr/YP2s/xD8+v5G/fYAkftR/Fv/D/0u/ST8bP+z/Cn9AP+x+owAEv6m/bv84P9t/XX+CP7J+8MB/vsdAdv+nf2XAbb8jAHb/6P9kgFG/dz++wGZ/pD/GP+gAiz/lwA+APYAKwKQ/2kAiABCAgEBWQEIAVgAwAHXAZoAaP/mAm0AZ/9PAUD/WwHlAIj9VQGxAC4Aaf4lAnn/M/9yAaQAp/9dAS3/bgJo/mT/YQEOAG3/7v4PAe3/Jf/hAfj/YP4LAPP/7f/R/s7+Sf7q/wMAHP1xAU//BAAG/vn+KQFI/jkBIv79AMv/NgCNAJ/+2gHz/+EADv9oAJMBPgFiAbD93wIzALH/8wD+/qYCYv8bAIQA+QC4/60BGwA2AC0A0gCPAJb/xf9NAfz+6v8PAbn9BwFH/kf/2/+0/ez/CP7v/wH9tP4h/1/+a/5z/lb+6f2aANz/D/10/z0Akf+e/kMByf4N/54D4/9N/7EAcQGIADH+xAAjAc0A2AGn/fMBiAFqAN4Amv2DAWkBpQCj/gQAKQEIAL0AH/8RAIYB0f+YAQ0APAGCAqoAWgA7AZQCXQCIAJcCLACnAIwAHgJEAOr/HAD7ARUAbf8EAAABnP/WAPn9C/9BANL/NwDv/pT+EAEB/1f/7/xjAsz98v3P/wv/VAHbAO78YQHN/8v+tP+tAAYASgArAHz/HQCj/xECtP2PAfABf//TALz/SQAjAQEA3v+tANoBjwCUABwAoQPH/9T/MgIGALgCGv9gATwDXgGEANcBrgCsAUkC5v+2AFQBeQIHAWv/AQKZAZgBvf+V/78CRgEz/wcBYQDSAMAAsADy/nUAbAC+AED/LP6HAYX+fP8R/1T+Qf8FAIf/Yv4g/3D+cf/j/jP/nf7w/9//7P2U/0n/ZQBaALX/fQCZ//gB6gFe/7oBUgMtAa0BVQKoAtgBEwJRAtwBjgLwAuUBpQGjAk8BUALpAP4AYQLC/4ICkgA3AUkAkQCuAA4BXgDYAVoBLADhAU8Bgf/BAIoCzACOAIMAdwEjANr/NQGS/87/Nv8TAHYAPv49Ap//ef5u//QAyf+M/2AATwAGABv/iADRAOb/QwBvALoAgQHFAA4AxQDDAFkAKQAPAXUAlgBbAMv/PACW//8AY//y/pEAmv/A/1H+J/8WAA8ABf9V/v0ANv8/AFf/mADb/zP/xv9C/wgAdQDN/kkAcQAp/0oAsf/eAOEA3v8nAGgA8AAtAScAMADWAM4AywBYACYB3gEeAPz//QBcAcYBVAAXAJMAhgFsAJP/YABSAYP/TwDh/07/JwCIADr+sv6aAIn/wv8i/2f/hACE/3b/nv8mAHoAGf/p/3YA5f/a/yIArAA/AHMAngABAJUACQAYANX/1f+iAI4Alf/O/wwBZv++/1AAQQCCAFn/5f91AIMAPQC0/hoAWgCB/3YAGf+c//H/DP+L/3z/nP97/+T+K/+B/0MA9v5t//n+h/+m/9X+2P/K/6//t/7U/nMAaf9jAJj/RP8nAZwAcQAtAEIBggF7AH8AtwFcAS0BKAAEAcYAtgH8/4MAhAA/AM0A+v8eAOD/cQCG/3P/Df9m/xMAQP+9AEoAlgAXAJb/hAAAAaEAxAGvAXMCMgIuAuIBRQL3AVIB4wEVAnoCzQCwAFkAOAArAHz/iP/I/4r/Jv8K/uv+uP2+/Vn9sv10/qL9N/6h/XP9zv0h/rP9jf12/nP+4P63/pD+b/7Z/q/+Iv8g/yr/JABY/5D/fAApAPP/IAAbAZIACQE/AdgBfQF0AbIBjgF1AbUALAFrAYgBaAAJAN8AoP+r/xr/C/9p/zX/J//3/ln/sv7e/kX/NP+S/1UAnwAt/1AAZgDm/zIBigAAAfcBWgANAb0ABQEqAC4APQBV/ywAbf+4/rL+iP6S/lj+rP2T/u79Cf7y/dT9O/5Z/mz+UP4V/3H+rP9r/xn/KQAu/9r/t/8rAPD/VQAZAGj/+f+w/+T/Z/9X/4j/Av+//lb/wP7x/rL+Ff/z/tr+A/8Z/+3+W/8V/4b/S////8X/Rf/j/67/H/+U/7v/4P6O/4z/Uf9g/0f/Wv8L/3v/Wv99/0v/RP99//D+Of9j/5v+of+i/rv+Vv+l/t3+GP7r/vr+Qf62/gT//f76/oH/Rv8s/+f/Z/+p/7AAWQB/ALQAqAAOAU4B+gBBAeoA/AC5AM8ABgHbAO8A6AA2AC8B4wCTAGsANwB8AFkANACmAD8AmgAZAEEAOQCPAJoAEQDZAGAAmgBjAGsAmADm/6kAYAA0ACIBkgC9AHEAfgDcAFsApQALAYEAbwAjALUATAApABMAnAAlAMkALAAYAE8AEgBOAIwAJADWAJcAfQCRAEcAXgByADYAngCsAPEAVwBbAIEA8f9pAPz/VABTAAIAUQD9/5b/2P++/1z/xf/q/6D/LADg/5f/xf9R/7j/oP+y/wMAvf98/9z/y/8X/6b/zf8mAB8AGwBLAPv/agDg/wkAMQAyAH8AzP9oAK//vP8XAI7/0v9LAAoARABJAFQAXgDo/xEAYQCkAIMAngDLALYAbABsAIMAMwBpAI4ATwCpAGUA5f/O/7H/gv+S/yf/M//y/v3+Q/4W/mr+dv5I/jb+Zv6q/tP+gv6P/rv+qf7d/lj/fv++/97/uf/a/4oAbQClAN0AUAEiATMBlgFXAX4BFAI1AdUB+wHuAdABswGQATYBdwHBAA0BGQHGAKUAKACNACsAnv+q/43/q/81/1v/8v4J/9D+E//D/tD+P/8r/xr/of9C/5f/zP+d/7X/+f+K/87//P/f/6n/uf+y/5X/mv80/zf/R/8J/xX/+P7m/uP+7/5C//v+XP8P/zv/H/97/6H/SP92/3H/Of8p/6//Rf9n/5X/ev+C/5j/yv+7/7H/3/+T/9z/1f+N/9b/rf+d/9v/zv/3/+3/7P+9/9b/6P+F/6r/wP/x/z4AIwDl/+X/IgAgADEAVwDQABoBOAElATMBhwFbAYQB5AGtARcCEwLZATMCHQLvAY8BmwFxASUByACiANIASQArAPv/tP/R/47/mv/q/5X/CQCv/4D/9f9GAD0AMgBYAJkApgB5AJIAHwHvAAQB+ADLAD8B+wD1AJ0AzACrAJ0AyQBCAEUA/v/d/8T/gv+T/yP/S/8u//n+QP+w/vL+tP7e/gX/8v4K//r+qv7l/jn/Kf8g/7H/0f8GABsAEgAtAEkALQBeAKcAlQDKAGsATABjAFUALgA8AOz/3/+Q/1n/Of85//D+qv6A/sv+l/4E/9n+9f5A/1f/W/+P/wUAJwBuAEIAtwC/ALYAAQHaAOMA/AC+AMAAsADIAKMAXAAvAPn/EwDi//f/jf+e/5b/of/2/6r/5v////n/9P/U/wEA8f86AE4AKwAaAGgAZwBZAKIAhwChAJgAoAC8AJUA0gDiAI8A0wDVAAMB1wDTADcB0AAXARcBGQEaAdoAEAHUAGgAsACMAHEALwDx//D/lv/u/5j/iv9N/zX/c/8p/1f/PP8+/yT/Tv9d/2v/gv+w/1r/V/9//4n/ef/Q/8//sf+k/9f/SgAHACEAHwAIAOj/3f/L/5H/jf/a/7//AwDa/4r/zv+a/67/FwBVACYAHwBPAGcAtAAhAS0BVAF8AX8BxQHgAUACTgKaAnQCTQJaAnwCrAKCAnsCcwL9AQsCAgLLAd4BLwIAAhECCwKzAXQBpQHnAYUBsgH8AdgBZgFSAb4A3ACLAIcAUgD3/5L/Iv9s/tf9wP3N/Wn9O/0S/bX8Jvza+/D73Pu2+5L7kPsL+1z6W/pX+ab4tPl1+kj7/fxQ/Wz8+vtF/Iz9S/+PAcgCxAMXBHsENQXrBYgGgQfpCAMJdgl8CZsIHAcYBm0FNQWvBTIFNARSAuf/+v0k/Rb8vfsd+8P6vPlD+S74tvdb90D3w/fL+AT6j/oD+yX7KfvH+8v8S/6I/4QA3QCwAKUAJgEpAgkDaQPSA+UDHQT4A48DDgPwAhEDIQM5A/UCRwI9AasAnv94/9D+G/7a/c/9nP3o/Gr8Mvz6+7f8rP3l/ZX+g/9P//n/EAB0AAwCcgOwAywEiQTqBO0EQAUdBb8E9AS4BHEEwgMKA5sB1AAUAGL/7P4o/hL9dvz4+yn7fPpP+ib68fkA+ir6jPoT+6P73vss/A797f3m/tT/lwBXAdkB+wFGAmsC9gJ7A0gEMwTPAywDcwLWAbYBwwHQAcIBbAERAcgAJgDZ/23/Of9U/5b/qf88/1H+0P2Z/WX9Uf3g/cr9w/2X/T79/vxN/W39qP09/rv+FP86/2T+Fv4D/vD9nv3i/Tn+fP01/a78C/qP+lj9i/5//nX91vsZ+xn9D//9/wcB8AEGA9cDsQNJBCgG1AW8BX8GtQdmCD0IAQdjBJYDngQEBWsE6QMaAqUAWP9G/rL9ef2u/D/8Lvwj/Hr86Pub+gf6LPql+9P8of2Z/Q79KP1X/f79/P7p/5IAxABQABEAKgELAvgCwAJ8AsQCuQPkA0wDhQIaAu0BEAINAtAACP+6/Tv9y/wh/Vr8EPvF+TH50vl/+q76LfrZ+oz7pPxe/pj/iP+l/0oAfwH4A7UEMQWmBE4DfgN9BDMF7gR3BEADWwJNAgwCAAGk/6P+R/4V/gT+Kf70/T/9WPy9+/T7zvya/Zv96fxP/LL8/vxJ/U/9B/2i/ej9Gv5L/tj9Wv06/TT9Ff0+/Tr9Sf3K/OX7APxt/qcAfQBVAJT/v/7lAQsE2gR2BbMF2QUaB64HCgimCFoI5wd/CKoIKQnxCLgHHgZpBMoEnAWFBUMFogO/AfEATgBJ/7L+Lv6I/df8dvzj+5L7IvqF+IX3vvcH+dX5x/jY9xn3Mfdj+GP5PfoW+1X8+vwC/t//nQEnA4UEnAUeB+QH5wiVCV4J4gi0CI0IqAjiB3sHNwa9BPQC+AHtAL3+v/17/T39ePzB+6j6HPmk+VP68Prj+1r8Lf2L/Wz9UP6u/4IASAKAA8cElwXuBh4HYgbnBWUGpAcICGAHjQbWBDMDRwKiAcMA/P+0/sb9ZPyL+2P6nvmQ+Lj3Tvc3+Df5BPlZ+Nf38/e4+CT6CPu+++T7Sv0u/nX+nv0N/sb+T/+MABQBvQDk/33/kQHKAvgC4gNCA58BjALGBKIFuAahBg0GlQbKBhwHpAhOCGoHugakBiMH7AafBu8EKQNwA/0DpwNJAwQC4wCnAO7/mv/X/2D/7f0D/bb8xPxO/SL8u/ou+iH5i/j5+Kb45ffg9573fPfL9wP5Gvlt+Qv6Wvts/T//xgAbAZoCAAOEBO8GTAheCJcINAmPCTwK7wk3CdkHLgdUBggGhQWDAz4CVwDP/i//R/+e/mH90vyV/BL91f11/Uv9nP0E/pT/qACLAUoC5gHjAf8CQwR8BcMFMQXiBOMENwU0BdYE0gMDA14CTwLvAZwB5AA8/yX+zv02/kT+w/3M/Bz8VvtL+zT7/foq+sf5Q/kM+VD5Dfm390v3Iffi9on3aPjd+A34VvgJ+Ub5wfpw/C79tvx0/YAANwIJBBIF7wNQA+wEdgfFCJEJXAnRCA0JQwgGCGkIzwezBpcFIQUqBb8EyAMEASX/K/+5/xEAAwCL/tr9D/2J/Bj8AvwH/AX7h/pn+tD6gfpv+YP48ve4+J/5Tvpx+hH6L/o3+rf6BPyj/Qf/nf/K/7gAwQEIA2kEUwSwBAsFLQaIBu4G6AZNBuAFrQWqBQMFAAXiA1gDWAK/AbwBBwH0/z7/hf8NAAkAzP+I/4L+UP4m/wv/J/9H/1//0v6L/+v/6f/g/wz/L/+a/w4Atf8J/wb+Zv2U/cb9if3B/F/8c/sn+6b7dPsG+6j6dPvC+yv8X/1C/Yr8h/zH/G383f24/hP+U/3N/Bf9Ov2//ef8+vuO/AT9gv2B/ZD9tf1o/cH9J/71/m//U/+X//b/oP+yAGwBQgB+/yIA6QC4ArEE/AMkAywBJgGpAh4DQAQUBFYDKAPFAlECiAJCAeIAqAE8AngDHgRfA9kArABoAAgCWwOlAhkCqwAe/yP+//1K/TX8Xfv7+iz6j/mr+fT4Y/de9hT3Jvgc+U35f/k1+kD6dvtc/Lz9mf7k//EA7AHiApMD9QR7BaYFWwbEBrMHlgdkBwMHXQaIBsQGkQbABe4EtQPbAiQCFwJXAcsAz/94/1D/PP+d/hv+CP6o/gQA6AAsAd4AOQBdANMALgLWAtsCRQIjAk4CmAK+AkACHwExAPz/sv8p/+3+s/2R+3H7rPsu+6P6Sfqb+XL4jvdU9+f31fhs99D2w/gM+Tr52fqe+vX6GvyH/Vb+Ev/K/7kAWAHZADkBcgKnAkUDGwOxAkUCPQKhAtMBBAFuANsANgHg/38A3f+c/gAAjP6t/QP+tf1Q/Wn8Df2c/jz+Kv6A/iH+FP+aAKQANwFpArsCUwMQBa8EvQWtBeQEFAbmBaMFSgURBZcEVATcAzkDhALyAdgAFAD9/8P/d/+N/tv9Yv2X/E39uvwm/dr9E/5E/nz+sv7S/kn/dP8KADcBtQH2AZUCVgL6AX0CoQLDAuICMwPhAv0C9gIeAwgDcAIiAvwBDAIsAlwDQQKGAqYCDwJuAgYC3gEBAvIBLwL5AfkBjQHYANsA4wAyAPkAMgHLAMb/WP9s/8D+jP5P/iz+P/6O/pX+G/7P/M/85/yR/B78R/xQ/bj8afs4/Av8DPw8+2r8FPwd/Mn8C/1G/S39BP2D/mz9r/7e/13+xP3T/8YATP80/0oBWAIGAM//yQIKAzICzgCNAhgCOgKzAvIDjAFcAV8DPQK+ATgCQwQcAbUAJAQ+AocCJwPaAVoDuAKuAk4DjQHPAWoBCwHw/4IA+QDGAJ7/Vv9ZAOf+Ef/1//7+DP+lAO8A1ACxAXMBKAJ4AjgCyQEDBKMD8gMYBEcElwRMBPcECwVPBBMFegXeBcMFbAUWBioFbAQtBdMEfgOlAwoDiQJkAYgBPAH7AG7/LP4R/7H9Gv4P/gf90vvd/NT8nftT+1r9Df1//Zj9kv3b/bP+o/4k/1AAHgB9AacBPgIiAg8DPAMCAzEEkwSRA10ExwRNAxUDTQOeAjQCowIuAsT/ewCsAG79nf4p/ZD7X/zN++r6Nvpl+nb5sfp8+jb4tvp//MT6Qfkn/fb6ffts/Tz9ivtL/zf/xP0m/zf9g/7CANf+i/3c/5EBEP4J//YAGf8w/3ADPQGm/xECTwIgACIC9ANhAFsEGAWCAlYDiAa1AhID3gWbBM8C6gPkBHwAQgIMAkgBaAFKAbQAfwCy/23/2QBl/p3/F//B/63/y/4DALEAuP6C/pIBmQD//7MCmwICAecBEwQxBKoCbQRDBkMDkwVaBkAFRQVjBHQFPgSXBPYEAwXbAxoDbwMHAm0BbQFuAX0A1/71/hYA//0t/fX8Y/y4+wP8rfut+1n68vk0+9366vl1+4D73fog+/77uv0B/bL+z/4R/9EA+P/cAAgCBwKSANIDWALHAWIEYQMbAToChAO6AYEAQwIqAvH+ZAB6ANT9J/+S/df9mf0H/R78uvxH/TH6Tvsh+3H69/m7+3D79fmc+vT9qfsH+jL+Dv1I/+n+xf9c/9IBpwEWAM4B8QJzA6cBtwI5AkMBzQKWA30A+P8+Af4A0AAR/iQAhQDK/Fn/HwA6/Kr9awBF/Y/7fv7k/e792v1f/q/9Rf7+ABb/z//0AlcB1P/SA6QB0QHdA8QCfQK6A8gEhgMlBBoEPAM4A5kDRQICAwQEFQCk/40C7QAL//j+VgB4/Yb+m/9G/J3+Iv/u/JD87P3z/UL+Tf41/iz/tf6A/pwA0f6P//YAvf+P/4D/rgDZ/1L+rf8N/9P+Pf2c/uX9Tvwh/tX8Sfym/aD7EP2b/ZT7v/34+7b9Y/7X/Gz/7/4Q//f/af+bANwAhwBCAewA7wFkABwCMAEPANoBqwD0/xD/NAF3/xv9zf7D/3f8Zv/F/cj9Cv6B/Nn+yvz0/ij+fv66/Q//9f/x/vv/GwAhAKAARQBhALUAvwIK/ygAAgLb/6gA3P+rAID/EQAZABP/sv8yAJn/ofwQABUAxvzW/mD+xP3s/i/+fP6f/cT+Of47/ub+WP8M/9D+ywCp/k7+0wDr/9cAwP+XAN3/KwB4AXEAe/6//+4Bo//1/sL/pABCAIz87//N/8v9hv9x/479WP1UAHL+G/1z/7X+//2C/sP/5//K/x7/NwDOAMkB6ACHAD8DwgFXAXoC7AKvAvsCPwBnBREB2f9UA8QCxwBpAPICLQAFAaQALABq/n7/JABq/0v95/2r/lz++P0X/JT8cv5n/BX92/sl/bn8wP3g/P78Cvxy/lf+P/zn/Qn/t/5AAKn+fgAUARUABAJjAUEBkgTHAjID0wPwARIFyQPhAcYD6wO3AyABjQLSAo4AcgPy/p//WgJT/r3/Dv6M/8f+4f2E/ZP/W/0o/lb+ef4r/oH/n/6vAMH+KADnA1X+UgI3AiH/1ANcAcwC8gJrARkD/wK3AnQC9AGBAZADUwGRAI0B5wGJAHUAkP8SABEAUwDE/UT9lP9j/mf9Tf3y/a78xvyA/S763v0B/X/55f7I+xX76f6y/Wn7hP4N/Z/+Wf3O/9T+2P5BAacAr//kAUoDZ//fAtUFjAADBXkBsgP6AsUFpgL4AH8GFgPCAwYEGQQYA0AEKwJNBPUBxADRBHMBcQGv/2IDfAAa/UAB1f7I/KX9G/+w/Gz8g/xD/Uv8q/0A/GX9aPw0/QP+Rf2A/UX+jAAE/vn/dABSAfT/ngHxAuoAJAOqASUDaQTuAYsCwgS5AQIDUgEqBFAEuP7rAwwBlP7FAl0Acv4xAGT/lf+a/rn+nv6i/6D83v+J/n795AD+/Yb/wf6X/wgCEf4SAAUCPAA9/ngDfP+AAkQB3ADtA0j/MgESAxACBQBnAoQBQwIVAVABuQIBAOgBFwNG/o0CdgCQ/5IBrv3XAiEBcf4YAV3+lv+gAD/+oAF9/Wj/Df8QAJr+2/6H/9L/lf9H/c//swC//WQBNv0aAHv/Y/7RAIf+XQAKAfX+RwJn/wYAPAIAAv0A1f77BEsBJQJQBLAB8wPQAL4CYQXeAGkCCwReBH4ATQIsA23/UQI4AawA9/9M/34CpPvS/i//awBb/Zv7aADg/ZH92/6v/Rr/X/2z/xj/6/6B/zsAOAGJ/h8CywPY/YgEkgJXAHgFaf8nBl0Bpf01CAr+ZgTmBYf+agMTACgAgwGD/fIAXADq/MH/a/th/nX+vfvF/GX9a/xt/Zn7J/zr/mD5zP81AHn4RAIJ+8X8bP9t/Oj/If7e+3UBGf2n/yEA2v0uAab9Hv22AOX/rPzpAEz/f/+n/yUAcgCo/tgCvwFx/moCYv/DAjMA3AFlAMkCNQKkAbwBNQPsAlcAVwatAnMCXgJqAjwCY//LBLL+gQMUAuD+mQJG/YsBDQBt/WMBaf1o/83+6P28ADT9Nf5rAH78H/9mAOz9qP3jAB7/pf+PAJsAWwHs/qwA9QLn/4gAGAGkAS4BggAcAikC1v7RARkBQf/a/x0BEgCz/FQBMgDE/Xf/+/9RAFr9aP+n/zf/EwBU/4n/K/+EAcv/x/9tAdr/IAEh/60AXgL7/6YBGABTAacCq/8AAW0B5P+ZAcr/AgATAfP/n/+y/y0BjP0jARD+WQA7AjX8DAH7/K/9RQFy+1v/S/9R/w38t/71/478lf5d/OT8Pf9p/F7+gP4o/dP/VP11/zz+W/9s/2b+9v7D/3cA4P1cAMQBJP51Aj4ABAHyAe3/ggIrAGAD3AD4/q4ERAA6Ar0EDP8HAyIBXgL2/xQAXgHb/x4AeP5yAfv+zP6z/jb+i/9I/cL+0P61/sj91v5T/zP+OP+c/ZEAFP8m/joAMf8xAEQADwDP/xcBxgBPAYP/A/+BAk7/3wAIAYP/4f9aAQoAwP9JAIQA5//OALT+4gA5/s8C4/8t/k4B1f7//8wCbfyYAckChv/x/yz+5QH2/m/+AgOf/Zn/IwDV/n8AC/5wAFz+Lv5i/3kAUvzo/rT/zv/8/g79e/+lAC3+8//i/icAMQA2/ooAOP9tAoD97P4zA1L8vgSo/zP/w/89AQoCeP6pAHkAeACa/w//2v6HAlL9Jf6aAOb9Lf4n/zT+JP40/mr9tP1IALj9S/7X+0gDsfwT/nD/uAD5/r/+5/9uAWgAZf+EAcD/q//iAX0ALgEEAOYAMAG6AOr+FAFq/+wAMQHa/MYBY/7X/mYA5/zY/zcAqv2//lH+yP3R/ij9+P4+/bn+XP/e/C7/8v4y//D9mQCP/vr/Ef/4/c8BZgB//6L/+f6QAmEAAf9OAtb//wBpAbL/lQES/1oDGwDw/4UAsAFLAzj9SgHM/18Aof/4/5QBsf6WACL/HAFWADkBqPyrAoD+S/6rAP3+1AB6APX+3f+R/+D/7wAI/gsCCgLi/CMD8/zx/acBgv3lAKUA/v66/ob/+v8b/47+ZAGs/7n+zP7yAlj+9P1lAnIAXAHZ/U4D9gJk/xMBqgNsAaoCJAKHAXIDogCfAM8DTP8EBIwApAA3AkIAlv8JA2H97QCfAmH/xP/Q/94Bzv/r//X/uv7xAq//Df8jABL/GAJ9AHH9cQFeAFkArwIt/ocC8/7VAFoBJ/7OAVL+pwPQ/fz/2wBi/5YAeP+/AFb/PwAIAlv/6gEfADwBhwHnAboBDgBoAxkBOABtAcoCHAH4/28CE/+IBKQDbv8qAyb+sADAAWsB+ADf/UkFGfy2ApoD/v3/ATX/+v5sAgv9xwEEAWv+XQFr/jcA4ACl/8UALwED/kAC9P9OAEkBXgCTAJwBbv5eA34AKgI9/8AA/QMdACgDDv8QA0cBiQCmAIYArQP1//L+sQCLAIcB7f8nALH/9P89AJ0AMwADAJ0AEf6hAan/Hv9m/zwBbv8BAfz/gP9QADgC1/7K/WAAwQEq/1/+k//5/wkA0v3VAPr/Gf/q/7/+oAAz/34BJP7k/VMAnQBO/1D/i/8vASj/6P7PAPr+sgC8/zD9cQFUAO7+6f5M/9IA8v/C/DgBZf+eAbcAS/2wA/v+sP3iAdD+sADhANn/wQEj/1sCXwCJ/hIDeAH6//4ACQOkASH/RwK2Aj0Bef92BPUALAAaA6QDXP8bAvADvQDEADkBFASGAGj/8AIYATYBQwAUAvj/VQDuAJoB3/8e/9cBov6W/9j/jAFK/c7+vQC0/+f9UQDTAeP8jP8kAdQBo/6b/2MCRgCCAIAC7QCn/WYD8wCbAJMCegGKArz/qgPYAd3+IgNJAmH/bwFdAS4Ay/75ARYBkPsQAUYAU/wJ/2D+PADx++X9Nv44/IAAwfxm/F792/4i/kj9g/xqABj9G/1c/xP/PwCT/Wb+WgDN/hkAv/9aAOX+HADkAAwBjwALAaUB7f/RAQ0DBwEHAW8ATQItANP/OAFGAFcBSwBi/U0Cg/8hAS3/sv9sAbv+fQBA/9QAyf8R/6X/+f9QAFUBhv5O/qcC4f5VAPAA6wAV/tr/zwC6/6z84ALp/0v8AQK2/4D9pwEY/ysARP4TAa4ANP7CA9z+c/5zArv+F/4MA//9JQJQ/1L/JAFH/tj/mf6B/dwAzPyJAKEAE/ve/lj+gv1I/4oA3/xa/hn+6v0J/jP/QgDI+/n9RQFa/csAKv7G/i0A7/zP/oUAX/4pANX+6v8c/47/zQA//xf+jwGw/y7/ugAYACP/4f9AAOn+kP8nADv+Qf/l/+z/g/1c/2//d/79/UL+GwAK/wT9JwDj/bD/Sf7P/jAA/QCi/s/+CP+d/9n/uADZ/n8AfQD0AKz/hAEHACf/gwHX/28BjP6iAfgAEP4IAn3+cv4HARX/9f5qALr/Pf7P/2f/mP7IAMEAZf3I/joA7P4q/lH/6v2M/7b+kv74/en/xfxe/ZT/3/sEALf+Nf0e/+78MQCN+00AGP83+7MA8f+0/G39lgDd/zz87f9BAaH7vwKnAKD+rP+h/nkAgQBq/27+ygDcAWH8rgG7/mT+2P7gAA//Rv/W/sAC0/1+/QMC+P5ZAC0Ca/3FAhn9V//bAjP9HwJRAnT/+P5L/4UEyf9Z/RwDsv9HAOP/v//+/0H+ZP/i/hYBQ//s/cH/DP1O/wj/VP3B/zH+fQDk/G/+oAHc/Y7/nfym/hH/jP5qAPb7cgB//sv++gAm/NgAnv67/Vr/uAAv/3MAU/7rAKn+5wBqAR/+jgIxAIL/WP/GAeIBwgDW/lwDpgCRAAEAcAETArYAN/8RApkAXgL/Ac4AcP9SA2wBe/9qAbkBFgCXAJL/NgIxAHD/hf9c/8L+HgCe/q3/zf/G/Hr/Pf3K/d8AOfy6/pL9bv8P/a7+xv1L/Qr/PP9n/e/9LQFv/VH9Uf8c/rMA3QBe/Qb/yAGZ//v+KwIsAMH/1wDcAaMATgHEAyv/JQIxAw8AlwFyAoABBgE3AMsA6gKyAioA5QAGAjQEffz+BJ4BkfxUAo8Cef1H/zwEg/14AQv/DwDfAZz9nABPAbL8NwFx/6r+MABO/TIAlACt++sBofxB/VAAc/35/zf+bP/4/0/9I/6C/rgAn/8X/JMB6/9G/3MAygEQ/jcCTAEX/3oBlQBuAVf9NwKSARr82QLlAIb/TAIR/0UBxgB6AeAB1P+xAEAD9QCg/+ABFAJMATAAgQIsAZoAYQG3Aqv/1QCpAh8AlwCaAfkBq/4/ASED5P06A8P/tf6cA4b/jQCkABQA4QGB/8MA4gDoAUMAuf58ARUAFgGE/lQAxv9o/2cCqv3rAF4A6/9Y/y3/oQHI/iIBUP7o/14BEP4nACMC3f54/jEB1ADwAFP/bAF2/yAAMwOkABn/bQLl/04AuwDaACsAiAEHAkP/JwLQ/w4CoQBc/8YB+f+wAiL+YQAHAWv+xAKn/8H/1ABc/zD/lQAa/1UBHwAo/swAlP7f/oX/ywCW/c4AiP9r/gkC/fx2AF3/q/6nAiT/kP/NAfb+qgD9AoL+HQPyAgEBAwEfAVMBCAS9/V8EAALIAJ8DWP/hAQgDVAHVAxEAwgLpA6sAbQEtApQCSQF5AMACkgIpAqv/DQGhA4D+/wHBAYr/QwKD//b/Z/9VAFIAl/+f/XQBFACo/HP/N/98/zz+L/2NAEj+iPyd/p7/Gf4Q/gH/Hv+i/eX/ggBi/aD/z/1g/xMB1vvfAs3/MQBr/ZIDawHG/W0BvQA3//UANAFBAPoA1wAnAJ//tQHeACABYgBsAkYAnP85Asb/jQCbAuz+P/+WAisAZQHP/93+7wJ6/xX/XgIGADL/cAF+Abv+jwEB/w0BlABk/34Auv/9/pz/8v/9/g4Avv/r/57/Gf5UAcH/Yf1eAa//lv/S/y0ARP99/6r/bwAmABEA3QEmAGwA3P+X/3oA7QC1/zEBkP55AnMAkv6RAI4Cxf1SAIgBKv9AAI0AZ//5AC3/UgG8/2sA+AAD/40AiABj/2AAuQHk/W4A+QA7/1oARgCW/sv/v/5L/x3/HQAu/uL+mv8cAPP+jv85/s4AXgG+/dr/ugBUASv+av8vAib/MQAWAsH9UAHYABYAzv4xAbsA+ABIAQT/uQPc/3YBFQHcAHQC8P58AnMETv8fAWoB2wHqAAUB4QDJ/g8DmQC1/2QA0wDbAfv+CP9FAxj9tgOXAA79AgQ9/F0AFADd/cYBvf0TAGIA3P0GAF8A4fx2Adr/f/7n/0n+pf/J/hX/Jv9RAB3+0P+Z/QQBNf+d/Rz/zP/7/z/+UP/y/ij/pf+I/mX+dwDx/7j9zABG/3oAG/6EAWoBiP2rAXr+jgAK/w8Bpf9i/coBLv9MAQQAOP9PALgBrP+MAfIADP+5AL//dQGn/yoBZf4pAnr+yAHOABz+hQHK/Y//PP/B/on/2gBb/ZX/dv1iACL+S/4S/yH+ZwCp+w0Bpv4j/UQA2fxsAPX9gf6n/yn95v8D/tv++P8s/voAP/w0Af//7/7G/2P+t/+lAIv9aQBIADIAq/+0/7kAVf6oAqP9EP6qAgL9+wGLAIX9sQJ7/HMC5P6P/u0AO/2nAdH8LAF8/gD+QQD3/Qr/uf6+/YwASv/KAJf8NwKQ/Pz9ywGT/BMB9P71/r0BHP0wAtz9MwBzAAr8oQK9/msAAwK0/kkBRv+vAlMADAHtAPT/XwHNAO8AgAFzAAYCkgBJArgC8P5YAyr/uAC1AAgAvgDp/pABUP6yAZH/VACE/yEAbgBQ/3b/b/6U/6X+c/8A/vX+Zf9U/V4BAPztAK39f/+h/tf8JwA0/R3/qgD5/A0AHf64/IEBlv1v/2X+VgDn/f3/AgHx/TgBUf9Q/QwCif/l/2kBgwBXAY8AGwHbAIsCUACVAaAAkwGyAZ8AmAHe/wMC9QCWAOgAPQEYAVEAxgAXAPj/2f9cALgAPv/KAc/+vf9pAMD+NwA//wv/gf/R/63+LwBuANH93QA+/nz/if6OAHT+aP7qACn+Fv90/5X+vAB3/poA7v85//EB/P0lAfr+gACwAIQAxf89ARUAMgDQAGcA3gBR/hID0P8yAWQBgwCiAbn/vQAVAdr/6QHo/ysBDv8KAuL/HP66AXT/ZwFgAHcAAwBOAMz+ogCEAM0AoP6/ANwAlv+nAff9xAAtAIIAf//B/1IA3P7jANP+bgAPAd3+lQBs/3z9VwKX/ZkB//6sACP/zv8JADT9sAGp/eUAFwG5/tH/G/9cAMz+bAEz/n4AUQCb/wsBvwCVAMsAuQAv/zoCqwD5AKgB3ABnAaEBNAKWAHcB6gAYAVgB+AB0AWoAN/8LAhoA4gD7AcL+8gEWAGH+IQIJ/uICMf06AV7/DAA3AHz/tABP/ykA7/9b/0sBWgD3/5b/rf+eAK3/YgBEADX+PgLb/q8ASAPx/RwDGv/FAMwBif9dAgr/lgDBAYr/2QAwAVP/hgEpAAYB4v4TAWoAyv5jAYb/cwFqAWD+NgGv//cAov9/AN7/GADQ/8b/0QBY/6UBM/6lAGcA1P8e/5X/mgCa/+f+xwCt/3H/KgEl/pEBCf8wAMcAEv4AAKH/zv8PAFD/5QEH/h0B4ADJ/wwAdgBMAKkBHP9/AUb/lAGaAXn/4wKM/ncCfQDcAG4BDACBAdoAdwLj/7EA//9eAM0BSQB1AOkAMAC1AOz/Tv6rAU3/7/9xACH/kwAo/1P/bwD3/rsAYv+i/tD/lv6xAFn/df9E/sn+NP9c/sIACP5l/3v+ev8U/p/9p//7/fb+VP94/lL/Qv5n/zX+P/9e/1n/H/9fAP3/g/8qAEYBMAA+Aav/GgJzAG0B1AEIAb0BZQFIAacCpQD5AEcBIgFWAU4BpAEDAGkBjAD9AQcAkgCaAJkA3P8QANn+xv/X/p3+Cf+M/x//2v0Q/6H/Gf7G/hb+cf5Q/+z9bP+d/6f+vP6C/1H/8/5v/1r/FQAY/vkANP8+AFX/MQFv/3v/zP57AtX/agN4Ae7/ygGyAHUBoABkAcj/LQC4AUMAtwBq/9L/u//G/4AAE/+v/00AEACEAFkAowBp/ygBfgEQAdYBUACZAK8B0gC0Abn/WwFLAXoBWAFr/54AQgEqAFf/5/23/4L/tQBx/mr+Kv/Z/g0CLwAS/lT+HgC3/8z/YQC7/fz/1QDZ/lkAWP3v//r/Uv6+/9z9CgCb/rr+4v5f/77+hf8RAJ/9eQC8ABX+agBP/9QAVgGXAHUAXQBsADYAFgGT/z7/GwCc/0YAMv9D/9L/Z//F/l3/WP8B/n3/lACI/scAmf7e/wMAHv+6/xcAhQDQ/yYBOP+fAEYBWv+dAZ3/xf47Aef/MwHL/zYAOwDy//IAA/9N/9T/lgD1/4P/9/4t/8UArQDN/zj/iQDwAM//kf/M/sj/QgB3/8H/Of9lACUAC//S/6T+BQDL/+z/Tf/P/87/MgDB/14BggBtAIYBVQBsAGUA9QCKAVEArAA9AcUAvQA4AFsAFQCY/6j/0/46/0YAMv8r/639fv+q/0z/Zf/F/Un/uf7l/rP+d/5b/63///4+/1f+1f7j/oX+4P0n/pX+zf4u/57+1P5yADL/LP/q//b+qP/m/0MAZwA1AKIAqABaAUkALgFAArn/7gAcAOP/qwDG/1kApf9xALkA3gD8/3UAqf+h/0AA8f9L/67/i/+1/+j+4//u/6n/5/4w/nv+mP82/z3+xP1B/xX/xv4C/oH+xP4p/2b+Tf6x/nT+qv6i/gj/rv5t/sL+Mv8L/jD+Vf54/zn+0/5+/q7+gf9H/+v+jv8WACwABwAz/ywAxgBnAPX/6v/c/3wAMgCi/yX/6/8J/1f/L/8g/+r+Lv8M/7j+4f7w/iH/av5K//n+IgCG/yP/Xv/Q/sD/Y/+N/+j/zP7S/xz/e/9g/7n+BgDl/h8AcP+F/+//Gf8xAAEAMgBAADkA2gCPAPIAx/81AG8BwwDNALQAJAE1AU4B8wAkAeUA1gCoAIUAsQCqAB0AsAA/ADsAVADIAGYAcADR/34AVwEHACIAAwCRAPIAPgAqAEsAkwBeAPX/4AApAF4ApwAJAGMA//9QADEAcP9VAHoAYwA2AMT/BABmAA8B0ADCANQAUgG/AWgBRAFoAaEB4gHsAW8B2wGVAVcBzgAXAcwAwQDHAGMA+wDSAF8AagCR/57/xf+//57/yv7W/nj+Uf5k/gj+pP7C/uj+kv9nAGIAmwHjAfQCsAPWAwUFuQQQBTMF9QQyBXcFkgTNA90DpgMHA00CBQJNASEBfABH/+/+sv5L/uL9Vv3l/Cb97Pw3/Or8kfxw/Cn9Jf3O/I/9ff48/pT+KP9H/8X/v/95AOkA1ABXARgB+QGcAVEBUQKLAp0CtAIdA3cDiAPUAm0DsgMCBEkDqgITA+ICXQIIAmQBcAH1AOwANgC+/zkAOwCs/0f/Sv/Z/6//uP+W/xUAYwCdAMUB0QDrACMBgwEGAqYB7AEnAdsBjwFoAR4BSACsAGUAwv/L/5v/Y//b/uf+qP5N/nn+lv7K/q7+nP7O/nv/Vf/u//v/KADCAM4A4gDkAN0A+QACAVgBlwA0ABsAOgBJACf/c/9U/1n/MP+r/tT+qP7r/o3+3P0i/n7+d/7d/Y39kP51/m/+Ff9B/8X/uADoAO8AiwFkAtwCxgLgA+gDwQOAAw0E2AONA1EDxQJdAssBsgEVAXIA+/96/8D+L/7P/WX91vwP/E/8Ofyb+3D7y/s2/ET8ifzp/Mn88P1l/g3/Ff+r/6EAfQDIABYBDwGkAasBtgH1AQcCOAI8AiMCaQKOAsIC4QKuAgcDygLxApsCIQIOAqkBxgHoAIAAXQCq/yP/A/98/l3+Of7g/Yf9/f1s/rH+y/4b/4b/6f/WAGUAIQF1AfsAjQHCAbgBPAFAAcoAsAB9AEcAFwBG/1n/wP8J/5j+l/71/nL+rv6P/sT+o/6K/ur+Cf9Z/4v/S//3/00AggCGADMAawBhAGAABwBp/6n/gf/g/qr+u/5c/uT94f3M/af9yP1a/a79xv0m/kz+2f0A/gH+6P3H/Yf94/1x/tz92v2C/lb/ef/U/0wACQHKAc8C5QIpAz0EsgRhBDsE8gS2BP8DoQNPA7QCQgKQAV4AlP8r/7L+vP1Q/E78GvxF+436Svpo+sb5u/lE+u/5Yfrh+lj7j/t//Ej9r/18/kL/GgDZAB4BwwEZAn8CvAIDA8MCjgKPAqsCxAKMArYCywKyAjcD+gLPAhgDCQM+A80CbgKwAqQBeAH6AO//qv+X//T+av4e/kj+KP7O/W/+g/7q/ib/nv8XACoAkAB9AIQAXwBOAGQAnP82//T+1/5G/sT9av0O/Xj8JPyf+wf7zfqh+sH6hfqV+uH6AvtH++P7Wfzl/Gb9N/5P/i//yP+o/+7/4/8BAL7/hv8k/6f+bP5O/p39+Pwl/Sj92Pz3/BH9Dv1e/ZX9rf3w/Qv+T/7f/mD+Pf5h/8f/4P8uANoA/gFvAiMDsANxBNIF6gXLBVAG4AZbB7EGDAY/BikG1wW2BNcDjwNmA80CkAHoAJEAiQB0/2H+RP4i/mb9wPxO/NX7p/sd+9n6Y/qz+m/7J/ss++77u/wh/cL9kP78/sn/ywDpAAkBmQHWAZ0BrAGGAagB3AHHAZ4BSAGgAZUBcAE5AUoBZAFYAUcBrAB7AH4AQAC4/2P/Mf9j/4D/wv7C/tn+Y/+e/wwASgDVAIYBYQHXAYICzQLnAusCTwI3AiQC7gFDAY0ATwDh/3j/C/9v/g7+mP3z/EL89fuj+1/72vpo+kT6nPqr+r36HfuZ+7H8Vf39/f/+zf/CAFYBRwKiAvwCMQNNA/ACewIAAnAB1QAJAE7/Z/79/Vj97vyh/Eb8Yfwm/Dv8evzM/GL9gP1q/QX+NP+o/3D/VACRAVgCEgNiA+UDcgSkBWwFswQeBW0GfgZmBf8ERAXXBU0FQQQYA7oD+gP0AjwBiACvADIA//59/UX9T/0G/Xz7rvrN+hz7FftT+g/7kfuZ/Ov8Sv3F/fX+rwAfAVsBMQJvA3EEswSnBBYF3AVPBmQGzgUtBqsGlgboBScFMQVgBbwE2gMtA+wCUgJdAQMAhv9l/wP/TP6p/WT9+v2p/Z/90/2J/tb+Jf+J/yYAAQHTAXQCvQI5A8YDHgQgBBIEAgQXBMQDGAOxAtcBcQG0ALH/0/7x/Sj9Xvyz+5X6K/qZ+Vv5v/iZ+MP4DvlN+bb5jfr/+uH7Cf3f/bL+p/9bAEcBlQEKAngCYgJWAhgC8gGXAS8B6wDZ/3D/Xv/I/j7+ff1w/Xz9a/05/Sf93f3N/QT9lvyF/Ij9qP5B/3n/kAAwAmYDnAP/A58ERwXBBa4FbgXiBckG8AaKBmYGkgZfByMHFwZWBbcE9AO7Al0B5P9q/4v+o/3b/Pj7//tp+936t/rN+kb7k/vc+1v8Q/3j/bf+h/8SAHYAHgEXAsQC9wL+A9QEcwW8BfoFEAYDBjsGAQaKBeEE2gS7BGEDagLeAfUAOACX/6z+L/6w/ZX9Uf3t/ML8d/wB/EL8Xfys/Eb9wP2e/kX/jgAxAfYBzAJTA9sDaATYBNUEvgS+BKAEmARbBMoDYwMIAz8CLgEnAOL+XP1k/IP7Wfof+Xf4cPfv9qP2fvaB9if3B/ik+GP5Xvq3+1j8h/1w/tH/3wA4AvUCZQP7AwYFZAU1BRQFCwUWBUkEkwPfAlICJAJ1ASgAo/9Q/27+tP0+/O/78fu/+/L6dfre+g77HPt++vj7bf20/lL/5/9fAZQDWQW/Bb8FfgZgCHcIzAfJBwEIigexBgoF/wMPBGYDmwBj/i79If0p/If5EfiD+DH5dfnN+Az56vk2+3X7sPsn/Nj9Fv8l/8L/cAGUA0QFGQUNBQoGtAZ2BosFLARHAxIDywHTABgAFwAyAND/Zf8I/+v+rf4G/nf9Af0C/bH9/v3t/T3+XP9YAI8AtgByADQAGQC9/x7/Gv9u/yoAewDaAHQB9QL/A6sDuAPSAwYEsANBAyQDcwKVAh0COgExAQQByAB2//D9hvw0+4L69PjT9mb1L/WV9Cv0T/Rp9H/0KfVc9i73QfjW+aD7efwd/sn/rgG1AmsDOAThBIIFKgYDBpsFqQVbBVEFPQRVA2kC5ACw/9n+5/1b/RP90Py2/NH8Fv30/Gb8mvxj/Qf+RP58/kX/r//1/4wAMwDD/8T/CQACAl4EMAXdBfwFJgeTCFAJoAg4B5oG7QaFBqcFMQWOBNMDTQI9AeL/QP+7/ej6oPko+fH5AvqT+Vz5+/rD/GT9Rf6d/qz/twC7Ab8CjgQnBnwIFAjnB4MIagh4ByMFXAM1AXUAWf8L/mT8yPt++6j6X/la+G/44PiJ+dT5OPs8/fD+mQD7AFICIwM3BGEEZwT7BB4FKgX7BOME1ARnBPICrgGO/wf/Ff+a/hj+Y/4cAFgBIAJQAqsBUQEoAVcAWf/6/lP+Tf7z/RL9Yvx7+xb73/im91b21PUT9uL1BfZH9pH37fhO+uX6FPwO/Q7/cgAcAUkCvAMIBd4FDQYeBmoG2AWHBDkDcAJ3AaMAOv8S/uH98v2d/Wb8oPvN+8v7yPtY/Ez9Ef5G/1MA5QCcAT8DoAPOA0YEvQRhBHYDJgMbAl0B9AAoAGf+Qf25+0f6oPl9+iH9kP6m/+z/sgDpAWYDMwR0BCYFkQZiCaoLWwwwDSYMqAkMB6UF/QOQAfb+JP2Z+8r7DfzX+wH7Gvq6+nf7i/z+/VD/TgANAuUD0QXKBm8HGAfEBS4FtgPPAfP/PP41++X4Kffu9QX1QfMO8q3xk/GS8tHzuvUA90D6Cv49AR8EtQdwCgkNWg5OEGIRWRFbEAsO7gsVCsYIIAaEA8D/j/3O+g/5WfjR95n37fZ793f4rfo3/LP8n/3v/Tb/VAD/AHYBVgGzAF4A/P9QABsAcP6T/Vj8e/wE/Qj9dvy1+6D7+ft3/Af90/0s/p/+EP9IAAYBgQFCAX4ALQCdADcB8AArAckAEAE6Af0AFgHpANkAvgChANAAQwEiAdkApAARARoCSwJ1AhcDSQNUAy0DyQKdAnoCDwIAAWT/6f7+/hL+wvuy+ov5nfhm+FP46fdB+Mj4Xvk2+pT8sf+YAqMEywZECtUNhg/PEHIRpxIJE9kTqxJgELsO7Qt9CGoEVQIg/7P8+vko+Gb2g/UI9dD0RfQK9fr2nfi3+qD85/4yAHwBPQKvAusCawMwAwkCjwCz/67+Zfww+qL48Pbp9WL0J/QX9OD06vZe+ND6Pf7ZAXUEtgeBCm4NFg8eER0S2xF2EVMQng5ZDF0KfQeGBL8AA/4E+uf1dPID8Hfux+0N7lnvqPBT8sj0d/fZ+YP8B/8KA6sFEgnQC+MMvwyTDPEMNwwUC7sIiAbhAxkCQP8y/Bn5D/eS9GbzzvIK85Pz2PMP9Mb0B/cM+pv8Jv8PAbMDnAYOCRAKfgqTCokKTQp1Cp8JvQhYB8kE3AL4APz/1/0V/A36KPn0+Nn47/jT+Nr4RvnS+Vf6pPtz/G/9O/6b/5oBNAMwBEcErgNuA/4C6QLcAeMAn//p/iL+xfyW+wz7nvpY+vf6uPtn/Mv9Uf+4AGoDnAYDCb8JeQvqDYcOmw5JDXoL2wrRCpUJ5gYPBBgCuv/J/Dz5TveV9Xr0s/N4853zh/QH9lb3X/iK+mD9MgC9AcADwQVlBx4IMAiACOII1Ai3CJcHxQW4BNEC9ADU/vz8PvsI+g35pvjH9xL3mPaX9jX3lfjn+hf9cv6KAAADCQV7BoQHvgfnB/gHsAfsBh0FRAODAB7+H/sJ+V72QfQS8+/ykPNn9GT1dfZ2+Db7Iv4+ABwDxQUjCIcJjgvJDNEMtwuRCYUHDwbyAwoCs/6j+w755fc39sH0p/Mv8znzBvRc9Wv2xPjS+q78f/5mAckDlQV5BlcHRQi3CN4ImQh6B0YGCQXVAyYCBACF/t77cvla+Oj3x/aj9tf2Ave69wn5G/uM/V//WAJCBS8IOApaDIwNPw5mDr8OtQ4fDgUN6gpMCPEEfgJ6/4r8gvqI+Y34GvjM94n35fbR9mL3C/ga+ob88v43AG8BGwJfApkCxQKMAq0BfQB2/7z9Mvy5+ff36/U29YL1zPWN9x/5qfoC/KP9Jf9EAqwE1AfaCosNaw68D2cQ9A7gDdoL4AnBB/kF2AKQ/7X8LvkJ97305PIE8t/xUfLj8nTzhvSp9mH50/we//cCvAYiCrsL+gwiDcgMZQz/C7sKPgnVB3cFmQK7/kT8yPj39W305/PP87T0PPZ596n5sfub/VX/ngD7AjUFmwYuB3cH0wa7BcYE0wLNAO/+w/1P/Jf6IPlD+Dz3wvby9in3m/fH+PH55Poi/Pr8p/3e/V/+Ev/d/zwA/wBqATIBaQFfATgBEgGoAKwAFQG0AXACsALIAhAD9wIkA1YDgAPtAzMEZQSIBMkEngRlBLQD6wJVAogBIAG2AFUAr/8+/xD/+/7e/tD+a/4U/uf9rf2m/fH9Bf4y/uj9AP7V/cn9Iv6h/ZH9q/3X/RH+7v2k/e78DPyp+7j74/sg/FT8vfz7/O/9s/7O//gAwwGKAm4DSwQdBYAF1wWbBaUFaQXyBPYE6wO7AskBPwBr/4b+2v3M/KL71vqy+rf6T/oW+i36m/oo/Oz99v61ABcCCQOLA7UEuQVdBq0GNQfVBjYHWQevBmUFpQO+AskB1wA6AIH/bf6h/WT9df1//R3+Mf65/jX/r/9vAJQAgACqABEBDwKlAmcD8QIXAp4B5wDMAIsAPADM/wn/fP71/WH9Cv2X/Ez8Avww/O37B/xk/Nv70/th/L78Zf0p/kr+bf6n/vD+l/9IAIABigKMAywE0QREBQ0FvATsA3QDRAN1A2YD4wKsAYkAyf6P/cv8RPwg/G77s/rm+gT71Psg/Y39Rv6D/9oApQG2A9IE7gQrBegExAQkBdQF8QV1BYwEQQNSAkABfQDI/5H/ov9Z/9z+1P69/g//lP/j/5kAKgEPAr4CKAN9A2UDHAOpAuwB/ABaAJz/l/6e/SD9pPw8/DX8+/vQ+777Avw2/Jr8PP3Q/c7+ef8RAFUAuQD7AIQBcgLUAsMCeQKGAukBhwH2ANz/JP/k/pL+AP5Y/fj86/z6/FP92P12/jf/nADFAWwClAOEBFwF/AWiBjUH0wcMCD4HMAaIBb4E+QMtA+kBTQEfAfQA4v9V/279bvxJ/Zj9sf7i/xQAYQB5AKEAlgAGAa8BPQK8AoUCZQIDApkAmP/Z/gT+Ef5C/jn+iv07/bz8kPzc/CX97P2//mD/kf/m/xUAPgDgAC0BRQF0AaoBbgEnARQAe/9Y/3D/1v+0/23/5f5O/hz+j/45/0QAGQGpAawBBwKcAvMC1AMcBLwEmwXBBZsFKAU8BK4DGgNLAsgAbwAPADf/Af9d/Wf8Z/xk/Gj9C/68/hn/vP8oAJUA5wFlAq4CoAI6AmQCdgIXAugAXv/Y/fH8cvzC+wD73vos+sn5HfqP+mX7rvzx/bH+4f8CAfABigKKA4EEHAXhBGIE3AMQA5kCmAE3ABT/Sf5n/fr8Tfzg+zr7svrC+jH7K/ya/fX+UAD0AKQBXQJZAxEEfwXvBskHzgdRB7EGDAblBXgFvwT+A40DsAKiAR0A5/6C/V/8wPuu+4b7tft/+4774ftK/Fz9E/4Q/yUAjQHmAjsD5wOAA4MDfQObAxAEuQMpA9UBbgBk/xb/4v6s/nf+O/7F/U79OP0y/fX9S/6k/sz+uf4j/1P/kf+9/27/8f7i/uH+5P7s/pb+2P1f/e/8oPza/Ar9lf00/lj+hf5h/nX+fv7t/u//zwAFAcAASQAkAH8AbAG7ATgCPgKHAq8CkwLAAv8CLwM+A94C0QLuAuQCfQJMASQAt/9x/0X/xP47/uH9l/39/En8QvxY/N38m/2i/Qb+oP44/3P/lf/Y/04AzQAQATABYAFzAR0BgQArAPT/MABJAP3/ev9C/xn/qf6n/pX+mv6H/jb+IP4a/nr+tf6u/r3+sP5j/5T/r/+t/9H/FQBiABIBngH0AZUBtQBdACkAPwBYACgAHgAkAN7/a//v/vj+Yf+f/3v/lv+2/+T/3v+R/y7/Qv9l/4z/g//G//H/+//Y/zb/+/5V/4j/uv+2/87/r//k/wYA4/8xAJUA5gDnAPYAOAFtAW0BmQGLAX0BJAIGAuwBuwFvAXoBPwHgAHIAbABQAMr/R/+T/if+zf0Q/Vr8S/ws/Dz8Qvzb+537fvvm+1T8e/1T/rH+7v5z/9j/zABOAdABZgKvAsICmgJKAi0C8gGXAVMB1wCIAD4Aof8c/97+v/6N/k/+Uv4y/nz+eP5t/oL+dP58/sP+yP4d/5H/7v8NAEAAhADWAA8BKAFSAVcBUAEfAYcA9P+R/+f+cf7S/ZD9AP2U/Fr8Wfxv/J/8JP2r/Rb+Bv8FAFwBOgJTA1QEFQWEBTIGBQdmB44HiQfwBjMGzAU/BWoE0gNKA48C3wEzAeIARwD6/+H/y/+N/4f/qf+T/8//wP/R/yoAigCaAGwABgC7/zb/B//x/sL+hv5I/tb9x/3L/cP9l/23/cT9Kf5t/rX+DP8+/6b/7P9YANMA8QAaAS0BNQEDAf8ADgH9ANcAogCDAFAAWwAbAMP/of+X/6n/4P/b/ycAWQBjAKEAoQC/APcAGQETAdIAywC5AHQAQgD2/5b/E//U/rn+e/5f/kP+Q/5L/sT+Ev9F/6r/+f9LAI4AOwGNAcYBJgJpAi4CCAIEAuwB0AGtAVoBPwHeAIQA4f+l/1//Df/b/rr+cv4n/hL+8f0S/gH+V/6c/hf/O/+i/9f/TQCcABEBUAGjAeYB1wHUAYQBCAGKAEYA4P9q/8n+Y/4p/tv9mP2h/Zn9pP3J/SL+kf7y/mv/q//2/3MAzAD3ABMB8wCfAGkALADm/2T/H/+s/iH+mf1j/UL9eP1n/ab9z/3//VL+nv4b/3T/HwDgAHwB4gFSArIC4wLcAuQCCgMXAw8D2QJsAqgBNwGpAA0AwP+E/yD/Af/a/sL+wP7H/gr/aP+y/xgAYwCOALEAywDwAPoA5QDSAJMAUAAEAL3/VP8G/9X+d/5G/gP+8P35/cz9Gf5J/pD+0P4M/0T/a//Q/xYAFQBFAJoAowCwAKkAegAmAP7/5f+R/1H/Gf/J/nD+Nf41/kf+Q/51/rr+wf7j/iL/bf/J/ykApQDxADkBkQGtAfUBDgIcAiIC8wHXAbEBegEqARUBvwCAAP3/rv8q/9f+cf5k/jz+Ev6//W39Yv1V/Xj92v33/TX+aP6f/tj+HP9s/3b/pP/J/9D/+f/h/9H/1f/X/8z/ov+m/5z/sf/j//j/CQD//x0AbgB0AKAAkADAAKgAzQCeAIoAvwDKAMMAqACPAHwAnACFAJIAmACgALcAsgDJAMkA3ADpAN0AuADOAMAAzQDNAKIAhgBJADYAPQARAOf/8f/O/9//AwDm//H/3//0/93/4P/w//b/9v8CAAMABADW//7/4f/M/8z/uP+q/2X/LP8h/8z+pP5v/lz+T/5j/ib+Gv4R/gf+O/6V/sH+EP8N/zv/hf/E/ygAYwCrANMA2wD2APcAIwFpAZ8BoAGVAaABngGlAZIBZgFGATgBLQErAR8BGwH4AM4AxwC/AMoA5QDTALsAnAByAGgASAAYAOL/zP+m/3f/Uf/6/vH+o/6T/n3+bP5h/lT+MP4z/if+Ev4//l/+eP6l/tL+9v4m/z7/Of97/5r/9/8TACcADgACAOz/2P8CAAYA///A/6n/gf9f/4b/hP+M/2P/GP8L/xH/E/8f/x7/+v4d/yf/Rf88/27/Xf+W/5z/rP/e/+H/6P/v/wgAGAAaADAAMwAaABYAKAAKABgAAQAYAAUAFQAcAD0AXgBcAIQAuQDmAEIBRAGIAbQBzgHIAewB8wGOAVcBMgHuAL0AnABdAAwAp/9j/zH/G/8A/87+r/51/lv+Tv5g/nn+i/6k/tz+8f4r/yj/VP94/4X/kf+d/7L/rv+n/7r/tf+v/7r/r//Q/8X/5f8BABMAFAA1ACsAHgA3AD8ASgBGAEUAKAAzAC0ADwAeABUAAgAAAN//4//T/8D/tv+y/8b/4f/p/9j/2//o/+v/7f/t/+7/8v/3/8//z//b/+D/v/+7/8j/pf+R/4r/dv9l/zr/U/86/1//RP9C/yr/Sf9F/0L/Nv9C/0X/Ov8g/xv/Kv8Q/wz/Ef8k/wT/K/9P/3D/af+w/6f/BAAeAEYAYgCVANIA7gD8ABgB8wD+APsAAgH6AOsAxgCkAHQAdwB6AGkAaQB/AHEAkACKAKYAqQDRAOsA3AAdAWABXAF/AZIBnAGcAZ8BsAG4AaIBTAFgAQEB7gCtAHEANwDg/7j/of9a/yb/9P7P/rX+fv6A/m7+cf6U/qn+xP7g/g3/Nv9O/4b/vf/m////OgA1AF4AUQBUAHcAYQBMAD0ACgDV/5f/d/8p/+f+w/62/oH+k/6H/pP+k/6o/rr+9/7k/in/dv+M/8r/+f8rAEQARQBsAIQAfABoAFkAHAAMAOP/xP+1/5f/lP+I/23/kv+G/2H/b/+C/6D/rf/e/+T/+v8qAEgAZwCEAI0AsQCnALoA6QDhAAoBBgEAAe0AwQDMAI8AgwBrAFYAIQAaAPz/7P/g/8D/yf/T/9b/3v8AAA8AAAA9AGEAbgCPALUAywDTANcAyADCAMEAqgCIAH0AVQBDADMA5f/e/6T/kf+B/2//e/9y/4X/cP9k/3r/fv+r/77/6P8FAA8AJwAjADoAXAB+AJQAhwCOAIcAigB8AJ0AdgCZAJIAfQBuAGUAZwBaAEwAOgBYAEgALAAlACYAPAAEACQAJgAUABYAKgBTAE0ATwA+AE8ARgA4ACYABgDh/9T/gP9g/0v/L/8B///+4/7i/s/+0f7v/gH/Fv80/1L/ff+j/9P/6v8IACUALwBJAGQAXwBZAFkATQBkAFkAWgBCAC4ALABnADIASQBLAF8AawBfAJ4AjADCAOMAAAEaAVYBggGdAbIB5gH/ATgCTAJfAnMCXAJxAlUCXAJBAjsCGQISAtoByAGuAX4BQQEoARUB7QD0AOcA0wC4AKkAxAC2AN8A8AD0APYA8QD6ACIBJAEKAQ4B+wANAfsA0QCzAJoARwAiAP//wf+p/3r/fP9L/07/K/82/zT/L/8//3b/eP+h/9L/EQAWADwAagCBAKgAqQCwAM0ApgCoAGUAdgAuAEYAMwAVAOr/6v/r/8//3P/k//v/CgAOAD0ALQA7AE8AOgAlADoAHwAUAAYACQDc/+L/zv+2/4X/mP9//5D/lf9o/4T/Xv+L/37/jP+b/5j/p/+o/8n/zv/R/9P/2f/j/+P/5P/U/+L/8v/2//v/HQAcAC8AQwBIAGYAYAB9AGIAgACGAEsAbABFAEwAWQA/ADMAFwAPAAoAEQAbAAoAFQAbABIAGgApAEcASgBlAEYAbgBhAHgAaQBsAI0AcwBlAF8AYQBsAJEAjAB9AJ4AmACHAKYAngCMAGAATgAtAEAAJgAGAMT/nv+D/zz/Df8P/xP/qv6//qP+uv6f/nz+gv6e/qL+kf6e/rv+qf7A/tH+/v4i/0D/Zf+O/7r/z//N/wIADgAzADAAUAB7AIUAfACYAK8AzwDLAO8A5QDaAOAA+wDdANAAtQCkAJ4AmAB2AF8AMgDC/9H/zP+S/3v/Yf9X/0H/Of84/x//GP8C/w3/6f4Y/xj/Nf8P/xP/IP85/07/S/9g/1n/df9U/y7/Gf8g/zL/AP/6/gT/6f7h/u3+7v7l/vb+Kf8i/0H/iP+K/8b/9P8ZAGAAhACbAJkAtgDbAA8BLwFDASwBNwEQARkB/ADzAOYAwQCrAIMAdwBqAGsAagBbAKYAXgCtAEMBwwEcAZkAVQBjAIEAtgDrAOMAhgAbABIADQD+/9//hv81//b+9f6g/sj+GwDHAVMAJf9k/iL+av7Z/tv/4f87/xr+QP7n/aX+cv85/+3+df90/5r+6/1+/r3+hP4E/s7+e/5K/mP+4/6B/uP9Av52/Wb9Y/4GAesA+//v/ab9M/6R/+H/EwDE/yz+Ef66/Xz+IACUAKz/jv6U/ZD9gv5h/2EANgDq/0v/Cv89/4j/lQBCAKf/l/68/lP/qP+N/4D/mv/w/x8ABQCe/wsAgQAlAcoA4wAcAX0BcAHSAQECDAPsA0cDogKaASoCNAPvAukBowG4AVkBbwC0/1sAvwCJABb/S/5g/lv+5v6T/lX+W/7//aD9k/3u/ez/1ACoAGEA+P9BAN3/sP8U/zD/Gf/7/t3+t/7y/Sn+k/87/zD+wv3G/dT9w/0B/q3+E//S/8P/7v8FAJMA7gDfAAsBygDRABYB1QDJ/1T/4/83ADn/4v6K/7P/DP/2/i7/nv8KAA0ALACDAEMB4QGcAcEALQEkAmwChwJkAj4C4AG0ASUBMwDA/23/cv8o/9D+J/8E/5j+iP74/Uj+lP4D/+j+MP5A/ij/GACEAFoAjAC8ANsAdQBdAGYAqQBLAGn/zv4X//f/vf/3/jj+Wv5y/i3+0f0V/j/+Ff7b/db9Pf6w/pf/vv+f/9n/6QAsAZUASwC2AMgBagLsAWgB8ADyABAB0QDHAKgAfwAqABMAQgA/ACIA4//U/6v/3f91AEAAbwC6ACwBMgEnATEBBgE/AVcBoAEuAXgAXQAxAKb/JP+i/83/nv8L/5f+S/5A/mr+CP9H/03///7K/l/+m/6j/3UATwDW/3H/TP/X/0sAmQDr/2z/Zv+k/5L/nf/a/6oAUQCP/zH////+ABUBIQHgAM8AJgFBAYgB4gHLAdIB2QHzAQwCVgJAAmkBqQBbAQgCiQIjAoYBVwEqAUcBRAEYAc0A4AAGAS0BvgChAM4ADwHZAJMApADDAOsAUAACAKf/HADIAGwAUQBqAIMARwAlAPn/6f/H/3b/N/9t/37/jP/L/6j/a/+a//7/UwAHAMT//f+KALkAuQDbAFkBhwGlAYsBrgFrAUABSQGBAf0B5gFVAc0AQQA/AH4AZQD8/1n/mf77/qf/gf/8/gD/uP97/w7/Cv94/x0A6/+o/5f/ff9g/0b/aP+Q/5D/vP+H/77/LQB9ACEAx/8fAM4AbgEdAYMAmv+l/yEAuQD+AOcANwBHAAgBjAFdAVQBUwFhAQ4BAgEyAWsBGgFSABMAwv+Y/yEAXgBCAPT/aQBAAMz/yv9/AAQB1QB0AD8AJgAXAJsAJQFQAN3/KgAnAMD/Mv8r/wn/xf7r/sz+m/75/UP+1P6w/mP+hP44/iH+iP4t/5j/rf9s/0H/gP/x/9r/Zf9P/2D/AgDp/8P/dP+P//H/hwBgAKX/k/80ADsAUwCPAOIA2gBKAIkARwGQASgB7gCgAF4AQQA8AD8ANgBzAFYAq/9w/8T//v/R/+r/EQDP/zj/DP/Y/1QAeACOAH0A0P/b/5YA3gB0APr/QABmADQAw/+M/2L/Yf8b/2n/Ov8G/+7+zf6Y/tT+j/+5/5f/z/9UABgAEQAxAHsAgQB9AKUAmwCiAIsAqwCFAFgAcwBFAA0AFADx//n/eP8l/3L/lP96//j+q/7O/u/+Rf8w/2X/Xf9P/1r/fv8sAFsAOQBFAGcAUAAjACAABgDx/8j/nP99/3L/nP/Q/7X/Ov9I/yX/8P7i/qX/8v/D/4r/x/+2/6b/wP9eAKcAjACJABsAs/+//zIAQADY/+P/dQCpABwA9/83AG0AgADCALwAJAABAOz/LgACADsAvACfAND/3P8WAD8AlwB7ADwA3f+z/6P/wP/M/5z/m//7/rL+x/5r/7D/sP+U/0r/3/7//nH/yP/G/7D/gv9P/y7/O/9c/1P/TP9d/x7/C/8Y//3+HP8J/1D/fv96/8T/3v+8/+7/IQB7AGAAOgA1AGkAaAAvABcAAwBvAPoAwQDl/8L//f8ZAAAA9v8JABMAJAAgAEkAhgC/AEABcAEaARgBEgHuANQAbQF+ASMB0wAKASYB7gDTAMAAWQBCAHMArwBEAIr/ef+p/+//OwA0AM//LP8n/zj/BP/1/gH/I/+6/hX+Tf50/oT+k/7N/sv+yP40/07/P/9s/w4ASwAwAPL/+/9YAK8AsQCSAIUAygD5AEwB2gBuAGgAbgCJAMwArAA2AM3/BABQANIA7gC8AKMAnADLANwA2wD+AEABQgEdAegAugCDAJAAwAC2AFwAqf+v/6X/tP+Y/2z/Nv8k/z//Uf9I/zz/Q/9Z/y3/av/r/7L/cP98/7f/8v8WACIALQBXAIAAnwDVAGsAUwCEAKMAogC/AK4ADwAYADYAQABkAIsAoQCEAFwAiACiAJsAYQCaANsACgEnAR4BJAEIAd4A5gDBAMwA+gDhAKQAUgBBAEYAFQDP//r/BAC5/3f/jf9m/5v/qv86/xz/Xv+O/8n/q/91/4D/yf+8/9T/4P+2/6L/wP+z/7X/o/9e/yj/K/+S/9v/2f+P/2//jv+x/7L/2f8mAGYAZwAlACMAJACVAKQAmwCJALQA2ADYAOoACwEEAf4A0wDdANMAJQEGAd0AigBvAHgArgDCAL4AewBmAGAASgAjACwAWgBnAGQARgADADcAbgCKADsA3f/e/x0ASgAFAPb/GADk/9b/1f/m//r/DgAWAMP/sf/Q/wIAAAABAEIAlQC2AG4AbwCZAMgA2ADYAPEA9QDnALoArQB9AIEAsQCqADkAIgA1ADgAOgBgAHQAXwAvAEAASwB2AKEAqACgAFsAjwDRANgAygDeAL8AiQCwAKgAowC4AJEATAAHABEAAADP/97/uf+b/1z/Vv9W/yj/KP8Q/w//zf71/hb/PP8s/xn/EP8c/xf/Rv9j/y3/MP8w/0L/MP8O/z//Jf8X/xL/Jf9Q/17/fv+U/67/wP/u/y4AeQCOALMAugDyAPwAEgErAUgBQAExAeUA3AALARsB3wB8AGMASQBJADUAJgAJAAwA8//T/7f/w//o/83/t//A/5//o//S/+P/3f+5/4r/a/9m/5H/zf+0/6z/o/+Y/47/sP/4/xwADwDo/9//1P/W/wMAPAASAAcA8/8GAN7/vv/a/xQAJgA2AEoAJwAkAEIAcQCOAIMAtQCWAI4AVwBaAEwAWAByAIUAUgATAPP/1//A/3r/fP+b/3H/Pv/r/tb+zP7b/qj+rf7U/vz+8/6//sT+tf4E/xX/KP89/0L/Pf8f/xj/LP9u/47/cP9b/yz/Pf84/zz/HP9T/zn/Rf9M/zv/EP8m/1H/N/8e/0f/ef92/0D/b/+v/7f/lP+n/8L/0v8JABIAzP+p/7//5//e/9n/2//4/+H/6f/Y/63/sv/X//z/9//d/8v/sv+7/7T/5f/j/8L/wv+S/5X/rP/Y/8z/vP/d/9n/kv+D/5j/uf/X/+r/t/+U/7T/xP/E/7T/vf/M/8n/vv+4/83/4//K/8T/of9y/4P/g/+i/5f/jf+E/7v/k/9o/4z/pP92/3X/oP+z/9//5v/k/9H/3f8XAE4AVQBhADQAEwA7ADMAOQBBAEEAcAA+AFcAVwBtAHAAawAjAB8A+v8PABsAAADl/9z/tf96/0n/Xv87/xP/zP6u/qD+n/5z/ov+if60/pL+av5p/ob+p/7i/sL+sf7C/tP+z/7b/vr+LP9N/3L/a/9p/4f/iv+y/7f/zP8FABwAOAAqADcAFwAzACgAHgA+AFIAQQA3ACAAzP8EAP3/EgDs/+r/2/+b/5j/p/+A/5j/s/+Z/3P/SP9g/1P/Xf9M/03/Sf81/zL/F/9v/4D/hf9v/0b/S/99/73/3v/q/93/1//S/9f/3v8KABwA8P/g/8z/6P/3/wYA7/8mAC8ANwAtACsAFgDq/wEA6/8NAAYAHwDr/7b/sv+Q/53/oP+Y/4f/av9i/0z/WP9W/3v/iP9v/3//Z/9y/3v/gv+U/5T/c/+U/4n/gv+I/6T/1f/V/6//hv+l/7j/tP+3/8b/r//E/8v/uv/A/9T/EQD//xQAFQAWAEQASgA6AEYAZQB5AFsAaQBNAHgAgACRAJMAoQCJAKAAyADKAPcA7QAOAQ8BCwE7ATEBTQFyAWoBcgFNAVoBUgFlAWIBQQEyAR8BGAENASMB/wDXANQAzwCcAIYAWgAgAPn//v/j/9j/3v+v/6D/lf+Q/5n/vf/N/8r/s//E//H/7//o/9L/6//7/xgABADd/+H/3v8FAAYABgANAAkABwAGAPT/CgAkABAAKQBFAE4APQB4AGIAdQCVAKoAqwCwAL0AtQDBANMA3gDAANcAhACdAJgAeQB5AG8AZABIAC8AJAAKAAcACgAKAOD/1/+w/5z/pf+W/4L/gP90/07/Sf9y/2j/dP9p/2H/S/9h/1D/mP9//6T/ef9y/2T/bv9s/3n/hv+G/4L/jf9t/33/pf+e/67/uf+3/8//xf/O/9X/4P/P/9r/1v/A/+//8v/z//j//f8KAOf/6P/Z/yQAJQAgADYAUABEAH8AdACYAKAAuADGAMwAvwDPAOwA3gDhAAABAwHtABkB7gD2AP0A8QDqAAcBBQEZAe8AxwDQAN0AzQDKALcAsACZAHsAewCLAKcAdwCDAJcAdgBRAGEAggB0AJIAfACDAFYAWQAdAFIAVgBSAFwAPwArAEMAIwAnADYAIQAvAE0AWAB4AFgAdgCyAMMA1gCyANYAyQDgAOQA4gADAfQA8QDoAOcA6ADnAOYA1QDPANoAugC9AM0A1QDaAO8A5gAFAeUA+ADgAPUADgEEAekA3gDOAL8AywCiAMAAiQBzAIMAZgBiAGcAZAAsAC8AHgASAAQA///t//b/8//a/7j/vP/O/8D/q//E/7r/yP+8/83/z//t//D/8P8PABMAKQAXAAYAHQA3AD0AGABLAE0AQwBcADcAPgA7AGUAbQBYAHQAbABvAHIAcAB5AJAAlQCSAIIAogC8ALEA0ADHAMcAkwC7AIEAhgCNAJcAnwB8AG0ASwBBAF4ARQAnACAACgDb/+X/4/+z/7f/qv+p/5H/m/+c/4n/kv+Q/4T/ef9//6z/pv+a/6z/pP+h/6b/t/+7/7z/rv+U/4L/oP+C/4b/gf99/3v/dv9l/3f/ZP9a/1//Rf9a/3D/YP9O/13/a/92/2D/h/+P/3X/pP+1/9b/9/8VACkALQBKAHAAhAB+AJQAkACqAKoAkwCWAHgAgwCgAIQAowCXAIsAiwCKAHMAVwBKACsAIAAvAAIA8f/s/+T/w/+//7X/uP+q/5v/oP+L/2n/hv92/2X/d/+H/5b/cv9v/2X/X/+M/3//cP9t/2j/a/9p/3r/VP90/4T/j/+a/5j/oP+7/7L/xP+8/77/x//z/+v//f8DAA8AGwAcAC8AOwAjAC0AKQArAEUAUgA3AD4ALgAWABcACAASABkAFwARAOn/9f+//8j/t/+r/4//hf9X/13/d/9Q/1//VP9s/3P/SP9l/4D/Zf94/17/YP9O/03/EP8m/xb/7v7c/rL+uP69/rX+pf6n/rj+sP6//s/+u/7r/tD+Bv8B/yD/Q/9Y/07/if+W/7L/tP/e/+j/5/8QAPH/CQAnABkAOwAsACIAJgAiACcA//8NAPH/HQD//wIA4//r/+H/zf/s/+T/0f/1/97/3//R/9X/zP+//67/5/+4/8v/tP/k/9P/5f8RAPn/DgAOAO//GQAVAB4AJQAiABoAAAAhADEAJgADAAAAAQDp//P/+P/5//H/4v8QABIADgAWAAsAEQAHABkAIADg/wsADwATACQAFAAhAAwA9P/y/+3/AQDd/+j/y//i/9X/1v/k/8b/1f/L/7r/tv+F/4//gP9o/2L/XP9p/1j/Uv9r/1P/bP9//3H/i/+C/3L/cv9T/4n/av94/1//cv+Q/5T/iv+Q/5X/tv+8/7L/yf/v//X/AQAXABoANQBAACkATgB0AI0AwgDRAP8ABgErAT8BXgFgAWoBdwGrAacBtwHFAdAB3gHVAdAB0gHWAbwB1AG0AaQBrAGIAWMBWQFQAVwBMgESAS8BGwHpANkAtgCfAHkAbQBlAFgAXgBYAEgALwAWAAgA8v/2/+L/z//V/8n/uP/N/7b/of/B/9//2f/V/9f/7f/p//v/DwAlAB4AJgBAAEYAWgBTAGsAWgCNAHwAjAB3AGUAfQBrAF4AZwBaAGsANQAdABcACgASAPz/AwAAACAAHgAsAC0AMQBFADAAJwAcACEABwDx/wgA6P/7/wgA5v/k/+3/4//m/xYAKgA9ADAAYABXAE4AOwAkACIANAA0ADsAQQBFADgALgA9ADIAWQBHAC0APABCAEsASwBfAEwAVQBOAFEASABlAEsAYwA9AFgALAA/ADsAJgA/AC0AMwBIAC0AJgAzAB8AGAAaAOb/9P/2/wEA7v/5/wAA2P/w/+L/AgAKAPb/DQAHABEABQD6/9X/2f8JAP7/3//S/9v/wf/J/7//pv+y/77/1P+8/9X/xv/O/9T/y//s/+H/BADv////BQAbAA8AIgA8AEIAbQBPAEYAWgBhAIcAXgB/AHsAhwCGAJcApAC8AKkApACZAHsAnAB2AGIAZAB3AEEATAAvABYACgDt/7v/xf+T/3v/n/+J/3X/df9j/2H/X/99/2T/av9v/3//mv+c/7D/wf+4/7v/sP/N/8v/1//F/8v/0P/F/7v/xP+w/67/i/+j/5b/i/+R/8L/uP+0/6L/qv+c/67/r/+p/4L/kv+h/3//kP+F/4D/cP95/3j/bv9x/2f/XP9S/1L/aP94/2//hf+a/5X/pf+U/9r/xf/P/+H/zv/W/8r/zf/h/7T/ov+l/6T/p/+x/6L/rf+n/7L/hf+6/9T/3//0//H/4v/g/wwA5v8HAP//AwALAOT/xv+7/6n/iv+G/2z/df91/2P/Ov9N/w3/BP8N/xH/K/8x/zf/VP9b/2r/i/+K/4T/lP+m/5j/pP+4/6v/uf+p/5f/rf+V/6f/kf+C/27/Z/9p/2j/U/9f/3n/b/9g/3j/fP95/6v/k/+X/6D/oP+z/7r/wP++/8T/wP/J//f/6f/r/+X/+f/k/wEA6P/0//T/0f/i/9j/tv/C/9L/wf+9/8z/yv/C/9T/4v/e/8b/xv/b/+D/4//8/w4ALwA8ACwAWQCNAK8AzgDWAO8A6QDpANEA7wDoAAoBEQHYAOkAwQC6AK0AgQB4AG8AZQA+ACoAJwATAPD/uf/D/6L/lv9z/4n/dv89/zb/Hf8L/+/+G//u/vT+5v7K/sP+0/7Y/ur+2P7l/u3+5v7n/vH+Bv/7/gz//P4k//7+CP8k/wH/Ev8s/wz/OP8W/z//Hf8//zD/T/9y/4//l/+3/6//wP/I/6z/xv/p//L/4//V/+P/wP/p/87/yv+8/7X/qP+X/5X/lv+Y/7H/pv+z/8n/yv/j//D/DQAdACsARwBDAGkAcgCGAIIAiACJAJgApACdAIgAhgB5AGwAXAAsAB8ADwAaAPf/yP+7/7z/rf+h/4T/bv9p/0X/Qv85/yf/If8//zf/Mv8n/y7/O/8z/zX/PP8p/z//Uf9N/0v/Xf9r/3v/iP97/5T/r/+m/7b/0P/7/+z/8f8AABwA//8eACgAMAAsAD4AJgBKAFQAUwBNAF0AXwBeAEIAVAA5ADAANQBGAF0ASQBPAEcAOAAjADkAKAA5ADEARQAIACYACwACAP3/HAAeAAgAGwBTAE4AXwBxAK0AugC9AOQA9ADxABYBCAEyATIBRgFmAVYBSgFLAVsBMgE3AR8B7gDXAMIAuACdAJUAiwByAEsATQA/ABsALgAzAB0AKAApADYAMAA7ACAAMgA+ADkAOQBIACMAIQArAC4AbQBuAFsAeAB5AIgAhwB+AIkAmACjAKwApACmAKUAtQC7ALQA2wC8AKgApgDIAMQAsQCvAK0AxAC/ALUAvADKAJ8ApAC9AMAAywDGAKYAxADBAKsApgC2AIoAmQCUAI4AhQCYAJwAgACyAIgAgwCJAIoAZwBjAEAATgAgADAAEQAeAAEA5P/s/9n/5//g//z/BQAKAPv/QgArACwANgBNAGIAcQBZAIgAagB5AH4AgABtAGoAZQBsAGcAQQAcADAAQAAjADsACwAIAB0ABwD5/wMA9f8DAAAAJAAXAC8AJgAmAD4ALQBHAGIAcABXAH0AagCGAIgAkgBpAIMAdQB9AI8AkQB9AJcAlwC0ALkAzQDDAMkA7wDqANAA7QDoAPAAEgEBAfsA+QDzAPcA8ADsAN4A2QDJAMAAxwCsAJoAmgByAIsAgwBoAEIAPAAnAAAA4v/S/6D/lP9o/0z/G/8o/yr/Df8V/xv/+f77/gr/Fv8c/y3/J/9o/0f/cf+b/5f/p/+y/77/4v/R/8H/6P/k//P/9//1/+7/7P/u/wkA6P/i/9r/0/+0/97/3v/t/+f/5v/p/wUA6P/8//P/9v/y//X/7P/k/87/5f/D/8D/yP+6/4r/h/91/3X/Z/9d/2f/SP8w/0L/L/8x/yv/JP8H/xn//f4h/yf/OP9I/27/fP+h/6L/x//F/9n/7P/v/woADwAVAAYAHwAbACQAPQArAEcARQAzAFMATwA3ACMAOQAYADAAIwAaABgAEAAPAOD/9P/v/8r/yP/N/8v/2P/d/+H/9P/y//T/8v/m/xAABAD4//v/CwDx/xEAAQAHAPb/7//u/wIA3v/f/9T/uP/K/+n/3//f/+L/xf/p/+7/5f/x/9//8v/g//L/0//4/xQA+f/4//3/9//m//D/9f/l/+f/3P/p/+T/2f/O/7n/u/+U/13/Sf9E/yj/JP8Q/wb/7/7b/tD+9/7w/ub++P7y/vD+Jf9F/0D/PP9q/03/ZP9w/4X/jf+k/5H/sv+2/9z/vv/L/7H/s//R/9T/7v8JAAUA8P8FAB0AOwBBAE8AXQBbAG4AiwCBAIEAngCzAL8AyQDKANcA5QDOANEA1ADFAMIAwACpAKYAfACFAGkAWQBMADQALAAYABkABAAAAN7/2//d/6L/mf+A/4H/Wf9F/yj/D//6/vL+Cf/9/s/+2/6+/sD+p/6W/pD+c/6K/nr+dv5t/nj+ff5m/oD+cf6G/nf+lf6r/rv+l/7D/tT+3P4M/wz/Ef8j/13/Z/+H/5D/u//q//X/OABIAF0AgQCNAK0AsQDyAPQAFAEjAR8BKQERAfcABQEOAeAAvwCpAKwAmQCCAGMAXwBVADkAHQAiAPv/4f/S/87/qf+d/57/j/+B/3v/cP9w/3H/XP+C/3z/eP97/2z/fv95/4T/ov+u/6P/sf+P/5//kP+x/7H/t/+9/8L/2P/M/+H/y//3//v/EwAYACAALwBFAGwAcgBzAIMAgQCfALcAuwDUAN8A3wDjAPoA/QDxAA4B7QA/AR8BFgH1AAYB5wAAAfoA8gDxAO4AxwDlALkAuQC6ALAArwCDAIEAXQBtAEcAawBVADUAWQBQAD4AWQArAEEAOgBKACsAHAA0ACgAIwAjAAEA/f/u//H/+P8ZAAYACAASAM7/DgDo/+T/8v/x//f/7/8GAO3/8/8PAB4AHQA8ADQAQwBFAEcATgBHAEcAQQAtADIA+/8DAOf/4f+2/5//kf+E/3n/Xf89/zX/I/8Z/yb/J/8B/xP/F/8h/wL/Cf8S/xb/Cf8Z/xb/DP8z/yH/LP8u/zz/MP9O/z3/Rv9K/zr/Sv9U/0z/a/+A/5X/m/+8/8T/zv/m/+X/BwACAPT/DQD+/wwADwDu/w0A6//i/83/1//n/6//yP/J/9z/o//X/8X/7P/0/xYAEQAiADwARwBRAH8AYgCOAK4ArACUAKkAswDgALUAsgDSAMQAxQC/AKQApAC8ALUAjwClAHoAdAB+AFoAZgBhAEwAJgAaAPf/8v/p/8v/sv+x/3//n/+R/1j/YP9s/03/Mv8t/yT/Hf8x/yT/N/8e/z//TP9X/3P/Xv96/57/rP+s/83/7P8TACwAQQBRAFYAegCAAJ0AnQCxAOAA3ADgAOIA2gDeANUAygDeAN4A4AD1AO4A1QDoAAcB7QD0APMA3QDhANUA/QDeAO8A7QDpAPMA+gD3ANoA+gDiANwA2ADpAOcA5wACAfUA4ADiAAMB9QD/AP4A4wDpAOwA6wABAe8A/wDzAP0A3QDrALMArgClAJkAoABXAFgARQA5AD8AEAAPAAYA5f/s/93/wP+7/7D/n/+O/5D/o/+1/6//rv/b/8H/2f/Z/8j/7P/v////KwA6AEYAaAB5AHoAgACgAL0AygDRAL4A6gDrAPIA3QDrAMMAxADMAOMA2wDSAMYAxwDTAN0AtQC2AKgApgCMAKIAmgCEAHcAXwBWAH4ASQBJAEAAOgAUAC8ADgDX/7f/nP+b/4n/ZP9M/y3/NP8G//r+C/8A/xT/6/7r/hb/A/8h/0b/Sf9e/2H/hv+P/7z/7f/z/yEALgBcAKMApQDEAOQAHQE8AV4BTAGAAXsBjgGVAYYBewGuAZoBlwF0AVgBWQE5AfoAAgHmANIAzQC1AJUAawBGADoAGgAKAN3/7f/X/8n/yv/C/7P/xf/R/6T/tv+S/6z/r/+R/5//qf+l/7v/q/+f/6n/vP++/7r/vP/A/8n/yf/z/8f/7v/e//X////d//n/EgAmACMAQgBcAFIAaQBfAHIAOwBWAEcAJAArAAwAEwD4//3/2v/j/9//3//O/8n/tv/J/7//w//C/9v/sf++/7X/tv+m/6D/mP+4/6z/v//D/9b/wP++/+D/yv/1/xMA9P8vAB0AOgBoAG4AaQBsAI4AhAB9AG4AbQCTAJIAoAC5ALgA7gAFARgBLgFeAVoBbQFhAXkBewF6AZUBlAGIAZMBegFYAWsBWwFvAVgBMAETAecA3ACJAIwAYwBWACwABAD4/9f/3f+0/5b/hv+D/2j/Z/9X/1n/Pv8h/03/LP8k/yz/E/8z/zL/N/8p/zP/MP8l/yP/Sf8u/0f/RP9N/1v/VP9b/5P/kv+r/8X/6//w//7/EAAwAFQAYQB3AJYAxgDXAOcA7gD1APUA9gD5APwABAHmAOkA0gDFAKsAkwBqAE4ASwAyACkA9f/t/8j/pf+Q/4T/aP9C/0P/MP8f/w7///7p/tT+v/6r/oH+dP5o/jH+I/4O/vn97P3z/fL9Df7z/ej93/3n/cj9v/3D/c/9t/3f/cr9z/28/e/97f3v/fj9AP4k/kr+iP6l/sH+//4j/1r/Vf+Y/8v/9P8EABcAMwApAFMAWwB8AEsAdwBlAH0AagBdAGgAPABPAE8AOgApADQAAQANAPH/BgDT/+b/v/+q/7P/pf9w/3v/XP8y/zX/R/8X/yL/Iv8r/xT/HP8e/zH/LP8g/x7/UP9K/2r/Uf94/4P/nP+r/8z/1P/u/wMALQA0AFAAeQCYAKwAtQDPAPwADAE1AS0BKwFLAUcBRwFqAUwBLAE4ATEB+gDIAKYAlwBpADMAAQDv/8L/kf9h/zj/DP/b/sH+pP5y/jD+Iv7//fL9tv2Z/aT9i/2v/Zj9v/2w/dj9MP45/kD+fP6l/uT++P5B/4z/q//i/wkAQABYAFYArQC0AL4A9QAQASgBJQEXAVQBRQFpAU8BXgFkAUgBIAFOAToBMgFMAUEBIAH+AA4BLQECAfcA6gDXAKcAkgCTAJUAcwBzAEYASgAWAPD/BQDn/7v/k/+O/4L/Wv9U/0X/Q/8x/0r/U/9H/z7/Yf9h/2X/cf91/2H/ev+S/4n/lP+L/5X/tv/U/9D/7f/r/wUAEAAfAC0AMABUAEgAWgBQAGkAYABiAGYAQQBKAEsARgBcAFUAMgA8ACgAOQAlADIADgD7/+z/3v/m/8//tP+0/53/n/+C/2z/V/9h/2P/V/87/0b/J/8P/wn///7o/uj+8f7R/tb+rv7M/sb+xv7M/sj+3v7b/ur+H/8L/0r/Uv9n/6X/qP/X/xQASQBZAHQArAClAOcAHQE2ATwBbwFuAYsBoQGdAXoBkwGIAX8BUQFVAS0BCgH+AO0AkQB8AEkAOwD9/+f/5v/T/6//v/+N/4b/dP9z/0b/N/9t/0X/Pf8t/z7/If8u/1z/R/9Z/07/V/9t/2n/if9v/4v/hP96/5//l/+5/7r/u/+3/8P/zf/Q/+z/5f/R/+//7//u//7/+f/8/wgAIAAcAEEAKQBgAGwAdQBpAGcAZwCMAHYAaQBzAF8AVwBfAGcARQBaADgARAA2AEMADAAYAPv/7//g/9r/1f/G/7D/m/+e/7D/g/+c/5j/jP+h/5D/p/+q/6j/rf+7/7T/w//S/97/4//w/yIABgAMACQAUwBuAHwAlgCzANIA2ADaAP8A/gD2AOoAAgEMAQ8BFgEVAQAB+QAXARQBEQEkAQsBDAENAfEA+ADvAOoA8gDcAMwAuAC5AMwArwC1AJkAlwB1AG4AYwBJAD8AOAAeAAwAFADT/8z/3//D/7b/mP+H/4H/bP9U/zj/FP8f//X+Av/x/v3+8v7w/uX+7v7e/vb+Av/1/h//J/8g/0z/T/+N/43/uf/s////EwBMAHkAqwDOAP0AHwFcAVEBcwF3AYMBoQGhAcIBxAHOAdQBywHHAdcBxAG8AaMBjQFKAVMBEQHmANkAnQCMAEMALgAJAMf/wf+k/4f/ff9a/zP/Pv8W/wD/Bf/x/ur+A//k/tL+2v7n/tT+5v7g/tX+2v4W/y7/PP9O/2v/l/+h/7n/vP/O/+//DwD8/xUAHwApADMATQBUAHgAaAB2AIwAeQCQAIUAcQBsAF8AVwBMADcAJQAMAP//4f/e/73/mP+S/2//af9b/1H/Nv8Y/w///f4G//T+9/70/vX+/P76/hP/If8n/xL/Mv9I/2T/lP+S/7r/x//X//L/BAAEABkAGgAfACEAOABLACsARQA1AFEAZgB2AIEAdwCIAH8AtgCqAMoA1AC7AOoA9ADfANsA7gC1ANgArgCSAK8AnACbAHcAYgBcAFAAQgArACAAKgAFANL/1v+x/6b/a/9n/1j/Ff8V//j+B//i/gL/u/7E/tX+vP6//tX+yv7I/vb+7P4A/yT/6/4f/xX/NP9P/3r/hP+T/5T/xf/H/+//8/8FACIALwBPAGgAVgCMAHQAgwB9ALAAngDOAL4AzADbAOkA5QDgAO0A1wDUAOIAuADJAMwAwQCgAJIAjQBoAGUARQBCAC8AOgAlACAAIgD4////4P///wIA3P/n/9z/2v/u/9n/1f/p/9j/yP/H/7n/sP+//9f/4v/h/8r/5v/Y/+z/4v/X/97/z//u/8X/4v/i//D/CwAGABsABgAcACAAKQBCAFEATgCGAIUAeACBAJQAfwCFAI8AjgCJAGwAVgBVAEEAUABLAEoAJQA1ACUAHwAsAC4AGgAYABwAIgAjACIAMwARABsAKwAYACEAFQAoADYAOgAkAB4AEwAeABMACgACAP//4v/o/83/x//I/8f/qf+l/3f/aP9g/2j/U/9Z/2D/Qf9A/zX/K/8l/yP/Hf8x/yL/DP8Z/xX/F/9A/zH/Lv9g/3z/af9i/5z/wf+x/8b/xf/G/9P/xf/L/6D/n/+Z/5j/h/9v/2f/Tv9T/1L/Kv8i/0v/Nf9C/z7/LP9X/1b/Pf9I/2f/cv9Z/1v/fP+P/4X/iv97/7L/tf/P/93//P8NACMAOgBkAIoAcgCqAKIAugDKALUAxADmAOUA5ADeAOkA9ADtAOQA4ADRAMQAzQDMAMoAqACYAJ8AkgB1AFgAVwApAD4AIwAzACMAMQA0AAwAIAAAAAkA/v8BAAYA/v/j/9X/z//O/8L/2f/L/5z/ff+C/1//Qv88/zn/MP8h/w7/+v7x/vH+yv7L/sz+3/7d/s3+6P7v/gH/F/9A/0n/YP+b/6n/5v8eACQAMwBMAIUAoQCgANQA3gDMANgA+wANASMBIgEgAQ8BCwEEAfYA2wDOALkAqgCgAIcAdgBkAEkAKgAIAPP/1f/J/6v/e/9s/2T/Xv9P/1v/Sv9B/0L/Sv9F/1v/U/9X/2n/af94/5f/gv+8/7v/4f/z/+n/CAAUACYARwBOAFQAdACAAJsApwCrAMgAzgCyAMUArgCKAI8AfwCHAGsAZgBRADUAQAAzAA4AHADq////4//a/8H/zP/E/7f/s/+E/4//n/+a/2L/bf9u/47/l/+X/7r/uf/c/+T/6f/7/yYAOABQAFIAfQByAIYAngDIALYAyQDMAOkA8AD8APwA/gDfAOUAzwDFAKMAqwCgAJEAZgBnAC0APwATAAkA5f/N/67/o/+O/1r/dv9n/1v/Vv9W/zr/Mf9C/zf/PP84/zv/Pv88/zn/a/9b/13/Z/9m/1b/ev9u/1X/RP9M/1n/TP87/0T/Sv9O/0L/Wv9I/0v/NP9P/1H/Xf9Z/0P/X/9b/2L/Yf9o/4D/hf9z/43/pf+4/8L/w/+6/9n/0P/4/xIA/f8RAAUAEgDu/ywAKAAtAEgATQB5AIcAkACWAL8A1QDIAAsBCAEqASkBXgFyAYkBggGPAXcBhwGMAZ8BnwG3AbEBnAF9AYkBWwFiAUIBLQELARABvgC5AKMAewBnAD8APAAaAB0AEADu/xMA7//1/+L/GgAAABMABQAUABMAEwAtAC0AMwA2ADcANwAwAFoASABqAFAAZQBbAHcAeACHAKgAmwCzAKkAswDQALQAuADMAL8A1gDaANQAzQDFANsA4wDYANAA7gADAQYBDgEVATcBIAEtAS8BOwE7ARYBJwEMAf0A6ADlAK0AoQB4AFEATABMACUAKQAwAPv/+f8GAPj/0f/G/7X/sv+8/6b/rv+Y/4X/lP+N/6D/lf+B/5L/bv9+/4H/p/+d/8v/wP/R/83/0v/q/wYA3v8FABgAFQAfADYAOQAzACgAQQAuADsAHQAvACcALQBCAGsARQBfAFIAXQBwAHEAaACIAHMAVABhAE0AZABfAEEAPgAWACkAEwBDABEAEwAAAPT////3/+//AgAmABsAFgA2AD0ATABvAH0AdgCEAKYAlQCbALgAqwDIAMcAvwDFALUArQCkAJgAlwBsACcAKgASAOH/yf+9/5r/d/+J/2n/av9J/z//Of9C/zb/Lv9K/yj/M/8h/x7/QP9U/1n/Rv9G/2P/Vv9c/13/Z/9n/3T/Yf+o/6j/k//O/7j/wf/D/9P/uP/L/7T/0//a/+3/7//j/9//0v/x/+H/5/8AAPH/FwAMAAQAEgBMABkALAA7ADcAVwByAF8AVgB7AIAAdwBnAHAAYABTAG0AUwBgAFcATQBOAE8AJwAbABIACgDv/+f/0f/W/8v/qf+d/7n/vP+8/7//pf/D/9T/wf/X/+X/7P/X/8r/0f/R/6//j/96/0P/V/81/x3/Ev8M/xT/GP///vT+BP/w/vr+AP8A/xL/Ev8i/0L/KP81/0v/Zf9z/2P/cv98/3L/hv+Y/5r/mf+e/67/sv+0/97/2//Z/+j/9f/e/w8A6P/7/wkA8/8GAO//9f/a/8//xv/D/7r/uf+b/43/oP+Z/47/of+Z/6f/r/+x/7j/2//X/wMADQAZACMAQgBXAEwASABfAFcAbgBzAHcAdwB8AIIAXwCEAFcAXgB+AGEAOAAuAC8AEwAUAAsA7f/1//T/1f/B/83/lv+S/5H/jf9T/1b/S/8o/z//Of8u/yb/H/80/x7/AP/l/sz+2P7Y/tX+1v7b/uX+uf61/rD+yP7X/t7+x/6u/rD+sv6Y/rf+xf7f/vH+Lv8N/xz/Vf9n/2P/j/+U/8H/1/8LADMAQwBqAIwAvQC5ANAA/QAHAfQACQENAQYBBgEMAeUA1QDLALQAogCGAHUAZQBMAEAAHQAjAAkA6f/T/7P/sf+v/5b/cP91/zL/Pv8p/xb/Bf8I//n+zv7S/tX+uf61/rH+nf61/p3+qf6d/q3+qf6u/sP+1f7Y/uL+8P7q/v7+Df8l/0//Pf9d/3H/V/9w/5v/qv+o/8X/9f///zgATQBSAIsApwCqAJoAtwCeAKMArACnAKYAmgCeAJIAxwCUAI4AngCvAIAAaACIAGEAcgBzAGIAWwB5AIkAkgCOAGoAZwB0AFUAdABkAHYAWABvAG4AawCFAHYAewB0AIAAiwBxAIIAXQBXAFgAPAA/AEkAXwBBAG0AUwBcAGgAcgB+AIMAbgBcAGEARwBWAEIAKQAdABwA5//v//z/6//R/9X/t/+8/5v/hP9v/2f/Zf9O/0T/X/8v/zv/Sf9L/z//V/9W/0r/T/9T/0//Xv9W/13/ff+B/4T/hf+N/4L/f/+e/6v/m/+S/6z/i/+N/6b/k/+A/6v/nv+z/53/o/+6/8r/+//1/xMAAQD3/yYAMQBYAFUAcwB0AI0AnwC9AMkA2wDdAOwA9QAkAScBMQEwASwBRgFRAUoBcQFnAWgBUwFXAVwBNQFGAUMBMgEgASkBHAEsASEBCgEHAQwBHgEQARABAgENAf0A5QAFAecA2wDUAMMAqAClAGsAYwAtACkA9P/u/7X/xf+W/4X/av9Z/03/M/80/yD/Cv8K/xX/DP8d/yz/Jv8+/yz/S/8Z/xD/JP///hL/Pv9i/2T/gv92/23/of+n/7P/zf/Z//j/JwBLAEsAVgBoAIsAnwCfALgAwwDqANwAugDaAO0A6wD5AAIB3gD0ANkA9gCxAKYAnQBvAFMATQAlABEAGgD8/93/wP+g/6H/bv+L/03/Xf8y/0D/OP8b/yj/Jf8t/zP/N/9S/3X/hf+D/43/u/+p/8D/0f/g/9v/7P///+j/FgA+ACcAQABFAEQAJAA3ADsALwAeABoAIAAaABAABgDu//v/FAAnABcAEAAsAEkAVgBlAHkAcACaAMIAtgClALIAsgC5AMYAoAC4AJMAmACJAHMAZgBKAFEAMAAyADMAJAATAAQA7//o//7/1v/M/63/j/+Y/3n/b/9Y/zL/NP8X/xH/Cv/s/gT/CP/8/g7/Fv8O/wn/Cf/3/hz/Jf8R/xj/U/9q/3T/dP+f/6v/wf/E/8n/w//P/9P/zP/e/+H/3v/n/wIA9v/q//3/FAAzADwAPQBtAGsAmQClAMAAtwC8AMIA0ADCAMcAzgC/AMsA2QDCAMAAugCuAKUAmACCAGMAWQBSADYAFAALAPX/t/+x/5n/YP9X/zn/Iv8i/xH/B/8E/+3+9f7T/tL+4P7R/s3+1P7m/tH+xv7L/uv+//7o/vr+6v7z/gv/Cv8Z/1D/bP9//3b/jP+I/7n/xv/G/+L/xv/s//P/JgD+/woACAAuAD4AVwBOAF4AdABuAG4AVwCNAHMAigCgAK0AvQDBAOAAywDfANoA0wAAAeoA3ADqANsAnQCsAKYAjwBzAHEAVwBnAE4AOwBXAGkAUABHAEAAVwBdAFkARAA/AFwAVwBmAEsASgA/AFIARwAoACMAJAAbAP7/6P/o/9P/s/+X/2j/b/9P/0L/Jf/3/vj+7P7Z/tD+1f6y/qf+0v6d/rX+s/6p/q3+wP7U/uT+y/8bABEABgAKABcAIQAUAAUACgAQABUAEQAIAAgACAAGAAUA///6//////8DAPb/+P8AAPv//v8CAP7/AwD+/wIAAwACAAYABAAIAAMACAAEAAUAAgACAAQAAwAIAAgABQAGAAcABAAFAAYAAwACAAEAAgD9/wEAAQD9//z/AQD8//7/AgABAAEAAgABAAEAAgACAAEAAQACAAIAAgABAAIAAgADAAIAAQACAAEAAAAAAAAAAAD+/wAA/v8AAP//AAD/////////////////////AAD+/wAA///+/////////////////////////wAAAAAAAAAA//8AAAAA/v/+//7//v/+//7//v/+//7//v/+//7/////////AAAAAAAAAAAAAAAAAAAAAA==\" type=\"audio/wav\" />\n",
       "                    Your browser does not support the audio element.\n",
       "                </audio>\n",
       "              "
      ],
      "text/plain": [
       "<IPython.lib.display.Audio object>"
      ]
     },
     "execution_count": 18,
     "metadata": {},
     "output_type": "execute_result"
    }
   ],
   "source": [
    "import IPython.display as display\n",
    "display.Audio(sample_path)"
   ]
  },
  {
   "cell_type": "code",
   "execution_count": 19,
   "id": "b5a4e6a1",
   "metadata": {},
   "outputs": [
    {
     "name": "stdout",
     "output_type": "stream",
     "text": [
      "y: [4.2871600e-03 4.4021066e-03 3.8751806e-03 ... 8.8227857e-08 1.4859546e-07\n",
      " 0.0000000e+00] \n",
      "\n",
      "y shape: (58859,) \n",
      "\n",
      "Sample rate (KHz): 22050 \n",
      "\n",
      "Length of audio: 2.669342403628118\n"
     ]
    },
    {
     "data": {
      "image/png": "[encoded data removed]",
      "text/plain": [
       "<Figure size 1080x360 with 1 Axes>"
      ]
     },
     "metadata": {
      "needs_background": "light"
     },
     "output_type": "display_data"
    }
   ],
   "source": [
    "y, sample_rate = librosa.load(sample_path)\n",
    "\n",
    "print('y:', y, '\\n')\n",
    "print('y shape:', np.shape(y), '\\n')\n",
    "print('Sample rate (KHz):', sample_rate, '\\n')\n",
    "print(f'Length of audio: {np.shape(y)[0]/sample_rate}')\n",
    "emotion = np.array(datos.Emociones[datos.Ruta == sample_path])[0]\n",
    "plt.figure(figsize=(15, 5))\n",
    "librosa.display.waveplot(y=y, sr=sample_rate);\n",
    "plt.title('Sound Wave for audio with {} emotion'.format(emotion), size=25)\n",
    "plt.show()"
   ]
  },
  {
   "cell_type": "code",
   "execution_count": 20,
   "id": "af602b31",
   "metadata": {},
   "outputs": [
    {
     "name": "stdout",
     "output_type": "stream",
     "text": [
      "Shape of D object: (1025, 115)\n"
     ]
    },
    {
     "data": {
      "image/png": "[encoded data removed]",
      "text/plain": [
       "<Figure size 1152x432 with 2 Axes>"
      ]
     },
     "metadata": {
      "needs_background": "light"
     },
     "output_type": "display_data"
    }
   ],
   "source": [
    "D = np.abs(librosa.stft(y, n_fft=2048, hop_length=512))\n",
    "print('Shape of D object:', np.shape(D))\n",
    "\n",
    "DB = librosa.amplitude_to_db(D, ref = np.max)\n",
    "\n",
    "plt.figure(figsize = (16, 6))\n",
    "librosa.display.specshow(DB, sr=sample_rate, hop_length=512,\n",
    "                         x_axis='time', y_axis='log')\n",
    "plt.colorbar()\n",
    "plt.title('Decibels-scaled spectrogram', fontsize=20)\n",
    "plt.show()"
   ]
  },
  {
   "cell_type": "code",
   "execution_count": 21,
   "id": "160760b3",
   "metadata": {},
   "outputs": [
    {
     "data": {
      "text/plain": [
       "<matplotlib.colorbar.Colorbar at 0x1c9d40f2b20>"
      ]
     },
     "execution_count": 21,
     "metadata": {},
     "output_type": "execute_result"
    },
    {
     "data": {
      "image/png": "[encoded data removed]",
      "text/plain": [
       "<Figure size 864x216 with 2 Axes>"
      ]
     },
     "metadata": {
      "needs_background": "light"
     },
     "output_type": "display_data"
    }
   ],
   "source": [
    "X = librosa.stft(y)\n",
    "Xdb = librosa.amplitude_to_db(abs(X))\n",
    "plt.figure(figsize=(12, 3))\n",
    "plt.title('Spectrogram for audio with {} emotion'.format(emotion), size=25)\n",
    "librosa.display.specshow(Xdb, sr=sample_rate, x_axis='time', y_axis='hz')\n",
    "plt.colorbar()"
   ]
  },
  {
   "cell_type": "code",
   "execution_count": 22,
   "id": "a217ab13",
   "metadata": {},
   "outputs": [],
   "source": [
    "from pathlib import Path\n",
    "def create_spectrogram(filename,name,emotion):\n",
    "    plt.interactive(False)\n",
    "    clip, sample_rate = librosa.load(filename, sr=None)\n",
    "    fig = plt.figure(figsize=[0.72,0.72])\n",
    "    ax = fig.add_subplot(111)\n",
    "    ax.axes.get_xaxis().set_visible(False)\n",
    "    ax.axes.get_yaxis().set_visible(False)\n",
    "    ax.set_frame_on(False)\n",
    "    S = librosa.feature.melspectrogram(y=clip, sr=sample_rate)\n",
    "    librosa.display.specshow(librosa.power_to_db(S, ref=np.max))\n",
    "    PATH = emotion\n",
    "    Path(PATH).mkdir(parents=True, exist_ok=True)\n",
    "    im = Path(PATH +name+ '.png')\n",
    "    plt.savefig(im, dpi=400, bbox_inches='tight',pad_inches=0)\n",
    "    plt.close()    \n",
    "    fig.clf()\n",
    "    plt.close(fig)\n",
    "    plt.close('all')\n",
    "    del filename,name,clip,sample_rate,fig,ax,S"
   ]
  },
  {
   "cell_type": "code",
   "execution_count": 23,
   "id": "f756cb4d",
   "metadata": {},
   "outputs": [],
   "source": [
    "dir_spectrograms = \"Emotions/\"\n",
    "folders = ['Emotions/neutral/', 'Emotions/calm/', 'Emotions/happy/', \n",
    "          'Emotions/sad/', 'Emotions/angry/', 'Emotions/fear/', 'Emotions/disgust/', 'Emotions/surprise/']"
   ]
  },
  {
   "cell_type": "code",
   "execution_count": 24,
   "id": "8efd6ed1",
   "metadata": {},
   "outputs": [],
   "source": [
    "#j = 0\n",
    "#for i in range(8):\n",
    "    #emotion = folders[i].split('/')[1].split('.')[0]\n",
    "    #emociones = datos.loc[datos['Emociones']==emotion]\n",
    "    #audios = np.array(emociones.Ruta)\n",
    "    #r = len(audios)\n",
    "    #for file in audios[j:j+r]:\n",
    "        #filename,name = file,file.split('/')[-1].split('.')[0]\n",
    "        #create_spectrogram(filename,name,folders[i])"
   ]
  },
  {
   "cell_type": "code",
   "execution_count": 25,
   "id": "2617fa3c",
   "metadata": {},
   "outputs": [],
   "source": [
    "# Pasamos a tensores\n",
    "import torchvision.datasets as datasets\n",
    "from torchvision.datasets import ImageFolder\n",
    "from torchvision import transforms\n",
    "\n",
    "my_transform = transforms.Compose([transforms.Resize((224,224))\n",
    "                                       ,transforms.ToTensor()\n",
    "                                       ,transforms.Normalize([0.485, 0.456, 0.406], [0.229, 0.224, 0.225])\n",
    "                                      ])"
   ]
  },
  {
   "cell_type": "code",
   "execution_count": 26,
   "id": "fdc96e85",
   "metadata": {},
   "outputs": [],
   "source": [
    "dataset = ImageFolder(dir_spectrograms, transform=my_transform)"
   ]
  },
  {
   "cell_type": "code",
   "execution_count": 27,
   "id": "ce38f01f",
   "metadata": {},
   "outputs": [],
   "source": [
    "from sklearn.model_selection import train_test_split\n",
    "train_indices, val_indices = train_test_split(list(range(len(dataset.targets))), test_size=0.3, stratify=dataset.targets)\n",
    "train_data = torch.utils.data.Subset(dataset, train_indices)\n",
    "val_data = torch.utils.data.Subset(dataset, val_indices)"
   ]
  },
  {
   "cell_type": "code",
   "execution_count": 28,
   "id": "42abc2af",
   "metadata": {},
   "outputs": [],
   "source": [
    "batch_size = 32\n",
    "train_loader = torch.utils.data.DataLoader(train_data,batch_size=128, shuffle=True)\n",
    "val_loader = torch.utils.data.DataLoader(val_data,batch_size=128, shuffle=True)"
   ]
  },
  {
   "cell_type": "code",
   "execution_count": 29,
   "id": "04ff2aae",
   "metadata": {},
   "outputs": [
    {
     "name": "stdout",
     "output_type": "stream",
     "text": [
      "AlexNet(\n",
      "  (features): Sequential(\n",
      "    (0): Conv2d(3, 64, kernel_size=(11, 11), stride=(4, 4), padding=(2, 2))\n",
      "    (1): ReLU(inplace=True)\n",
      "    (2): MaxPool2d(kernel_size=3, stride=2, padding=0, dilation=1, ceil_mode=False)\n",
      "    (3): Conv2d(64, 192, kernel_size=(5, 5), stride=(1, 1), padding=(2, 2))\n",
      "    (4): ReLU(inplace=True)\n",
      "    (5): MaxPool2d(kernel_size=3, stride=2, padding=0, dilation=1, ceil_mode=False)\n",
      "    (6): Conv2d(192, 384, kernel_size=(3, 3), stride=(1, 1), padding=(1, 1))\n",
      "    (7): ReLU(inplace=True)\n",
      "    (8): Conv2d(384, 256, kernel_size=(3, 3), stride=(1, 1), padding=(1, 1))\n",
      "    (9): ReLU(inplace=True)\n",
      "    (10): Conv2d(256, 256, kernel_size=(3, 3), stride=(1, 1), padding=(1, 1))\n",
      "    (11): ReLU(inplace=True)\n",
      "    (12): MaxPool2d(kernel_size=3, stride=2, padding=0, dilation=1, ceil_mode=False)\n",
      "  )\n",
      "  (avgpool): AdaptiveAvgPool2d(output_size=(6, 6))\n",
      "  (classifier): Sequential(\n",
      "    (0): Dropout(p=0.5, inplace=False)\n",
      "    (1): Linear(in_features=9216, out_features=4096, bias=True)\n",
      "    (2): ReLU(inplace=True)\n",
      "    (3): Dropout(p=0.5, inplace=False)\n",
      "    (4): Linear(in_features=4096, out_features=4096, bias=True)\n",
      "    (5): ReLU(inplace=True)\n",
      "    (6): Linear(in_features=4096, out_features=1000, bias=True)\n",
      "  )\n",
      ")\n"
     ]
    }
   ],
   "source": [
    "import torchvision.models as models\n",
    "net = models.alexnet()\n",
    "print(net)"
   ]
  },
  {
   "cell_type": "code",
   "execution_count": 30,
   "id": "2987a000",
   "metadata": {},
   "outputs": [],
   "source": [
    "net.classifier = nn.Sequential(\n",
    "    nn.Dropout(p=0.5, inplace=False),\n",
    "    nn.Linear(in_features=9216,out_features=384*6*6,bias=True),\n",
    "    nn.ReLU(inplace=True),\n",
    "    nn.Dropout(p=0.5, inplace=False),\n",
    "    nn.Linear(in_features=384*6*6,out_features=4096,bias=True),\n",
    "    nn.ReLU(inplace=True),\n",
    "    nn.Dropout(p=0.5, inplace=False),\n",
    "    nn.Linear(in_features=4096,out_features=4096,bias=True),\n",
    "    nn.ReLU(inplace=True),\n",
    "    nn.Linear(in_features=4096,out_features=8,bias=True)\n",
    ")"
   ]
  },
  {
   "cell_type": "code",
   "execution_count": 31,
   "id": "c0da03e5",
   "metadata": {},
   "outputs": [],
   "source": [
    "net = net.to(device)"
   ]
  },
  {
   "cell_type": "code",
   "execution_count": 32,
   "id": "2629347c",
   "metadata": {},
   "outputs": [
    {
     "name": "stdout",
     "output_type": "stream",
     "text": [
      "AlexNet(\n",
      "  (features): Sequential(\n",
      "    (0): Conv2d(3, 64, kernel_size=(11, 11), stride=(4, 4), padding=(2, 2))\n",
      "    (1): ReLU(inplace=True)\n",
      "    (2): MaxPool2d(kernel_size=3, stride=2, padding=0, dilation=1, ceil_mode=False)\n",
      "    (3): Conv2d(64, 192, kernel_size=(5, 5), stride=(1, 1), padding=(2, 2))\n",
      "    (4): ReLU(inplace=True)\n",
      "    (5): MaxPool2d(kernel_size=3, stride=2, padding=0, dilation=1, ceil_mode=False)\n",
      "    (6): Conv2d(192, 384, kernel_size=(3, 3), stride=(1, 1), padding=(1, 1))\n",
      "    (7): ReLU(inplace=True)\n",
      "    (8): Conv2d(384, 256, kernel_size=(3, 3), stride=(1, 1), padding=(1, 1))\n",
      "    (9): ReLU(inplace=True)\n",
      "    (10): Conv2d(256, 256, kernel_size=(3, 3), stride=(1, 1), padding=(1, 1))\n",
      "    (11): ReLU(inplace=True)\n",
      "    (12): MaxPool2d(kernel_size=3, stride=2, padding=0, dilation=1, ceil_mode=False)\n",
      "  )\n",
      "  (avgpool): AdaptiveAvgPool2d(output_size=(6, 6))\n",
      "  (classifier): Sequential(\n",
      "    (0): Dropout(p=0.5, inplace=False)\n",
      "    (1): Linear(in_features=9216, out_features=13824, bias=True)\n",
      "    (2): ReLU(inplace=True)\n",
      "    (3): Dropout(p=0.5, inplace=False)\n",
      "    (4): Linear(in_features=13824, out_features=4096, bias=True)\n",
      "    (5): ReLU(inplace=True)\n",
      "    (6): Dropout(p=0.5, inplace=False)\n",
      "    (7): Linear(in_features=4096, out_features=4096, bias=True)\n",
      "    (8): ReLU(inplace=True)\n",
      "    (9): Linear(in_features=4096, out_features=8, bias=True)\n",
      "  )\n",
      ")\n"
     ]
    }
   ],
   "source": [
    "for param in net.features.parameters(): param.requires_grad = False\n",
    "\n",
    "if torch.cuda.is_available():\n",
    "    net = net.cuda()\n",
    "\n",
    "print(net)"
   ]
  },
  {
   "cell_type": "code",
   "execution_count": 33,
   "id": "6562b142",
   "metadata": {},
   "outputs": [],
   "source": [
    "from torch import optim\n",
    "optimizer = optim.SGD(net.classifier.parameters(),lr=0.1,momentum=0.9)\n",
    "criterion = nn.CrossEntropyLoss()"
   ]
  },
  {
   "cell_type": "code",
   "execution_count": 34,
   "id": "ec6d0ef3",
   "metadata": {},
   "outputs": [],
   "source": [
    "def fit(model, dataloader, optimizer, criterion, pbar, train=True):\n",
    "    running_loss = 0.0\n",
    "    correct, total = 0,0\n",
    "    for i, (features, targets) in enumerate(dataloader, 0):\n",
    "        features = features.to(device) # Por si hay gpu\n",
    "        targets = targets.to(device) # Por si hay gpu\n",
    "        logits = model(features)\n",
    "        _, predicted_labels = torch.max(logits,1)\n",
    "    \n",
    "        total += targets.size(0)\n",
    "        correct += (predicted_labels == targets).sum() \n",
    "        loss = criterion(logits, targets)\n",
    "\n",
    "        running_loss += loss.item()\n",
    "        avg_loss = running_loss/(i + 1)\n",
    "        acc = correct.float()/total\n",
    "        \n",
    "        pbar.set_postfix(avg_loss='{:.4f}'.format(avg_loss), acc='{:.4f}'.format(acc))\n",
    "        pbar.update(targets.shape[0])\n",
    "    return avg_loss, acc"
   ]
  },
  {
   "cell_type": "code",
   "execution_count": 35,
   "id": "0693b425",
   "metadata": {},
   "outputs": [],
   "source": [
    "def train(model, train_loader, val_loader, optimizer, criterion, epochs):\n",
    "    train_time = 0\n",
    "    epoch_loss = list(); epoch_acc = list()\n",
    "    val_loss = list(); val_acc = list()\n",
    "    \n",
    "    n_train = len(train_loader.dataset)\n",
    "    n_val = len(val_loader.dataset)\n",
    "    model.train() # -> aplica drop si lo tiene el modelo y lleva registro de los gradientes\n",
    "    for epoch in range(epochs):\n",
    "        start_time = time.time()\n",
    "        with tqdm(total=n_train, position=0) as pbar_train:\n",
    "            pbar_train.set_description(f'Epoch {epoch + 1}/'+str(epochs)+' - train')\n",
    "            pbar_train.set_postfix(avg_loss='0.0', acc='0.0')\n",
    "            loss_train, acc_train = fit(model, train_loader, optimizer, criterion, pbar_train)\n",
    "            train_time +=  time.time() - start_time\n",
    "        model.eval() # -> de esta forma no incluye dropout, ni lleva registro de los gradientes\n",
    "        with tqdm(total=n_val, position=0) as pbar_val:\n",
    "            pbar_val.set_description(f'Epoch {epoch + 1}/'+str(epochs)+' - val')\n",
    "            pbar_val.set_postfix(avg_loss='0.0', acc='0.0')\n",
    "            loss_val, acc_val = fit(model, val_loader, optimizer, criterion, pbar_val, train=False)\n",
    "\n",
    "    epoch_loss.append(loss_train)\n",
    "    epoch_acc.append(acc_train)\n",
    "\n",
    "    val_loss.append(loss_val)\n",
    "    val_acc.append(acc_val)\n",
    "\n",
    "    return epoch_loss, epoch_acc, val_loss, val_acc, train_time"
   ]
  },
  {
   "cell_type": "code",
   "execution_count": 36,
   "id": "ff161ec1",
   "metadata": {},
   "outputs": [
    {
     "data": {
      "application/vnd.jupyter.widget-view+json": {
       "model_id": "5ee89adf54cc4b1698c16f74c0ef3760",
       "version_major": 2,
       "version_minor": 0
      },
      "text/plain": [
       "  0%|          | 0/8513 [00:00<?, ?it/s]"
      ]
     },
     "metadata": {},
     "output_type": "display_data"
    },
    {
     "data": {
      "application/vnd.jupyter.widget-view+json": {
       "model_id": "b92676b725624f8ba8e7176201f16d79",
       "version_major": 2,
       "version_minor": 0
      },
      "text/plain": [
       "  0%|          | 0/3649 [00:00<?, ?it/s]"
      ]
     },
     "metadata": {},
     "output_type": "display_data"
    },
    {
     "data": {
      "application/vnd.jupyter.widget-view+json": {
       "model_id": "580934b3ee2b40ec93e6446ceb8798d1",
       "version_major": 2,
       "version_minor": 0
      },
      "text/plain": [
       "  0%|          | 0/8513 [00:00<?, ?it/s]"
      ]
     },
     "metadata": {},
     "output_type": "display_data"
    },
    {
     "data": {
      "application/vnd.jupyter.widget-view+json": {
       "model_id": "658b4554ae444d9f881526bf3cc27b44",
       "version_major": 2,
       "version_minor": 0
      },
      "text/plain": [
       "  0%|          | 0/3649 [00:00<?, ?it/s]"
      ]
     },
     "metadata": {},
     "output_type": "display_data"
    },
    {
     "data": {
      "application/vnd.jupyter.widget-view+json": {
       "model_id": "def4c23bba004513a4825a4b8fe37205",
       "version_major": 2,
       "version_minor": 0
      },
      "text/plain": [
       "  0%|          | 0/8513 [00:00<?, ?it/s]"
      ]
     },
     "metadata": {},
     "output_type": "display_data"
    },
    {
     "data": {
      "application/vnd.jupyter.widget-view+json": {
       "model_id": "23839264b48e43f2bb4977b5a203ef69",
       "version_major": 2,
       "version_minor": 0
      },
      "text/plain": [
       "  0%|          | 0/3649 [00:00<?, ?it/s]"
      ]
     },
     "metadata": {},
     "output_type": "display_data"
    },
    {
     "data": {
      "application/vnd.jupyter.widget-view+json": {
       "model_id": "c71c2ef9126f4435986d8331b07087b0",
       "version_major": 2,
       "version_minor": 0
      },
      "text/plain": [
       "  0%|          | 0/8513 [00:00<?, ?it/s]"
      ]
     },
     "metadata": {},
     "output_type": "display_data"
    },
    {
     "data": {
      "application/vnd.jupyter.widget-view+json": {
       "model_id": "af64acf04ff147d6950361fbe3f43356",
       "version_major": 2,
       "version_minor": 0
      },
      "text/plain": [
       "  0%|          | 0/3649 [00:00<?, ?it/s]"
      ]
     },
     "metadata": {},
     "output_type": "display_data"
    },
    {
     "data": {
      "application/vnd.jupyter.widget-view+json": {
       "model_id": "3bcecfa0bb994848b2decbfec76359f3",
       "version_major": 2,
       "version_minor": 0
      },
      "text/plain": [
       "  0%|          | 0/8513 [00:00<?, ?it/s]"
      ]
     },
     "metadata": {},
     "output_type": "display_data"
    },
    {
     "data": {
      "application/vnd.jupyter.widget-view+json": {
       "model_id": "b4524ce0a115448798136d3edc60a80c",
       "version_major": 2,
       "version_minor": 0
      },
      "text/plain": [
       "  0%|          | 0/3649 [00:00<?, ?it/s]"
      ]
     },
     "metadata": {},
     "output_type": "display_data"
    },
    {
     "data": {
      "application/vnd.jupyter.widget-view+json": {
       "model_id": "174e0bc9229949ce841248eb98141ed6",
       "version_major": 2,
       "version_minor": 0
      },
      "text/plain": [
       "  0%|          | 0/8513 [00:00<?, ?it/s]"
      ]
     },
     "metadata": {},
     "output_type": "display_data"
    },
    {
     "data": {
      "application/vnd.jupyter.widget-view+json": {
       "model_id": "0425ec5dba3a43c89db6cfc7cc9f57eb",
       "version_major": 2,
       "version_minor": 0
      },
      "text/plain": [
       "  0%|          | 0/3649 [00:00<?, ?it/s]"
      ]
     },
     "metadata": {},
     "output_type": "display_data"
    },
    {
     "data": {
      "application/vnd.jupyter.widget-view+json": {
       "model_id": "6ae8141053514264bb01b414b61f2182",
       "version_major": 2,
       "version_minor": 0
      },
      "text/plain": [
       "  0%|          | 0/8513 [00:00<?, ?it/s]"
      ]
     },
     "metadata": {},
     "output_type": "display_data"
    },
    {
     "data": {
      "application/vnd.jupyter.widget-view+json": {
       "model_id": "04b662cdb4cc44b68e7e14b6eebd33e0",
       "version_major": 2,
       "version_minor": 0
      },
      "text/plain": [
       "  0%|          | 0/3649 [00:00<?, ?it/s]"
      ]
     },
     "metadata": {},
     "output_type": "display_data"
    },
    {
     "data": {
      "application/vnd.jupyter.widget-view+json": {
       "model_id": "8086e81e7ae341839289b7605bd149c8",
       "version_major": 2,
       "version_minor": 0
      },
      "text/plain": [
       "  0%|          | 0/8513 [00:00<?, ?it/s]"
      ]
     },
     "metadata": {},
     "output_type": "display_data"
    },
    {
     "data": {
      "application/vnd.jupyter.widget-view+json": {
       "model_id": "25c838c6802c453d892cf14a51ab40e6",
       "version_major": 2,
       "version_minor": 0
      },
      "text/plain": [
       "  0%|          | 0/3649 [00:00<?, ?it/s]"
      ]
     },
     "metadata": {},
     "output_type": "display_data"
    },
    {
     "data": {
      "application/vnd.jupyter.widget-view+json": {
       "model_id": "44e14c01374842d499779b76e23c07c5",
       "version_major": 2,
       "version_minor": 0
      },
      "text/plain": [
       "  0%|          | 0/8513 [00:00<?, ?it/s]"
      ]
     },
     "metadata": {},
     "output_type": "display_data"
    },
    {
     "data": {
      "application/vnd.jupyter.widget-view+json": {
       "model_id": "9f06510da9bd42adb0a13f20c807211c",
       "version_major": 2,
       "version_minor": 0
      },
      "text/plain": [
       "  0%|          | 0/3649 [00:00<?, ?it/s]"
      ]
     },
     "metadata": {},
     "output_type": "display_data"
    },
    {
     "data": {
      "application/vnd.jupyter.widget-view+json": {
       "model_id": "a2b4b2b364c94fb2bfdfa4d214a0044e",
       "version_major": 2,
       "version_minor": 0
      },
      "text/plain": [
       "  0%|          | 0/8513 [00:00<?, ?it/s]"
      ]
     },
     "metadata": {},
     "output_type": "display_data"
    },
    {
     "data": {
      "application/vnd.jupyter.widget-view+json": {
       "model_id": "7b8c1d3a86db4052ae25695abb7a063e",
       "version_major": 2,
       "version_minor": 0
      },
      "text/plain": [
       "  0%|          | 0/3649 [00:00<?, ?it/s]"
      ]
     },
     "metadata": {},
     "output_type": "display_data"
    },
    {
     "data": {
      "application/vnd.jupyter.widget-view+json": {
       "model_id": "dabe30eb368443859413527c1513da7f",
       "version_major": 2,
       "version_minor": 0
      },
      "text/plain": [
       "  0%|          | 0/8513 [00:00<?, ?it/s]"
      ]
     },
     "metadata": {},
     "output_type": "display_data"
    },
    {
     "data": {
      "application/vnd.jupyter.widget-view+json": {
       "model_id": "397d89cd22624969963a1e73365d1959",
       "version_major": 2,
       "version_minor": 0
      },
      "text/plain": [
       "  0%|          | 0/3649 [00:00<?, ?it/s]"
      ]
     },
     "metadata": {},
     "output_type": "display_data"
    },
    {
     "data": {
      "application/vnd.jupyter.widget-view+json": {
       "model_id": "3f1f18aa657d4c80932156df5e66ec30",
       "version_major": 2,
       "version_minor": 0
      },
      "text/plain": [
       "  0%|          | 0/8513 [00:00<?, ?it/s]"
      ]
     },
     "metadata": {},
     "output_type": "display_data"
    },
    {
     "data": {
      "application/vnd.jupyter.widget-view+json": {
       "model_id": "9692ee435d064d48bf6008d576c105e4",
       "version_major": 2,
       "version_minor": 0
      },
      "text/plain": [
       "  0%|          | 0/3649 [00:00<?, ?it/s]"
      ]
     },
     "metadata": {},
     "output_type": "display_data"
    },
    {
     "data": {
      "application/vnd.jupyter.widget-view+json": {
       "model_id": "3739768849544e6f9bfb8b67ac2eba03",
       "version_major": 2,
       "version_minor": 0
      },
      "text/plain": [
       "  0%|          | 0/8513 [00:00<?, ?it/s]"
      ]
     },
     "metadata": {},
     "output_type": "display_data"
    },
    {
     "data": {
      "application/vnd.jupyter.widget-view+json": {
       "model_id": "ba6b04d20401452fa7643ecd5f8539b0",
       "version_major": 2,
       "version_minor": 0
      },
      "text/plain": [
       "  0%|          | 0/3649 [00:00<?, ?it/s]"
      ]
     },
     "metadata": {},
     "output_type": "display_data"
    },
    {
     "data": {
      "application/vnd.jupyter.widget-view+json": {
       "model_id": "5b33df39f9a2412699e13a4fe3ce6291",
       "version_major": 2,
       "version_minor": 0
      },
      "text/plain": [
       "  0%|          | 0/8513 [00:00<?, ?it/s]"
      ]
     },
     "metadata": {},
     "output_type": "display_data"
    },
    {
     "data": {
      "application/vnd.jupyter.widget-view+json": {
       "model_id": "7564f9d89275435aa978dab8a73b8744",
       "version_major": 2,
       "version_minor": 0
      },
      "text/plain": [
       "  0%|          | 0/3649 [00:00<?, ?it/s]"
      ]
     },
     "metadata": {},
     "output_type": "display_data"
    },
    {
     "data": {
      "application/vnd.jupyter.widget-view+json": {
       "model_id": "2b960b26b17f4137be69147be6fe5912",
       "version_major": 2,
       "version_minor": 0
      },
      "text/plain": [
       "  0%|          | 0/8513 [00:00<?, ?it/s]"
      ]
     },
     "metadata": {},
     "output_type": "display_data"
    },
    {
     "data": {
      "application/vnd.jupyter.widget-view+json": {
       "model_id": "ec90d30b47724b73a1d0abdcb399fee3",
       "version_major": 2,
       "version_minor": 0
      },
      "text/plain": [
       "  0%|          | 0/3649 [00:00<?, ?it/s]"
      ]
     },
     "metadata": {},
     "output_type": "display_data"
    },
    {
     "data": {
      "application/vnd.jupyter.widget-view+json": {
       "model_id": "61ba7bd0a7f141aa85bda980db5b671b",
       "version_major": 2,
       "version_minor": 0
      },
      "text/plain": [
       "  0%|          | 0/8513 [00:00<?, ?it/s]"
      ]
     },
     "metadata": {},
     "output_type": "display_data"
    },
    {
     "data": {
      "application/vnd.jupyter.widget-view+json": {
       "model_id": "833c5f8a40784eaab90e424157147afb",
       "version_major": 2,
       "version_minor": 0
      },
      "text/plain": [
       "  0%|          | 0/3649 [00:00<?, ?it/s]"
      ]
     },
     "metadata": {},
     "output_type": "display_data"
    },
    {
     "data": {
      "application/vnd.jupyter.widget-view+json": {
       "model_id": "f6fa06666a3644f1b044a02adda6f401",
       "version_major": 2,
       "version_minor": 0
      },
      "text/plain": [
       "  0%|          | 0/8513 [00:00<?, ?it/s]"
      ]
     },
     "metadata": {},
     "output_type": "display_data"
    },
    {
     "data": {
      "application/vnd.jupyter.widget-view+json": {
       "model_id": "86a4b57fd627439dbd5383260d5fa74c",
       "version_major": 2,
       "version_minor": 0
      },
      "text/plain": [
       "  0%|          | 0/3649 [00:00<?, ?it/s]"
      ]
     },
     "metadata": {},
     "output_type": "display_data"
    },
    {
     "data": {
      "application/vnd.jupyter.widget-view+json": {
       "model_id": "10df40292ded44dbaed600cc6b900bce",
       "version_major": 2,
       "version_minor": 0
      },
      "text/plain": [
       "  0%|          | 0/8513 [00:00<?, ?it/s]"
      ]
     },
     "metadata": {},
     "output_type": "display_data"
    },
    {
     "data": {
      "application/vnd.jupyter.widget-view+json": {
       "model_id": "48bb2363c9ac45039277372b6f52aac8",
       "version_major": 2,
       "version_minor": 0
      },
      "text/plain": [
       "  0%|          | 0/3649 [00:00<?, ?it/s]"
      ]
     },
     "metadata": {},
     "output_type": "display_data"
    },
    {
     "data": {
      "application/vnd.jupyter.widget-view+json": {
       "model_id": "b621a9ae579c4956998a44b5677290e8",
       "version_major": 2,
       "version_minor": 0
      },
      "text/plain": [
       "  0%|          | 0/8513 [00:00<?, ?it/s]"
      ]
     },
     "metadata": {},
     "output_type": "display_data"
    },
    {
     "data": {
      "application/vnd.jupyter.widget-view+json": {
       "model_id": "7875ed5290874943a501f8a34c624e88",
       "version_major": 2,
       "version_minor": 0
      },
      "text/plain": [
       "  0%|          | 0/3649 [00:00<?, ?it/s]"
      ]
     },
     "metadata": {},
     "output_type": "display_data"
    },
    {
     "data": {
      "application/vnd.jupyter.widget-view+json": {
       "model_id": "9ed6327e6c144635937a4f309b79c834",
       "version_major": 2,
       "version_minor": 0
      },
      "text/plain": [
       "  0%|          | 0/8513 [00:00<?, ?it/s]"
      ]
     },
     "metadata": {},
     "output_type": "display_data"
    },
    {
     "data": {
      "application/vnd.jupyter.widget-view+json": {
       "model_id": "a1d01ef0f30a47a49577e06b68ec2fac",
       "version_major": 2,
       "version_minor": 0
      },
      "text/plain": [
       "  0%|          | 0/3649 [00:00<?, ?it/s]"
      ]
     },
     "metadata": {},
     "output_type": "display_data"
    },
    {
     "data": {
      "application/vnd.jupyter.widget-view+json": {
       "model_id": "5db46e487b804d24b18ed414f445af4b",
       "version_major": 2,
       "version_minor": 0
      },
      "text/plain": [
       "  0%|          | 0/8513 [00:00<?, ?it/s]"
      ]
     },
     "metadata": {},
     "output_type": "display_data"
    },
    {
     "data": {
      "application/vnd.jupyter.widget-view+json": {
       "model_id": "a46a0e9282e5429cb5f923f607b0e81b",
       "version_major": 2,
       "version_minor": 0
      },
      "text/plain": [
       "  0%|          | 0/3649 [00:00<?, ?it/s]"
      ]
     },
     "metadata": {},
     "output_type": "display_data"
    },
    {
     "data": {
      "application/vnd.jupyter.widget-view+json": {
       "model_id": "ddf801bccc1f4cb69302005696201a63",
       "version_major": 2,
       "version_minor": 0
      },
      "text/plain": [
       "  0%|          | 0/8513 [00:00<?, ?it/s]"
      ]
     },
     "metadata": {},
     "output_type": "display_data"
    },
    {
     "data": {
      "application/vnd.jupyter.widget-view+json": {
       "model_id": "5de99afc9f814f42b53e288a2c2cea2f",
       "version_major": 2,
       "version_minor": 0
      },
      "text/plain": [
       "  0%|          | 0/3649 [00:00<?, ?it/s]"
      ]
     },
     "metadata": {},
     "output_type": "display_data"
    },
    {
     "data": {
      "application/vnd.jupyter.widget-view+json": {
       "model_id": "f5946850294d4beeaf588893437e9642",
       "version_major": 2,
       "version_minor": 0
      },
      "text/plain": [
       "  0%|          | 0/8513 [00:00<?, ?it/s]"
      ]
     },
     "metadata": {},
     "output_type": "display_data"
    },
    {
     "data": {
      "application/vnd.jupyter.widget-view+json": {
       "model_id": "75367fe61b144474a8c2a5daabb06870",
       "version_major": 2,
       "version_minor": 0
      },
      "text/plain": [
       "  0%|          | 0/3649 [00:00<?, ?it/s]"
      ]
     },
     "metadata": {},
     "output_type": "display_data"
    },
    {
     "data": {
      "application/vnd.jupyter.widget-view+json": {
       "model_id": "7862c2a2718b4331935d3f31e03fbae8",
       "version_major": 2,
       "version_minor": 0
      },
      "text/plain": [
       "  0%|          | 0/8513 [00:00<?, ?it/s]"
      ]
     },
     "metadata": {},
     "output_type": "display_data"
    },
    {
     "data": {
      "application/vnd.jupyter.widget-view+json": {
       "model_id": "2bc07cb665c54ef4b6d68fb43bca86d5",
       "version_major": 2,
       "version_minor": 0
      },
      "text/plain": [
       "  0%|          | 0/3649 [00:00<?, ?it/s]"
      ]
     },
     "metadata": {},
     "output_type": "display_data"
    },
    {
     "data": {
      "application/vnd.jupyter.widget-view+json": {
       "model_id": "0ed1cbdf13454da3b99566cb6a89cfce",
       "version_major": 2,
       "version_minor": 0
      },
      "text/plain": [
       "  0%|          | 0/8513 [00:00<?, ?it/s]"
      ]
     },
     "metadata": {},
     "output_type": "display_data"
    },
    {
     "data": {
      "application/vnd.jupyter.widget-view+json": {
       "model_id": "6107d4b0d7a6449e925ba8fd3f9c76bb",
       "version_major": 2,
       "version_minor": 0
      },
      "text/plain": [
       "  0%|          | 0/3649 [00:00<?, ?it/s]"
      ]
     },
     "metadata": {},
     "output_type": "display_data"
    },
    {
     "data": {
      "application/vnd.jupyter.widget-view+json": {
       "model_id": "2fc19700dcd543ed9eab5e705cd819e1",
       "version_major": 2,
       "version_minor": 0
      },
      "text/plain": [
       "  0%|          | 0/8513 [00:00<?, ?it/s]"
      ]
     },
     "metadata": {},
     "output_type": "display_data"
    },
    {
     "data": {
      "application/vnd.jupyter.widget-view+json": {
       "model_id": "d9e58c36b82a4775a16ce76e62295d09",
       "version_major": 2,
       "version_minor": 0
      },
      "text/plain": [
       "  0%|          | 0/3649 [00:00<?, ?it/s]"
      ]
     },
     "metadata": {},
     "output_type": "display_data"
    },
    {
     "data": {
      "application/vnd.jupyter.widget-view+json": {
       "model_id": "20d4dceb393049dfaf8a617ba37d6d7a",
       "version_major": 2,
       "version_minor": 0
      },
      "text/plain": [
       "  0%|          | 0/8513 [00:00<?, ?it/s]"
      ]
     },
     "metadata": {},
     "output_type": "display_data"
    },
    {
     "data": {
      "application/vnd.jupyter.widget-view+json": {
       "model_id": "17bc4ea368204a8295f37c46c22f41f0",
       "version_major": 2,
       "version_minor": 0
      },
      "text/plain": [
       "  0%|          | 0/3649 [00:00<?, ?it/s]"
      ]
     },
     "metadata": {},
     "output_type": "display_data"
    },
    {
     "data": {
      "application/vnd.jupyter.widget-view+json": {
       "model_id": "82d54b09488b4668997995c3d450c769",
       "version_major": 2,
       "version_minor": 0
      },
      "text/plain": [
       "  0%|          | 0/8513 [00:00<?, ?it/s]"
      ]
     },
     "metadata": {},
     "output_type": "display_data"
    },
    {
     "data": {
      "application/vnd.jupyter.widget-view+json": {
       "model_id": "4d424510500d4b358603e578ab021337",
       "version_major": 2,
       "version_minor": 0
      },
      "text/plain": [
       "  0%|          | 0/3649 [00:00<?, ?it/s]"
      ]
     },
     "metadata": {},
     "output_type": "display_data"
    },
    {
     "data": {
      "application/vnd.jupyter.widget-view+json": {
       "model_id": "87de6dfa5a1247ff87a74d5a75c08f9b",
       "version_major": 2,
       "version_minor": 0
      },
      "text/plain": [
       "  0%|          | 0/8513 [00:00<?, ?it/s]"
      ]
     },
     "metadata": {},
     "output_type": "display_data"
    },
    {
     "data": {
      "application/vnd.jupyter.widget-view+json": {
       "model_id": "14f458189466406da79bcc331bb4b517",
       "version_major": 2,
       "version_minor": 0
      },
      "text/plain": [
       "  0%|          | 0/3649 [00:00<?, ?it/s]"
      ]
     },
     "metadata": {},
     "output_type": "display_data"
    },
    {
     "data": {
      "application/vnd.jupyter.widget-view+json": {
       "model_id": "53ec165ae0e147a289a970a31bf541be",
       "version_major": 2,
       "version_minor": 0
      },
      "text/plain": [
       "  0%|          | 0/8513 [00:00<?, ?it/s]"
      ]
     },
     "metadata": {},
     "output_type": "display_data"
    },
    {
     "data": {
      "application/vnd.jupyter.widget-view+json": {
       "model_id": "76d68e5425bb499eaaed3b6f01bce037",
       "version_major": 2,
       "version_minor": 0
      },
      "text/plain": [
       "  0%|          | 0/3649 [00:00<?, ?it/s]"
      ]
     },
     "metadata": {},
     "output_type": "display_data"
    },
    {
     "data": {
      "application/vnd.jupyter.widget-view+json": {
       "model_id": "ca48e80ccf5c481abce8b52a171ed2c0",
       "version_major": 2,
       "version_minor": 0
      },
      "text/plain": [
       "  0%|          | 0/8513 [00:00<?, ?it/s]"
      ]
     },
     "metadata": {},
     "output_type": "display_data"
    },
    {
     "data": {
      "application/vnd.jupyter.widget-view+json": {
       "model_id": "5a2cea1c6e5748e3bc5ad2b7014df05c",
       "version_major": 2,
       "version_minor": 0
      },
      "text/plain": [
       "  0%|          | 0/3649 [00:00<?, ?it/s]"
      ]
     },
     "metadata": {},
     "output_type": "display_data"
    },
    {
     "data": {
      "application/vnd.jupyter.widget-view+json": {
       "model_id": "043a04e6606549508967e3c40a02a323",
       "version_major": 2,
       "version_minor": 0
      },
      "text/plain": [
       "  0%|          | 0/8513 [00:00<?, ?it/s]"
      ]
     },
     "metadata": {},
     "output_type": "display_data"
    },
    {
     "data": {
      "application/vnd.jupyter.widget-view+json": {
       "model_id": "3bc860ccd0314ce38d57ce6169176d67",
       "version_major": 2,
       "version_minor": 0
      },
      "text/plain": [
       "  0%|          | 0/3649 [00:00<?, ?it/s]"
      ]
     },
     "metadata": {},
     "output_type": "display_data"
    },
    {
     "data": {
      "application/vnd.jupyter.widget-view+json": {
       "model_id": "25469ca0ee2f4ef496260abe2b2b642e",
       "version_major": 2,
       "version_minor": 0
      },
      "text/plain": [
       "  0%|          | 0/8513 [00:00<?, ?it/s]"
      ]
     },
     "metadata": {},
     "output_type": "display_data"
    },
    {
     "data": {
      "application/vnd.jupyter.widget-view+json": {
       "model_id": "9a668c19f352465d97c7dfe56db22f68",
       "version_major": 2,
       "version_minor": 0
      },
      "text/plain": [
       "  0%|          | 0/3649 [00:00<?, ?it/s]"
      ]
     },
     "metadata": {},
     "output_type": "display_data"
    },
    {
     "data": {
      "application/vnd.jupyter.widget-view+json": {
       "model_id": "ce0e13f89e5841f6be95c173da7278bb",
       "version_major": 2,
       "version_minor": 0
      },
      "text/plain": [
       "  0%|          | 0/8513 [00:00<?, ?it/s]"
      ]
     },
     "metadata": {},
     "output_type": "display_data"
    },
    {
     "data": {
      "application/vnd.jupyter.widget-view+json": {
       "model_id": "486f4534bfef48f1955f205cb801b3fd",
       "version_major": 2,
       "version_minor": 0
      },
      "text/plain": [
       "  0%|          | 0/3649 [00:00<?, ?it/s]"
      ]
     },
     "metadata": {},
     "output_type": "display_data"
    },
    {
     "data": {
      "application/vnd.jupyter.widget-view+json": {
       "model_id": "3c8493afe5a5487ab4d9d7870c0fdf5b",
       "version_major": 2,
       "version_minor": 0
      },
      "text/plain": [
       "  0%|          | 0/8513 [00:00<?, ?it/s]"
      ]
     },
     "metadata": {},
     "output_type": "display_data"
    },
    {
     "data": {
      "application/vnd.jupyter.widget-view+json": {
       "model_id": "42be53f732804f87a05a90c81cf21a97",
       "version_major": 2,
       "version_minor": 0
      },
      "text/plain": [
       "  0%|          | 0/3649 [00:00<?, ?it/s]"
      ]
     },
     "metadata": {},
     "output_type": "display_data"
    },
    {
     "data": {
      "application/vnd.jupyter.widget-view+json": {
       "model_id": "f85a1e34e5f54a198c13bac2c86ea890",
       "version_major": 2,
       "version_minor": 0
      },
      "text/plain": [
       "  0%|          | 0/8513 [00:00<?, ?it/s]"
      ]
     },
     "metadata": {},
     "output_type": "display_data"
    },
    {
     "data": {
      "application/vnd.jupyter.widget-view+json": {
       "model_id": "56c84b50827a46c6992c954924fe38a9",
       "version_major": 2,
       "version_minor": 0
      },
      "text/plain": [
       "  0%|          | 0/3649 [00:00<?, ?it/s]"
      ]
     },
     "metadata": {},
     "output_type": "display_data"
    },
    {
     "data": {
      "application/vnd.jupyter.widget-view+json": {
       "model_id": "4d9f95f9aa8f49c8ab4a95f5bac25e1d",
       "version_major": 2,
       "version_minor": 0
      },
      "text/plain": [
       "  0%|          | 0/8513 [00:00<?, ?it/s]"
      ]
     },
     "metadata": {},
     "output_type": "display_data"
    },
    {
     "data": {
      "application/vnd.jupyter.widget-view+json": {
       "model_id": "95d053bf6607401d99179ca1758d6f25",
       "version_major": 2,
       "version_minor": 0
      },
      "text/plain": [
       "  0%|          | 0/3649 [00:00<?, ?it/s]"
      ]
     },
     "metadata": {},
     "output_type": "display_data"
    },
    {
     "data": {
      "application/vnd.jupyter.widget-view+json": {
       "model_id": "fa04b804a5af4e958501f39c8b7fd5d7",
       "version_major": 2,
       "version_minor": 0
      },
      "text/plain": [
       "  0%|          | 0/8513 [00:00<?, ?it/s]"
      ]
     },
     "metadata": {},
     "output_type": "display_data"
    },
    {
     "data": {
      "application/vnd.jupyter.widget-view+json": {
       "model_id": "7bce57d636db4220ae035a79f1de316a",
       "version_major": 2,
       "version_minor": 0
      },
      "text/plain": [
       "  0%|          | 0/3649 [00:00<?, ?it/s]"
      ]
     },
     "metadata": {},
     "output_type": "display_data"
    },
    {
     "data": {
      "application/vnd.jupyter.widget-view+json": {
       "model_id": "3983e22db69144779a8f3198d48cebb9",
       "version_major": 2,
       "version_minor": 0
      },
      "text/plain": [
       "  0%|          | 0/8513 [00:00<?, ?it/s]"
      ]
     },
     "metadata": {},
     "output_type": "display_data"
    },
    {
     "data": {
      "application/vnd.jupyter.widget-view+json": {
       "model_id": "9be2127e4a57413a8bb985e0988ee15b",
       "version_major": 2,
       "version_minor": 0
      },
      "text/plain": [
       "  0%|          | 0/3649 [00:00<?, ?it/s]"
      ]
     },
     "metadata": {},
     "output_type": "display_data"
    },
    {
     "data": {
      "application/vnd.jupyter.widget-view+json": {
       "model_id": "b776000af20d41829c59715fca7641db",
       "version_major": 2,
       "version_minor": 0
      },
      "text/plain": [
       "  0%|          | 0/8513 [00:00<?, ?it/s]"
      ]
     },
     "metadata": {},
     "output_type": "display_data"
    },
    {
     "data": {
      "application/vnd.jupyter.widget-view+json": {
       "model_id": "49edc528b21b4109b3b3c6ebb89692bd",
       "version_major": 2,
       "version_minor": 0
      },
      "text/plain": [
       "  0%|          | 0/3649 [00:00<?, ?it/s]"
      ]
     },
     "metadata": {},
     "output_type": "display_data"
    },
    {
     "data": {
      "application/vnd.jupyter.widget-view+json": {
       "model_id": "f0968b77c93e4043a86054f288ed4963",
       "version_major": 2,
       "version_minor": 0
      },
      "text/plain": [
       "  0%|          | 0/8513 [00:00<?, ?it/s]"
      ]
     },
     "metadata": {},
     "output_type": "display_data"
    },
    {
     "data": {
      "application/vnd.jupyter.widget-view+json": {
       "model_id": "da9c56458aaf4b5389cb353e69f96f44",
       "version_major": 2,
       "version_minor": 0
      },
      "text/plain": [
       "  0%|          | 0/3649 [00:00<?, ?it/s]"
      ]
     },
     "metadata": {},
     "output_type": "display_data"
    },
    {
     "data": {
      "application/vnd.jupyter.widget-view+json": {
       "model_id": "826ecb6a1e3a4f8ab082264a37c722ea",
       "version_major": 2,
       "version_minor": 0
      },
      "text/plain": [
       "  0%|          | 0/8513 [00:00<?, ?it/s]"
      ]
     },
     "metadata": {},
     "output_type": "display_data"
    },
    {
     "data": {
      "application/vnd.jupyter.widget-view+json": {
       "model_id": "b062977a09c54b9a985591c6af29d07d",
       "version_major": 2,
       "version_minor": 0
      },
      "text/plain": [
       "  0%|          | 0/3649 [00:00<?, ?it/s]"
      ]
     },
     "metadata": {},
     "output_type": "display_data"
    },
    {
     "data": {
      "application/vnd.jupyter.widget-view+json": {
       "model_id": "44393d66612e407590ae00f85d2822b6",
       "version_major": 2,
       "version_minor": 0
      },
      "text/plain": [
       "  0%|          | 0/8513 [00:00<?, ?it/s]"
      ]
     },
     "metadata": {},
     "output_type": "display_data"
    },
    {
     "data": {
      "application/vnd.jupyter.widget-view+json": {
       "model_id": "ce26c36c48c14dd1890cef45004de47a",
       "version_major": 2,
       "version_minor": 0
      },
      "text/plain": [
       "  0%|          | 0/3649 [00:00<?, ?it/s]"
      ]
     },
     "metadata": {},
     "output_type": "display_data"
    },
    {
     "data": {
      "application/vnd.jupyter.widget-view+json": {
       "model_id": "b4c8c1c14772487fa4bc3f9fd15af1df",
       "version_major": 2,
       "version_minor": 0
      },
      "text/plain": [
       "  0%|          | 0/8513 [00:00<?, ?it/s]"
      ]
     },
     "metadata": {},
     "output_type": "display_data"
    },
    {
     "data": {
      "application/vnd.jupyter.widget-view+json": {
       "model_id": "e09a23880219494b87951e341cc1dffd",
       "version_major": 2,
       "version_minor": 0
      },
      "text/plain": [
       "  0%|          | 0/3649 [00:00<?, ?it/s]"
      ]
     },
     "metadata": {},
     "output_type": "display_data"
    },
    {
     "data": {
      "application/vnd.jupyter.widget-view+json": {
       "model_id": "aebf28902d624b80b0b6e561cae77c71",
       "version_major": 2,
       "version_minor": 0
      },
      "text/plain": [
       "  0%|          | 0/8513 [00:00<?, ?it/s]"
      ]
     },
     "metadata": {},
     "output_type": "display_data"
    },
    {
     "data": {
      "application/vnd.jupyter.widget-view+json": {
       "model_id": "e64531e02fc8455b87643d1e6b7c0720",
       "version_major": 2,
       "version_minor": 0
      },
      "text/plain": [
       "  0%|          | 0/3649 [00:00<?, ?it/s]"
      ]
     },
     "metadata": {},
     "output_type": "display_data"
    },
    {
     "data": {
      "application/vnd.jupyter.widget-view+json": {
       "model_id": "405cdb6eec6940158afac1167b2da5c9",
       "version_major": 2,
       "version_minor": 0
      },
      "text/plain": [
       "  0%|          | 0/8513 [00:00<?, ?it/s]"
      ]
     },
     "metadata": {},
     "output_type": "display_data"
    },
    {
     "data": {
      "application/vnd.jupyter.widget-view+json": {
       "model_id": "e0727bfddf5d445f8c6309c6e8e0ae0e",
       "version_major": 2,
       "version_minor": 0
      },
      "text/plain": [
       "  0%|          | 0/3649 [00:00<?, ?it/s]"
      ]
     },
     "metadata": {},
     "output_type": "display_data"
    },
    {
     "data": {
      "application/vnd.jupyter.widget-view+json": {
       "model_id": "9af5bf12ca134afda24d5891b9d63b2c",
       "version_major": 2,
       "version_minor": 0
      },
      "text/plain": [
       "  0%|          | 0/8513 [00:00<?, ?it/s]"
      ]
     },
     "metadata": {},
     "output_type": "display_data"
    },
    {
     "data": {
      "application/vnd.jupyter.widget-view+json": {
       "model_id": "d2286133475c4ec9a83e1aa4f5e38964",
       "version_major": 2,
       "version_minor": 0
      },
      "text/plain": [
       "  0%|          | 0/3649 [00:00<?, ?it/s]"
      ]
     },
     "metadata": {},
     "output_type": "display_data"
    },
    {
     "data": {
      "application/vnd.jupyter.widget-view+json": {
       "model_id": "a307a0959c374dd6b344387e296cf154",
       "version_major": 2,
       "version_minor": 0
      },
      "text/plain": [
       "  0%|          | 0/8513 [00:00<?, ?it/s]"
      ]
     },
     "metadata": {},
     "output_type": "display_data"
    },
    {
     "data": {
      "application/vnd.jupyter.widget-view+json": {
       "model_id": "397739f15d534adbb98cd8a659776fc6",
       "version_major": 2,
       "version_minor": 0
      },
      "text/plain": [
       "  0%|          | 0/3649 [00:00<?, ?it/s]"
      ]
     },
     "metadata": {},
     "output_type": "display_data"
    },
    {
     "data": {
      "application/vnd.jupyter.widget-view+json": {
       "model_id": "bb02b731391241f89f268f5a6ad225fd",
       "version_major": 2,
       "version_minor": 0
      },
      "text/plain": [
       "  0%|          | 0/8513 [00:00<?, ?it/s]"
      ]
     },
     "metadata": {},
     "output_type": "display_data"
    },
    {
     "data": {
      "application/vnd.jupyter.widget-view+json": {
       "model_id": "05550f1a720a4cd88eb753a8b88aec55",
       "version_major": 2,
       "version_minor": 0
      },
      "text/plain": [
       "  0%|          | 0/3649 [00:00<?, ?it/s]"
      ]
     },
     "metadata": {},
     "output_type": "display_data"
    },
    {
     "data": {
      "application/vnd.jupyter.widget-view+json": {
       "model_id": "d1530815315a44fd846ceb5a27387aa6",
       "version_major": 2,
       "version_minor": 0
      },
      "text/plain": [
       "  0%|          | 0/8513 [00:00<?, ?it/s]"
      ]
     },
     "metadata": {},
     "output_type": "display_data"
    },
    {
     "data": {
      "application/vnd.jupyter.widget-view+json": {
       "model_id": "808d3af1af3c44be80d969aa7aae4e31",
       "version_major": 2,
       "version_minor": 0
      },
      "text/plain": [
       "  0%|          | 0/3649 [00:00<?, ?it/s]"
      ]
     },
     "metadata": {},
     "output_type": "display_data"
    },
    {
     "data": {
      "application/vnd.jupyter.widget-view+json": {
       "model_id": "f5567c6e6d7245e283f9d70518bb2762",
       "version_major": 2,
       "version_minor": 0
      },
      "text/plain": [
       "  0%|          | 0/8513 [00:00<?, ?it/s]"
      ]
     },
     "metadata": {},
     "output_type": "display_data"
    },
    {
     "data": {
      "application/vnd.jupyter.widget-view+json": {
       "model_id": "4e11acd7e84d4157b4e7e22e04501a83",
       "version_major": 2,
       "version_minor": 0
      },
      "text/plain": [
       "  0%|          | 0/3649 [00:00<?, ?it/s]"
      ]
     },
     "metadata": {},
     "output_type": "display_data"
    },
    {
     "data": {
      "application/vnd.jupyter.widget-view+json": {
       "model_id": "400ae191f5e843f3b7f8c0c68a0a7d66",
       "version_major": 2,
       "version_minor": 0
      },
      "text/plain": [
       "  0%|          | 0/8513 [00:00<?, ?it/s]"
      ]
     },
     "metadata": {},
     "output_type": "display_data"
    },
    {
     "data": {
      "application/vnd.jupyter.widget-view+json": {
       "model_id": "64bfda19648b4ab0a3b4c41bbadc5dea",
       "version_major": 2,
       "version_minor": 0
      },
      "text/plain": [
       "  0%|          | 0/3649 [00:00<?, ?it/s]"
      ]
     },
     "metadata": {},
     "output_type": "display_data"
    },
    {
     "data": {
      "application/vnd.jupyter.widget-view+json": {
       "model_id": "ab449d324d66496b8726c6a54d406e6d",
       "version_major": 2,
       "version_minor": 0
      },
      "text/plain": [
       "  0%|          | 0/8513 [00:00<?, ?it/s]"
      ]
     },
     "metadata": {},
     "output_type": "display_data"
    },
    {
     "data": {
      "application/vnd.jupyter.widget-view+json": {
       "model_id": "212d2735ef0b49a9a1ecd619e7064525",
       "version_major": 2,
       "version_minor": 0
      },
      "text/plain": [
       "  0%|          | 0/3649 [00:00<?, ?it/s]"
      ]
     },
     "metadata": {},
     "output_type": "display_data"
    },
    {
     "data": {
      "application/vnd.jupyter.widget-view+json": {
       "model_id": "5ca36976e9804d90a2e0218c694913fa",
       "version_major": 2,
       "version_minor": 0
      },
      "text/plain": [
       "  0%|          | 0/8513 [00:00<?, ?it/s]"
      ]
     },
     "metadata": {},
     "output_type": "display_data"
    },
    {
     "data": {
      "application/vnd.jupyter.widget-view+json": {
       "model_id": "98cf9d8625954d0cbbaceff18dec13d7",
       "version_major": 2,
       "version_minor": 0
      },
      "text/plain": [
       "  0%|          | 0/3649 [00:00<?, ?it/s]"
      ]
     },
     "metadata": {},
     "output_type": "display_data"
    },
    {
     "data": {
      "application/vnd.jupyter.widget-view+json": {
       "model_id": "218363cdad184859aa7b337f3e8f3192",
       "version_major": 2,
       "version_minor": 0
      },
      "text/plain": [
       "  0%|          | 0/8513 [00:00<?, ?it/s]"
      ]
     },
     "metadata": {},
     "output_type": "display_data"
    },
    {
     "data": {
      "application/vnd.jupyter.widget-view+json": {
       "model_id": "daff94b160814d908350a224a0a93c08",
       "version_major": 2,
       "version_minor": 0
      },
      "text/plain": [
       "  0%|          | 0/3649 [00:00<?, ?it/s]"
      ]
     },
     "metadata": {},
     "output_type": "display_data"
    },
    {
     "data": {
      "application/vnd.jupyter.widget-view+json": {
       "model_id": "89b2b4a78c0b400abaa3407d7b4c5255",
       "version_major": 2,
       "version_minor": 0
      },
      "text/plain": [
       "  0%|          | 0/8513 [00:00<?, ?it/s]"
      ]
     },
     "metadata": {},
     "output_type": "display_data"
    },
    {
     "data": {
      "application/vnd.jupyter.widget-view+json": {
       "model_id": "97ba441352eb48159ca14133f150dc73",
       "version_major": 2,
       "version_minor": 0
      },
      "text/plain": [
       "  0%|          | 0/3649 [00:00<?, ?it/s]"
      ]
     },
     "metadata": {},
     "output_type": "display_data"
    },
    {
     "data": {
      "application/vnd.jupyter.widget-view+json": {
       "model_id": "71224841247348c9a4db16313430c430",
       "version_major": 2,
       "version_minor": 0
      },
      "text/plain": [
       "  0%|          | 0/8513 [00:00<?, ?it/s]"
      ]
     },
     "metadata": {},
     "output_type": "display_data"
    },
    {
     "data": {
      "application/vnd.jupyter.widget-view+json": {
       "model_id": "44206781889b472495b9e7679f12fcd9",
       "version_major": 2,
       "version_minor": 0
      },
      "text/plain": [
       "  0%|          | 0/3649 [00:00<?, ?it/s]"
      ]
     },
     "metadata": {},
     "output_type": "display_data"
    },
    {
     "data": {
      "application/vnd.jupyter.widget-view+json": {
       "model_id": "b0908f15c2ca4b388831631de61ce714",
       "version_major": 2,
       "version_minor": 0
      },
      "text/plain": [
       "  0%|          | 0/8513 [00:00<?, ?it/s]"
      ]
     },
     "metadata": {},
     "output_type": "display_data"
    },
    {
     "data": {
      "application/vnd.jupyter.widget-view+json": {
       "model_id": "c6b366f5522347d985bab58bde81428f",
       "version_major": 2,
       "version_minor": 0
      },
      "text/plain": [
       "  0%|          | 0/3649 [00:00<?, ?it/s]"
      ]
     },
     "metadata": {},
     "output_type": "display_data"
    },
    {
     "data": {
      "application/vnd.jupyter.widget-view+json": {
       "model_id": "d0be9cd27f12490b960122dd6687ab31",
       "version_major": 2,
       "version_minor": 0
      },
      "text/plain": [
       "  0%|          | 0/8513 [00:00<?, ?it/s]"
      ]
     },
     "metadata": {},
     "output_type": "display_data"
    },
    {
     "data": {
      "application/vnd.jupyter.widget-view+json": {
       "model_id": "2e7889354c8546658e3df056e462d4a1",
       "version_major": 2,
       "version_minor": 0
      },
      "text/plain": [
       "  0%|          | 0/3649 [00:00<?, ?it/s]"
      ]
     },
     "metadata": {},
     "output_type": "display_data"
    },
    {
     "data": {
      "application/vnd.jupyter.widget-view+json": {
       "model_id": "28e61f0252534f90bd8844afa9b4f6f7",
       "version_major": 2,
       "version_minor": 0
      },
      "text/plain": [
       "  0%|          | 0/8513 [00:00<?, ?it/s]"
      ]
     },
     "metadata": {},
     "output_type": "display_data"
    },
    {
     "data": {
      "application/vnd.jupyter.widget-view+json": {
       "model_id": "82c0c7d17b7846edbecbe483f6084b6d",
       "version_major": 2,
       "version_minor": 0
      },
      "text/plain": [
       "  0%|          | 0/3649 [00:00<?, ?it/s]"
      ]
     },
     "metadata": {},
     "output_type": "display_data"
    },
    {
     "data": {
      "application/vnd.jupyter.widget-view+json": {
       "model_id": "c9ae011e395648fe98ccbde58782aac5",
       "version_major": 2,
       "version_minor": 0
      },
      "text/plain": [
       "  0%|          | 0/8513 [00:00<?, ?it/s]"
      ]
     },
     "metadata": {},
     "output_type": "display_data"
    },
    {
     "data": {
      "application/vnd.jupyter.widget-view+json": {
       "model_id": "4cb97639a72d43a79878d5144c4bb9a4",
       "version_major": 2,
       "version_minor": 0
      },
      "text/plain": [
       "  0%|          | 0/3649 [00:00<?, ?it/s]"
      ]
     },
     "metadata": {},
     "output_type": "display_data"
    },
    {
     "data": {
      "application/vnd.jupyter.widget-view+json": {
       "model_id": "d10d3675149d44ed812501ea76b5e5e9",
       "version_major": 2,
       "version_minor": 0
      },
      "text/plain": [
       "  0%|          | 0/8513 [00:00<?, ?it/s]"
      ]
     },
     "metadata": {},
     "output_type": "display_data"
    },
    {
     "data": {
      "application/vnd.jupyter.widget-view+json": {
       "model_id": "8b87513dd60c44529bc5c09f08acc5bf",
       "version_major": 2,
       "version_minor": 0
      },
      "text/plain": [
       "  0%|          | 0/3649 [00:00<?, ?it/s]"
      ]
     },
     "metadata": {},
     "output_type": "display_data"
    },
    {
     "data": {
      "application/vnd.jupyter.widget-view+json": {
       "model_id": "975a5d41c1864e1c9d19ff7d11b02598",
       "version_major": 2,
       "version_minor": 0
      },
      "text/plain": [
       "  0%|          | 0/8513 [00:00<?, ?it/s]"
      ]
     },
     "metadata": {},
     "output_type": "display_data"
    },
    {
     "data": {
      "application/vnd.jupyter.widget-view+json": {
       "model_id": "b3ffaa674062485da5f456e8c50ee30f",
       "version_major": 2,
       "version_minor": 0
      },
      "text/plain": [
       "  0%|          | 0/3649 [00:00<?, ?it/s]"
      ]
     },
     "metadata": {},
     "output_type": "display_data"
    },
    {
     "data": {
      "application/vnd.jupyter.widget-view+json": {
       "model_id": "06830d3155424e93ba0ad7e08b690da8",
       "version_major": 2,
       "version_minor": 0
      },
      "text/plain": [
       "  0%|          | 0/8513 [00:00<?, ?it/s]"
      ]
     },
     "metadata": {},
     "output_type": "display_data"
    },
    {
     "data": {
      "application/vnd.jupyter.widget-view+json": {
       "model_id": "18eb04cf2881442e92cf49ea0c2a4031",
       "version_major": 2,
       "version_minor": 0
      },
      "text/plain": [
       "  0%|          | 0/3649 [00:00<?, ?it/s]"
      ]
     },
     "metadata": {},
     "output_type": "display_data"
    },
    {
     "data": {
      "application/vnd.jupyter.widget-view+json": {
       "model_id": "c813add2da7140bf986833533a931b0f",
       "version_major": 2,
       "version_minor": 0
      },
      "text/plain": [
       "  0%|          | 0/8513 [00:00<?, ?it/s]"
      ]
     },
     "metadata": {},
     "output_type": "display_data"
    },
    {
     "data": {
      "application/vnd.jupyter.widget-view+json": {
       "model_id": "367f02c755784c56b50625f0172e2afe",
       "version_major": 2,
       "version_minor": 0
      },
      "text/plain": [
       "  0%|          | 0/3649 [00:00<?, ?it/s]"
      ]
     },
     "metadata": {},
     "output_type": "display_data"
    },
    {
     "data": {
      "application/vnd.jupyter.widget-view+json": {
       "model_id": "28ba05ff058e43458e71ca75bf944b13",
       "version_major": 2,
       "version_minor": 0
      },
      "text/plain": [
       "  0%|          | 0/8513 [00:00<?, ?it/s]"
      ]
     },
     "metadata": {},
     "output_type": "display_data"
    },
    {
     "data": {
      "application/vnd.jupyter.widget-view+json": {
       "model_id": "f8fcd17b17bf48a1a1219469f04f1007",
       "version_major": 2,
       "version_minor": 0
      },
      "text/plain": [
       "  0%|          | 0/3649 [00:00<?, ?it/s]"
      ]
     },
     "metadata": {},
     "output_type": "display_data"
    },
    {
     "data": {
      "application/vnd.jupyter.widget-view+json": {
       "model_id": "ed18ec9dcaf2437c805069eda57da3c2",
       "version_major": 2,
       "version_minor": 0
      },
      "text/plain": [
       "  0%|          | 0/8513 [00:00<?, ?it/s]"
      ]
     },
     "metadata": {},
     "output_type": "display_data"
    },
    {
     "data": {
      "application/vnd.jupyter.widget-view+json": {
       "model_id": "fcc3df3143ce410eba236135ccbd2a3b",
       "version_major": 2,
       "version_minor": 0
      },
      "text/plain": [
       "  0%|          | 0/3649 [00:00<?, ?it/s]"
      ]
     },
     "metadata": {},
     "output_type": "display_data"
    },
    {
     "data": {
      "application/vnd.jupyter.widget-view+json": {
       "model_id": "dfbb8efb9ad74236a0e1bf13bdb9c51d",
       "version_major": 2,
       "version_minor": 0
      },
      "text/plain": [
       "  0%|          | 0/8513 [00:00<?, ?it/s]"
      ]
     },
     "metadata": {},
     "output_type": "display_data"
    },
    {
     "data": {
      "application/vnd.jupyter.widget-view+json": {
       "model_id": "41b2a8f975984d949fdb5034c9a464bc",
       "version_major": 2,
       "version_minor": 0
      },
      "text/plain": [
       "  0%|          | 0/3649 [00:00<?, ?it/s]"
      ]
     },
     "metadata": {},
     "output_type": "display_data"
    },
    {
     "data": {
      "application/vnd.jupyter.widget-view+json": {
       "model_id": "a4d4a90ca91c4aecbc62abaac35395d3",
       "version_major": 2,
       "version_minor": 0
      },
      "text/plain": [
       "  0%|          | 0/8513 [00:00<?, ?it/s]"
      ]
     },
     "metadata": {},
     "output_type": "display_data"
    },
    {
     "data": {
      "application/vnd.jupyter.widget-view+json": {
       "model_id": "8e67b30d103f42b18ed8ec483ed34e70",
       "version_major": 2,
       "version_minor": 0
      },
      "text/plain": [
       "  0%|          | 0/3649 [00:00<?, ?it/s]"
      ]
     },
     "metadata": {},
     "output_type": "display_data"
    },
    {
     "data": {
      "application/vnd.jupyter.widget-view+json": {
       "model_id": "9c20eaa5b6454b97a1aeae8530cf74d6",
       "version_major": 2,
       "version_minor": 0
      },
      "text/plain": [
       "  0%|          | 0/8513 [00:00<?, ?it/s]"
      ]
     },
     "metadata": {},
     "output_type": "display_data"
    },
    {
     "data": {
      "application/vnd.jupyter.widget-view+json": {
       "model_id": "a63a630c9bf64a0c94546f7c5616660b",
       "version_major": 2,
       "version_minor": 0
      },
      "text/plain": [
       "  0%|          | 0/3649 [00:00<?, ?it/s]"
      ]
     },
     "metadata": {},
     "output_type": "display_data"
    },
    {
     "data": {
      "application/vnd.jupyter.widget-view+json": {
       "model_id": "5a4e9faf49b74afa870d6671a892c49b",
       "version_major": 2,
       "version_minor": 0
      },
      "text/plain": [
       "  0%|          | 0/8513 [00:00<?, ?it/s]"
      ]
     },
     "metadata": {},
     "output_type": "display_data"
    },
    {
     "data": {
      "application/vnd.jupyter.widget-view+json": {
       "model_id": "189690e4d263432f91f9258ee100cd34",
       "version_major": 2,
       "version_minor": 0
      },
      "text/plain": [
       "  0%|          | 0/3649 [00:00<?, ?it/s]"
      ]
     },
     "metadata": {},
     "output_type": "display_data"
    },
    {
     "data": {
      "application/vnd.jupyter.widget-view+json": {
       "model_id": "96e54f7f82314fc3ad8fcb497245d803",
       "version_major": 2,
       "version_minor": 0
      },
      "text/plain": [
       "  0%|          | 0/8513 [00:00<?, ?it/s]"
      ]
     },
     "metadata": {},
     "output_type": "display_data"
    },
    {
     "data": {
      "application/vnd.jupyter.widget-view+json": {
       "model_id": "dc7ef889fb0446ffb43d70b202536f3f",
       "version_major": 2,
       "version_minor": 0
      },
      "text/plain": [
       "  0%|          | 0/3649 [00:00<?, ?it/s]"
      ]
     },
     "metadata": {},
     "output_type": "display_data"
    },
    {
     "data": {
      "application/vnd.jupyter.widget-view+json": {
       "model_id": "51aec4d78b7243e58bdfaa1127217a1d",
       "version_major": 2,
       "version_minor": 0
      },
      "text/plain": [
       "  0%|          | 0/8513 [00:00<?, ?it/s]"
      ]
     },
     "metadata": {},
     "output_type": "display_data"
    },
    {
     "data": {
      "application/vnd.jupyter.widget-view+json": {
       "model_id": "7f1af671a9784fc7849eef33e57379ca",
       "version_major": 2,
       "version_minor": 0
      },
      "text/plain": [
       "  0%|          | 0/3649 [00:00<?, ?it/s]"
      ]
     },
     "metadata": {},
     "output_type": "display_data"
    },
    {
     "data": {
      "application/vnd.jupyter.widget-view+json": {
       "model_id": "32b3d5ef1ddf435e979e125f74d2dca0",
       "version_major": 2,
       "version_minor": 0
      },
      "text/plain": [
       "  0%|          | 0/8513 [00:00<?, ?it/s]"
      ]
     },
     "metadata": {},
     "output_type": "display_data"
    },
    {
     "data": {
      "application/vnd.jupyter.widget-view+json": {
       "model_id": "1094662cf8f14d05a45fb7d47d32b69f",
       "version_major": 2,
       "version_minor": 0
      },
      "text/plain": [
       "  0%|          | 0/3649 [00:00<?, ?it/s]"
      ]
     },
     "metadata": {},
     "output_type": "display_data"
    },
    {
     "data": {
      "application/vnd.jupyter.widget-view+json": {
       "model_id": "ea341120242142129fd9df7256832e3f",
       "version_major": 2,
       "version_minor": 0
      },
      "text/plain": [
       "  0%|          | 0/8513 [00:00<?, ?it/s]"
      ]
     },
     "metadata": {},
     "output_type": "display_data"
    },
    {
     "data": {
      "application/vnd.jupyter.widget-view+json": {
       "model_id": "5fe1c81f0bf444fdb55a4ff4684416fd",
       "version_major": 2,
       "version_minor": 0
      },
      "text/plain": [
       "  0%|          | 0/3649 [00:00<?, ?it/s]"
      ]
     },
     "metadata": {},
     "output_type": "display_data"
    },
    {
     "data": {
      "application/vnd.jupyter.widget-view+json": {
       "model_id": "73e48b36ae54458dbcfb7edffada3d14",
       "version_major": 2,
       "version_minor": 0
      },
      "text/plain": [
       "  0%|          | 0/8513 [00:00<?, ?it/s]"
      ]
     },
     "metadata": {},
     "output_type": "display_data"
    },
    {
     "data": {
      "application/vnd.jupyter.widget-view+json": {
       "model_id": "f383551869ac4658a9adad44ddb7884e",
       "version_major": 2,
       "version_minor": 0
      },
      "text/plain": [
       "  0%|          | 0/3649 [00:00<?, ?it/s]"
      ]
     },
     "metadata": {},
     "output_type": "display_data"
    },
    {
     "data": {
      "application/vnd.jupyter.widget-view+json": {
       "model_id": "572224eaed7b4cb6b63bc5317041a6b1",
       "version_major": 2,
       "version_minor": 0
      },
      "text/plain": [
       "  0%|          | 0/8513 [00:00<?, ?it/s]"
      ]
     },
     "metadata": {},
     "output_type": "display_data"
    },
    {
     "data": {
      "application/vnd.jupyter.widget-view+json": {
       "model_id": "fa9b09629b094293a44c4f52c4b4e688",
       "version_major": 2,
       "version_minor": 0
      },
      "text/plain": [
       "  0%|          | 0/3649 [00:00<?, ?it/s]"
      ]
     },
     "metadata": {},
     "output_type": "display_data"
    },
    {
     "data": {
      "application/vnd.jupyter.widget-view+json": {
       "model_id": "cebfb76601bd48ebac43b6803d25f1c0",
       "version_major": 2,
       "version_minor": 0
      },
      "text/plain": [
       "  0%|          | 0/8513 [00:00<?, ?it/s]"
      ]
     },
     "metadata": {},
     "output_type": "display_data"
    },
    {
     "data": {
      "application/vnd.jupyter.widget-view+json": {
       "model_id": "217653ee7730445ebca31d1977ae20c2",
       "version_major": 2,
       "version_minor": 0
      },
      "text/plain": [
       "  0%|          | 0/3649 [00:00<?, ?it/s]"
      ]
     },
     "metadata": {},
     "output_type": "display_data"
    },
    {
     "data": {
      "application/vnd.jupyter.widget-view+json": {
       "model_id": "877c7928f4404fa78af47ce279c966c7",
       "version_major": 2,
       "version_minor": 0
      },
      "text/plain": [
       "  0%|          | 0/8513 [00:00<?, ?it/s]"
      ]
     },
     "metadata": {},
     "output_type": "display_data"
    },
    {
     "data": {
      "application/vnd.jupyter.widget-view+json": {
       "model_id": "37fbbb92a8b74f6b85844f52032e0a29",
       "version_major": 2,
       "version_minor": 0
      },
      "text/plain": [
       "  0%|          | 0/3649 [00:00<?, ?it/s]"
      ]
     },
     "metadata": {},
     "output_type": "display_data"
    },
    {
     "data": {
      "application/vnd.jupyter.widget-view+json": {
       "model_id": "a3712edcad6f437f8c313384d0279d01",
       "version_major": 2,
       "version_minor": 0
      },
      "text/plain": [
       "  0%|          | 0/8513 [00:00<?, ?it/s]"
      ]
     },
     "metadata": {},
     "output_type": "display_data"
    },
    {
     "data": {
      "application/vnd.jupyter.widget-view+json": {
       "model_id": "a55e72e983764865a91a2e13b85ba996",
       "version_major": 2,
       "version_minor": 0
      },
      "text/plain": [
       "  0%|          | 0/3649 [00:00<?, ?it/s]"
      ]
     },
     "metadata": {},
     "output_type": "display_data"
    },
    {
     "data": {
      "application/vnd.jupyter.widget-view+json": {
       "model_id": "37b5beea44a54289b047f03ac27e4d93",
       "version_major": 2,
       "version_minor": 0
      },
      "text/plain": [
       "  0%|          | 0/8513 [00:00<?, ?it/s]"
      ]
     },
     "metadata": {},
     "output_type": "display_data"
    },
    {
     "data": {
      "application/vnd.jupyter.widget-view+json": {
       "model_id": "cf3aaf61032049c6be3dae1b6ab556bf",
       "version_major": 2,
       "version_minor": 0
      },
      "text/plain": [
       "  0%|          | 0/3649 [00:00<?, ?it/s]"
      ]
     },
     "metadata": {},
     "output_type": "display_data"
    },
    {
     "data": {
      "application/vnd.jupyter.widget-view+json": {
       "model_id": "4589b979019249ae99dd0bd8e7605960",
       "version_major": 2,
       "version_minor": 0
      },
      "text/plain": [
       "  0%|          | 0/8513 [00:00<?, ?it/s]"
      ]
     },
     "metadata": {},
     "output_type": "display_data"
    },
    {
     "data": {
      "application/vnd.jupyter.widget-view+json": {
       "model_id": "e496e01745094f78af44b49f5f6bda6e",
       "version_major": 2,
       "version_minor": 0
      },
      "text/plain": [
       "  0%|          | 0/3649 [00:00<?, ?it/s]"
      ]
     },
     "metadata": {},
     "output_type": "display_data"
    },
    {
     "data": {
      "application/vnd.jupyter.widget-view+json": {
       "model_id": "16f71eb176d2468f98b30247471fc501",
       "version_major": 2,
       "version_minor": 0
      },
      "text/plain": [
       "  0%|          | 0/8513 [00:00<?, ?it/s]"
      ]
     },
     "metadata": {},
     "output_type": "display_data"
    },
    {
     "data": {
      "application/vnd.jupyter.widget-view+json": {
       "model_id": "fc343acc2deb427eb7cfae7559c342ef",
       "version_major": 2,
       "version_minor": 0
      },
      "text/plain": [
       "  0%|          | 0/3649 [00:00<?, ?it/s]"
      ]
     },
     "metadata": {},
     "output_type": "display_data"
    },
    {
     "data": {
      "application/vnd.jupyter.widget-view+json": {
       "model_id": "e77b4a82061b452a8cb6dd901d82c5c6",
       "version_major": 2,
       "version_minor": 0
      },
      "text/plain": [
       "  0%|          | 0/8513 [00:00<?, ?it/s]"
      ]
     },
     "metadata": {},
     "output_type": "display_data"
    },
    {
     "data": {
      "application/vnd.jupyter.widget-view+json": {
       "model_id": "0e75baf125e6479ca4d03987f5146caf",
       "version_major": 2,
       "version_minor": 0
      },
      "text/plain": [
       "  0%|          | 0/3649 [00:00<?, ?it/s]"
      ]
     },
     "metadata": {},
     "output_type": "display_data"
    },
    {
     "data": {
      "application/vnd.jupyter.widget-view+json": {
       "model_id": "749fe380732f4744b07ff3f5cc16e3c6",
       "version_major": 2,
       "version_minor": 0
      },
      "text/plain": [
       "  0%|          | 0/8513 [00:00<?, ?it/s]"
      ]
     },
     "metadata": {},
     "output_type": "display_data"
    },
    {
     "data": {
      "application/vnd.jupyter.widget-view+json": {
       "model_id": "a840892397a744618cd1b63b1d9046d5",
       "version_major": 2,
       "version_minor": 0
      },
      "text/plain": [
       "  0%|          | 0/3649 [00:00<?, ?it/s]"
      ]
     },
     "metadata": {},
     "output_type": "display_data"
    },
    {
     "data": {
      "application/vnd.jupyter.widget-view+json": {
       "model_id": "c699c242856742f2b074abb4cf7cc0c8",
       "version_major": 2,
       "version_minor": 0
      },
      "text/plain": [
       "  0%|          | 0/8513 [00:00<?, ?it/s]"
      ]
     },
     "metadata": {},
     "output_type": "display_data"
    },
    {
     "data": {
      "application/vnd.jupyter.widget-view+json": {
       "model_id": "de50e5c8846844c49f52d3a41bc67db5",
       "version_major": 2,
       "version_minor": 0
      },
      "text/plain": [
       "  0%|          | 0/3649 [00:00<?, ?it/s]"
      ]
     },
     "metadata": {},
     "output_type": "display_data"
    },
    {
     "data": {
      "application/vnd.jupyter.widget-view+json": {
       "model_id": "8296ba8e29bb4d2fa7d201b1cbdbe992",
       "version_major": 2,
       "version_minor": 0
      },
      "text/plain": [
       "  0%|          | 0/8513 [00:00<?, ?it/s]"
      ]
     },
     "metadata": {},
     "output_type": "display_data"
    },
    {
     "data": {
      "application/vnd.jupyter.widget-view+json": {
       "model_id": "3a26569d0df24dffa4809524f61e9778",
       "version_major": 2,
       "version_minor": 0
      },
      "text/plain": [
       "  0%|          | 0/3649 [00:00<?, ?it/s]"
      ]
     },
     "metadata": {},
     "output_type": "display_data"
    },
    {
     "data": {
      "application/vnd.jupyter.widget-view+json": {
       "model_id": "ba43f41c3fb24c70a49c5e6c9615e357",
       "version_major": 2,
       "version_minor": 0
      },
      "text/plain": [
       "  0%|          | 0/8513 [00:00<?, ?it/s]"
      ]
     },
     "metadata": {},
     "output_type": "display_data"
    },
    {
     "data": {
      "application/vnd.jupyter.widget-view+json": {
       "model_id": "3f869b041b084cf484db78137d0499af",
       "version_major": 2,
       "version_minor": 0
      },
      "text/plain": [
       "  0%|          | 0/3649 [00:00<?, ?it/s]"
      ]
     },
     "metadata": {},
     "output_type": "display_data"
    },
    {
     "data": {
      "application/vnd.jupyter.widget-view+json": {
       "model_id": "9e760c4295c34628a836e374f936a7b1",
       "version_major": 2,
       "version_minor": 0
      },
      "text/plain": [
       "  0%|          | 0/8513 [00:00<?, ?it/s]"
      ]
     },
     "metadata": {},
     "output_type": "display_data"
    },
    {
     "data": {
      "application/vnd.jupyter.widget-view+json": {
       "model_id": "a178a47112f54b899a2016cc1c2bdd37",
       "version_major": 2,
       "version_minor": 0
      },
      "text/plain": [
       "  0%|          | 0/3649 [00:00<?, ?it/s]"
      ]
     },
     "metadata": {},
     "output_type": "display_data"
    },
    {
     "data": {
      "application/vnd.jupyter.widget-view+json": {
       "model_id": "c4c17dd4e3e645ed8a46d0d15c00c9a4",
       "version_major": 2,
       "version_minor": 0
      },
      "text/plain": [
       "  0%|          | 0/8513 [00:00<?, ?it/s]"
      ]
     },
     "metadata": {},
     "output_type": "display_data"
    },
    {
     "data": {
      "application/vnd.jupyter.widget-view+json": {
       "model_id": "a54870c73f1d4505a4ea1cde0cba72c9",
       "version_major": 2,
       "version_minor": 0
      },
      "text/plain": [
       "  0%|          | 0/3649 [00:00<?, ?it/s]"
      ]
     },
     "metadata": {},
     "output_type": "display_data"
    },
    {
     "data": {
      "application/vnd.jupyter.widget-view+json": {
       "model_id": "1e42f4a58c8148c8821df92407098ce0",
       "version_major": 2,
       "version_minor": 0
      },
      "text/plain": [
       "  0%|          | 0/8513 [00:00<?, ?it/s]"
      ]
     },
     "metadata": {},
     "output_type": "display_data"
    },
    {
     "data": {
      "application/vnd.jupyter.widget-view+json": {
       "model_id": "7fe50c89c5044f55aa1dbb56b08434b9",
       "version_major": 2,
       "version_minor": 0
      },
      "text/plain": [
       "  0%|          | 0/3649 [00:00<?, ?it/s]"
      ]
     },
     "metadata": {},
     "output_type": "display_data"
    },
    {
     "data": {
      "application/vnd.jupyter.widget-view+json": {
       "model_id": "b174ecfff93a4de99a8a9f695a3c946c",
       "version_major": 2,
       "version_minor": 0
      },
      "text/plain": [
       "  0%|          | 0/8513 [00:00<?, ?it/s]"
      ]
     },
     "metadata": {},
     "output_type": "display_data"
    },
    {
     "data": {
      "application/vnd.jupyter.widget-view+json": {
       "model_id": "b58e3945a6d3409ca7280b0a7ed0fbfd",
       "version_major": 2,
       "version_minor": 0
      },
      "text/plain": [
       "  0%|          | 0/3649 [00:00<?, ?it/s]"
      ]
     },
     "metadata": {},
     "output_type": "display_data"
    },
    {
     "data": {
      "application/vnd.jupyter.widget-view+json": {
       "model_id": "2b433216452545de921f284bdc67f414",
       "version_major": 2,
       "version_minor": 0
      },
      "text/plain": [
       "  0%|          | 0/8513 [00:00<?, ?it/s]"
      ]
     },
     "metadata": {},
     "output_type": "display_data"
    },
    {
     "data": {
      "application/vnd.jupyter.widget-view+json": {
       "model_id": "4075462f51034252991c241bbdaf8c5d",
       "version_major": 2,
       "version_minor": 0
      },
      "text/plain": [
       "  0%|          | 0/3649 [00:00<?, ?it/s]"
      ]
     },
     "metadata": {},
     "output_type": "display_data"
    },
    {
     "data": {
      "application/vnd.jupyter.widget-view+json": {
       "model_id": "cf960c6a679a4bd99742a2deff432f44",
       "version_major": 2,
       "version_minor": 0
      },
      "text/plain": [
       "  0%|          | 0/8513 [00:00<?, ?it/s]"
      ]
     },
     "metadata": {},
     "output_type": "display_data"
    },
    {
     "data": {
      "application/vnd.jupyter.widget-view+json": {
       "model_id": "fb5433e65de74b4b9063f7428a258afe",
       "version_major": 2,
       "version_minor": 0
      },
      "text/plain": [
       "  0%|          | 0/3649 [00:00<?, ?it/s]"
      ]
     },
     "metadata": {},
     "output_type": "display_data"
    },
    {
     "data": {
      "application/vnd.jupyter.widget-view+json": {
       "model_id": "2598e796b83c468b9f0df4d669d70ccc",
       "version_major": 2,
       "version_minor": 0
      },
      "text/plain": [
       "  0%|          | 0/8513 [00:00<?, ?it/s]"
      ]
     },
     "metadata": {},
     "output_type": "display_data"
    },
    {
     "data": {
      "application/vnd.jupyter.widget-view+json": {
       "model_id": "abc1d319d537446a9d100918cf2d9743",
       "version_major": 2,
       "version_minor": 0
      },
      "text/plain": [
       "  0%|          | 0/3649 [00:00<?, ?it/s]"
      ]
     },
     "metadata": {},
     "output_type": "display_data"
    },
    {
     "data": {
      "application/vnd.jupyter.widget-view+json": {
       "model_id": "90cae527c3e44f5f9942a1ed99785939",
       "version_major": 2,
       "version_minor": 0
      },
      "text/plain": [
       "  0%|          | 0/8513 [00:00<?, ?it/s]"
      ]
     },
     "metadata": {},
     "output_type": "display_data"
    },
    {
     "data": {
      "application/vnd.jupyter.widget-view+json": {
       "model_id": "17269f1410e540bd806de4a15d37f5df",
       "version_major": 2,
       "version_minor": 0
      },
      "text/plain": [
       "  0%|          | 0/3649 [00:00<?, ?it/s]"
      ]
     },
     "metadata": {},
     "output_type": "display_data"
    },
    {
     "data": {
      "application/vnd.jupyter.widget-view+json": {
       "model_id": "d50d88fb37484caaa97437adc7f61190",
       "version_major": 2,
       "version_minor": 0
      },
      "text/plain": [
       "  0%|          | 0/8513 [00:00<?, ?it/s]"
      ]
     },
     "metadata": {},
     "output_type": "display_data"
    },
    {
     "data": {
      "application/vnd.jupyter.widget-view+json": {
       "model_id": "f6bd902cdf3249449d5bc19fd67c680f",
       "version_major": 2,
       "version_minor": 0
      },
      "text/plain": [
       "  0%|          | 0/3649 [00:00<?, ?it/s]"
      ]
     },
     "metadata": {},
     "output_type": "display_data"
    },
    {
     "data": {
      "application/vnd.jupyter.widget-view+json": {
       "model_id": "a94d0bd9ee14493eb3ce2367d46e737f",
       "version_major": 2,
       "version_minor": 0
      },
      "text/plain": [
       "  0%|          | 0/8513 [00:00<?, ?it/s]"
      ]
     },
     "metadata": {},
     "output_type": "display_data"
    },
    {
     "data": {
      "application/vnd.jupyter.widget-view+json": {
       "model_id": "c2d58f810d58472a8166483417b729bd",
       "version_major": 2,
       "version_minor": 0
      },
      "text/plain": [
       "  0%|          | 0/3649 [00:00<?, ?it/s]"
      ]
     },
     "metadata": {},
     "output_type": "display_data"
    },
    {
     "data": {
      "application/vnd.jupyter.widget-view+json": {
       "model_id": "d65cf3bc16e74f59a6634d0c8d17b07f",
       "version_major": 2,
       "version_minor": 0
      },
      "text/plain": [
       "  0%|          | 0/8513 [00:00<?, ?it/s]"
      ]
     },
     "metadata": {},
     "output_type": "display_data"
    },
    {
     "data": {
      "application/vnd.jupyter.widget-view+json": {
       "model_id": "8054571085664bd49d6e1788598b222e",
       "version_major": 2,
       "version_minor": 0
      },
      "text/plain": [
       "  0%|          | 0/3649 [00:00<?, ?it/s]"
      ]
     },
     "metadata": {},
     "output_type": "display_data"
    },
    {
     "data": {
      "application/vnd.jupyter.widget-view+json": {
       "model_id": "bc4a5b9e4eb2493a81f913d23ee27fb4",
       "version_major": 2,
       "version_minor": 0
      },
      "text/plain": [
       "  0%|          | 0/8513 [00:00<?, ?it/s]"
      ]
     },
     "metadata": {},
     "output_type": "display_data"
    },
    {
     "data": {
      "application/vnd.jupyter.widget-view+json": {
       "model_id": "4b30790f6e8f43999f19ba8718a0d4cc",
       "version_major": 2,
       "version_minor": 0
      },
      "text/plain": [
       "  0%|          | 0/3649 [00:00<?, ?it/s]"
      ]
     },
     "metadata": {},
     "output_type": "display_data"
    },
    {
     "name": "stdout",
     "output_type": "stream",
     "text": [
      "\n",
      " --- %s seconds --- 2955.034403562546\n"
     ]
    }
   ],
   "source": [
    "epochs = 100\n",
    "epoch_loss, epoch_acc, val_loss, val_acc, train_time = train(net, train_loader, val_loader, optimizer, criterion, epochs)\n",
    "print(\"\\n --- %s seconds ---\", train_time)"
   ]
  },
  {
   "cell_type": "code",
   "execution_count": 37,
   "id": "317d6704",
   "metadata": {},
   "outputs": [],
   "source": [
    "#epoch_acc_cpu = [0]\n",
    "#val_acc_cpu = [0]\n",
    "#epoch_acc_cpu[0] = epoch_acc[0].cpu()\n",
    "#val_acc_cpu[0] = val_acc[0].cpu()"
   ]
  },
  {
   "cell_type": "code",
   "execution_count": 38,
   "id": "0caf54b4",
   "metadata": {},
   "outputs": [
    {
     "name": "stdout",
     "output_type": "stream",
     "text": [
      "Presicion de la red: 15 %\n"
     ]
    }
   ],
   "source": [
    "#Veamos la presicion\n",
    "correct = 0\n",
    "total = 0\n",
    "with torch.no_grad():\n",
    "    for data in train_loader:\n",
    "        images, labels = data[0].to(device), data[1].to(device)\n",
    "        outputs = net(images)\n",
    "        _, predicted = torch.max(outputs.data, 1)\n",
    "        total += labels.size(0)\n",
    "        correct += (predicted == labels).sum().item()\n",
    "\n",
    "print('Presicion de la red: %d %%' % (100 * correct / total))"
   ]
  },
  {
   "cell_type": "code",
   "execution_count": 39,
   "id": "8b70e795",
   "metadata": {},
   "outputs": [
    {
     "name": "stdout",
     "output_type": "stream",
     "text": [
      "Presicion de neutral :  0 %\n",
      "Presicion de  calm :  0 %\n",
      "Presicion de happy :  0 %\n",
      "Presicion de   sad :  0 %\n",
      "Presicion de angry :  0 %\n",
      "Presicion de  fear :  0 %\n",
      "Presicion de disgust : 100 %\n",
      "Presicion de surprise :  0 %\n"
     ]
    }
   ],
   "source": [
    "classes = ('neutral', 'calm', 'happy', \n",
    "          'sad', 'angry', 'fear', 'disgust', 'surprise')\n",
    "class_correct = list(0. for i in range(8))\n",
    "class_total = list(0. for i in range(8))\n",
    "with torch.no_grad():\n",
    "    for data in train_loader:\n",
    "        images, labels = data[0].to(device), data[1].to(device)\n",
    "        outputs = net(images)\n",
    "        _, predicted = torch.max(outputs, 1)\n",
    "        c = (predicted == labels).squeeze()\n",
    "        for i in range(4):\n",
    "            label = labels[i]\n",
    "            class_correct[label] += c[i].item()\n",
    "            class_total[label] += 1\n",
    "if class_total[i] == 0.0:\n",
    "    class_total[i] = 100\n",
    "for i in range(8):\n",
    "    print('Presicion de %5s : %2d %%' % (\n",
    "        classes[i], 100 * class_correct[i] / class_total[i]))\n"
   ]
  },
  {
   "cell_type": "code",
   "execution_count": 40,
   "id": "b3418823",
   "metadata": {},
   "outputs": [
    {
     "name": "stdout",
     "output_type": "stream",
     "text": [
      "ResNet(\n",
      "  (conv1): Conv2d(3, 64, kernel_size=(7, 7), stride=(2, 2), padding=(3, 3), bias=False)\n",
      "  (bn1): BatchNorm2d(64, eps=1e-05, momentum=0.1, affine=True, track_running_stats=True)\n",
      "  (relu): ReLU(inplace=True)\n",
      "  (maxpool): MaxPool2d(kernel_size=3, stride=2, padding=1, dilation=1, ceil_mode=False)\n",
      "  (layer1): Sequential(\n",
      "    (0): BasicBlock(\n",
      "      (conv1): Conv2d(64, 64, kernel_size=(3, 3), stride=(1, 1), padding=(1, 1), bias=False)\n",
      "      (bn1): BatchNorm2d(64, eps=1e-05, momentum=0.1, affine=True, track_running_stats=True)\n",
      "      (relu): ReLU(inplace=True)\n",
      "      (conv2): Conv2d(64, 64, kernel_size=(3, 3), stride=(1, 1), padding=(1, 1), bias=False)\n",
      "      (bn2): BatchNorm2d(64, eps=1e-05, momentum=0.1, affine=True, track_running_stats=True)\n",
      "    )\n",
      "    (1): BasicBlock(\n",
      "      (conv1): Conv2d(64, 64, kernel_size=(3, 3), stride=(1, 1), padding=(1, 1), bias=False)\n",
      "      (bn1): BatchNorm2d(64, eps=1e-05, momentum=0.1, affine=True, track_running_stats=True)\n",
      "      (relu): ReLU(inplace=True)\n",
      "      (conv2): Conv2d(64, 64, kernel_size=(3, 3), stride=(1, 1), padding=(1, 1), bias=False)\n",
      "      (bn2): BatchNorm2d(64, eps=1e-05, momentum=0.1, affine=True, track_running_stats=True)\n",
      "    )\n",
      "  )\n",
      "  (layer2): Sequential(\n",
      "    (0): BasicBlock(\n",
      "      (conv1): Conv2d(64, 128, kernel_size=(3, 3), stride=(2, 2), padding=(1, 1), bias=False)\n",
      "      (bn1): BatchNorm2d(128, eps=1e-05, momentum=0.1, affine=True, track_running_stats=True)\n",
      "      (relu): ReLU(inplace=True)\n",
      "      (conv2): Conv2d(128, 128, kernel_size=(3, 3), stride=(1, 1), padding=(1, 1), bias=False)\n",
      "      (bn2): BatchNorm2d(128, eps=1e-05, momentum=0.1, affine=True, track_running_stats=True)\n",
      "      (downsample): Sequential(\n",
      "        (0): Conv2d(64, 128, kernel_size=(1, 1), stride=(2, 2), bias=False)\n",
      "        (1): BatchNorm2d(128, eps=1e-05, momentum=0.1, affine=True, track_running_stats=True)\n",
      "      )\n",
      "    )\n",
      "    (1): BasicBlock(\n",
      "      (conv1): Conv2d(128, 128, kernel_size=(3, 3), stride=(1, 1), padding=(1, 1), bias=False)\n",
      "      (bn1): BatchNorm2d(128, eps=1e-05, momentum=0.1, affine=True, track_running_stats=True)\n",
      "      (relu): ReLU(inplace=True)\n",
      "      (conv2): Conv2d(128, 128, kernel_size=(3, 3), stride=(1, 1), padding=(1, 1), bias=False)\n",
      "      (bn2): BatchNorm2d(128, eps=1e-05, momentum=0.1, affine=True, track_running_stats=True)\n",
      "    )\n",
      "  )\n",
      "  (layer3): Sequential(\n",
      "    (0): BasicBlock(\n",
      "      (conv1): Conv2d(128, 256, kernel_size=(3, 3), stride=(2, 2), padding=(1, 1), bias=False)\n",
      "      (bn1): BatchNorm2d(256, eps=1e-05, momentum=0.1, affine=True, track_running_stats=True)\n",
      "      (relu): ReLU(inplace=True)\n",
      "      (conv2): Conv2d(256, 256, kernel_size=(3, 3), stride=(1, 1), padding=(1, 1), bias=False)\n",
      "      (bn2): BatchNorm2d(256, eps=1e-05, momentum=0.1, affine=True, track_running_stats=True)\n",
      "      (downsample): Sequential(\n",
      "        (0): Conv2d(128, 256, kernel_size=(1, 1), stride=(2, 2), bias=False)\n",
      "        (1): BatchNorm2d(256, eps=1e-05, momentum=0.1, affine=True, track_running_stats=True)\n",
      "      )\n",
      "    )\n",
      "    (1): BasicBlock(\n",
      "      (conv1): Conv2d(256, 256, kernel_size=(3, 3), stride=(1, 1), padding=(1, 1), bias=False)\n",
      "      (bn1): BatchNorm2d(256, eps=1e-05, momentum=0.1, affine=True, track_running_stats=True)\n",
      "      (relu): ReLU(inplace=True)\n",
      "      (conv2): Conv2d(256, 256, kernel_size=(3, 3), stride=(1, 1), padding=(1, 1), bias=False)\n",
      "      (bn2): BatchNorm2d(256, eps=1e-05, momentum=0.1, affine=True, track_running_stats=True)\n",
      "    )\n",
      "  )\n",
      "  (layer4): Sequential(\n",
      "    (0): BasicBlock(\n",
      "      (conv1): Conv2d(256, 512, kernel_size=(3, 3), stride=(2, 2), padding=(1, 1), bias=False)\n",
      "      (bn1): BatchNorm2d(512, eps=1e-05, momentum=0.1, affine=True, track_running_stats=True)\n",
      "      (relu): ReLU(inplace=True)\n",
      "      (conv2): Conv2d(512, 512, kernel_size=(3, 3), stride=(1, 1), padding=(1, 1), bias=False)\n",
      "      (bn2): BatchNorm2d(512, eps=1e-05, momentum=0.1, affine=True, track_running_stats=True)\n",
      "      (downsample): Sequential(\n",
      "        (0): Conv2d(256, 512, kernel_size=(1, 1), stride=(2, 2), bias=False)\n",
      "        (1): BatchNorm2d(512, eps=1e-05, momentum=0.1, affine=True, track_running_stats=True)\n",
      "      )\n",
      "    )\n",
      "    (1): BasicBlock(\n",
      "      (conv1): Conv2d(512, 512, kernel_size=(3, 3), stride=(1, 1), padding=(1, 1), bias=False)\n",
      "      (bn1): BatchNorm2d(512, eps=1e-05, momentum=0.1, affine=True, track_running_stats=True)\n",
      "      (relu): ReLU(inplace=True)\n",
      "      (conv2): Conv2d(512, 512, kernel_size=(3, 3), stride=(1, 1), padding=(1, 1), bias=False)\n",
      "      (bn2): BatchNorm2d(512, eps=1e-05, momentum=0.1, affine=True, track_running_stats=True)\n",
      "    )\n",
      "  )\n",
      "  (avgpool): AdaptiveAvgPool2d(output_size=(1, 1))\n",
      "  (fc): Linear(in_features=512, out_features=1000, bias=True)\n",
      ")\n"
     ]
    }
   ],
   "source": [
    "import torchvision.models as models\n",
    "model=models.resnet18()\n",
    "print(model)"
   ]
  },
  {
   "cell_type": "code",
   "execution_count": 41,
   "id": "e891ee90",
   "metadata": {},
   "outputs": [
    {
     "data": {
      "text/plain": [
       "ResNet(\n",
       "  (conv1): Conv2d(3, 64, kernel_size=(7, 7), stride=(2, 2), padding=(3, 3), bias=False)\n",
       "  (bn1): BatchNorm2d(64, eps=1e-05, momentum=0.1, affine=True, track_running_stats=True)\n",
       "  (relu): ReLU(inplace=True)\n",
       "  (maxpool): MaxPool2d(kernel_size=3, stride=2, padding=1, dilation=1, ceil_mode=False)\n",
       "  (layer1): Sequential(\n",
       "    (0): BasicBlock(\n",
       "      (conv1): Conv2d(64, 64, kernel_size=(3, 3), stride=(1, 1), padding=(1, 1), bias=False)\n",
       "      (bn1): BatchNorm2d(64, eps=1e-05, momentum=0.1, affine=True, track_running_stats=True)\n",
       "      (relu): ReLU(inplace=True)\n",
       "      (conv2): Conv2d(64, 64, kernel_size=(3, 3), stride=(1, 1), padding=(1, 1), bias=False)\n",
       "      (bn2): BatchNorm2d(64, eps=1e-05, momentum=0.1, affine=True, track_running_stats=True)\n",
       "    )\n",
       "    (1): BasicBlock(\n",
       "      (conv1): Conv2d(64, 64, kernel_size=(3, 3), stride=(1, 1), padding=(1, 1), bias=False)\n",
       "      (bn1): BatchNorm2d(64, eps=1e-05, momentum=0.1, affine=True, track_running_stats=True)\n",
       "      (relu): ReLU(inplace=True)\n",
       "      (conv2): Conv2d(64, 64, kernel_size=(3, 3), stride=(1, 1), padding=(1, 1), bias=False)\n",
       "      (bn2): BatchNorm2d(64, eps=1e-05, momentum=0.1, affine=True, track_running_stats=True)\n",
       "    )\n",
       "  )\n",
       "  (layer2): Sequential(\n",
       "    (0): BasicBlock(\n",
       "      (conv1): Conv2d(64, 128, kernel_size=(3, 3), stride=(2, 2), padding=(1, 1), bias=False)\n",
       "      (bn1): BatchNorm2d(128, eps=1e-05, momentum=0.1, affine=True, track_running_stats=True)\n",
       "      (relu): ReLU(inplace=True)\n",
       "      (conv2): Conv2d(128, 128, kernel_size=(3, 3), stride=(1, 1), padding=(1, 1), bias=False)\n",
       "      (bn2): BatchNorm2d(128, eps=1e-05, momentum=0.1, affine=True, track_running_stats=True)\n",
       "      (downsample): Sequential(\n",
       "        (0): Conv2d(64, 128, kernel_size=(1, 1), stride=(2, 2), bias=False)\n",
       "        (1): BatchNorm2d(128, eps=1e-05, momentum=0.1, affine=True, track_running_stats=True)\n",
       "      )\n",
       "    )\n",
       "    (1): BasicBlock(\n",
       "      (conv1): Conv2d(128, 128, kernel_size=(3, 3), stride=(1, 1), padding=(1, 1), bias=False)\n",
       "      (bn1): BatchNorm2d(128, eps=1e-05, momentum=0.1, affine=True, track_running_stats=True)\n",
       "      (relu): ReLU(inplace=True)\n",
       "      (conv2): Conv2d(128, 128, kernel_size=(3, 3), stride=(1, 1), padding=(1, 1), bias=False)\n",
       "      (bn2): BatchNorm2d(128, eps=1e-05, momentum=0.1, affine=True, track_running_stats=True)\n",
       "    )\n",
       "  )\n",
       "  (layer3): Sequential(\n",
       "    (0): BasicBlock(\n",
       "      (conv1): Conv2d(128, 256, kernel_size=(3, 3), stride=(2, 2), padding=(1, 1), bias=False)\n",
       "      (bn1): BatchNorm2d(256, eps=1e-05, momentum=0.1, affine=True, track_running_stats=True)\n",
       "      (relu): ReLU(inplace=True)\n",
       "      (conv2): Conv2d(256, 256, kernel_size=(3, 3), stride=(1, 1), padding=(1, 1), bias=False)\n",
       "      (bn2): BatchNorm2d(256, eps=1e-05, momentum=0.1, affine=True, track_running_stats=True)\n",
       "      (downsample): Sequential(\n",
       "        (0): Conv2d(128, 256, kernel_size=(1, 1), stride=(2, 2), bias=False)\n",
       "        (1): BatchNorm2d(256, eps=1e-05, momentum=0.1, affine=True, track_running_stats=True)\n",
       "      )\n",
       "    )\n",
       "    (1): BasicBlock(\n",
       "      (conv1): Conv2d(256, 256, kernel_size=(3, 3), stride=(1, 1), padding=(1, 1), bias=False)\n",
       "      (bn1): BatchNorm2d(256, eps=1e-05, momentum=0.1, affine=True, track_running_stats=True)\n",
       "      (relu): ReLU(inplace=True)\n",
       "      (conv2): Conv2d(256, 256, kernel_size=(3, 3), stride=(1, 1), padding=(1, 1), bias=False)\n",
       "      (bn2): BatchNorm2d(256, eps=1e-05, momentum=0.1, affine=True, track_running_stats=True)\n",
       "    )\n",
       "  )\n",
       "  (layer4): Sequential(\n",
       "    (0): BasicBlock(\n",
       "      (conv1): Conv2d(256, 512, kernel_size=(3, 3), stride=(2, 2), padding=(1, 1), bias=False)\n",
       "      (bn1): BatchNorm2d(512, eps=1e-05, momentum=0.1, affine=True, track_running_stats=True)\n",
       "      (relu): ReLU(inplace=True)\n",
       "      (conv2): Conv2d(512, 512, kernel_size=(3, 3), stride=(1, 1), padding=(1, 1), bias=False)\n",
       "      (bn2): BatchNorm2d(512, eps=1e-05, momentum=0.1, affine=True, track_running_stats=True)\n",
       "      (downsample): Sequential(\n",
       "        (0): Conv2d(256, 512, kernel_size=(1, 1), stride=(2, 2), bias=False)\n",
       "        (1): BatchNorm2d(512, eps=1e-05, momentum=0.1, affine=True, track_running_stats=True)\n",
       "      )\n",
       "    )\n",
       "    (1): BasicBlock(\n",
       "      (conv1): Conv2d(512, 512, kernel_size=(3, 3), stride=(1, 1), padding=(1, 1), bias=False)\n",
       "      (bn1): BatchNorm2d(512, eps=1e-05, momentum=0.1, affine=True, track_running_stats=True)\n",
       "      (relu): ReLU(inplace=True)\n",
       "      (conv2): Conv2d(512, 512, kernel_size=(3, 3), stride=(1, 1), padding=(1, 1), bias=False)\n",
       "      (bn2): BatchNorm2d(512, eps=1e-05, momentum=0.1, affine=True, track_running_stats=True)\n",
       "    )\n",
       "  )\n",
       "  (avgpool): AdaptiveAvgPool2d(output_size=(1, 1))\n",
       "  (fc): Linear(in_features=512, out_features=8, bias=True)\n",
       ")"
      ]
     },
     "execution_count": 41,
     "metadata": {},
     "output_type": "execute_result"
    }
   ],
   "source": [
    "for param in model.parameters():\n",
    "    param.requires_grad = False\n",
    "    \n",
    "model.fc = nn.Linear(512, 8)\n",
    "criterion = nn.NLLLoss()\n",
    "optimizer = optim.Adam(model.fc.parameters(), lr=0.003)\n",
    "model.to(device)"
   ]
  },
  {
   "cell_type": "code",
   "execution_count": 45,
   "id": "0ea29dc6",
   "metadata": {},
   "outputs": [
    {
     "name": "stdout",
     "output_type": "stream",
     "text": [
      "Epoch 1/50.. Train accuracy: 0.158.. Train loss: -50.325.. Val accuracy: 0.159.. Val loss: -190.689\n",
      "Epoch 1/50.. Train accuracy: 0.177.. Train loss: -94.809.. Val accuracy: 0.177.. Val loss: -312.759\n",
      "Epoch 1/50.. Train accuracy: 0.158.. Train loss: -122.507.. Val accuracy: 0.157.. Val loss: -439.790\n",
      "Epoch 2/50.. Train accuracy: 0.158.. Train loss: -150.321.. Val accuracy: 0.159.. Val loss: -542.199\n",
      "Epoch 2/50.. Train accuracy: 0.158.. Train loss: -177.801.. Val accuracy: 0.157.. Val loss: -634.315\n",
      "Epoch 2/50.. Train accuracy: 0.158.. Train loss: -204.502.. Val accuracy: 0.157.. Val loss: -723.223\n",
      "Epoch 3/50.. Train accuracy: 0.158.. Train loss: -230.812.. Val accuracy: 0.159.. Val loss: -813.551\n",
      "Epoch 3/50.. Train accuracy: 0.158.. Train loss: -256.677.. Val accuracy: 0.159.. Val loss: -895.454\n",
      "Epoch 3/50.. Train accuracy: 0.158.. Train loss: -282.585.. Val accuracy: 0.157.. Val loss: -977.851\n",
      "Epoch 3/50.. Train accuracy: 0.158.. Train loss: -308.449.. Val accuracy: 0.158.. Val loss: -1067.347\n",
      "Epoch 4/50.. Train accuracy: 0.159.. Train loss: -333.618.. Val accuracy: 0.159.. Val loss: -1150.813\n",
      "Epoch 4/50.. Train accuracy: 0.158.. Train loss: -358.877.. Val accuracy: 0.158.. Val loss: -1232.657\n",
      "Epoch 4/50.. Train accuracy: 0.158.. Train loss: -383.885.. Val accuracy: 0.159.. Val loss: -1315.007\n",
      "Epoch 5/50.. Train accuracy: 0.158.. Train loss: -408.993.. Val accuracy: 0.158.. Val loss: -1401.676\n",
      "Epoch 5/50.. Train accuracy: 0.158.. Train loss: -433.771.. Val accuracy: 0.158.. Val loss: -1472.162\n",
      "Epoch 5/50.. Train accuracy: 0.158.. Train loss: -458.864.. Val accuracy: 0.158.. Val loss: -1570.205\n",
      "Epoch 6/50.. Train accuracy: 0.158.. Train loss: -483.777.. Val accuracy: 0.158.. Val loss: -1647.871\n",
      "Epoch 6/50.. Train accuracy: 0.158.. Train loss: -508.623.. Val accuracy: 0.158.. Val loss: -1735.874\n",
      "Epoch 6/50.. Train accuracy: 0.158.. Train loss: -533.341.. Val accuracy: 0.157.. Val loss: -1807.507\n",
      "Epoch 6/50.. Train accuracy: 0.158.. Train loss: -557.739.. Val accuracy: 0.159.. Val loss: -1892.949\n",
      "Epoch 7/50.. Train accuracy: 0.158.. Train loss: -582.837.. Val accuracy: 0.159.. Val loss: -1977.719\n",
      "Epoch 7/50.. Train accuracy: 0.158.. Train loss: -606.956.. Val accuracy: 0.159.. Val loss: -2051.768\n",
      "Epoch 7/50.. Train accuracy: 0.158.. Train loss: -631.355.. Val accuracy: 0.158.. Val loss: -2129.351\n",
      "Epoch 8/50.. Train accuracy: 0.158.. Train loss: -655.535.. Val accuracy: 0.159.. Val loss: -2219.912\n",
      "Epoch 8/50.. Train accuracy: 0.159.. Train loss: -681.155.. Val accuracy: 0.158.. Val loss: -2294.802\n",
      "Epoch 8/50.. Train accuracy: 0.158.. Train loss: -704.988.. Val accuracy: 0.159.. Val loss: -2388.198\n",
      "Epoch 9/50.. Train accuracy: 0.158.. Train loss: -729.481.. Val accuracy: 0.158.. Val loss: -2448.761\n",
      "Epoch 9/50.. Train accuracy: 0.158.. Train loss: -753.879.. Val accuracy: 0.158.. Val loss: -2540.924\n",
      "Epoch 9/50.. Train accuracy: 0.158.. Train loss: -778.560.. Val accuracy: 0.159.. Val loss: -2622.658\n",
      "Epoch 9/50.. Train accuracy: 0.158.. Train loss: -802.671.. Val accuracy: 0.158.. Val loss: -2709.342\n",
      "Epoch 10/50.. Train accuracy: 0.158.. Train loss: -827.193.. Val accuracy: 0.159.. Val loss: -2780.697\n",
      "Epoch 10/50.. Train accuracy: 0.158.. Train loss: -851.230.. Val accuracy: 0.159.. Val loss: -2867.420\n",
      "Epoch 10/50.. Train accuracy: 0.158.. Train loss: -875.665.. Val accuracy: 0.160.. Val loss: -2943.362\n",
      "Epoch 11/50.. Train accuracy: 0.158.. Train loss: -900.344.. Val accuracy: 0.157.. Val loss: -3031.394\n",
      "Epoch 11/50.. Train accuracy: 0.158.. Train loss: -923.668.. Val accuracy: 0.158.. Val loss: -3102.144\n",
      "Epoch 11/50.. Train accuracy: 0.158.. Train loss: -948.238.. Val accuracy: 0.158.. Val loss: -3175.769\n",
      "Epoch 12/50.. Train accuracy: 0.159.. Train loss: -973.494.. Val accuracy: 0.158.. Val loss: -3256.862\n",
      "Epoch 12/50.. Train accuracy: 0.158.. Train loss: -995.236.. Val accuracy: 0.157.. Val loss: -3343.782\n",
      "Epoch 12/50.. Train accuracy: 0.158.. Train loss: -1022.892.. Val accuracy: 0.157.. Val loss: -3424.825\n",
      "Epoch 12/50.. Train accuracy: 0.158.. Train loss: -1045.636.. Val accuracy: 0.158.. Val loss: -3514.505\n",
      "Epoch 13/50.. Train accuracy: 0.158.. Train loss: -1068.537.. Val accuracy: 0.158.. Val loss: -3594.224\n",
      "Epoch 13/50.. Train accuracy: 0.158.. Train loss: -1093.902.. Val accuracy: 0.156.. Val loss: -3657.898\n",
      "Epoch 13/50.. Train accuracy: 0.158.. Train loss: -1119.186.. Val accuracy: 0.159.. Val loss: -3736.043\n",
      "Epoch 14/50.. Train accuracy: 0.158.. Train loss: -1142.671.. Val accuracy: 0.158.. Val loss: -3819.770\n",
      "Epoch 14/50.. Train accuracy: 0.158.. Train loss: -1166.099.. Val accuracy: 0.158.. Val loss: -3913.713\n",
      "Epoch 14/50.. Train accuracy: 0.158.. Train loss: -1190.652.. Val accuracy: 0.158.. Val loss: -3976.972\n",
      "Epoch 15/50.. Train accuracy: 0.158.. Train loss: -1214.249.. Val accuracy: 0.158.. Val loss: -4072.081\n",
      "Epoch 15/50.. Train accuracy: 0.159.. Train loss: -1239.964.. Val accuracy: 0.157.. Val loss: -4125.943\n",
      "Epoch 15/50.. Train accuracy: 0.158.. Train loss: -1262.246.. Val accuracy: 0.158.. Val loss: -4245.701\n",
      "Epoch 15/50.. Train accuracy: 0.158.. Train loss: -1286.939.. Val accuracy: 0.160.. Val loss: -4321.817\n",
      "Epoch 16/50.. Train accuracy: 0.158.. Train loss: -1312.761.. Val accuracy: 0.159.. Val loss: -4395.094\n",
      "Epoch 16/50.. Train accuracy: 0.158.. Train loss: -1333.555.. Val accuracy: 0.158.. Val loss: -4470.932\n",
      "Epoch 16/50.. Train accuracy: 0.158.. Train loss: -1359.477.. Val accuracy: 0.157.. Val loss: -4535.934\n",
      "Epoch 17/50.. Train accuracy: 0.158.. Train loss: -1384.257.. Val accuracy: 0.159.. Val loss: -4613.026\n",
      "Epoch 17/50.. Train accuracy: 0.158.. Train loss: -1407.220.. Val accuracy: 0.160.. Val loss: -4730.815\n",
      "Epoch 17/50.. Train accuracy: 0.158.. Train loss: -1431.307.. Val accuracy: 0.158.. Val loss: -4767.046\n",
      "Epoch 18/50.. Train accuracy: 0.159.. Train loss: -1455.927.. Val accuracy: 0.158.. Val loss: -4887.828\n",
      "Epoch 18/50.. Train accuracy: 0.158.. Train loss: -1480.917.. Val accuracy: 0.158.. Val loss: -4955.838\n",
      "Epoch 18/50.. Train accuracy: 0.158.. Train loss: -1503.645.. Val accuracy: 0.159.. Val loss: -5046.197\n",
      "Epoch 18/50.. Train accuracy: 0.159.. Train loss: -1526.913.. Val accuracy: 0.158.. Val loss: -5103.605\n",
      "Epoch 19/50.. Train accuracy: 0.158.. Train loss: -1553.092.. Val accuracy: 0.158.. Val loss: -5162.527\n",
      "Epoch 19/50.. Train accuracy: 0.158.. Train loss: -1576.843.. Val accuracy: 0.158.. Val loss: -5272.322\n",
      "Epoch 19/50.. Train accuracy: 0.158.. Train loss: -1598.223.. Val accuracy: 0.159.. Val loss: -5357.494\n",
      "Epoch 20/50.. Train accuracy: 0.158.. Train loss: -1625.049.. Val accuracy: 0.158.. Val loss: -5405.395\n",
      "Epoch 20/50.. Train accuracy: 0.158.. Train loss: -1648.936.. Val accuracy: 0.158.. Val loss: -5505.172\n",
      "Epoch 20/50.. Train accuracy: 0.158.. Train loss: -1670.848.. Val accuracy: 0.158.. Val loss: -5583.495\n",
      "Epoch 20/50.. Train accuracy: 0.158.. Train loss: -1697.308.. Val accuracy: 0.158.. Val loss: -5672.829\n",
      "Epoch 21/50.. Train accuracy: 0.158.. Train loss: -1719.687.. Val accuracy: 0.158.. Val loss: -5744.383\n",
      "Epoch 21/50.. Train accuracy: 0.158.. Train loss: -1743.831.. Val accuracy: 0.159.. Val loss: -5822.009\n",
      "Epoch 21/50.. Train accuracy: 0.158.. Train loss: -1769.701.. Val accuracy: 0.157.. Val loss: -5868.567\n",
      "Epoch 22/50.. Train accuracy: 0.159.. Train loss: -1792.076.. Val accuracy: 0.161.. Val loss: -6004.760\n",
      "Epoch 22/50.. Train accuracy: 0.158.. Train loss: -1816.843.. Val accuracy: 0.159.. Val loss: -6070.824\n",
      "Epoch 22/50.. Train accuracy: 0.158.. Train loss: -1840.954.. Val accuracy: 0.159.. Val loss: -6145.306\n",
      "Epoch 23/50.. Train accuracy: 0.158.. Train loss: -1864.700.. Val accuracy: 0.158.. Val loss: -6177.342\n",
      "Epoch 23/50.. Train accuracy: 0.158.. Train loss: -1888.365.. Val accuracy: 0.159.. Val loss: -6318.554\n",
      "Epoch 23/50.. Train accuracy: 0.158.. Train loss: -1913.483.. Val accuracy: 0.159.. Val loss: -6371.884\n",
      "Epoch 23/50.. Train accuracy: 0.158.. Train loss: -1936.347.. Val accuracy: 0.157.. Val loss: -6472.920\n",
      "Epoch 24/50.. Train accuracy: 0.158.. Train loss: -1960.645.. Val accuracy: 0.159.. Val loss: -6538.918\n",
      "Epoch 24/50.. Train accuracy: 0.158.. Train loss: -1983.198.. Val accuracy: 0.157.. Val loss: -6612.397\n",
      "Epoch 24/50.. Train accuracy: 0.158.. Train loss: -2010.076.. Val accuracy: 0.158.. Val loss: -6677.969\n"
     ]
    },
    {
     "name": "stdout",
     "output_type": "stream",
     "text": [
      "Epoch 25/50.. Train accuracy: 0.158.. Train loss: -2032.733.. Val accuracy: 0.158.. Val loss: -6777.223\n",
      "Epoch 25/50.. Train accuracy: 0.158.. Train loss: -2058.514.. Val accuracy: 0.158.. Val loss: -6844.017\n",
      "Epoch 25/50.. Train accuracy: 0.158.. Train loss: -2077.952.. Val accuracy: 0.157.. Val loss: -6953.805\n",
      "Epoch 26/50.. Train accuracy: 0.158.. Train loss: -2106.336.. Val accuracy: 0.159.. Val loss: -7017.298\n",
      "Epoch 26/50.. Train accuracy: 0.158.. Train loss: -2128.988.. Val accuracy: 0.159.. Val loss: -7094.645\n",
      "Epoch 26/50.. Train accuracy: 0.158.. Train loss: -2152.406.. Val accuracy: 0.158.. Val loss: -7207.370\n",
      "Epoch 26/50.. Train accuracy: 0.158.. Train loss: -2176.520.. Val accuracy: 0.158.. Val loss: -7248.031\n",
      "Epoch 27/50.. Train accuracy: 0.158.. Train loss: -2201.783.. Val accuracy: 0.157.. Val loss: -7304.072\n",
      "Epoch 27/50.. Train accuracy: 0.158.. Train loss: -2224.411.. Val accuracy: 0.158.. Val loss: -7427.579\n",
      "Epoch 27/50.. Train accuracy: 0.159.. Train loss: -2250.772.. Val accuracy: 0.158.. Val loss: -7491.519\n",
      "Epoch 28/50.. Train accuracy: 0.158.. Train loss: -2271.928.. Val accuracy: 0.158.. Val loss: -7549.152\n",
      "Epoch 28/50.. Train accuracy: 0.158.. Train loss: -2295.684.. Val accuracy: 0.158.. Val loss: -7672.378\n",
      "Epoch 28/50.. Train accuracy: 0.158.. Train loss: -2319.529.. Val accuracy: 0.159.. Val loss: -7720.283\n",
      "Epoch 29/50.. Train accuracy: 0.158.. Train loss: -2345.987.. Val accuracy: 0.158.. Val loss: -7799.077\n",
      "Epoch 29/50.. Train accuracy: 0.158.. Train loss: -2368.673.. Val accuracy: 0.158.. Val loss: -7896.868\n",
      "Epoch 29/50.. Train accuracy: 0.158.. Train loss: -2392.441.. Val accuracy: 0.158.. Val loss: -7955.933\n",
      "Epoch 29/50.. Train accuracy: 0.158.. Train loss: -2416.559.. Val accuracy: 0.159.. Val loss: -8046.061\n",
      "Epoch 30/50.. Train accuracy: 0.158.. Train loss: -2440.064.. Val accuracy: 0.157.. Val loss: -8147.233\n",
      "Epoch 30/50.. Train accuracy: 0.158.. Train loss: -2465.110.. Val accuracy: 0.158.. Val loss: -8214.242\n",
      "Epoch 30/50.. Train accuracy: 0.158.. Train loss: -2488.903.. Val accuracy: 0.159.. Val loss: -8263.093\n",
      "Epoch 31/50.. Train accuracy: 0.158.. Train loss: -2512.714.. Val accuracy: 0.159.. Val loss: -8342.910\n",
      "Epoch 31/50.. Train accuracy: 0.158.. Train loss: -2537.100.. Val accuracy: 0.159.. Val loss: -8477.887\n",
      "Epoch 31/50.. Train accuracy: 0.158.. Train loss: -2558.768.. Val accuracy: 0.159.. Val loss: -8562.138\n",
      "Epoch 32/50.. Train accuracy: 0.158.. Train loss: -2585.094.. Val accuracy: 0.159.. Val loss: -8564.418\n",
      "Epoch 32/50.. Train accuracy: 0.158.. Train loss: -2609.858.. Val accuracy: 0.158.. Val loss: -8660.239\n",
      "Epoch 32/50.. Train accuracy: 0.158.. Train loss: -2630.224.. Val accuracy: 0.158.. Val loss: -8780.114\n",
      "Epoch 32/50.. Train accuracy: 0.158.. Train loss: -2658.227.. Val accuracy: 0.158.. Val loss: -8859.753\n",
      "Epoch 33/50.. Train accuracy: 0.158.. Train loss: -2679.670.. Val accuracy: 0.158.. Val loss: -8904.687\n",
      "Epoch 33/50.. Train accuracy: 0.158.. Train loss: -2703.646.. Val accuracy: 0.159.. Val loss: -9000.927\n",
      "Epoch 33/50.. Train accuracy: 0.157.. Train loss: -2726.126.. Val accuracy: 0.159.. Val loss: -9080.712\n",
      "Epoch 34/50.. Train accuracy: 0.158.. Train loss: -2754.157.. Val accuracy: 0.159.. Val loss: -9156.133\n",
      "Epoch 34/50.. Train accuracy: 0.158.. Train loss: -2776.043.. Val accuracy: 0.158.. Val loss: -9263.481\n",
      "Epoch 34/50.. Train accuracy: 0.158.. Train loss: -2797.678.. Val accuracy: 0.160.. Val loss: -9341.565\n",
      "Epoch 35/50.. Train accuracy: 0.158.. Train loss: -2825.437.. Val accuracy: 0.158.. Val loss: -9391.905\n",
      "Epoch 35/50.. Train accuracy: 0.158.. Train loss: -2849.238.. Val accuracy: 0.157.. Val loss: -9479.090\n",
      "Epoch 35/50.. Train accuracy: 0.158.. Train loss: -2871.898.. Val accuracy: 0.159.. Val loss: -9550.269\n",
      "Epoch 35/50.. Train accuracy: 0.158.. Train loss: -2896.001.. Val accuracy: 0.157.. Val loss: -9656.779\n",
      "Epoch 36/50.. Train accuracy: 0.159.. Train loss: -2921.339.. Val accuracy: 0.160.. Val loss: -9706.799\n",
      "Epoch 36/50.. Train accuracy: 0.158.. Train loss: -2945.630.. Val accuracy: 0.157.. Val loss: -9774.194\n",
      "Epoch 36/50.. Train accuracy: 0.158.. Train loss: -2966.356.. Val accuracy: 0.158.. Val loss: -9915.229\n",
      "Epoch 37/50.. Train accuracy: 0.158.. Train loss: -2989.872.. Val accuracy: 0.158.. Val loss: -9989.877\n",
      "Epoch 37/50.. Train accuracy: 0.159.. Train loss: -3018.085.. Val accuracy: 0.158.. Val loss: -10010.623\n",
      "Epoch 37/50.. Train accuracy: 0.158.. Train loss: -3041.067.. Val accuracy: 0.159.. Val loss: -10113.998\n",
      "Epoch 38/50.. Train accuracy: 0.158.. Train loss: -3060.482.. Val accuracy: 0.159.. Val loss: -10192.905\n",
      "Epoch 38/50.. Train accuracy: 0.158.. Train loss: -3085.307.. Val accuracy: 0.157.. Val loss: -10275.493\n",
      "Epoch 38/50.. Train accuracy: 0.158.. Train loss: -3114.563.. Val accuracy: 0.159.. Val loss: -10369.685\n",
      "Epoch 38/50.. Train accuracy: 0.158.. Train loss: -3135.584.. Val accuracy: 0.157.. Val loss: -10389.859\n",
      "Epoch 39/50.. Train accuracy: 0.158.. Train loss: -3159.475.. Val accuracy: 0.158.. Val loss: -10505.059\n",
      "Epoch 39/50.. Train accuracy: 0.158.. Train loss: -3185.144.. Val accuracy: 0.158.. Val loss: -10553.027\n",
      "Epoch 39/50.. Train accuracy: 0.158.. Train loss: -3206.755.. Val accuracy: 0.159.. Val loss: -10691.689\n",
      "Epoch 40/50.. Train accuracy: 0.158.. Train loss: -3228.826.. Val accuracy: 0.157.. Val loss: -10750.262\n",
      "Epoch 40/50.. Train accuracy: 0.158.. Train loss: -3257.184.. Val accuracy: 0.159.. Val loss: -10799.425\n",
      "Epoch 40/50.. Train accuracy: 0.159.. Train loss: -3277.802.. Val accuracy: 0.158.. Val loss: -10939.441\n",
      "Epoch 40/50.. Train accuracy: 0.158.. Train loss: -3304.861.. Val accuracy: 0.158.. Val loss: -11019.266\n",
      "Epoch 41/50.. Train accuracy: 0.159.. Train loss: -3327.663.. Val accuracy: 0.158.. Val loss: -11083.945\n",
      "Epoch 41/50.. Train accuracy: 0.158.. Train loss: -3350.134.. Val accuracy: 0.158.. Val loss: -11102.866\n",
      "Epoch 41/50.. Train accuracy: 0.158.. Train loss: -3375.489.. Val accuracy: 0.159.. Val loss: -11249.949\n",
      "Epoch 42/50.. Train accuracy: 0.158.. Train loss: -3397.791.. Val accuracy: 0.158.. Val loss: -11271.158\n",
      "Epoch 42/50.. Train accuracy: 0.159.. Train loss: -3423.841.. Val accuracy: 0.159.. Val loss: -11385.446\n",
      "Epoch 42/50.. Train accuracy: 0.159.. Train loss: -3448.790.. Val accuracy: 0.158.. Val loss: -11449.177\n",
      "Epoch 43/50.. Train accuracy: 0.158.. Train loss: -3470.398.. Val accuracy: 0.158.. Val loss: -11527.652\n",
      "Epoch 43/50.. Train accuracy: 0.158.. Train loss: -3494.837.. Val accuracy: 0.159.. Val loss: -11631.519\n",
      "Epoch 43/50.. Train accuracy: 0.158.. Train loss: -3519.222.. Val accuracy: 0.157.. Val loss: -11642.284\n",
      "Epoch 43/50.. Train accuracy: 0.157.. Train loss: -3543.199.. Val accuracy: 0.159.. Val loss: -11751.499\n",
      "Epoch 44/50.. Train accuracy: 0.158.. Train loss: -3566.602.. Val accuracy: 0.158.. Val loss: -11894.915\n",
      "Epoch 44/50.. Train accuracy: 0.159.. Train loss: -3589.109.. Val accuracy: 0.157.. Val loss: -11919.222\n",
      "Epoch 44/50.. Train accuracy: 0.158.. Train loss: -3615.566.. Val accuracy: 0.158.. Val loss: -12077.205\n",
      "Epoch 45/50.. Train accuracy: 0.158.. Train loss: -3642.593.. Val accuracy: 0.158.. Val loss: -12135.082\n",
      "Epoch 45/50.. Train accuracy: 0.159.. Train loss: -3660.312.. Val accuracy: 0.158.. Val loss: -12196.459\n",
      "Epoch 45/50.. Train accuracy: 0.159.. Train loss: -3688.016.. Val accuracy: 0.158.. Val loss: -12219.984\n",
      "Epoch 46/50.. Train accuracy: 0.158.. Train loss: -3709.870.. Val accuracy: 0.158.. Val loss: -12327.225\n",
      "Epoch 46/50.. Train accuracy: 0.158.. Train loss: -3733.376.. Val accuracy: 0.159.. Val loss: -12440.838\n",
      "Epoch 46/50.. Train accuracy: 0.159.. Train loss: -3759.765.. Val accuracy: 0.158.. Val loss: -12492.925\n",
      "Epoch 46/50.. Train accuracy: 0.159.. Train loss: -3782.668.. Val accuracy: 0.158.. Val loss: -12558.905\n",
      "Epoch 47/50.. Train accuracy: 0.159.. Train loss: -3808.526.. Val accuracy: 0.158.. Val loss: -12599.196\n",
      "Epoch 47/50.. Train accuracy: 0.158.. Train loss: -3829.902.. Val accuracy: 0.158.. Val loss: -12732.110\n",
      "Epoch 47/50.. Train accuracy: 0.158.. Train loss: -3850.920.. Val accuracy: 0.159.. Val loss: -12769.448\n",
      "Epoch 48/50.. Train accuracy: 0.158.. Train loss: -3882.086.. Val accuracy: 0.157.. Val loss: -12876.612\n",
      "Epoch 48/50.. Train accuracy: 0.158.. Train loss: -3901.175.. Val accuracy: 0.160.. Val loss: -13001.015\n"
     ]
    },
    {
     "name": "stdout",
     "output_type": "stream",
     "text": [
      "Epoch 48/50.. Train accuracy: 0.158.. Train loss: -3926.425.. Val accuracy: 0.159.. Val loss: -13030.293\n",
      "Epoch 49/50.. Train accuracy: 0.159.. Train loss: -3951.274.. Val accuracy: 0.157.. Val loss: -13114.772\n",
      "Epoch 49/50.. Train accuracy: 0.158.. Train loss: -3974.821.. Val accuracy: 0.158.. Val loss: -13193.678\n",
      "Epoch 49/50.. Train accuracy: 0.158.. Train loss: -3998.024.. Val accuracy: 0.158.. Val loss: -13281.231\n",
      "Epoch 49/50.. Train accuracy: 0.158.. Train loss: -4018.039.. Val accuracy: 0.158.. Val loss: -13424.664\n",
      "Epoch 50/50.. Train accuracy: 0.158.. Train loss: -4048.759.. Val accuracy: 0.157.. Val loss: -13480.463\n",
      "Epoch 50/50.. Train accuracy: 0.158.. Train loss: -4069.489.. Val accuracy: 0.157.. Val loss: -13534.024\n",
      "Epoch 50/50.. Train accuracy: 0.159.. Train loss: -4090.960.. Val accuracy: 0.160.. Val loss: -13577.537\n"
     ]
    }
   ],
   "source": [
    "epochs = 50\n",
    "steps = 0\n",
    "running_loss = 0\n",
    "print_every = 20\n",
    "train_losses, val_losses = [], []\n",
    "for epoch in range(epochs):\n",
    "    for inputs, labels in train_loader:\n",
    "        steps += 1\n",
    "        inputs, labels = inputs.to(device), labels.to(device)\n",
    "        optimizer.zero_grad()\n",
    "        logps = model.forward(inputs)\n",
    "        loss = criterion(logps, labels)\n",
    "        loss.backward()\n",
    "        optimizer.step()\n",
    "        running_loss += loss.item()\n",
    "        \n",
    "        if steps % print_every == 0:\n",
    "            val_loss = 0\n",
    "            accuracy = 0\n",
    "            accuracy_val = 0\n",
    "            model.eval()\n",
    "            with torch.no_grad():\n",
    "                for inputs, labels in val_loader:\n",
    "                    inputs, labels = inputs.to(device), labels.to(device)\n",
    "                    logps = model.forward(inputs)\n",
    "                    batch_loss = criterion(logps, labels)\n",
    "                    val_loss += batch_loss.item()\n",
    "                    \n",
    "                    ps = torch.exp(logps)\n",
    "                    top_p, top_class = ps.topk(1, dim=1)\n",
    "                    equals = top_class == labels.view(*top_class.shape)\n",
    "                    accuracy_val += torch.mean(equals.type(torch.FloatTensor)).item()\n",
    "            model.eval()\n",
    "            with torch.no_grad():\n",
    "                for inputs, labels in train_loader:\n",
    "                    inputs, labels = inputs.to(device), labels.to(device)\n",
    "                    logps = model.forward(inputs)\n",
    "                    batch_loss = criterion(logps, labels)\n",
    "                    val_loss += batch_loss.item()\n",
    "                    \n",
    "                    ps = torch.exp(logps)\n",
    "                    top_p, top_class = ps.topk(1, dim=1)\n",
    "                    equals = top_class == labels.view(*top_class.shape)\n",
    "                    accuracy += torch.mean(equals.type(torch.FloatTensor)).item()\n",
    "            train_losses.append(running_loss/len(train_loader))\n",
    "            val_losses.append(val_loss/len(val_loader))                    \n",
    "            print(f\"Epoch {epoch+1}/{epochs}.. \"\n",
    "                  f\"Train accuracy: {accuracy/len(train_loader):.3f}.. \"\n",
    "                  f\"Train loss: {running_loss/print_every:.3f}.. \"\n",
    "                  f\"Val accuracy: {accuracy_val/len(val_loader):.3f}.. \"\n",
    "                  f\"Val loss: {val_loss/len(val_loader):.3f}\")\n",
    "            running_loss = 0\n",
    "            model.train()"
   ]
  },
  {
   "cell_type": "code",
   "execution_count": 46,
   "id": "3c86ebca",
   "metadata": {},
   "outputs": [],
   "source": [
    "def create_new_spectrogram(filename,name,emotion):\n",
    "    plt.interactive(False)\n",
    "    clip, sample_rate = librosa.load(filename, sr=None)\n",
    "    fig = plt.figure(figsize=[0.73,0.73])\n",
    "    plt.rcParams[\"figure.autolayout\"] = True\n",
    "    plt.axis('off')\n",
    "    S = librosa.feature.melspectrogram(y=sig, sr=fs)\n",
    "    librosa.display.specshow(librosa.power_to_db(S, ref=np.max))\n",
    "    PATH = emotion\n",
    "    Path(PATH).mkdir(parents=True, exist_ok=True)\n",
    "    im = Path(PATH +name+ '.png')\n",
    "    plt.savefig(im, dpi=400, bbox_inches='tight',pad_inches=0)\n",
    "    plt.close()    \n",
    "    fig.clf()\n",
    "    plt.close(fig)\n",
    "    plt.close('all')\n",
    "    del filename,name,clip,sample_rate,fig,ax,S"
   ]
  },
  {
   "cell_type": "code",
   "execution_count": 47,
   "id": "8c83fe58",
   "metadata": {},
   "outputs": [],
   "source": [
    "dir_new_spectrograms = \"spectrograms/\"\n",
    "new_folders = ['spectrograms/neutral/', 'spectrograms/calm/', 'spectrograms/happy/', \n",
    "          'spectrograms/sad/', 'spectrograms/angry/', 'spectrograms/fear/', 'spectrograms/disgust/', 'spectrograms/surprise/']"
   ]
  },
  {
   "cell_type": "code",
   "execution_count": null,
   "id": "4c589bbb",
   "metadata": {},
   "outputs": [],
   "source": [
    "j = 0\n",
    "for i in range(8):\n",
    "    emotion = new_folders[i].split('/')[1].split('.')[0]\n",
    "    emociones = datos.loc[datos['Emociones']==emotion]\n",
    "    audios = np.array(emociones.Ruta)\n",
    "    r = len(audios)\n",
    "    for file in audios[j:j+r]:\n",
    "        filename,name = file,file.split('/')[-1].split('.')[0]\n",
    "        create_new_spectrogram(filename,name,new_folders[i])"
   ]
  },
  {
   "cell_type": "code",
   "execution_count": 48,
   "id": "98503ad9",
   "metadata": {},
   "outputs": [],
   "source": [
    "class Model(nn.Module):\n",
    "    def __init__(self, input_size, output_size, hidden_dim, n_layers):\n",
    "        super(Model, self).__init__()\n",
    "        self.hidden_dim = hidden_dim\n",
    "        self.n_layers = n_layers\n",
    "        \n",
    "        #Layers\n",
    "        self.rnn = nn.RNN(input_size, hidden_dim, n_layers, batch_first=True)   \n",
    "        self.fc = nn.Linear(hidden_dim, output_size)\n",
    "    \n",
    "    def forward(self, x):\n",
    "        batch_size = x.size(0)\n",
    "        hidden = self.init_hidden(batch_size)\n",
    "        out, hidden = self.rnn(x, hidden)\n",
    "        out = out.contiguous().view(-1, self.hidden_dim)\n",
    "        out = self.fc(out)\n",
    "        return out, hidden\n",
    "    \n",
    "    def init_hidden(self, batch_size):\n",
    "        hidden = torch.zeros(self.n_layers, batch_size, self.hidden_dim)\n",
    "        return hidden"
   ]
  },
  {
   "cell_type": "code",
   "execution_count": 50,
   "id": "a13c2192",
   "metadata": {},
   "outputs": [],
   "source": [
    "RNN = Model(len(train_loader), len(train_loader), hidden_dim=12, n_layers=1)\n",
    "RNN.to(device)\n",
    "criterion = nn.CrossEntropyLoss()\n",
    "optimizer = torch.optim.Adam(RNN.parameters(), lr=lr)"
   ]
  }
 ],
 "metadata": {
  "kernelspec": {
   "display_name": "Python 3 (ipykernel)",
   "language": "python",
   "name": "python3"
  },
  "language_info": {
   "codemirror_mode": {
    "name": "ipython",
    "version": 3
   },
   "file_extension": ".py",
   "mimetype": "text/x-python",
   "name": "python",
   "nbconvert_exporter": "python",
   "pygments_lexer": "ipython3",
   "version": "3.9.7"
  }
 },
 "nbformat": 4,
 "nbformat_minor": 5
}
